{
 "cells": [
  {
   "cell_type": "code",
   "execution_count": 120,
   "metadata": {},
   "outputs": [],
   "source": [
    "# Adding the Aima-Python folder to the folder\n",
    "\n",
    "import sys\n",
    "import random\n",
    "from random import choice\n",
    "sys.path.insert(1, 'D:/Masters/Knowledge Representation/workplace/aima-python')"
   ]
  },
  {
   "cell_type": "code",
   "execution_count": 51,
   "metadata": {},
   "outputs": [],
   "source": [
    "from agents import *\n",
    "from search import *"
   ]
  },
  {
   "cell_type": "markdown",
   "metadata": {},
   "source": [
    "##### Creation of things in the environment"
   ]
  },
  {
   "cell_type": "code",
   "execution_count": 52,
   "metadata": {},
   "outputs": [],
   "source": [
    "class LifeJacket(Thing):\n",
    "    # This will provide the life jacket to the Player and will remove all enery down points    \n",
    "    pass\n",
    "\n",
    "class PowerUp(Thing):\n",
    "    # Increases the performance of the agent by + 1\n",
    "    pass\n",
    "\n",
    "class PowerDown(Thing):\n",
    "     # Decreases the performance of the agent by - 1\n",
    "    pass\n",
    "\n",
    "class EnergyUp(Thing):\n",
    "     # Increases the performance of the agent by + 4\n",
    "    pass\n",
    "\n",
    "class EnergyDown(Thing):\n",
    "     # Decreases the performance of the agent by - 4\n",
    "    pass\n",
    "\n",
    "class WinningRow(Thing):\n",
    "    # Perfromance change in case of winning row\n",
    "    pass\n",
    "\n",
    "class Barrier(Thing):\n",
    "    # This will not allow the Player to move ahead, and force to find alternative way\n",
    "    pass\n",
    "\n",
    "class PitFall(Thing):\n",
    "    # This will kill the Player\n",
    "    pass\n"
   ]
  },
  {
   "cell_type": "markdown",
   "metadata": {},
   "source": [
    "#### Defining the Program method\n",
    "The program method works on the percepts and return the appropriate action to be used by execute_action"
   ]
  },
  {
   "cell_type": "code",
   "execution_count": 82,
   "metadata": {},
   "outputs": [],
   "source": [
    "def program(percepts):\n",
    "    '''Returns an action based on it's percepts'''\n",
    "    \n",
    "    #print(\"Dheeraj\" , percepts) # Contains list of things that are curently faced by agent in environment for tabledriven\n",
    "    \n",
    "    for values_percepted in percepts: \n",
    "        if values_percepted == 'goalsearch':\n",
    "            return 'searchproblem'        \n",
    "        \n",
    "        if isinstance(values_percepted, PowerUp):\n",
    "            return 'powerup'\n",
    "        \n",
    "        elif isinstance(values_percepted, PowerDown):\n",
    "            return 'powerdown'\n",
    "        \n",
    "        elif isinstance(values_percepted, EnergyUp):\n",
    "            return 'energyup'\n",
    "\n",
    "        elif isinstance(values_percepted, EnergyDown):\n",
    "            return 'energydown'\n",
    "        \n",
    "        elif isinstance(values_percepted, PitFall):\n",
    "            return 'pitfall'\n",
    "        \n",
    "        elif isinstance(values_percepted, LifeJacket):\n",
    "            return 'grab'\n",
    "        \n",
    "        if isinstance(values_percepted, Barrier):\n",
    "            return 'barrier'\n",
    "        \n",
    "        if isinstance(values_percepted,WinningRow):\n",
    "            return 'lastlevel'\n",
    "            \n",
    "        if isinstance(values_percepted,Bump):\n",
    "            # then check if you are at an edge and have to turn\n",
    "            turn = False\n",
    "            choice = random.choice((1,2));\n",
    "            \n",
    "        else:\n",
    "            choice = random.choice((1,2,3,4,5,6,7)) # 1-right, 2-left, others-forward\n",
    "\n",
    "    if choice == 1:\n",
    "        return 'turnright'\n",
    "    elif choice == 2:\n",
    "        return 'turnleft'\n",
    "    else:\n",
    "        return 'moveforward'"
   ]
  },
  {
   "cell_type": "markdown",
   "metadata": {},
   "source": [
    "#### This creates the 2d Environment which contains the percepts, execute_action  and the is_done method"
   ]
  },
  {
   "cell_type": "code",
   "execution_count": 437,
   "metadata": {},
   "outputs": [],
   "source": [
    "class RaceFieldEnvironment(GraphicEnvironment):\n",
    "    \n",
    "    def percept(self, agent):\n",
    "        '''return a list of things that are in our agent's location'''\n",
    "        #print(self.things_near(agent.location,2))\n",
    "        \n",
    "        things = self.list_things_at(agent.location)\n",
    "        loc = copy.deepcopy(agent.location) # find out the target location\n",
    "        #Check if agent is about to bump into a wall\n",
    "        if agent.direction.direction == Direction.R:\n",
    "            loc[0] += 1\n",
    "        elif agent.direction.direction == Direction.L:\n",
    "            loc[0] -= 1\n",
    "        elif agent.direction.direction == Direction.D:\n",
    "            loc[1] += 1\n",
    "        elif agent.direction.direction == Direction.U:\n",
    "            loc[1] -= 1\n",
    "        \n",
    "        if agent.goalsearch == True:\n",
    "            goalsearch = ['goalsearch']\n",
    "            return goalsearch\n",
    "        \n",
    "        if agent.location[1] == 0 :\n",
    "            things.append(WinningRow())  # Adding the thing to know if the target row is reached\n",
    "            \n",
    "        elif not self.is_inbounds(loc):\n",
    "            things.append(Bump())\n",
    "\n",
    "        return things\n",
    "    \n",
    "    \n",
    "    def execute_action(self, agent, action):\n",
    "        '''changes the state of the environment based on what the agent does.'''\n",
    "        \n",
    "        if action == 'turnright':\n",
    "            print('{} decided to {} at location: {}'.format(str(agent)[1:-1], action, agent.location))\n",
    "            agent.turn(Direction.R)   \n",
    "            \n",
    "        elif action == 'turnleft':\n",
    "            print('{} decided to {} at location: {}'.format(str(agent)[1:-1], action, agent.location))\n",
    "            agent.turn(Direction.L)\n",
    "            \n",
    "        elif action == 'moveforward':\n",
    "            if isinstance(agent,PlayerA):\n",
    "                print('{} decided to move {}wards at location: {}'.format(str(agent)[1:-1], agent.direction.direction, agent.location))\n",
    "                agent.moveforward()\n",
    "            \n",
    "            elif isinstance(agent,PlayerB):\n",
    "                \"\"\"\n",
    "                The Agent will see all the things near to him in the environment.\n",
    "                If there is an Energy Down in the next near cell(not Adjacent), it will change the path\n",
    "                \"\"\"\n",
    "                near_things = self.things_near(agent.location,2)\n",
    "  \n",
    "                if 5 < agent.lives <= agent.max_lives and any(isinstance(element[0],PitFall) and element[1] == 3  for element in near_things):\n",
    "                    \"\"\"\n",
    "                    The Agent will see all the things near to him in the environment.\n",
    "                    If there is an Pitfall in the next near cell(not Adjacent), it will Jump the pitfall\n",
    "                    \"\"\"\n",
    "                    for element in near_things:\n",
    "                        if isinstance(element[0],PitFall):\n",
    "                            if element[1] == 3:   # This will check if only the near cells(not adjacent) have energy drop\n",
    "                                current_location = agent.location\n",
    "                                forward_check = [current_location[0],current_location[1]-1]\n",
    "                                backward_check = [current_location[0],current_location[1]+1]\n",
    "                                left_check = [current_location[0]-1,current_location[1]]\n",
    "                                right_check = [current_location[0]+1,current_location[1]]\n",
    "\n",
    "                                # The following conditions check in which cell the energy down is and change direction accordingly\n",
    "                                if any(isinstance(element,PitFall) for element in self.list_things_at(forward_check)):                                                          \n",
    "                                    print('Found Pitfall ahead, {} decided to Jump at location: {}'.format(str(agent)[1:-1] , agent.location))\n",
    "                                    agent.location = forward_check\n",
    "                                    agent.direction.direction = Direction.U\n",
    "                                    agent.lives = 5\n",
    "                                \n",
    "                                elif any(isinstance(element,PitFall) for element in self.list_things_at(left_check)):\n",
    "                                    print('Found Pitfall Leftwards, {} decided to Jump at location: {}'.format(str(agent)[1:-1] , agent.location))\n",
    "                                    agent.location = left_check\n",
    "                                    agent.direction.direction = Direction.L\n",
    "                                    agent.lives = 5\n",
    "                                    \n",
    "                                elif any(isinstance(element,PitFall) for element in self.list_things_at(right_check)):\n",
    "                                    print('Found Pitfall Rightwards, {} decided to Jump at location: {}'.format(str(agent)[1:-1] , agent.location))                                    \n",
    "                                    agent.location = right_check\n",
    "                                    agent.direction.direction = Direction.R\n",
    "                                    agent.lives = 5\n",
    "\n",
    "                                break #In case the energy down is found exit the loop         \n",
    "\n",
    "                elif agent.lives < agent.max_lives and any(isinstance(element[0],EnergyDown) and element[1] == 3  for element in near_things):\n",
    "                    # This will check if the near element has energy down\n",
    "                    # if any(isinstance(element[0],EnergyDown) and element[1] == 3  for element in near_things) :\n",
    "\n",
    "                    for element in near_things:\n",
    "                        if isinstance(element[0],EnergyDown):\n",
    "                            if element[1] == 3:   # This will check if only the near cells(not adjacent) have energy drop\n",
    "                                current_location = agent.location\n",
    "                                forward_check = [current_location[0],current_location[1]-1]\n",
    "                                backward_check = [current_location[0],current_location[1]+1]\n",
    "                                left_check = [current_location[0]-1,current_location[1]]\n",
    "                                right_check = [current_location[0]+1,current_location[1]]\n",
    "\n",
    "                                # The following conditions check in which cell the energy down is and change direction accordingly\n",
    "                                if any(isinstance(element,EnergyDown) for element in self.list_things_at(forward_check)):\n",
    "                                    agent.direction.direction = Direction.R\n",
    "                                    point = 'ahead'\n",
    "                                    #print('Found Energy Drop ahead, {} decided to move {}wards at location: {}'.format(str(agent)[1:-1] ,agent.direction.direction, agent.location))\n",
    "\n",
    "                                elif any(isinstance(element,EnergyDown) for element in self.list_things_at(backward_check)):\n",
    "\n",
    "                                    agent.direction.direction = Direction.U\n",
    "                                    point = 'behind'\n",
    "                                    #print('Found Energy Drop behind, {} decided to move {}wards at location: {}'.format(str(agent)[1:-1] ,agent.direction.direction, agent.location))\n",
    "\n",
    "                                elif any(isinstance(element,EnergyDown) for element in self.list_things_at(left_check)):\n",
    "\n",
    "                                    agent.direction.direction = Direction.U\n",
    "                                    point = 'Left'\n",
    "                                    #print('Found Energy Drop on Left Side, {} decided to move {}wards at location: {}'.format(str(agent)[1:-1] ,agent.direction.direction, agent.location))                           \n",
    "\n",
    "                                elif any(isinstance(element,EnergyDown) for element in self.list_things_at(right_check)):\n",
    "\n",
    "                                    agent.direction.direction = Direction.U\n",
    "                                    point = 'Right'\n",
    "                                    #print('Found Energy Drop on Right Side, {} decided to move {}wards at location: {}'.format(str(agent)[1:-1] ,agent.direction.direction, agent.location))\n",
    "                                \n",
    "                                print('Found Energy Drop {}, {} decided to move {}wards at location: {}'.format(point,str(agent)[1:-1] ,agent.direction.direction, agent.location))\n",
    "                                break #In case the energy down is found exit the loop\n",
    "                \n",
    "                else:\n",
    "                    # In case No nearby cell has enegy down, continue normally\n",
    "                    # In case No nearby cell has a pitfall, continue normally\n",
    "                    print('{} decided to move {}wards at location: {}'.format(str(agent)[1:-1], agent.direction.direction, agent.location))\n",
    "\n",
    "                agent.moveforward()\n",
    "                            \n",
    "        elif action == 'lastlevel' :\n",
    "            agent.direction.direction = Direction.L\n",
    "            print('{} decided to move {}wards at location: {}'.format(str(agent)[1:-1] ,agent.direction.direction, agent.location))\n",
    "            agent.moveforward()\n",
    "            \n",
    "        elif action == \"powerup\":\n",
    "            items = self.list_things_at(agent.location, tclass=PowerUp)\n",
    "            if len(items) != 0:\n",
    "                if agent.powerup(items[0]):\n",
    "\n",
    "                    if isinstance(agent,PlayerA):\n",
    "                        agent.lives +=1\n",
    "                        print('{} received a power up by having {} at location: {}'\n",
    "                              .format(str(agent)[1:-1], str(items[0])[1:-1], agent.location))\n",
    "                        self.delete_thing(items[0])\n",
    "                    \n",
    "                    elif isinstance(agent,PlayerB):\n",
    "\n",
    "                        if agent.lives == agent.max_lives:\n",
    "                            print('{} ignores a power up at location: {} as its Power is Full'\n",
    "                                  .format(str(agent)[1:-1], agent.location))\n",
    "                            agent.direction.direction = Direction.U\n",
    "                            print('{} decided to move {}wards at location: {}'.format(str(agent)[1:-1], agent.direction.direction, agent.location))\n",
    "                            agent.moveforward()\n",
    "                                                      \n",
    "                        else:\n",
    "                            agent.lives +=1\n",
    "                            print('{} received a power up by having {} at location: {}'\n",
    "                                  .format(str(agent)[1:-1], str(items[0])[1:-1], agent.location))\n",
    "                            self.delete_thing(items[0])            \n",
    "                                           \n",
    "        elif action == \"powerdown\":\n",
    "            items = self.list_things_at(agent.location, tclass=PowerDown)\n",
    "            if len(items) != 0:\n",
    "                if agent.powerdown(items[0]):\n",
    "                    print('{} received a power down by having {} at location: {}'\n",
    "                          .format(str(agent)[1:-1], str(items[0])[1:-1], agent.location))\n",
    "                    self.delete_thing(items[0])\n",
    "                    \n",
    "        elif action == \"energyup\":            \n",
    "            items = self.list_things_at(agent.location, tclass=EnergyUp)\n",
    "            if len(items) != 0:\n",
    "                if agent.energyup(items[0]):\n",
    "                    if isinstance(agent,PlayerA):\n",
    "                        agent.lives += 4\n",
    "                        print('{} energized by having {} at location: {}'\n",
    "                          .format(str(agent)[1:-1], str(items[0])[1:-1], agent.location))\n",
    "                        self.delete_thing(items[0])\n",
    "                        \n",
    "                    elif isinstance(agent,PlayerB):                        \n",
    "                        if agent.lives == agent.max_lives:\n",
    "                            print('{} ignores a energy up at location: {} as its Power is Full'\n",
    "                                  .format(str(agent)[1:-1], agent.location))\n",
    "                            agent.direction.direction = Direction.U\n",
    "                            print('{} decided to move {}wards at location: {}'.format(str(agent)[1:-1], agent.direction.direction, agent.location))\n",
    "                            agent.moveforward()\n",
    "                                                        \n",
    "                        else:                            \n",
    "                            agent.lives += 4\n",
    "                            if agent.lives > agent.max_lives:\n",
    "                                agent.lives = 10 # This is the maximum allowed power of the player\n",
    "                            print('{} energized by having {} at location: {}'\n",
    "                                  .format(str(agent)[1:-1], str(items[0])[1:-1], agent.location))\n",
    "                            self.delete_thing(items[0])                                    \n",
    "                        \n",
    "        elif action == \"energydown\":\n",
    "            items = self.list_things_at(agent.location, tclass=EnergyDown)\n",
    "            if len(items) != 0:\n",
    "                if agent.energydown(items[0]):\n",
    "                    print('{} drained by having {} at location: {}'\n",
    "                          .format(str(agent)[1:-1], str(items[0])[1:-1], agent.location))\n",
    "                    self.delete_thing(items[0])\n",
    "        \n",
    "        elif action == 'grab':\n",
    "            things = [thing for thing in self.list_things_at(agent.location)\n",
    "                      if agent.can_grab(thing)]\n",
    "            if len(things):\n",
    "                print('{} grabbed {} at location: {}'\n",
    "                          .format(str(agent)[1:-1],things[0].__class__.__name__, agent.location))\n",
    "                print('Removing all Energy Down Points')\n",
    "                #print(\"Grabbing\", things[0].__class__.__name__)\n",
    "                if len(things):\n",
    "                    agent.holding.append(things[0])                   \n",
    "                    self.delete_thing(things[0])                    \n",
    "                    for element in self.things:\n",
    "                        # Updating the list of things\n",
    "                        self.things[:] = (element for element in self.things if not isinstance(element,EnergyDown))\n",
    "                                        \n",
    "        elif action == \"barrier\":            \n",
    "            items = self.list_things_at(agent.location, tclass=Barrier)\n",
    "            if len(items) !=0:\n",
    "                if agent.barrier(items[0]):\n",
    "                    agent.direction.direction = Direction.L\n",
    "                    print('{} encountered barrier and decided to move {}wards at location: {}'.format(str(agent)[1:-1] ,agent.direction.direction, agent.location))\n",
    "                    agent.moveforward()                   \n",
    "                    \n",
    "        elif action == \"pitfall\":\n",
    "            items = self.list_things_at(agent.location, tclass=PitFall)\n",
    "            if len(items) != 0:\n",
    "                if agent.pitfall(items[0]):\n",
    "                    print('{} died by falling into {} at location: {}'\n",
    "                          .format(str(agent)[1:-1], str(items[0])[1:-1], agent.location))\n",
    "                    self.delete_thing(items[0])       \n",
    "                    agent.alive = False\n",
    "        \n",
    "        elif action == \"searchproblem\":   \n",
    "            agent.display_performance = True\n",
    "            agent.location = agent.goalpath[0]\n",
    "            print('{} decided to move at location: {}'.format(str(agent)[1:-1], agent.location))\n",
    "            agent.steps +=1\n",
    "            agent.goalpath.pop(0)\n",
    "\n",
    "                           \n",
    "    def is_done(self):  \n",
    "        \n",
    "        if self.agents[0].display_performance:\n",
    "            print(f'Current Lives with {str(self.agents[0])[1:-1]} : {self.agents[0].lives}')\n",
    "            self.agents[0].display_performance = False\n",
    "        \n",
    "        if self.agents[0].location == [0,0]:  # This is for the Player A if he reaches the Goal\n",
    "            print(f'{str(self.agents[0])[1:-1]} won the game in {self.agents[0].steps} steps')\n",
    "            self.agents[0].alive = False\n",
    "            return True\n",
    "        \n",
    "        elif self.agents[0].lives <= 0:\n",
    "            print(f'{str(self.agents[0])[1:-1]} died before reaching Goal with 0 lives')\n",
    "            print('GAME OVER')\n",
    "            self.agents[0].alive = False\n",
    "            return True           \n",
    "\n",
    "        dead_agents = not any(agent.is_alive() for agent in self.agents)\n",
    "        #return dead_agents or no_edibles\n",
    "        return dead_agents"
   ]
  },
  {
   "cell_type": "markdown",
   "metadata": {},
   "source": [
    "#### Setting up the environment with agents and things"
   ]
  },
  {
   "cell_type": "code",
   "execution_count": 164,
   "metadata": {},
   "outputs": [],
   "source": [
    "def agent_run(agent_name,steps,player = None, seed = False):\n",
    "    \n",
    "    racefield = RaceFieldEnvironment(6,6, color={agent_name: (25, 32, 33),\n",
    "                                             'PowerUp': (157, 200, 0), 'PowerDown': (200, 103, 0),\n",
    "                                             'EnergyUp': (77, 200, 0), 'EnergyDown': (200, 0, 0),\n",
    "                                             'PitFall':(214, 30, 107), 'Barrier': (240, 222, 29),\n",
    "                                             'LifeJacket':(66, 135, 245)\n",
    "                                            })\n",
    "    # Creating the objects for the things\n",
    "    powerup = PowerUp()\n",
    "    powerdown = PowerDown()\n",
    "    energyup = EnergyUp()\n",
    "    energydown = EnergyDown()\n",
    "    energydown_1 = EnergyDown()\n",
    "    energydown_2 = EnergyDown()\n",
    "    barrier = Barrier()\n",
    "    lifejacket = LifeJacket()\n",
    "    pitfall = PitFall()\n",
    "    \n",
    "    # Choosing a random start location\n",
    "    if seed:\n",
    "        start_location = seed\n",
    "    \n",
    "    else:\n",
    "        start_location = random.choice([[1,5],[2,5],[3,5],[4,5],[5,5]])\n",
    "        \n",
    "    racefield.add_thing(player, start_location) # Adding player A on the centre of last row\n",
    "\n",
    "    # TraceAgent(playerA)\n",
    "    _dict_things = {powerup:[0,5],powerdown: [2,1],energyup: [4,2],\n",
    "                    energydown: [0,3],energydown_1: [4,4],energydown_2: [2,2],\n",
    "                    barrier:[5,2], lifejacket:[2,4], pitfall:[1,1]\n",
    "                   }\n",
    "\n",
    "    # Adding the things on location\n",
    "    for thing,loc in _dict_things.items():\n",
    "        racefield.add_thing(thing,loc)\n",
    "\n",
    "    #print(racefield.get_world())  # Shows the current world\n",
    "\n",
    "    print(f'{player.__class__.__name__}  started at {start_location}, facing up. See if he Wins')\n",
    "    racefield.run(steps)\n",
    "\n",
    "    if not player.holding:\n",
    "        print(f'The {player.__class__.__name__}  did not grab anything in the Game')\n",
    "    else:\n",
    "        print(f'{player.__class__.__name__} grabbed the following in Game:')\n",
    "        for grabs in player.holding:\n",
    "            print(str(grabs)[1:-1])\n",
    "\n",
    "    if player.is_alive():\n",
    "        print('===================================================\\n')\n",
    "        print(f'{player.__class__.__name__} Exhausted all the steps before reaching goal(max. allowed steps= {steps})\\n')\n",
    "        print(f' Goal: [0,0], current location {player.location} \\n')\n",
    "        print('===================================================')\n"
   ]
  },
  {
   "cell_type": "markdown",
   "metadata": {},
   "source": [
    "## Agent 1 Simple Reflex Agent"
   ]
  },
  {
   "cell_type": "markdown",
   "metadata": {},
   "source": [
    "This agent will know what is the immediate environment and will take the action accordingly\n",
    "\n",
    "1. If the agent see's that there is a energy down in any adjacent cell, it will avoid going there\n",
    "2. If agent's Current Live is 10(Maximum), then agent will avoid going to Power Up as it cannot hold more power\n",
    "3. If a agent has Life Jacket in any adjacent cell, it will grab it.\n",
    "4. If the agent see a pitfall, it will Jump over it."
   ]
  },
  {
   "cell_type": "markdown",
   "metadata": {},
   "source": [
    "#### Creating the Agent (Player A)\n",
    "Agent :Player A is a Simple Reflex Agent\n",
    "1. It percepts upon the items present in the environment\n",
    "2. It percept the Wall and takes appropriate change in direction\n",
    "3. It percepts the Winning Row and take the appropriate direction of moving towards goal\n",
    "4. It percepts the available Power Ups and increase it Life COunt\n",
    "5. It percepts the encounter of the Power Down and decreases its Life Count\n",
    "6. It percepts the encounter of the Energy Up and increases its Life Count\n",
    "7. It percepts the encounter of the Energy Down and decreases its Life Count\n",
    "8. It percepts the Pitfall and dies "
   ]
  },
  {
   "cell_type": "code",
   "execution_count": 112,
   "metadata": {},
   "outputs": [],
   "source": [
    "class PlayerA(Agent):\n",
    "    \n",
    "    \"\"\"This agent takes action based solely on the percept. <SIMPLE REFLEX AGENT>\"\"\"\n",
    "    \n",
    "    def __init__(self, program=None, goalpath = None, goalsearch=False):\n",
    "        Agent.__init__(self,program)\n",
    "        self.goalsearch = goalsearch\n",
    "        self.goalpath = goalpath\n",
    "    \n",
    "    location = [0,3]\n",
    "    direction = Direction(\"up\")\n",
    "    steps = 0\n",
    "    max_lives = 10\n",
    "    lives = max_lives   # lives with player on game start\n",
    "    display_performance = True\n",
    "\n",
    "    def can_grab(self, thing):\n",
    "        \"\"\"Explorer can only grab Life Jacket\"\"\"\n",
    "        return thing.__class__ == LifeJacket    \n",
    "\n",
    "    def moveforward(self, success=True):\n",
    "        '''moveforward possible only if success (i.e. valid destination location)'''\n",
    "        self.display_performance = True\n",
    "        if not success:\n",
    "            return\n",
    "        if self.direction.direction == Direction.R:\n",
    "            self.location[0] += 1\n",
    "            self.steps +=1 \n",
    "        elif self.direction.direction == Direction.L:\n",
    "            self.location[0] -= 1\n",
    "            self.steps +=1 \n",
    "        elif self.direction.direction == Direction.D:\n",
    "            self.location[1] += 1\n",
    "            self.steps +=1 \n",
    "        elif self.direction.direction == Direction.U:\n",
    "            self.location[1] -= 1\n",
    "            self.steps +=1 \n",
    "\n",
    "    def turn(self, d):\n",
    "        self.display_performance = True\n",
    "        self.direction = self.direction + d\n",
    "\n",
    "        \n",
    "    def powerup(self, thing):\n",
    "        '''returns True upon success or False otherwise'''\n",
    "        self.display_performance = True\n",
    "        if isinstance(thing, PowerUp):\n",
    "            #self.lives +=1\n",
    "            return True\n",
    "        return False\n",
    "    \n",
    "    def powerdown(self, thing):\n",
    "        ''' returns True upon success or False otherwise'''\n",
    "        self.display_performance = True\n",
    "        if isinstance(thing, PowerDown):\n",
    "            self.lives -=1\n",
    "            return True\n",
    "        return False\n",
    "    \n",
    "    def energyup(self, thing):\n",
    "        ''' returns True upon success or False otherwise'''\n",
    "        self.display_performance = True\n",
    "        if isinstance(thing, EnergyUp):\n",
    "            #self.lives += 4\n",
    "            return True\n",
    "        return False\n",
    "\n",
    "    def energydown(self, thing):\n",
    "        ''' returns True upon success or False otherwise'''\n",
    "        self.display_performance = True\n",
    "        if isinstance(thing, EnergyDown):\n",
    "            self.lives -= 4\n",
    "            return True\n",
    "        return False\n",
    "    \n",
    "    def pitfall(self,thing):\n",
    "        if isinstance(thing,PitFall):\n",
    "            return True\n",
    "        return False\n",
    "        \n",
    "    def barrier(self,thing):\n",
    "        if isinstance(thing,Barrier):\n",
    "            return True\n",
    "        return False\n",
    "        \n",
    "           "
   ]
  },
  {
   "cell_type": "code",
   "execution_count": 430,
   "metadata": {},
   "outputs": [
    {
     "name": "stdout",
     "output_type": "stream",
     "text": [
      "PlayerA  started at [1, 5], facing up. See if he Wins\n"
     ]
    },
    {
     "data": {
      "text/html": [
       "<style type=\"text/css\">table.blockgrid {border: none;} .blockgrid tr {border: none;} .blockgrid td {padding: 0px;} #blocksefdc2f38-3e85-4b7b-a46c-04d9d0d96260 td {border: 1px solid white;}</style><table id=\"blocksefdc2f38-3e85-4b7b-a46c-04d9d0d96260\" class=\"blockgrid\"><tbody><tr><td title=\"Index: [0, 0]&#10;Color: (200, 200, 200)\" style=\"width: 20px; height: 20px;background-color: rgb(200, 200, 200);\"></td><td title=\"Index: [0, 1]&#10;Color: (200, 200, 200)\" style=\"width: 20px; height: 20px;background-color: rgb(200, 200, 200);\"></td><td title=\"Index: [0, 2]&#10;Color: (200, 200, 200)\" style=\"width: 20px; height: 20px;background-color: rgb(200, 200, 200);\"></td><td title=\"Index: [0, 3]&#10;Color: (200, 200, 200)\" style=\"width: 20px; height: 20px;background-color: rgb(200, 200, 200);\"></td><td title=\"Index: [0, 4]&#10;Color: (200, 200, 200)\" style=\"width: 20px; height: 20px;background-color: rgb(200, 200, 200);\"></td><td title=\"Index: [0, 5]&#10;Color: (200, 200, 200)\" style=\"width: 20px; height: 20px;background-color: rgb(200, 200, 200);\"></td></tr><tr><td title=\"Index: [1, 0]&#10;Color: (200, 200, 200)\" style=\"width: 20px; height: 20px;background-color: rgb(200, 200, 200);\"></td><td title=\"Index: [1, 1]&#10;Color: (214, 30, 107)\" style=\"width: 20px; height: 20px;background-color: rgb(214, 30, 107);\"></td><td title=\"Index: [1, 2]&#10;Color: (200, 103, 0)\" style=\"width: 20px; height: 20px;background-color: rgb(200, 103, 0);\"></td><td title=\"Index: [1, 3]&#10;Color: (200, 200, 200)\" style=\"width: 20px; height: 20px;background-color: rgb(200, 200, 200);\"></td><td title=\"Index: [1, 4]&#10;Color: (200, 200, 200)\" style=\"width: 20px; height: 20px;background-color: rgb(200, 200, 200);\"></td><td title=\"Index: [1, 5]&#10;Color: (200, 200, 200)\" style=\"width: 20px; height: 20px;background-color: rgb(200, 200, 200);\"></td></tr><tr><td title=\"Index: [2, 0]&#10;Color: (200, 200, 200)\" style=\"width: 20px; height: 20px;background-color: rgb(200, 200, 200);\"></td><td title=\"Index: [2, 1]&#10;Color: (200, 200, 200)\" style=\"width: 20px; height: 20px;background-color: rgb(200, 200, 200);\"></td><td title=\"Index: [2, 2]&#10;Color: (200, 0, 0)\" style=\"width: 20px; height: 20px;background-color: rgb(200, 0, 0);\"></td><td title=\"Index: [2, 3]&#10;Color: (200, 200, 200)\" style=\"width: 20px; height: 20px;background-color: rgb(200, 200, 200);\"></td><td title=\"Index: [2, 4]&#10;Color: (77, 200, 0)\" style=\"width: 20px; height: 20px;background-color: rgb(77, 200, 0);\"></td><td title=\"Index: [2, 5]&#10;Color: (240, 222, 29)\" style=\"width: 20px; height: 20px;background-color: rgb(240, 222, 29);\"></td></tr><tr><td title=\"Index: [3, 0]&#10;Color: (200, 0, 0)\" style=\"width: 20px; height: 20px;background-color: rgb(200, 0, 0);\"></td><td title=\"Index: [3, 1]&#10;Color: (200, 200, 200)\" style=\"width: 20px; height: 20px;background-color: rgb(200, 200, 200);\"></td><td title=\"Index: [3, 2]&#10;Color: (200, 200, 200)\" style=\"width: 20px; height: 20px;background-color: rgb(200, 200, 200);\"></td><td title=\"Index: [3, 3]&#10;Color: (200, 200, 200)\" style=\"width: 20px; height: 20px;background-color: rgb(200, 200, 200);\"></td><td title=\"Index: [3, 4]&#10;Color: (200, 200, 200)\" style=\"width: 20px; height: 20px;background-color: rgb(200, 200, 200);\"></td><td title=\"Index: [3, 5]&#10;Color: (200, 200, 200)\" style=\"width: 20px; height: 20px;background-color: rgb(200, 200, 200);\"></td></tr><tr><td title=\"Index: [4, 0]&#10;Color: (200, 200, 200)\" style=\"width: 20px; height: 20px;background-color: rgb(200, 200, 200);\"></td><td title=\"Index: [4, 1]&#10;Color: (200, 200, 200)\" style=\"width: 20px; height: 20px;background-color: rgb(200, 200, 200);\"></td><td title=\"Index: [4, 2]&#10;Color: (66, 135, 245)\" style=\"width: 20px; height: 20px;background-color: rgb(66, 135, 245);\"></td><td title=\"Index: [4, 3]&#10;Color: (200, 200, 200)\" style=\"width: 20px; height: 20px;background-color: rgb(200, 200, 200);\"></td><td title=\"Index: [4, 4]&#10;Color: (200, 0, 0)\" style=\"width: 20px; height: 20px;background-color: rgb(200, 0, 0);\"></td><td title=\"Index: [4, 5]&#10;Color: (200, 200, 200)\" style=\"width: 20px; height: 20px;background-color: rgb(200, 200, 200);\"></td></tr><tr><td title=\"Index: [5, 0]&#10;Color: (157, 200, 0)\" style=\"width: 20px; height: 20px;background-color: rgb(157, 200, 0);\"></td><td title=\"Index: [5, 1]&#10;Color: (25, 32, 33)\" style=\"width: 20px; height: 20px;background-color: rgb(25, 32, 33);\"></td><td title=\"Index: [5, 2]&#10;Color: (200, 200, 200)\" style=\"width: 20px; height: 20px;background-color: rgb(200, 200, 200);\"></td><td title=\"Index: [5, 3]&#10;Color: (200, 200, 200)\" style=\"width: 20px; height: 20px;background-color: rgb(200, 200, 200);\"></td><td title=\"Index: [5, 4]&#10;Color: (200, 200, 200)\" style=\"width: 20px; height: 20px;background-color: rgb(200, 200, 200);\"></td><td title=\"Index: [5, 5]&#10;Color: (200, 200, 200)\" style=\"width: 20px; height: 20px;background-color: rgb(200, 200, 200);\"></td></tr></tbody></table>"
      ],
      "text/plain": [
       "<IPython.core.display.HTML object>"
      ]
     },
     "metadata": {},
     "output_type": "display_data"
    },
    {
     "name": "stdout",
     "output_type": "stream",
     "text": [
      "Current Lives with PlayerA : 10\n",
      "PlayerA decided to move leftwards at location: [1, 5]\n"
     ]
    },
    {
     "data": {
      "text/html": [],
      "text/plain": [
       "<IPython.core.display.HTML object>"
      ]
     },
     "metadata": {},
     "output_type": "display_data"
    },
    {
     "data": {
      "text/html": [
       "<style type=\"text/css\">table.blockgrid {border: none;} .blockgrid tr {border: none;} .blockgrid td {padding: 0px;} #blocksb538d00c-6b35-4ea0-be9e-c14d37eacefd td {border: 1px solid white;}</style><table id=\"blocksb538d00c-6b35-4ea0-be9e-c14d37eacefd\" class=\"blockgrid\"><tbody><tr><td title=\"Index: [0, 0]&#10;Color: (200, 200, 200)\" style=\"width: 20px; height: 20px;background-color: rgb(200, 200, 200);\"></td><td title=\"Index: [0, 1]&#10;Color: (200, 200, 200)\" style=\"width: 20px; height: 20px;background-color: rgb(200, 200, 200);\"></td><td title=\"Index: [0, 2]&#10;Color: (200, 200, 200)\" style=\"width: 20px; height: 20px;background-color: rgb(200, 200, 200);\"></td><td title=\"Index: [0, 3]&#10;Color: (200, 200, 200)\" style=\"width: 20px; height: 20px;background-color: rgb(200, 200, 200);\"></td><td title=\"Index: [0, 4]&#10;Color: (200, 200, 200)\" style=\"width: 20px; height: 20px;background-color: rgb(200, 200, 200);\"></td><td title=\"Index: [0, 5]&#10;Color: (200, 200, 200)\" style=\"width: 20px; height: 20px;background-color: rgb(200, 200, 200);\"></td></tr><tr><td title=\"Index: [1, 0]&#10;Color: (200, 200, 200)\" style=\"width: 20px; height: 20px;background-color: rgb(200, 200, 200);\"></td><td title=\"Index: [1, 1]&#10;Color: (214, 30, 107)\" style=\"width: 20px; height: 20px;background-color: rgb(214, 30, 107);\"></td><td title=\"Index: [1, 2]&#10;Color: (200, 103, 0)\" style=\"width: 20px; height: 20px;background-color: rgb(200, 103, 0);\"></td><td title=\"Index: [1, 3]&#10;Color: (200, 200, 200)\" style=\"width: 20px; height: 20px;background-color: rgb(200, 200, 200);\"></td><td title=\"Index: [1, 4]&#10;Color: (200, 200, 200)\" style=\"width: 20px; height: 20px;background-color: rgb(200, 200, 200);\"></td><td title=\"Index: [1, 5]&#10;Color: (200, 200, 200)\" style=\"width: 20px; height: 20px;background-color: rgb(200, 200, 200);\"></td></tr><tr><td title=\"Index: [2, 0]&#10;Color: (200, 200, 200)\" style=\"width: 20px; height: 20px;background-color: rgb(200, 200, 200);\"></td><td title=\"Index: [2, 1]&#10;Color: (200, 200, 200)\" style=\"width: 20px; height: 20px;background-color: rgb(200, 200, 200);\"></td><td title=\"Index: [2, 2]&#10;Color: (200, 0, 0)\" style=\"width: 20px; height: 20px;background-color: rgb(200, 0, 0);\"></td><td title=\"Index: [2, 3]&#10;Color: (200, 200, 200)\" style=\"width: 20px; height: 20px;background-color: rgb(200, 200, 200);\"></td><td title=\"Index: [2, 4]&#10;Color: (77, 200, 0)\" style=\"width: 20px; height: 20px;background-color: rgb(77, 200, 0);\"></td><td title=\"Index: [2, 5]&#10;Color: (240, 222, 29)\" style=\"width: 20px; height: 20px;background-color: rgb(240, 222, 29);\"></td></tr><tr><td title=\"Index: [3, 0]&#10;Color: (200, 0, 0)\" style=\"width: 20px; height: 20px;background-color: rgb(200, 0, 0);\"></td><td title=\"Index: [3, 1]&#10;Color: (200, 200, 200)\" style=\"width: 20px; height: 20px;background-color: rgb(200, 200, 200);\"></td><td title=\"Index: [3, 2]&#10;Color: (200, 200, 200)\" style=\"width: 20px; height: 20px;background-color: rgb(200, 200, 200);\"></td><td title=\"Index: [3, 3]&#10;Color: (200, 200, 200)\" style=\"width: 20px; height: 20px;background-color: rgb(200, 200, 200);\"></td><td title=\"Index: [3, 4]&#10;Color: (200, 200, 200)\" style=\"width: 20px; height: 20px;background-color: rgb(200, 200, 200);\"></td><td title=\"Index: [3, 5]&#10;Color: (200, 200, 200)\" style=\"width: 20px; height: 20px;background-color: rgb(200, 200, 200);\"></td></tr><tr><td title=\"Index: [4, 0]&#10;Color: (200, 200, 200)\" style=\"width: 20px; height: 20px;background-color: rgb(200, 200, 200);\"></td><td title=\"Index: [4, 1]&#10;Color: (200, 200, 200)\" style=\"width: 20px; height: 20px;background-color: rgb(200, 200, 200);\"></td><td title=\"Index: [4, 2]&#10;Color: (66, 135, 245)\" style=\"width: 20px; height: 20px;background-color: rgb(66, 135, 245);\"></td><td title=\"Index: [4, 3]&#10;Color: (200, 200, 200)\" style=\"width: 20px; height: 20px;background-color: rgb(200, 200, 200);\"></td><td title=\"Index: [4, 4]&#10;Color: (200, 0, 0)\" style=\"width: 20px; height: 20px;background-color: rgb(200, 0, 0);\"></td><td title=\"Index: [4, 5]&#10;Color: (200, 200, 200)\" style=\"width: 20px; height: 20px;background-color: rgb(200, 200, 200);\"></td></tr><tr><td title=\"Index: [5, 0]&#10;Color: (157, 200, 0)\" style=\"width: 20px; height: 20px;background-color: rgb(157, 200, 0);\"></td><td title=\"Index: [5, 1]&#10;Color: (200, 200, 200)\" style=\"width: 20px; height: 20px;background-color: rgb(200, 200, 200);\"></td><td title=\"Index: [5, 2]&#10;Color: (200, 200, 200)\" style=\"width: 20px; height: 20px;background-color: rgb(200, 200, 200);\"></td><td title=\"Index: [5, 3]&#10;Color: (200, 200, 200)\" style=\"width: 20px; height: 20px;background-color: rgb(200, 200, 200);\"></td><td title=\"Index: [5, 4]&#10;Color: (200, 200, 200)\" style=\"width: 20px; height: 20px;background-color: rgb(200, 200, 200);\"></td><td title=\"Index: [5, 5]&#10;Color: (200, 200, 200)\" style=\"width: 20px; height: 20px;background-color: rgb(200, 200, 200);\"></td></tr></tbody></table>"
      ],
      "text/plain": [
       "<IPython.core.display.HTML object>"
      ]
     },
     "metadata": {},
     "output_type": "display_data"
    },
    {
     "name": "stdout",
     "output_type": "stream",
     "text": [
      "Current Lives with PlayerA : 10\n",
      "PlayerA received a power up by having PowerUp at location: [0, 5]\n"
     ]
    },
    {
     "data": {
      "text/html": [],
      "text/plain": [
       "<IPython.core.display.HTML object>"
      ]
     },
     "metadata": {},
     "output_type": "display_data"
    },
    {
     "data": {
      "text/html": [
       "<style type=\"text/css\">table.blockgrid {border: none;} .blockgrid tr {border: none;} .blockgrid td {padding: 0px;} #blocks15103331-9c1d-4614-8a4c-05b7393772ab td {border: 1px solid white;}</style><table id=\"blocks15103331-9c1d-4614-8a4c-05b7393772ab\" class=\"blockgrid\"><tbody><tr><td title=\"Index: [0, 0]&#10;Color: (200, 200, 200)\" style=\"width: 20px; height: 20px;background-color: rgb(200, 200, 200);\"></td><td title=\"Index: [0, 1]&#10;Color: (200, 200, 200)\" style=\"width: 20px; height: 20px;background-color: rgb(200, 200, 200);\"></td><td title=\"Index: [0, 2]&#10;Color: (200, 200, 200)\" style=\"width: 20px; height: 20px;background-color: rgb(200, 200, 200);\"></td><td title=\"Index: [0, 3]&#10;Color: (200, 200, 200)\" style=\"width: 20px; height: 20px;background-color: rgb(200, 200, 200);\"></td><td title=\"Index: [0, 4]&#10;Color: (200, 200, 200)\" style=\"width: 20px; height: 20px;background-color: rgb(200, 200, 200);\"></td><td title=\"Index: [0, 5]&#10;Color: (200, 200, 200)\" style=\"width: 20px; height: 20px;background-color: rgb(200, 200, 200);\"></td></tr><tr><td title=\"Index: [1, 0]&#10;Color: (200, 200, 200)\" style=\"width: 20px; height: 20px;background-color: rgb(200, 200, 200);\"></td><td title=\"Index: [1, 1]&#10;Color: (214, 30, 107)\" style=\"width: 20px; height: 20px;background-color: rgb(214, 30, 107);\"></td><td title=\"Index: [1, 2]&#10;Color: (200, 103, 0)\" style=\"width: 20px; height: 20px;background-color: rgb(200, 103, 0);\"></td><td title=\"Index: [1, 3]&#10;Color: (200, 200, 200)\" style=\"width: 20px; height: 20px;background-color: rgb(200, 200, 200);\"></td><td title=\"Index: [1, 4]&#10;Color: (200, 200, 200)\" style=\"width: 20px; height: 20px;background-color: rgb(200, 200, 200);\"></td><td title=\"Index: [1, 5]&#10;Color: (200, 200, 200)\" style=\"width: 20px; height: 20px;background-color: rgb(200, 200, 200);\"></td></tr><tr><td title=\"Index: [2, 0]&#10;Color: (200, 200, 200)\" style=\"width: 20px; height: 20px;background-color: rgb(200, 200, 200);\"></td><td title=\"Index: [2, 1]&#10;Color: (200, 200, 200)\" style=\"width: 20px; height: 20px;background-color: rgb(200, 200, 200);\"></td><td title=\"Index: [2, 2]&#10;Color: (200, 0, 0)\" style=\"width: 20px; height: 20px;background-color: rgb(200, 0, 0);\"></td><td title=\"Index: [2, 3]&#10;Color: (200, 200, 200)\" style=\"width: 20px; height: 20px;background-color: rgb(200, 200, 200);\"></td><td title=\"Index: [2, 4]&#10;Color: (77, 200, 0)\" style=\"width: 20px; height: 20px;background-color: rgb(77, 200, 0);\"></td><td title=\"Index: [2, 5]&#10;Color: (240, 222, 29)\" style=\"width: 20px; height: 20px;background-color: rgb(240, 222, 29);\"></td></tr><tr><td title=\"Index: [3, 0]&#10;Color: (200, 0, 0)\" style=\"width: 20px; height: 20px;background-color: rgb(200, 0, 0);\"></td><td title=\"Index: [3, 1]&#10;Color: (200, 200, 200)\" style=\"width: 20px; height: 20px;background-color: rgb(200, 200, 200);\"></td><td title=\"Index: [3, 2]&#10;Color: (200, 200, 200)\" style=\"width: 20px; height: 20px;background-color: rgb(200, 200, 200);\"></td><td title=\"Index: [3, 3]&#10;Color: (200, 200, 200)\" style=\"width: 20px; height: 20px;background-color: rgb(200, 200, 200);\"></td><td title=\"Index: [3, 4]&#10;Color: (200, 200, 200)\" style=\"width: 20px; height: 20px;background-color: rgb(200, 200, 200);\"></td><td title=\"Index: [3, 5]&#10;Color: (200, 200, 200)\" style=\"width: 20px; height: 20px;background-color: rgb(200, 200, 200);\"></td></tr><tr><td title=\"Index: [4, 0]&#10;Color: (200, 200, 200)\" style=\"width: 20px; height: 20px;background-color: rgb(200, 200, 200);\"></td><td title=\"Index: [4, 1]&#10;Color: (200, 200, 200)\" style=\"width: 20px; height: 20px;background-color: rgb(200, 200, 200);\"></td><td title=\"Index: [4, 2]&#10;Color: (66, 135, 245)\" style=\"width: 20px; height: 20px;background-color: rgb(66, 135, 245);\"></td><td title=\"Index: [4, 3]&#10;Color: (200, 200, 200)\" style=\"width: 20px; height: 20px;background-color: rgb(200, 200, 200);\"></td><td title=\"Index: [4, 4]&#10;Color: (200, 0, 0)\" style=\"width: 20px; height: 20px;background-color: rgb(200, 0, 0);\"></td><td title=\"Index: [4, 5]&#10;Color: (200, 200, 200)\" style=\"width: 20px; height: 20px;background-color: rgb(200, 200, 200);\"></td></tr><tr><td title=\"Index: [5, 0]&#10;Color: (25, 32, 33)\" style=\"width: 20px; height: 20px;background-color: rgb(25, 32, 33);\"></td><td title=\"Index: [5, 1]&#10;Color: (200, 200, 200)\" style=\"width: 20px; height: 20px;background-color: rgb(200, 200, 200);\"></td><td title=\"Index: [5, 2]&#10;Color: (200, 200, 200)\" style=\"width: 20px; height: 20px;background-color: rgb(200, 200, 200);\"></td><td title=\"Index: [5, 3]&#10;Color: (200, 200, 200)\" style=\"width: 20px; height: 20px;background-color: rgb(200, 200, 200);\"></td><td title=\"Index: [5, 4]&#10;Color: (200, 200, 200)\" style=\"width: 20px; height: 20px;background-color: rgb(200, 200, 200);\"></td><td title=\"Index: [5, 5]&#10;Color: (200, 200, 200)\" style=\"width: 20px; height: 20px;background-color: rgb(200, 200, 200);\"></td></tr></tbody></table>"
      ],
      "text/plain": [
       "<IPython.core.display.HTML object>"
      ]
     },
     "metadata": {},
     "output_type": "display_data"
    },
    {
     "name": "stdout",
     "output_type": "stream",
     "text": [
      "Current Lives with PlayerA : 11\n",
      "PlayerA decided to turnleft at location: [0, 5]\n"
     ]
    },
    {
     "data": {
      "text/html": [],
      "text/plain": [
       "<IPython.core.display.HTML object>"
      ]
     },
     "metadata": {},
     "output_type": "display_data"
    },
    {
     "data": {
      "text/html": [
       "<style type=\"text/css\">table.blockgrid {border: none;} .blockgrid tr {border: none;} .blockgrid td {padding: 0px;} #blocksa3d0e033-af86-4471-9646-55dc42c2c342 td {border: 1px solid white;}</style><table id=\"blocksa3d0e033-af86-4471-9646-55dc42c2c342\" class=\"blockgrid\"><tbody><tr><td title=\"Index: [0, 0]&#10;Color: (200, 200, 200)\" style=\"width: 20px; height: 20px;background-color: rgb(200, 200, 200);\"></td><td title=\"Index: [0, 1]&#10;Color: (200, 200, 200)\" style=\"width: 20px; height: 20px;background-color: rgb(200, 200, 200);\"></td><td title=\"Index: [0, 2]&#10;Color: (200, 200, 200)\" style=\"width: 20px; height: 20px;background-color: rgb(200, 200, 200);\"></td><td title=\"Index: [0, 3]&#10;Color: (200, 200, 200)\" style=\"width: 20px; height: 20px;background-color: rgb(200, 200, 200);\"></td><td title=\"Index: [0, 4]&#10;Color: (200, 200, 200)\" style=\"width: 20px; height: 20px;background-color: rgb(200, 200, 200);\"></td><td title=\"Index: [0, 5]&#10;Color: (200, 200, 200)\" style=\"width: 20px; height: 20px;background-color: rgb(200, 200, 200);\"></td></tr><tr><td title=\"Index: [1, 0]&#10;Color: (200, 200, 200)\" style=\"width: 20px; height: 20px;background-color: rgb(200, 200, 200);\"></td><td title=\"Index: [1, 1]&#10;Color: (214, 30, 107)\" style=\"width: 20px; height: 20px;background-color: rgb(214, 30, 107);\"></td><td title=\"Index: [1, 2]&#10;Color: (200, 103, 0)\" style=\"width: 20px; height: 20px;background-color: rgb(200, 103, 0);\"></td><td title=\"Index: [1, 3]&#10;Color: (200, 200, 200)\" style=\"width: 20px; height: 20px;background-color: rgb(200, 200, 200);\"></td><td title=\"Index: [1, 4]&#10;Color: (200, 200, 200)\" style=\"width: 20px; height: 20px;background-color: rgb(200, 200, 200);\"></td><td title=\"Index: [1, 5]&#10;Color: (200, 200, 200)\" style=\"width: 20px; height: 20px;background-color: rgb(200, 200, 200);\"></td></tr><tr><td title=\"Index: [2, 0]&#10;Color: (200, 200, 200)\" style=\"width: 20px; height: 20px;background-color: rgb(200, 200, 200);\"></td><td title=\"Index: [2, 1]&#10;Color: (200, 200, 200)\" style=\"width: 20px; height: 20px;background-color: rgb(200, 200, 200);\"></td><td title=\"Index: [2, 2]&#10;Color: (200, 0, 0)\" style=\"width: 20px; height: 20px;background-color: rgb(200, 0, 0);\"></td><td title=\"Index: [2, 3]&#10;Color: (200, 200, 200)\" style=\"width: 20px; height: 20px;background-color: rgb(200, 200, 200);\"></td><td title=\"Index: [2, 4]&#10;Color: (77, 200, 0)\" style=\"width: 20px; height: 20px;background-color: rgb(77, 200, 0);\"></td><td title=\"Index: [2, 5]&#10;Color: (240, 222, 29)\" style=\"width: 20px; height: 20px;background-color: rgb(240, 222, 29);\"></td></tr><tr><td title=\"Index: [3, 0]&#10;Color: (200, 0, 0)\" style=\"width: 20px; height: 20px;background-color: rgb(200, 0, 0);\"></td><td title=\"Index: [3, 1]&#10;Color: (200, 200, 200)\" style=\"width: 20px; height: 20px;background-color: rgb(200, 200, 200);\"></td><td title=\"Index: [3, 2]&#10;Color: (200, 200, 200)\" style=\"width: 20px; height: 20px;background-color: rgb(200, 200, 200);\"></td><td title=\"Index: [3, 3]&#10;Color: (200, 200, 200)\" style=\"width: 20px; height: 20px;background-color: rgb(200, 200, 200);\"></td><td title=\"Index: [3, 4]&#10;Color: (200, 200, 200)\" style=\"width: 20px; height: 20px;background-color: rgb(200, 200, 200);\"></td><td title=\"Index: [3, 5]&#10;Color: (200, 200, 200)\" style=\"width: 20px; height: 20px;background-color: rgb(200, 200, 200);\"></td></tr><tr><td title=\"Index: [4, 0]&#10;Color: (200, 200, 200)\" style=\"width: 20px; height: 20px;background-color: rgb(200, 200, 200);\"></td><td title=\"Index: [4, 1]&#10;Color: (200, 200, 200)\" style=\"width: 20px; height: 20px;background-color: rgb(200, 200, 200);\"></td><td title=\"Index: [4, 2]&#10;Color: (66, 135, 245)\" style=\"width: 20px; height: 20px;background-color: rgb(66, 135, 245);\"></td><td title=\"Index: [4, 3]&#10;Color: (200, 200, 200)\" style=\"width: 20px; height: 20px;background-color: rgb(200, 200, 200);\"></td><td title=\"Index: [4, 4]&#10;Color: (200, 0, 0)\" style=\"width: 20px; height: 20px;background-color: rgb(200, 0, 0);\"></td><td title=\"Index: [4, 5]&#10;Color: (200, 200, 200)\" style=\"width: 20px; height: 20px;background-color: rgb(200, 200, 200);\"></td></tr><tr><td title=\"Index: [5, 0]&#10;Color: (25, 32, 33)\" style=\"width: 20px; height: 20px;background-color: rgb(25, 32, 33);\"></td><td title=\"Index: [5, 1]&#10;Color: (200, 200, 200)\" style=\"width: 20px; height: 20px;background-color: rgb(200, 200, 200);\"></td><td title=\"Index: [5, 2]&#10;Color: (200, 200, 200)\" style=\"width: 20px; height: 20px;background-color: rgb(200, 200, 200);\"></td><td title=\"Index: [5, 3]&#10;Color: (200, 200, 200)\" style=\"width: 20px; height: 20px;background-color: rgb(200, 200, 200);\"></td><td title=\"Index: [5, 4]&#10;Color: (200, 200, 200)\" style=\"width: 20px; height: 20px;background-color: rgb(200, 200, 200);\"></td><td title=\"Index: [5, 5]&#10;Color: (200, 200, 200)\" style=\"width: 20px; height: 20px;background-color: rgb(200, 200, 200);\"></td></tr></tbody></table>"
      ],
      "text/plain": [
       "<IPython.core.display.HTML object>"
      ]
     },
     "metadata": {},
     "output_type": "display_data"
    },
    {
     "name": "stdout",
     "output_type": "stream",
     "text": [
      "Current Lives with PlayerA : 11\n",
      "PlayerA decided to turnleft at location: [0, 5]\n"
     ]
    },
    {
     "data": {
      "text/html": [],
      "text/plain": [
       "<IPython.core.display.HTML object>"
      ]
     },
     "metadata": {},
     "output_type": "display_data"
    },
    {
     "data": {
      "text/html": [
       "<style type=\"text/css\">table.blockgrid {border: none;} .blockgrid tr {border: none;} .blockgrid td {padding: 0px;} #blocks38c041a2-54cf-4273-96c7-34c15c137e31 td {border: 1px solid white;}</style><table id=\"blocks38c041a2-54cf-4273-96c7-34c15c137e31\" class=\"blockgrid\"><tbody><tr><td title=\"Index: [0, 0]&#10;Color: (200, 200, 200)\" style=\"width: 20px; height: 20px;background-color: rgb(200, 200, 200);\"></td><td title=\"Index: [0, 1]&#10;Color: (200, 200, 200)\" style=\"width: 20px; height: 20px;background-color: rgb(200, 200, 200);\"></td><td title=\"Index: [0, 2]&#10;Color: (200, 200, 200)\" style=\"width: 20px; height: 20px;background-color: rgb(200, 200, 200);\"></td><td title=\"Index: [0, 3]&#10;Color: (200, 200, 200)\" style=\"width: 20px; height: 20px;background-color: rgb(200, 200, 200);\"></td><td title=\"Index: [0, 4]&#10;Color: (200, 200, 200)\" style=\"width: 20px; height: 20px;background-color: rgb(200, 200, 200);\"></td><td title=\"Index: [0, 5]&#10;Color: (200, 200, 200)\" style=\"width: 20px; height: 20px;background-color: rgb(200, 200, 200);\"></td></tr><tr><td title=\"Index: [1, 0]&#10;Color: (200, 200, 200)\" style=\"width: 20px; height: 20px;background-color: rgb(200, 200, 200);\"></td><td title=\"Index: [1, 1]&#10;Color: (214, 30, 107)\" style=\"width: 20px; height: 20px;background-color: rgb(214, 30, 107);\"></td><td title=\"Index: [1, 2]&#10;Color: (200, 103, 0)\" style=\"width: 20px; height: 20px;background-color: rgb(200, 103, 0);\"></td><td title=\"Index: [1, 3]&#10;Color: (200, 200, 200)\" style=\"width: 20px; height: 20px;background-color: rgb(200, 200, 200);\"></td><td title=\"Index: [1, 4]&#10;Color: (200, 200, 200)\" style=\"width: 20px; height: 20px;background-color: rgb(200, 200, 200);\"></td><td title=\"Index: [1, 5]&#10;Color: (200, 200, 200)\" style=\"width: 20px; height: 20px;background-color: rgb(200, 200, 200);\"></td></tr><tr><td title=\"Index: [2, 0]&#10;Color: (200, 200, 200)\" style=\"width: 20px; height: 20px;background-color: rgb(200, 200, 200);\"></td><td title=\"Index: [2, 1]&#10;Color: (200, 200, 200)\" style=\"width: 20px; height: 20px;background-color: rgb(200, 200, 200);\"></td><td title=\"Index: [2, 2]&#10;Color: (200, 0, 0)\" style=\"width: 20px; height: 20px;background-color: rgb(200, 0, 0);\"></td><td title=\"Index: [2, 3]&#10;Color: (200, 200, 200)\" style=\"width: 20px; height: 20px;background-color: rgb(200, 200, 200);\"></td><td title=\"Index: [2, 4]&#10;Color: (77, 200, 0)\" style=\"width: 20px; height: 20px;background-color: rgb(77, 200, 0);\"></td><td title=\"Index: [2, 5]&#10;Color: (240, 222, 29)\" style=\"width: 20px; height: 20px;background-color: rgb(240, 222, 29);\"></td></tr><tr><td title=\"Index: [3, 0]&#10;Color: (200, 0, 0)\" style=\"width: 20px; height: 20px;background-color: rgb(200, 0, 0);\"></td><td title=\"Index: [3, 1]&#10;Color: (200, 200, 200)\" style=\"width: 20px; height: 20px;background-color: rgb(200, 200, 200);\"></td><td title=\"Index: [3, 2]&#10;Color: (200, 200, 200)\" style=\"width: 20px; height: 20px;background-color: rgb(200, 200, 200);\"></td><td title=\"Index: [3, 3]&#10;Color: (200, 200, 200)\" style=\"width: 20px; height: 20px;background-color: rgb(200, 200, 200);\"></td><td title=\"Index: [3, 4]&#10;Color: (200, 200, 200)\" style=\"width: 20px; height: 20px;background-color: rgb(200, 200, 200);\"></td><td title=\"Index: [3, 5]&#10;Color: (200, 200, 200)\" style=\"width: 20px; height: 20px;background-color: rgb(200, 200, 200);\"></td></tr><tr><td title=\"Index: [4, 0]&#10;Color: (200, 200, 200)\" style=\"width: 20px; height: 20px;background-color: rgb(200, 200, 200);\"></td><td title=\"Index: [4, 1]&#10;Color: (200, 200, 200)\" style=\"width: 20px; height: 20px;background-color: rgb(200, 200, 200);\"></td><td title=\"Index: [4, 2]&#10;Color: (66, 135, 245)\" style=\"width: 20px; height: 20px;background-color: rgb(66, 135, 245);\"></td><td title=\"Index: [4, 3]&#10;Color: (200, 200, 200)\" style=\"width: 20px; height: 20px;background-color: rgb(200, 200, 200);\"></td><td title=\"Index: [4, 4]&#10;Color: (200, 0, 0)\" style=\"width: 20px; height: 20px;background-color: rgb(200, 0, 0);\"></td><td title=\"Index: [4, 5]&#10;Color: (200, 200, 200)\" style=\"width: 20px; height: 20px;background-color: rgb(200, 200, 200);\"></td></tr><tr><td title=\"Index: [5, 0]&#10;Color: (25, 32, 33)\" style=\"width: 20px; height: 20px;background-color: rgb(25, 32, 33);\"></td><td title=\"Index: [5, 1]&#10;Color: (200, 200, 200)\" style=\"width: 20px; height: 20px;background-color: rgb(200, 200, 200);\"></td><td title=\"Index: [5, 2]&#10;Color: (200, 200, 200)\" style=\"width: 20px; height: 20px;background-color: rgb(200, 200, 200);\"></td><td title=\"Index: [5, 3]&#10;Color: (200, 200, 200)\" style=\"width: 20px; height: 20px;background-color: rgb(200, 200, 200);\"></td><td title=\"Index: [5, 4]&#10;Color: (200, 200, 200)\" style=\"width: 20px; height: 20px;background-color: rgb(200, 200, 200);\"></td><td title=\"Index: [5, 5]&#10;Color: (200, 200, 200)\" style=\"width: 20px; height: 20px;background-color: rgb(200, 200, 200);\"></td></tr></tbody></table>"
      ],
      "text/plain": [
       "<IPython.core.display.HTML object>"
      ]
     },
     "metadata": {},
     "output_type": "display_data"
    },
    {
     "name": "stdout",
     "output_type": "stream",
     "text": [
      "Current Lives with PlayerA : 11\n",
      "PlayerA decided to turnright at location: [0, 5]\n"
     ]
    },
    {
     "data": {
      "text/html": [],
      "text/plain": [
       "<IPython.core.display.HTML object>"
      ]
     },
     "metadata": {},
     "output_type": "display_data"
    },
    {
     "data": {
      "text/html": [
       "<style type=\"text/css\">table.blockgrid {border: none;} .blockgrid tr {border: none;} .blockgrid td {padding: 0px;} #blocks5faf9ac9-e7bf-49a0-b16c-69862523522b td {border: 1px solid white;}</style><table id=\"blocks5faf9ac9-e7bf-49a0-b16c-69862523522b\" class=\"blockgrid\"><tbody><tr><td title=\"Index: [0, 0]&#10;Color: (200, 200, 200)\" style=\"width: 20px; height: 20px;background-color: rgb(200, 200, 200);\"></td><td title=\"Index: [0, 1]&#10;Color: (200, 200, 200)\" style=\"width: 20px; height: 20px;background-color: rgb(200, 200, 200);\"></td><td title=\"Index: [0, 2]&#10;Color: (200, 200, 200)\" style=\"width: 20px; height: 20px;background-color: rgb(200, 200, 200);\"></td><td title=\"Index: [0, 3]&#10;Color: (200, 200, 200)\" style=\"width: 20px; height: 20px;background-color: rgb(200, 200, 200);\"></td><td title=\"Index: [0, 4]&#10;Color: (200, 200, 200)\" style=\"width: 20px; height: 20px;background-color: rgb(200, 200, 200);\"></td><td title=\"Index: [0, 5]&#10;Color: (200, 200, 200)\" style=\"width: 20px; height: 20px;background-color: rgb(200, 200, 200);\"></td></tr><tr><td title=\"Index: [1, 0]&#10;Color: (200, 200, 200)\" style=\"width: 20px; height: 20px;background-color: rgb(200, 200, 200);\"></td><td title=\"Index: [1, 1]&#10;Color: (214, 30, 107)\" style=\"width: 20px; height: 20px;background-color: rgb(214, 30, 107);\"></td><td title=\"Index: [1, 2]&#10;Color: (200, 103, 0)\" style=\"width: 20px; height: 20px;background-color: rgb(200, 103, 0);\"></td><td title=\"Index: [1, 3]&#10;Color: (200, 200, 200)\" style=\"width: 20px; height: 20px;background-color: rgb(200, 200, 200);\"></td><td title=\"Index: [1, 4]&#10;Color: (200, 200, 200)\" style=\"width: 20px; height: 20px;background-color: rgb(200, 200, 200);\"></td><td title=\"Index: [1, 5]&#10;Color: (200, 200, 200)\" style=\"width: 20px; height: 20px;background-color: rgb(200, 200, 200);\"></td></tr><tr><td title=\"Index: [2, 0]&#10;Color: (200, 200, 200)\" style=\"width: 20px; height: 20px;background-color: rgb(200, 200, 200);\"></td><td title=\"Index: [2, 1]&#10;Color: (200, 200, 200)\" style=\"width: 20px; height: 20px;background-color: rgb(200, 200, 200);\"></td><td title=\"Index: [2, 2]&#10;Color: (200, 0, 0)\" style=\"width: 20px; height: 20px;background-color: rgb(200, 0, 0);\"></td><td title=\"Index: [2, 3]&#10;Color: (200, 200, 200)\" style=\"width: 20px; height: 20px;background-color: rgb(200, 200, 200);\"></td><td title=\"Index: [2, 4]&#10;Color: (77, 200, 0)\" style=\"width: 20px; height: 20px;background-color: rgb(77, 200, 0);\"></td><td title=\"Index: [2, 5]&#10;Color: (240, 222, 29)\" style=\"width: 20px; height: 20px;background-color: rgb(240, 222, 29);\"></td></tr><tr><td title=\"Index: [3, 0]&#10;Color: (200, 0, 0)\" style=\"width: 20px; height: 20px;background-color: rgb(200, 0, 0);\"></td><td title=\"Index: [3, 1]&#10;Color: (200, 200, 200)\" style=\"width: 20px; height: 20px;background-color: rgb(200, 200, 200);\"></td><td title=\"Index: [3, 2]&#10;Color: (200, 200, 200)\" style=\"width: 20px; height: 20px;background-color: rgb(200, 200, 200);\"></td><td title=\"Index: [3, 3]&#10;Color: (200, 200, 200)\" style=\"width: 20px; height: 20px;background-color: rgb(200, 200, 200);\"></td><td title=\"Index: [3, 4]&#10;Color: (200, 200, 200)\" style=\"width: 20px; height: 20px;background-color: rgb(200, 200, 200);\"></td><td title=\"Index: [3, 5]&#10;Color: (200, 200, 200)\" style=\"width: 20px; height: 20px;background-color: rgb(200, 200, 200);\"></td></tr><tr><td title=\"Index: [4, 0]&#10;Color: (200, 200, 200)\" style=\"width: 20px; height: 20px;background-color: rgb(200, 200, 200);\"></td><td title=\"Index: [4, 1]&#10;Color: (200, 200, 200)\" style=\"width: 20px; height: 20px;background-color: rgb(200, 200, 200);\"></td><td title=\"Index: [4, 2]&#10;Color: (66, 135, 245)\" style=\"width: 20px; height: 20px;background-color: rgb(66, 135, 245);\"></td><td title=\"Index: [4, 3]&#10;Color: (200, 200, 200)\" style=\"width: 20px; height: 20px;background-color: rgb(200, 200, 200);\"></td><td title=\"Index: [4, 4]&#10;Color: (200, 0, 0)\" style=\"width: 20px; height: 20px;background-color: rgb(200, 0, 0);\"></td><td title=\"Index: [4, 5]&#10;Color: (200, 200, 200)\" style=\"width: 20px; height: 20px;background-color: rgb(200, 200, 200);\"></td></tr><tr><td title=\"Index: [5, 0]&#10;Color: (25, 32, 33)\" style=\"width: 20px; height: 20px;background-color: rgb(25, 32, 33);\"></td><td title=\"Index: [5, 1]&#10;Color: (200, 200, 200)\" style=\"width: 20px; height: 20px;background-color: rgb(200, 200, 200);\"></td><td title=\"Index: [5, 2]&#10;Color: (200, 200, 200)\" style=\"width: 20px; height: 20px;background-color: rgb(200, 200, 200);\"></td><td title=\"Index: [5, 3]&#10;Color: (200, 200, 200)\" style=\"width: 20px; height: 20px;background-color: rgb(200, 200, 200);\"></td><td title=\"Index: [5, 4]&#10;Color: (200, 200, 200)\" style=\"width: 20px; height: 20px;background-color: rgb(200, 200, 200);\"></td><td title=\"Index: [5, 5]&#10;Color: (200, 200, 200)\" style=\"width: 20px; height: 20px;background-color: rgb(200, 200, 200);\"></td></tr></tbody></table>"
      ],
      "text/plain": [
       "<IPython.core.display.HTML object>"
      ]
     },
     "metadata": {},
     "output_type": "display_data"
    },
    {
     "name": "stdout",
     "output_type": "stream",
     "text": [
      "Current Lives with PlayerA : 11\n",
      "PlayerA decided to turnleft at location: [0, 5]\n"
     ]
    },
    {
     "data": {
      "text/html": [],
      "text/plain": [
       "<IPython.core.display.HTML object>"
      ]
     },
     "metadata": {},
     "output_type": "display_data"
    },
    {
     "data": {
      "text/html": [
       "<style type=\"text/css\">table.blockgrid {border: none;} .blockgrid tr {border: none;} .blockgrid td {padding: 0px;} #blocks73253afd-4933-45e8-b962-0031ba2a36ff td {border: 1px solid white;}</style><table id=\"blocks73253afd-4933-45e8-b962-0031ba2a36ff\" class=\"blockgrid\"><tbody><tr><td title=\"Index: [0, 0]&#10;Color: (200, 200, 200)\" style=\"width: 20px; height: 20px;background-color: rgb(200, 200, 200);\"></td><td title=\"Index: [0, 1]&#10;Color: (200, 200, 200)\" style=\"width: 20px; height: 20px;background-color: rgb(200, 200, 200);\"></td><td title=\"Index: [0, 2]&#10;Color: (200, 200, 200)\" style=\"width: 20px; height: 20px;background-color: rgb(200, 200, 200);\"></td><td title=\"Index: [0, 3]&#10;Color: (200, 200, 200)\" style=\"width: 20px; height: 20px;background-color: rgb(200, 200, 200);\"></td><td title=\"Index: [0, 4]&#10;Color: (200, 200, 200)\" style=\"width: 20px; height: 20px;background-color: rgb(200, 200, 200);\"></td><td title=\"Index: [0, 5]&#10;Color: (200, 200, 200)\" style=\"width: 20px; height: 20px;background-color: rgb(200, 200, 200);\"></td></tr><tr><td title=\"Index: [1, 0]&#10;Color: (200, 200, 200)\" style=\"width: 20px; height: 20px;background-color: rgb(200, 200, 200);\"></td><td title=\"Index: [1, 1]&#10;Color: (214, 30, 107)\" style=\"width: 20px; height: 20px;background-color: rgb(214, 30, 107);\"></td><td title=\"Index: [1, 2]&#10;Color: (200, 103, 0)\" style=\"width: 20px; height: 20px;background-color: rgb(200, 103, 0);\"></td><td title=\"Index: [1, 3]&#10;Color: (200, 200, 200)\" style=\"width: 20px; height: 20px;background-color: rgb(200, 200, 200);\"></td><td title=\"Index: [1, 4]&#10;Color: (200, 200, 200)\" style=\"width: 20px; height: 20px;background-color: rgb(200, 200, 200);\"></td><td title=\"Index: [1, 5]&#10;Color: (200, 200, 200)\" style=\"width: 20px; height: 20px;background-color: rgb(200, 200, 200);\"></td></tr><tr><td title=\"Index: [2, 0]&#10;Color: (200, 200, 200)\" style=\"width: 20px; height: 20px;background-color: rgb(200, 200, 200);\"></td><td title=\"Index: [2, 1]&#10;Color: (200, 200, 200)\" style=\"width: 20px; height: 20px;background-color: rgb(200, 200, 200);\"></td><td title=\"Index: [2, 2]&#10;Color: (200, 0, 0)\" style=\"width: 20px; height: 20px;background-color: rgb(200, 0, 0);\"></td><td title=\"Index: [2, 3]&#10;Color: (200, 200, 200)\" style=\"width: 20px; height: 20px;background-color: rgb(200, 200, 200);\"></td><td title=\"Index: [2, 4]&#10;Color: (77, 200, 0)\" style=\"width: 20px; height: 20px;background-color: rgb(77, 200, 0);\"></td><td title=\"Index: [2, 5]&#10;Color: (240, 222, 29)\" style=\"width: 20px; height: 20px;background-color: rgb(240, 222, 29);\"></td></tr><tr><td title=\"Index: [3, 0]&#10;Color: (200, 0, 0)\" style=\"width: 20px; height: 20px;background-color: rgb(200, 0, 0);\"></td><td title=\"Index: [3, 1]&#10;Color: (200, 200, 200)\" style=\"width: 20px; height: 20px;background-color: rgb(200, 200, 200);\"></td><td title=\"Index: [3, 2]&#10;Color: (200, 200, 200)\" style=\"width: 20px; height: 20px;background-color: rgb(200, 200, 200);\"></td><td title=\"Index: [3, 3]&#10;Color: (200, 200, 200)\" style=\"width: 20px; height: 20px;background-color: rgb(200, 200, 200);\"></td><td title=\"Index: [3, 4]&#10;Color: (200, 200, 200)\" style=\"width: 20px; height: 20px;background-color: rgb(200, 200, 200);\"></td><td title=\"Index: [3, 5]&#10;Color: (200, 200, 200)\" style=\"width: 20px; height: 20px;background-color: rgb(200, 200, 200);\"></td></tr><tr><td title=\"Index: [4, 0]&#10;Color: (200, 200, 200)\" style=\"width: 20px; height: 20px;background-color: rgb(200, 200, 200);\"></td><td title=\"Index: [4, 1]&#10;Color: (200, 200, 200)\" style=\"width: 20px; height: 20px;background-color: rgb(200, 200, 200);\"></td><td title=\"Index: [4, 2]&#10;Color: (66, 135, 245)\" style=\"width: 20px; height: 20px;background-color: rgb(66, 135, 245);\"></td><td title=\"Index: [4, 3]&#10;Color: (200, 200, 200)\" style=\"width: 20px; height: 20px;background-color: rgb(200, 200, 200);\"></td><td title=\"Index: [4, 4]&#10;Color: (200, 0, 0)\" style=\"width: 20px; height: 20px;background-color: rgb(200, 0, 0);\"></td><td title=\"Index: [4, 5]&#10;Color: (200, 200, 200)\" style=\"width: 20px; height: 20px;background-color: rgb(200, 200, 200);\"></td></tr><tr><td title=\"Index: [5, 0]&#10;Color: (25, 32, 33)\" style=\"width: 20px; height: 20px;background-color: rgb(25, 32, 33);\"></td><td title=\"Index: [5, 1]&#10;Color: (200, 200, 200)\" style=\"width: 20px; height: 20px;background-color: rgb(200, 200, 200);\"></td><td title=\"Index: [5, 2]&#10;Color: (200, 200, 200)\" style=\"width: 20px; height: 20px;background-color: rgb(200, 200, 200);\"></td><td title=\"Index: [5, 3]&#10;Color: (200, 200, 200)\" style=\"width: 20px; height: 20px;background-color: rgb(200, 200, 200);\"></td><td title=\"Index: [5, 4]&#10;Color: (200, 200, 200)\" style=\"width: 20px; height: 20px;background-color: rgb(200, 200, 200);\"></td><td title=\"Index: [5, 5]&#10;Color: (200, 200, 200)\" style=\"width: 20px; height: 20px;background-color: rgb(200, 200, 200);\"></td></tr></tbody></table>"
      ],
      "text/plain": [
       "<IPython.core.display.HTML object>"
      ]
     },
     "metadata": {},
     "output_type": "display_data"
    },
    {
     "name": "stdout",
     "output_type": "stream",
     "text": [
      "Current Lives with PlayerA : 11\n",
      "PlayerA decided to move rightwards at location: [0, 5]\n"
     ]
    },
    {
     "data": {
      "text/html": [],
      "text/plain": [
       "<IPython.core.display.HTML object>"
      ]
     },
     "metadata": {},
     "output_type": "display_data"
    },
    {
     "data": {
      "text/html": [
       "<style type=\"text/css\">table.blockgrid {border: none;} .blockgrid tr {border: none;} .blockgrid td {padding: 0px;} #blocksd83e6e35-c532-42f8-8874-eec3f8d45fca td {border: 1px solid white;}</style><table id=\"blocksd83e6e35-c532-42f8-8874-eec3f8d45fca\" class=\"blockgrid\"><tbody><tr><td title=\"Index: [0, 0]&#10;Color: (200, 200, 200)\" style=\"width: 20px; height: 20px;background-color: rgb(200, 200, 200);\"></td><td title=\"Index: [0, 1]&#10;Color: (200, 200, 200)\" style=\"width: 20px; height: 20px;background-color: rgb(200, 200, 200);\"></td><td title=\"Index: [0, 2]&#10;Color: (200, 200, 200)\" style=\"width: 20px; height: 20px;background-color: rgb(200, 200, 200);\"></td><td title=\"Index: [0, 3]&#10;Color: (200, 200, 200)\" style=\"width: 20px; height: 20px;background-color: rgb(200, 200, 200);\"></td><td title=\"Index: [0, 4]&#10;Color: (200, 200, 200)\" style=\"width: 20px; height: 20px;background-color: rgb(200, 200, 200);\"></td><td title=\"Index: [0, 5]&#10;Color: (200, 200, 200)\" style=\"width: 20px; height: 20px;background-color: rgb(200, 200, 200);\"></td></tr><tr><td title=\"Index: [1, 0]&#10;Color: (200, 200, 200)\" style=\"width: 20px; height: 20px;background-color: rgb(200, 200, 200);\"></td><td title=\"Index: [1, 1]&#10;Color: (214, 30, 107)\" style=\"width: 20px; height: 20px;background-color: rgb(214, 30, 107);\"></td><td title=\"Index: [1, 2]&#10;Color: (200, 103, 0)\" style=\"width: 20px; height: 20px;background-color: rgb(200, 103, 0);\"></td><td title=\"Index: [1, 3]&#10;Color: (200, 200, 200)\" style=\"width: 20px; height: 20px;background-color: rgb(200, 200, 200);\"></td><td title=\"Index: [1, 4]&#10;Color: (200, 200, 200)\" style=\"width: 20px; height: 20px;background-color: rgb(200, 200, 200);\"></td><td title=\"Index: [1, 5]&#10;Color: (200, 200, 200)\" style=\"width: 20px; height: 20px;background-color: rgb(200, 200, 200);\"></td></tr><tr><td title=\"Index: [2, 0]&#10;Color: (200, 200, 200)\" style=\"width: 20px; height: 20px;background-color: rgb(200, 200, 200);\"></td><td title=\"Index: [2, 1]&#10;Color: (200, 200, 200)\" style=\"width: 20px; height: 20px;background-color: rgb(200, 200, 200);\"></td><td title=\"Index: [2, 2]&#10;Color: (200, 0, 0)\" style=\"width: 20px; height: 20px;background-color: rgb(200, 0, 0);\"></td><td title=\"Index: [2, 3]&#10;Color: (200, 200, 200)\" style=\"width: 20px; height: 20px;background-color: rgb(200, 200, 200);\"></td><td title=\"Index: [2, 4]&#10;Color: (77, 200, 0)\" style=\"width: 20px; height: 20px;background-color: rgb(77, 200, 0);\"></td><td title=\"Index: [2, 5]&#10;Color: (240, 222, 29)\" style=\"width: 20px; height: 20px;background-color: rgb(240, 222, 29);\"></td></tr><tr><td title=\"Index: [3, 0]&#10;Color: (200, 0, 0)\" style=\"width: 20px; height: 20px;background-color: rgb(200, 0, 0);\"></td><td title=\"Index: [3, 1]&#10;Color: (200, 200, 200)\" style=\"width: 20px; height: 20px;background-color: rgb(200, 200, 200);\"></td><td title=\"Index: [3, 2]&#10;Color: (200, 200, 200)\" style=\"width: 20px; height: 20px;background-color: rgb(200, 200, 200);\"></td><td title=\"Index: [3, 3]&#10;Color: (200, 200, 200)\" style=\"width: 20px; height: 20px;background-color: rgb(200, 200, 200);\"></td><td title=\"Index: [3, 4]&#10;Color: (200, 200, 200)\" style=\"width: 20px; height: 20px;background-color: rgb(200, 200, 200);\"></td><td title=\"Index: [3, 5]&#10;Color: (200, 200, 200)\" style=\"width: 20px; height: 20px;background-color: rgb(200, 200, 200);\"></td></tr><tr><td title=\"Index: [4, 0]&#10;Color: (200, 200, 200)\" style=\"width: 20px; height: 20px;background-color: rgb(200, 200, 200);\"></td><td title=\"Index: [4, 1]&#10;Color: (200, 200, 200)\" style=\"width: 20px; height: 20px;background-color: rgb(200, 200, 200);\"></td><td title=\"Index: [4, 2]&#10;Color: (66, 135, 245)\" style=\"width: 20px; height: 20px;background-color: rgb(66, 135, 245);\"></td><td title=\"Index: [4, 3]&#10;Color: (200, 200, 200)\" style=\"width: 20px; height: 20px;background-color: rgb(200, 200, 200);\"></td><td title=\"Index: [4, 4]&#10;Color: (200, 0, 0)\" style=\"width: 20px; height: 20px;background-color: rgb(200, 0, 0);\"></td><td title=\"Index: [4, 5]&#10;Color: (200, 200, 200)\" style=\"width: 20px; height: 20px;background-color: rgb(200, 200, 200);\"></td></tr><tr><td title=\"Index: [5, 0]&#10;Color: (200, 200, 200)\" style=\"width: 20px; height: 20px;background-color: rgb(200, 200, 200);\"></td><td title=\"Index: [5, 1]&#10;Color: (25, 32, 33)\" style=\"width: 20px; height: 20px;background-color: rgb(25, 32, 33);\"></td><td title=\"Index: [5, 2]&#10;Color: (200, 200, 200)\" style=\"width: 20px; height: 20px;background-color: rgb(200, 200, 200);\"></td><td title=\"Index: [5, 3]&#10;Color: (200, 200, 200)\" style=\"width: 20px; height: 20px;background-color: rgb(200, 200, 200);\"></td><td title=\"Index: [5, 4]&#10;Color: (200, 200, 200)\" style=\"width: 20px; height: 20px;background-color: rgb(200, 200, 200);\"></td><td title=\"Index: [5, 5]&#10;Color: (200, 200, 200)\" style=\"width: 20px; height: 20px;background-color: rgb(200, 200, 200);\"></td></tr></tbody></table>"
      ],
      "text/plain": [
       "<IPython.core.display.HTML object>"
      ]
     },
     "metadata": {},
     "output_type": "display_data"
    },
    {
     "name": "stdout",
     "output_type": "stream",
     "text": [
      "Current Lives with PlayerA : 11\n",
      "PlayerA decided to turnright at location: [1, 5]\n"
     ]
    },
    {
     "data": {
      "text/html": [],
      "text/plain": [
       "<IPython.core.display.HTML object>"
      ]
     },
     "metadata": {},
     "output_type": "display_data"
    },
    {
     "data": {
      "text/html": [
       "<style type=\"text/css\">table.blockgrid {border: none;} .blockgrid tr {border: none;} .blockgrid td {padding: 0px;} #blocks72b22393-99f8-4c4c-80ff-451254f1f839 td {border: 1px solid white;}</style><table id=\"blocks72b22393-99f8-4c4c-80ff-451254f1f839\" class=\"blockgrid\"><tbody><tr><td title=\"Index: [0, 0]&#10;Color: (200, 200, 200)\" style=\"width: 20px; height: 20px;background-color: rgb(200, 200, 200);\"></td><td title=\"Index: [0, 1]&#10;Color: (200, 200, 200)\" style=\"width: 20px; height: 20px;background-color: rgb(200, 200, 200);\"></td><td title=\"Index: [0, 2]&#10;Color: (200, 200, 200)\" style=\"width: 20px; height: 20px;background-color: rgb(200, 200, 200);\"></td><td title=\"Index: [0, 3]&#10;Color: (200, 200, 200)\" style=\"width: 20px; height: 20px;background-color: rgb(200, 200, 200);\"></td><td title=\"Index: [0, 4]&#10;Color: (200, 200, 200)\" style=\"width: 20px; height: 20px;background-color: rgb(200, 200, 200);\"></td><td title=\"Index: [0, 5]&#10;Color: (200, 200, 200)\" style=\"width: 20px; height: 20px;background-color: rgb(200, 200, 200);\"></td></tr><tr><td title=\"Index: [1, 0]&#10;Color: (200, 200, 200)\" style=\"width: 20px; height: 20px;background-color: rgb(200, 200, 200);\"></td><td title=\"Index: [1, 1]&#10;Color: (214, 30, 107)\" style=\"width: 20px; height: 20px;background-color: rgb(214, 30, 107);\"></td><td title=\"Index: [1, 2]&#10;Color: (200, 103, 0)\" style=\"width: 20px; height: 20px;background-color: rgb(200, 103, 0);\"></td><td title=\"Index: [1, 3]&#10;Color: (200, 200, 200)\" style=\"width: 20px; height: 20px;background-color: rgb(200, 200, 200);\"></td><td title=\"Index: [1, 4]&#10;Color: (200, 200, 200)\" style=\"width: 20px; height: 20px;background-color: rgb(200, 200, 200);\"></td><td title=\"Index: [1, 5]&#10;Color: (200, 200, 200)\" style=\"width: 20px; height: 20px;background-color: rgb(200, 200, 200);\"></td></tr><tr><td title=\"Index: [2, 0]&#10;Color: (200, 200, 200)\" style=\"width: 20px; height: 20px;background-color: rgb(200, 200, 200);\"></td><td title=\"Index: [2, 1]&#10;Color: (200, 200, 200)\" style=\"width: 20px; height: 20px;background-color: rgb(200, 200, 200);\"></td><td title=\"Index: [2, 2]&#10;Color: (200, 0, 0)\" style=\"width: 20px; height: 20px;background-color: rgb(200, 0, 0);\"></td><td title=\"Index: [2, 3]&#10;Color: (200, 200, 200)\" style=\"width: 20px; height: 20px;background-color: rgb(200, 200, 200);\"></td><td title=\"Index: [2, 4]&#10;Color: (77, 200, 0)\" style=\"width: 20px; height: 20px;background-color: rgb(77, 200, 0);\"></td><td title=\"Index: [2, 5]&#10;Color: (240, 222, 29)\" style=\"width: 20px; height: 20px;background-color: rgb(240, 222, 29);\"></td></tr><tr><td title=\"Index: [3, 0]&#10;Color: (200, 0, 0)\" style=\"width: 20px; height: 20px;background-color: rgb(200, 0, 0);\"></td><td title=\"Index: [3, 1]&#10;Color: (200, 200, 200)\" style=\"width: 20px; height: 20px;background-color: rgb(200, 200, 200);\"></td><td title=\"Index: [3, 2]&#10;Color: (200, 200, 200)\" style=\"width: 20px; height: 20px;background-color: rgb(200, 200, 200);\"></td><td title=\"Index: [3, 3]&#10;Color: (200, 200, 200)\" style=\"width: 20px; height: 20px;background-color: rgb(200, 200, 200);\"></td><td title=\"Index: [3, 4]&#10;Color: (200, 200, 200)\" style=\"width: 20px; height: 20px;background-color: rgb(200, 200, 200);\"></td><td title=\"Index: [3, 5]&#10;Color: (200, 200, 200)\" style=\"width: 20px; height: 20px;background-color: rgb(200, 200, 200);\"></td></tr><tr><td title=\"Index: [4, 0]&#10;Color: (200, 200, 200)\" style=\"width: 20px; height: 20px;background-color: rgb(200, 200, 200);\"></td><td title=\"Index: [4, 1]&#10;Color: (200, 200, 200)\" style=\"width: 20px; height: 20px;background-color: rgb(200, 200, 200);\"></td><td title=\"Index: [4, 2]&#10;Color: (66, 135, 245)\" style=\"width: 20px; height: 20px;background-color: rgb(66, 135, 245);\"></td><td title=\"Index: [4, 3]&#10;Color: (200, 200, 200)\" style=\"width: 20px; height: 20px;background-color: rgb(200, 200, 200);\"></td><td title=\"Index: [4, 4]&#10;Color: (200, 0, 0)\" style=\"width: 20px; height: 20px;background-color: rgb(200, 0, 0);\"></td><td title=\"Index: [4, 5]&#10;Color: (200, 200, 200)\" style=\"width: 20px; height: 20px;background-color: rgb(200, 200, 200);\"></td></tr><tr><td title=\"Index: [5, 0]&#10;Color: (200, 200, 200)\" style=\"width: 20px; height: 20px;background-color: rgb(200, 200, 200);\"></td><td title=\"Index: [5, 1]&#10;Color: (25, 32, 33)\" style=\"width: 20px; height: 20px;background-color: rgb(25, 32, 33);\"></td><td title=\"Index: [5, 2]&#10;Color: (200, 200, 200)\" style=\"width: 20px; height: 20px;background-color: rgb(200, 200, 200);\"></td><td title=\"Index: [5, 3]&#10;Color: (200, 200, 200)\" style=\"width: 20px; height: 20px;background-color: rgb(200, 200, 200);\"></td><td title=\"Index: [5, 4]&#10;Color: (200, 200, 200)\" style=\"width: 20px; height: 20px;background-color: rgb(200, 200, 200);\"></td><td title=\"Index: [5, 5]&#10;Color: (200, 200, 200)\" style=\"width: 20px; height: 20px;background-color: rgb(200, 200, 200);\"></td></tr></tbody></table>"
      ],
      "text/plain": [
       "<IPython.core.display.HTML object>"
      ]
     },
     "metadata": {},
     "output_type": "display_data"
    },
    {
     "name": "stdout",
     "output_type": "stream",
     "text": [
      "Current Lives with PlayerA : 11\n",
      "PlayerA decided to turnright at location: [1, 5]\n"
     ]
    },
    {
     "data": {
      "text/html": [],
      "text/plain": [
       "<IPython.core.display.HTML object>"
      ]
     },
     "metadata": {},
     "output_type": "display_data"
    },
    {
     "data": {
      "text/html": [
       "<style type=\"text/css\">table.blockgrid {border: none;} .blockgrid tr {border: none;} .blockgrid td {padding: 0px;} #blocks7741d7da-3d4e-4f3f-a60e-dae2668eab12 td {border: 1px solid white;}</style><table id=\"blocks7741d7da-3d4e-4f3f-a60e-dae2668eab12\" class=\"blockgrid\"><tbody><tr><td title=\"Index: [0, 0]&#10;Color: (200, 200, 200)\" style=\"width: 20px; height: 20px;background-color: rgb(200, 200, 200);\"></td><td title=\"Index: [0, 1]&#10;Color: (200, 200, 200)\" style=\"width: 20px; height: 20px;background-color: rgb(200, 200, 200);\"></td><td title=\"Index: [0, 2]&#10;Color: (200, 200, 200)\" style=\"width: 20px; height: 20px;background-color: rgb(200, 200, 200);\"></td><td title=\"Index: [0, 3]&#10;Color: (200, 200, 200)\" style=\"width: 20px; height: 20px;background-color: rgb(200, 200, 200);\"></td><td title=\"Index: [0, 4]&#10;Color: (200, 200, 200)\" style=\"width: 20px; height: 20px;background-color: rgb(200, 200, 200);\"></td><td title=\"Index: [0, 5]&#10;Color: (200, 200, 200)\" style=\"width: 20px; height: 20px;background-color: rgb(200, 200, 200);\"></td></tr><tr><td title=\"Index: [1, 0]&#10;Color: (200, 200, 200)\" style=\"width: 20px; height: 20px;background-color: rgb(200, 200, 200);\"></td><td title=\"Index: [1, 1]&#10;Color: (214, 30, 107)\" style=\"width: 20px; height: 20px;background-color: rgb(214, 30, 107);\"></td><td title=\"Index: [1, 2]&#10;Color: (200, 103, 0)\" style=\"width: 20px; height: 20px;background-color: rgb(200, 103, 0);\"></td><td title=\"Index: [1, 3]&#10;Color: (200, 200, 200)\" style=\"width: 20px; height: 20px;background-color: rgb(200, 200, 200);\"></td><td title=\"Index: [1, 4]&#10;Color: (200, 200, 200)\" style=\"width: 20px; height: 20px;background-color: rgb(200, 200, 200);\"></td><td title=\"Index: [1, 5]&#10;Color: (200, 200, 200)\" style=\"width: 20px; height: 20px;background-color: rgb(200, 200, 200);\"></td></tr><tr><td title=\"Index: [2, 0]&#10;Color: (200, 200, 200)\" style=\"width: 20px; height: 20px;background-color: rgb(200, 200, 200);\"></td><td title=\"Index: [2, 1]&#10;Color: (200, 200, 200)\" style=\"width: 20px; height: 20px;background-color: rgb(200, 200, 200);\"></td><td title=\"Index: [2, 2]&#10;Color: (200, 0, 0)\" style=\"width: 20px; height: 20px;background-color: rgb(200, 0, 0);\"></td><td title=\"Index: [2, 3]&#10;Color: (200, 200, 200)\" style=\"width: 20px; height: 20px;background-color: rgb(200, 200, 200);\"></td><td title=\"Index: [2, 4]&#10;Color: (77, 200, 0)\" style=\"width: 20px; height: 20px;background-color: rgb(77, 200, 0);\"></td><td title=\"Index: [2, 5]&#10;Color: (240, 222, 29)\" style=\"width: 20px; height: 20px;background-color: rgb(240, 222, 29);\"></td></tr><tr><td title=\"Index: [3, 0]&#10;Color: (200, 0, 0)\" style=\"width: 20px; height: 20px;background-color: rgb(200, 0, 0);\"></td><td title=\"Index: [3, 1]&#10;Color: (200, 200, 200)\" style=\"width: 20px; height: 20px;background-color: rgb(200, 200, 200);\"></td><td title=\"Index: [3, 2]&#10;Color: (200, 200, 200)\" style=\"width: 20px; height: 20px;background-color: rgb(200, 200, 200);\"></td><td title=\"Index: [3, 3]&#10;Color: (200, 200, 200)\" style=\"width: 20px; height: 20px;background-color: rgb(200, 200, 200);\"></td><td title=\"Index: [3, 4]&#10;Color: (200, 200, 200)\" style=\"width: 20px; height: 20px;background-color: rgb(200, 200, 200);\"></td><td title=\"Index: [3, 5]&#10;Color: (200, 200, 200)\" style=\"width: 20px; height: 20px;background-color: rgb(200, 200, 200);\"></td></tr><tr><td title=\"Index: [4, 0]&#10;Color: (200, 200, 200)\" style=\"width: 20px; height: 20px;background-color: rgb(200, 200, 200);\"></td><td title=\"Index: [4, 1]&#10;Color: (200, 200, 200)\" style=\"width: 20px; height: 20px;background-color: rgb(200, 200, 200);\"></td><td title=\"Index: [4, 2]&#10;Color: (66, 135, 245)\" style=\"width: 20px; height: 20px;background-color: rgb(66, 135, 245);\"></td><td title=\"Index: [4, 3]&#10;Color: (200, 200, 200)\" style=\"width: 20px; height: 20px;background-color: rgb(200, 200, 200);\"></td><td title=\"Index: [4, 4]&#10;Color: (200, 0, 0)\" style=\"width: 20px; height: 20px;background-color: rgb(200, 0, 0);\"></td><td title=\"Index: [4, 5]&#10;Color: (200, 200, 200)\" style=\"width: 20px; height: 20px;background-color: rgb(200, 200, 200);\"></td></tr><tr><td title=\"Index: [5, 0]&#10;Color: (200, 200, 200)\" style=\"width: 20px; height: 20px;background-color: rgb(200, 200, 200);\"></td><td title=\"Index: [5, 1]&#10;Color: (25, 32, 33)\" style=\"width: 20px; height: 20px;background-color: rgb(25, 32, 33);\"></td><td title=\"Index: [5, 2]&#10;Color: (200, 200, 200)\" style=\"width: 20px; height: 20px;background-color: rgb(200, 200, 200);\"></td><td title=\"Index: [5, 3]&#10;Color: (200, 200, 200)\" style=\"width: 20px; height: 20px;background-color: rgb(200, 200, 200);\"></td><td title=\"Index: [5, 4]&#10;Color: (200, 200, 200)\" style=\"width: 20px; height: 20px;background-color: rgb(200, 200, 200);\"></td><td title=\"Index: [5, 5]&#10;Color: (200, 200, 200)\" style=\"width: 20px; height: 20px;background-color: rgb(200, 200, 200);\"></td></tr></tbody></table>"
      ],
      "text/plain": [
       "<IPython.core.display.HTML object>"
      ]
     },
     "metadata": {},
     "output_type": "display_data"
    },
    {
     "name": "stdout",
     "output_type": "stream",
     "text": [
      "Current Lives with PlayerA : 11\n",
      "PlayerA decided to move leftwards at location: [1, 5]\n"
     ]
    },
    {
     "data": {
      "text/html": [],
      "text/plain": [
       "<IPython.core.display.HTML object>"
      ]
     },
     "metadata": {},
     "output_type": "display_data"
    },
    {
     "data": {
      "text/html": [
       "<style type=\"text/css\">table.blockgrid {border: none;} .blockgrid tr {border: none;} .blockgrid td {padding: 0px;} #blocks1b36bbcd-ade5-42b3-9c4a-b955ab54d113 td {border: 1px solid white;}</style><table id=\"blocks1b36bbcd-ade5-42b3-9c4a-b955ab54d113\" class=\"blockgrid\"><tbody><tr><td title=\"Index: [0, 0]&#10;Color: (200, 200, 200)\" style=\"width: 20px; height: 20px;background-color: rgb(200, 200, 200);\"></td><td title=\"Index: [0, 1]&#10;Color: (200, 200, 200)\" style=\"width: 20px; height: 20px;background-color: rgb(200, 200, 200);\"></td><td title=\"Index: [0, 2]&#10;Color: (200, 200, 200)\" style=\"width: 20px; height: 20px;background-color: rgb(200, 200, 200);\"></td><td title=\"Index: [0, 3]&#10;Color: (200, 200, 200)\" style=\"width: 20px; height: 20px;background-color: rgb(200, 200, 200);\"></td><td title=\"Index: [0, 4]&#10;Color: (200, 200, 200)\" style=\"width: 20px; height: 20px;background-color: rgb(200, 200, 200);\"></td><td title=\"Index: [0, 5]&#10;Color: (200, 200, 200)\" style=\"width: 20px; height: 20px;background-color: rgb(200, 200, 200);\"></td></tr><tr><td title=\"Index: [1, 0]&#10;Color: (200, 200, 200)\" style=\"width: 20px; height: 20px;background-color: rgb(200, 200, 200);\"></td><td title=\"Index: [1, 1]&#10;Color: (214, 30, 107)\" style=\"width: 20px; height: 20px;background-color: rgb(214, 30, 107);\"></td><td title=\"Index: [1, 2]&#10;Color: (200, 103, 0)\" style=\"width: 20px; height: 20px;background-color: rgb(200, 103, 0);\"></td><td title=\"Index: [1, 3]&#10;Color: (200, 200, 200)\" style=\"width: 20px; height: 20px;background-color: rgb(200, 200, 200);\"></td><td title=\"Index: [1, 4]&#10;Color: (200, 200, 200)\" style=\"width: 20px; height: 20px;background-color: rgb(200, 200, 200);\"></td><td title=\"Index: [1, 5]&#10;Color: (200, 200, 200)\" style=\"width: 20px; height: 20px;background-color: rgb(200, 200, 200);\"></td></tr><tr><td title=\"Index: [2, 0]&#10;Color: (200, 200, 200)\" style=\"width: 20px; height: 20px;background-color: rgb(200, 200, 200);\"></td><td title=\"Index: [2, 1]&#10;Color: (200, 200, 200)\" style=\"width: 20px; height: 20px;background-color: rgb(200, 200, 200);\"></td><td title=\"Index: [2, 2]&#10;Color: (200, 0, 0)\" style=\"width: 20px; height: 20px;background-color: rgb(200, 0, 0);\"></td><td title=\"Index: [2, 3]&#10;Color: (200, 200, 200)\" style=\"width: 20px; height: 20px;background-color: rgb(200, 200, 200);\"></td><td title=\"Index: [2, 4]&#10;Color: (77, 200, 0)\" style=\"width: 20px; height: 20px;background-color: rgb(77, 200, 0);\"></td><td title=\"Index: [2, 5]&#10;Color: (240, 222, 29)\" style=\"width: 20px; height: 20px;background-color: rgb(240, 222, 29);\"></td></tr><tr><td title=\"Index: [3, 0]&#10;Color: (200, 0, 0)\" style=\"width: 20px; height: 20px;background-color: rgb(200, 0, 0);\"></td><td title=\"Index: [3, 1]&#10;Color: (200, 200, 200)\" style=\"width: 20px; height: 20px;background-color: rgb(200, 200, 200);\"></td><td title=\"Index: [3, 2]&#10;Color: (200, 200, 200)\" style=\"width: 20px; height: 20px;background-color: rgb(200, 200, 200);\"></td><td title=\"Index: [3, 3]&#10;Color: (200, 200, 200)\" style=\"width: 20px; height: 20px;background-color: rgb(200, 200, 200);\"></td><td title=\"Index: [3, 4]&#10;Color: (200, 200, 200)\" style=\"width: 20px; height: 20px;background-color: rgb(200, 200, 200);\"></td><td title=\"Index: [3, 5]&#10;Color: (200, 200, 200)\" style=\"width: 20px; height: 20px;background-color: rgb(200, 200, 200);\"></td></tr><tr><td title=\"Index: [4, 0]&#10;Color: (200, 200, 200)\" style=\"width: 20px; height: 20px;background-color: rgb(200, 200, 200);\"></td><td title=\"Index: [4, 1]&#10;Color: (200, 200, 200)\" style=\"width: 20px; height: 20px;background-color: rgb(200, 200, 200);\"></td><td title=\"Index: [4, 2]&#10;Color: (66, 135, 245)\" style=\"width: 20px; height: 20px;background-color: rgb(66, 135, 245);\"></td><td title=\"Index: [4, 3]&#10;Color: (200, 200, 200)\" style=\"width: 20px; height: 20px;background-color: rgb(200, 200, 200);\"></td><td title=\"Index: [4, 4]&#10;Color: (200, 0, 0)\" style=\"width: 20px; height: 20px;background-color: rgb(200, 0, 0);\"></td><td title=\"Index: [4, 5]&#10;Color: (200, 200, 200)\" style=\"width: 20px; height: 20px;background-color: rgb(200, 200, 200);\"></td></tr><tr><td title=\"Index: [5, 0]&#10;Color: (25, 32, 33)\" style=\"width: 20px; height: 20px;background-color: rgb(25, 32, 33);\"></td><td title=\"Index: [5, 1]&#10;Color: (200, 200, 200)\" style=\"width: 20px; height: 20px;background-color: rgb(200, 200, 200);\"></td><td title=\"Index: [5, 2]&#10;Color: (200, 200, 200)\" style=\"width: 20px; height: 20px;background-color: rgb(200, 200, 200);\"></td><td title=\"Index: [5, 3]&#10;Color: (200, 200, 200)\" style=\"width: 20px; height: 20px;background-color: rgb(200, 200, 200);\"></td><td title=\"Index: [5, 4]&#10;Color: (200, 200, 200)\" style=\"width: 20px; height: 20px;background-color: rgb(200, 200, 200);\"></td><td title=\"Index: [5, 5]&#10;Color: (200, 200, 200)\" style=\"width: 20px; height: 20px;background-color: rgb(200, 200, 200);\"></td></tr></tbody></table>"
      ],
      "text/plain": [
       "<IPython.core.display.HTML object>"
      ]
     },
     "metadata": {},
     "output_type": "display_data"
    },
    {
     "name": "stdout",
     "output_type": "stream",
     "text": [
      "Current Lives with PlayerA : 11\n",
      "PlayerA decided to turnright at location: [0, 5]\n"
     ]
    },
    {
     "data": {
      "text/html": [],
      "text/plain": [
       "<IPython.core.display.HTML object>"
      ]
     },
     "metadata": {},
     "output_type": "display_data"
    },
    {
     "data": {
      "text/html": [
       "<style type=\"text/css\">table.blockgrid {border: none;} .blockgrid tr {border: none;} .blockgrid td {padding: 0px;} #blocksea7a76cf-08f1-4819-8478-75c121f5b17c td {border: 1px solid white;}</style><table id=\"blocksea7a76cf-08f1-4819-8478-75c121f5b17c\" class=\"blockgrid\"><tbody><tr><td title=\"Index: [0, 0]&#10;Color: (200, 200, 200)\" style=\"width: 20px; height: 20px;background-color: rgb(200, 200, 200);\"></td><td title=\"Index: [0, 1]&#10;Color: (200, 200, 200)\" style=\"width: 20px; height: 20px;background-color: rgb(200, 200, 200);\"></td><td title=\"Index: [0, 2]&#10;Color: (200, 200, 200)\" style=\"width: 20px; height: 20px;background-color: rgb(200, 200, 200);\"></td><td title=\"Index: [0, 3]&#10;Color: (200, 200, 200)\" style=\"width: 20px; height: 20px;background-color: rgb(200, 200, 200);\"></td><td title=\"Index: [0, 4]&#10;Color: (200, 200, 200)\" style=\"width: 20px; height: 20px;background-color: rgb(200, 200, 200);\"></td><td title=\"Index: [0, 5]&#10;Color: (200, 200, 200)\" style=\"width: 20px; height: 20px;background-color: rgb(200, 200, 200);\"></td></tr><tr><td title=\"Index: [1, 0]&#10;Color: (200, 200, 200)\" style=\"width: 20px; height: 20px;background-color: rgb(200, 200, 200);\"></td><td title=\"Index: [1, 1]&#10;Color: (214, 30, 107)\" style=\"width: 20px; height: 20px;background-color: rgb(214, 30, 107);\"></td><td title=\"Index: [1, 2]&#10;Color: (200, 103, 0)\" style=\"width: 20px; height: 20px;background-color: rgb(200, 103, 0);\"></td><td title=\"Index: [1, 3]&#10;Color: (200, 200, 200)\" style=\"width: 20px; height: 20px;background-color: rgb(200, 200, 200);\"></td><td title=\"Index: [1, 4]&#10;Color: (200, 200, 200)\" style=\"width: 20px; height: 20px;background-color: rgb(200, 200, 200);\"></td><td title=\"Index: [1, 5]&#10;Color: (200, 200, 200)\" style=\"width: 20px; height: 20px;background-color: rgb(200, 200, 200);\"></td></tr><tr><td title=\"Index: [2, 0]&#10;Color: (200, 200, 200)\" style=\"width: 20px; height: 20px;background-color: rgb(200, 200, 200);\"></td><td title=\"Index: [2, 1]&#10;Color: (200, 200, 200)\" style=\"width: 20px; height: 20px;background-color: rgb(200, 200, 200);\"></td><td title=\"Index: [2, 2]&#10;Color: (200, 0, 0)\" style=\"width: 20px; height: 20px;background-color: rgb(200, 0, 0);\"></td><td title=\"Index: [2, 3]&#10;Color: (200, 200, 200)\" style=\"width: 20px; height: 20px;background-color: rgb(200, 200, 200);\"></td><td title=\"Index: [2, 4]&#10;Color: (77, 200, 0)\" style=\"width: 20px; height: 20px;background-color: rgb(77, 200, 0);\"></td><td title=\"Index: [2, 5]&#10;Color: (240, 222, 29)\" style=\"width: 20px; height: 20px;background-color: rgb(240, 222, 29);\"></td></tr><tr><td title=\"Index: [3, 0]&#10;Color: (200, 0, 0)\" style=\"width: 20px; height: 20px;background-color: rgb(200, 0, 0);\"></td><td title=\"Index: [3, 1]&#10;Color: (200, 200, 200)\" style=\"width: 20px; height: 20px;background-color: rgb(200, 200, 200);\"></td><td title=\"Index: [3, 2]&#10;Color: (200, 200, 200)\" style=\"width: 20px; height: 20px;background-color: rgb(200, 200, 200);\"></td><td title=\"Index: [3, 3]&#10;Color: (200, 200, 200)\" style=\"width: 20px; height: 20px;background-color: rgb(200, 200, 200);\"></td><td title=\"Index: [3, 4]&#10;Color: (200, 200, 200)\" style=\"width: 20px; height: 20px;background-color: rgb(200, 200, 200);\"></td><td title=\"Index: [3, 5]&#10;Color: (200, 200, 200)\" style=\"width: 20px; height: 20px;background-color: rgb(200, 200, 200);\"></td></tr><tr><td title=\"Index: [4, 0]&#10;Color: (200, 200, 200)\" style=\"width: 20px; height: 20px;background-color: rgb(200, 200, 200);\"></td><td title=\"Index: [4, 1]&#10;Color: (200, 200, 200)\" style=\"width: 20px; height: 20px;background-color: rgb(200, 200, 200);\"></td><td title=\"Index: [4, 2]&#10;Color: (66, 135, 245)\" style=\"width: 20px; height: 20px;background-color: rgb(66, 135, 245);\"></td><td title=\"Index: [4, 3]&#10;Color: (200, 200, 200)\" style=\"width: 20px; height: 20px;background-color: rgb(200, 200, 200);\"></td><td title=\"Index: [4, 4]&#10;Color: (200, 0, 0)\" style=\"width: 20px; height: 20px;background-color: rgb(200, 0, 0);\"></td><td title=\"Index: [4, 5]&#10;Color: (200, 200, 200)\" style=\"width: 20px; height: 20px;background-color: rgb(200, 200, 200);\"></td></tr><tr><td title=\"Index: [5, 0]&#10;Color: (25, 32, 33)\" style=\"width: 20px; height: 20px;background-color: rgb(25, 32, 33);\"></td><td title=\"Index: [5, 1]&#10;Color: (200, 200, 200)\" style=\"width: 20px; height: 20px;background-color: rgb(200, 200, 200);\"></td><td title=\"Index: [5, 2]&#10;Color: (200, 200, 200)\" style=\"width: 20px; height: 20px;background-color: rgb(200, 200, 200);\"></td><td title=\"Index: [5, 3]&#10;Color: (200, 200, 200)\" style=\"width: 20px; height: 20px;background-color: rgb(200, 200, 200);\"></td><td title=\"Index: [5, 4]&#10;Color: (200, 200, 200)\" style=\"width: 20px; height: 20px;background-color: rgb(200, 200, 200);\"></td><td title=\"Index: [5, 5]&#10;Color: (200, 200, 200)\" style=\"width: 20px; height: 20px;background-color: rgb(200, 200, 200);\"></td></tr></tbody></table>"
      ],
      "text/plain": [
       "<IPython.core.display.HTML object>"
      ]
     },
     "metadata": {},
     "output_type": "display_data"
    },
    {
     "name": "stdout",
     "output_type": "stream",
     "text": [
      "Current Lives with PlayerA : 11\n",
      "PlayerA decided to move upwards at location: [0, 5]\n"
     ]
    },
    {
     "data": {
      "text/html": [],
      "text/plain": [
       "<IPython.core.display.HTML object>"
      ]
     },
     "metadata": {},
     "output_type": "display_data"
    },
    {
     "data": {
      "text/html": [
       "<style type=\"text/css\">table.blockgrid {border: none;} .blockgrid tr {border: none;} .blockgrid td {padding: 0px;} #blocks49836685-0026-4f19-a5ba-5974355f9bc6 td {border: 1px solid white;}</style><table id=\"blocks49836685-0026-4f19-a5ba-5974355f9bc6\" class=\"blockgrid\"><tbody><tr><td title=\"Index: [0, 0]&#10;Color: (200, 200, 200)\" style=\"width: 20px; height: 20px;background-color: rgb(200, 200, 200);\"></td><td title=\"Index: [0, 1]&#10;Color: (200, 200, 200)\" style=\"width: 20px; height: 20px;background-color: rgb(200, 200, 200);\"></td><td title=\"Index: [0, 2]&#10;Color: (200, 200, 200)\" style=\"width: 20px; height: 20px;background-color: rgb(200, 200, 200);\"></td><td title=\"Index: [0, 3]&#10;Color: (200, 200, 200)\" style=\"width: 20px; height: 20px;background-color: rgb(200, 200, 200);\"></td><td title=\"Index: [0, 4]&#10;Color: (200, 200, 200)\" style=\"width: 20px; height: 20px;background-color: rgb(200, 200, 200);\"></td><td title=\"Index: [0, 5]&#10;Color: (200, 200, 200)\" style=\"width: 20px; height: 20px;background-color: rgb(200, 200, 200);\"></td></tr><tr><td title=\"Index: [1, 0]&#10;Color: (200, 200, 200)\" style=\"width: 20px; height: 20px;background-color: rgb(200, 200, 200);\"></td><td title=\"Index: [1, 1]&#10;Color: (214, 30, 107)\" style=\"width: 20px; height: 20px;background-color: rgb(214, 30, 107);\"></td><td title=\"Index: [1, 2]&#10;Color: (200, 103, 0)\" style=\"width: 20px; height: 20px;background-color: rgb(200, 103, 0);\"></td><td title=\"Index: [1, 3]&#10;Color: (200, 200, 200)\" style=\"width: 20px; height: 20px;background-color: rgb(200, 200, 200);\"></td><td title=\"Index: [1, 4]&#10;Color: (200, 200, 200)\" style=\"width: 20px; height: 20px;background-color: rgb(200, 200, 200);\"></td><td title=\"Index: [1, 5]&#10;Color: (200, 200, 200)\" style=\"width: 20px; height: 20px;background-color: rgb(200, 200, 200);\"></td></tr><tr><td title=\"Index: [2, 0]&#10;Color: (200, 200, 200)\" style=\"width: 20px; height: 20px;background-color: rgb(200, 200, 200);\"></td><td title=\"Index: [2, 1]&#10;Color: (200, 200, 200)\" style=\"width: 20px; height: 20px;background-color: rgb(200, 200, 200);\"></td><td title=\"Index: [2, 2]&#10;Color: (200, 0, 0)\" style=\"width: 20px; height: 20px;background-color: rgb(200, 0, 0);\"></td><td title=\"Index: [2, 3]&#10;Color: (200, 200, 200)\" style=\"width: 20px; height: 20px;background-color: rgb(200, 200, 200);\"></td><td title=\"Index: [2, 4]&#10;Color: (77, 200, 0)\" style=\"width: 20px; height: 20px;background-color: rgb(77, 200, 0);\"></td><td title=\"Index: [2, 5]&#10;Color: (240, 222, 29)\" style=\"width: 20px; height: 20px;background-color: rgb(240, 222, 29);\"></td></tr><tr><td title=\"Index: [3, 0]&#10;Color: (200, 0, 0)\" style=\"width: 20px; height: 20px;background-color: rgb(200, 0, 0);\"></td><td title=\"Index: [3, 1]&#10;Color: (200, 200, 200)\" style=\"width: 20px; height: 20px;background-color: rgb(200, 200, 200);\"></td><td title=\"Index: [3, 2]&#10;Color: (200, 200, 200)\" style=\"width: 20px; height: 20px;background-color: rgb(200, 200, 200);\"></td><td title=\"Index: [3, 3]&#10;Color: (200, 200, 200)\" style=\"width: 20px; height: 20px;background-color: rgb(200, 200, 200);\"></td><td title=\"Index: [3, 4]&#10;Color: (200, 200, 200)\" style=\"width: 20px; height: 20px;background-color: rgb(200, 200, 200);\"></td><td title=\"Index: [3, 5]&#10;Color: (200, 200, 200)\" style=\"width: 20px; height: 20px;background-color: rgb(200, 200, 200);\"></td></tr><tr><td title=\"Index: [4, 0]&#10;Color: (25, 32, 33)\" style=\"width: 20px; height: 20px;background-color: rgb(25, 32, 33);\"></td><td title=\"Index: [4, 1]&#10;Color: (200, 200, 200)\" style=\"width: 20px; height: 20px;background-color: rgb(200, 200, 200);\"></td><td title=\"Index: [4, 2]&#10;Color: (66, 135, 245)\" style=\"width: 20px; height: 20px;background-color: rgb(66, 135, 245);\"></td><td title=\"Index: [4, 3]&#10;Color: (200, 200, 200)\" style=\"width: 20px; height: 20px;background-color: rgb(200, 200, 200);\"></td><td title=\"Index: [4, 4]&#10;Color: (200, 0, 0)\" style=\"width: 20px; height: 20px;background-color: rgb(200, 0, 0);\"></td><td title=\"Index: [4, 5]&#10;Color: (200, 200, 200)\" style=\"width: 20px; height: 20px;background-color: rgb(200, 200, 200);\"></td></tr><tr><td title=\"Index: [5, 0]&#10;Color: (200, 200, 200)\" style=\"width: 20px; height: 20px;background-color: rgb(200, 200, 200);\"></td><td title=\"Index: [5, 1]&#10;Color: (200, 200, 200)\" style=\"width: 20px; height: 20px;background-color: rgb(200, 200, 200);\"></td><td title=\"Index: [5, 2]&#10;Color: (200, 200, 200)\" style=\"width: 20px; height: 20px;background-color: rgb(200, 200, 200);\"></td><td title=\"Index: [5, 3]&#10;Color: (200, 200, 200)\" style=\"width: 20px; height: 20px;background-color: rgb(200, 200, 200);\"></td><td title=\"Index: [5, 4]&#10;Color: (200, 200, 200)\" style=\"width: 20px; height: 20px;background-color: rgb(200, 200, 200);\"></td><td title=\"Index: [5, 5]&#10;Color: (200, 200, 200)\" style=\"width: 20px; height: 20px;background-color: rgb(200, 200, 200);\"></td></tr></tbody></table>"
      ],
      "text/plain": [
       "<IPython.core.display.HTML object>"
      ]
     },
     "metadata": {},
     "output_type": "display_data"
    },
    {
     "name": "stdout",
     "output_type": "stream",
     "text": [
      "Current Lives with PlayerA : 11\n",
      "PlayerA decided to move upwards at location: [0, 4]\n"
     ]
    },
    {
     "data": {
      "text/html": [],
      "text/plain": [
       "<IPython.core.display.HTML object>"
      ]
     },
     "metadata": {},
     "output_type": "display_data"
    },
    {
     "data": {
      "text/html": [
       "<style type=\"text/css\">table.blockgrid {border: none;} .blockgrid tr {border: none;} .blockgrid td {padding: 0px;} #blocks8c01bd71-3bed-4315-a736-d95a8f3721e4 td {border: 1px solid white;}</style><table id=\"blocks8c01bd71-3bed-4315-a736-d95a8f3721e4\" class=\"blockgrid\"><tbody><tr><td title=\"Index: [0, 0]&#10;Color: (200, 200, 200)\" style=\"width: 20px; height: 20px;background-color: rgb(200, 200, 200);\"></td><td title=\"Index: [0, 1]&#10;Color: (200, 200, 200)\" style=\"width: 20px; height: 20px;background-color: rgb(200, 200, 200);\"></td><td title=\"Index: [0, 2]&#10;Color: (200, 200, 200)\" style=\"width: 20px; height: 20px;background-color: rgb(200, 200, 200);\"></td><td title=\"Index: [0, 3]&#10;Color: (200, 200, 200)\" style=\"width: 20px; height: 20px;background-color: rgb(200, 200, 200);\"></td><td title=\"Index: [0, 4]&#10;Color: (200, 200, 200)\" style=\"width: 20px; height: 20px;background-color: rgb(200, 200, 200);\"></td><td title=\"Index: [0, 5]&#10;Color: (200, 200, 200)\" style=\"width: 20px; height: 20px;background-color: rgb(200, 200, 200);\"></td></tr><tr><td title=\"Index: [1, 0]&#10;Color: (200, 200, 200)\" style=\"width: 20px; height: 20px;background-color: rgb(200, 200, 200);\"></td><td title=\"Index: [1, 1]&#10;Color: (214, 30, 107)\" style=\"width: 20px; height: 20px;background-color: rgb(214, 30, 107);\"></td><td title=\"Index: [1, 2]&#10;Color: (200, 103, 0)\" style=\"width: 20px; height: 20px;background-color: rgb(200, 103, 0);\"></td><td title=\"Index: [1, 3]&#10;Color: (200, 200, 200)\" style=\"width: 20px; height: 20px;background-color: rgb(200, 200, 200);\"></td><td title=\"Index: [1, 4]&#10;Color: (200, 200, 200)\" style=\"width: 20px; height: 20px;background-color: rgb(200, 200, 200);\"></td><td title=\"Index: [1, 5]&#10;Color: (200, 200, 200)\" style=\"width: 20px; height: 20px;background-color: rgb(200, 200, 200);\"></td></tr><tr><td title=\"Index: [2, 0]&#10;Color: (200, 200, 200)\" style=\"width: 20px; height: 20px;background-color: rgb(200, 200, 200);\"></td><td title=\"Index: [2, 1]&#10;Color: (200, 200, 200)\" style=\"width: 20px; height: 20px;background-color: rgb(200, 200, 200);\"></td><td title=\"Index: [2, 2]&#10;Color: (200, 0, 0)\" style=\"width: 20px; height: 20px;background-color: rgb(200, 0, 0);\"></td><td title=\"Index: [2, 3]&#10;Color: (200, 200, 200)\" style=\"width: 20px; height: 20px;background-color: rgb(200, 200, 200);\"></td><td title=\"Index: [2, 4]&#10;Color: (77, 200, 0)\" style=\"width: 20px; height: 20px;background-color: rgb(77, 200, 0);\"></td><td title=\"Index: [2, 5]&#10;Color: (240, 222, 29)\" style=\"width: 20px; height: 20px;background-color: rgb(240, 222, 29);\"></td></tr><tr><td title=\"Index: [3, 0]&#10;Color: (200, 0, 0)\" style=\"width: 20px; height: 20px;background-color: rgb(200, 0, 0);\"></td><td title=\"Index: [3, 1]&#10;Color: (200, 200, 200)\" style=\"width: 20px; height: 20px;background-color: rgb(200, 200, 200);\"></td><td title=\"Index: [3, 2]&#10;Color: (200, 200, 200)\" style=\"width: 20px; height: 20px;background-color: rgb(200, 200, 200);\"></td><td title=\"Index: [3, 3]&#10;Color: (200, 200, 200)\" style=\"width: 20px; height: 20px;background-color: rgb(200, 200, 200);\"></td><td title=\"Index: [3, 4]&#10;Color: (200, 200, 200)\" style=\"width: 20px; height: 20px;background-color: rgb(200, 200, 200);\"></td><td title=\"Index: [3, 5]&#10;Color: (200, 200, 200)\" style=\"width: 20px; height: 20px;background-color: rgb(200, 200, 200);\"></td></tr><tr><td title=\"Index: [4, 0]&#10;Color: (200, 200, 200)\" style=\"width: 20px; height: 20px;background-color: rgb(200, 200, 200);\"></td><td title=\"Index: [4, 1]&#10;Color: (200, 200, 200)\" style=\"width: 20px; height: 20px;background-color: rgb(200, 200, 200);\"></td><td title=\"Index: [4, 2]&#10;Color: (66, 135, 245)\" style=\"width: 20px; height: 20px;background-color: rgb(66, 135, 245);\"></td><td title=\"Index: [4, 3]&#10;Color: (200, 200, 200)\" style=\"width: 20px; height: 20px;background-color: rgb(200, 200, 200);\"></td><td title=\"Index: [4, 4]&#10;Color: (200, 0, 0)\" style=\"width: 20px; height: 20px;background-color: rgb(200, 0, 0);\"></td><td title=\"Index: [4, 5]&#10;Color: (200, 200, 200)\" style=\"width: 20px; height: 20px;background-color: rgb(200, 200, 200);\"></td></tr><tr><td title=\"Index: [5, 0]&#10;Color: (200, 200, 200)\" style=\"width: 20px; height: 20px;background-color: rgb(200, 200, 200);\"></td><td title=\"Index: [5, 1]&#10;Color: (200, 200, 200)\" style=\"width: 20px; height: 20px;background-color: rgb(200, 200, 200);\"></td><td title=\"Index: [5, 2]&#10;Color: (200, 200, 200)\" style=\"width: 20px; height: 20px;background-color: rgb(200, 200, 200);\"></td><td title=\"Index: [5, 3]&#10;Color: (200, 200, 200)\" style=\"width: 20px; height: 20px;background-color: rgb(200, 200, 200);\"></td><td title=\"Index: [5, 4]&#10;Color: (200, 200, 200)\" style=\"width: 20px; height: 20px;background-color: rgb(200, 200, 200);\"></td><td title=\"Index: [5, 5]&#10;Color: (200, 200, 200)\" style=\"width: 20px; height: 20px;background-color: rgb(200, 200, 200);\"></td></tr></tbody></table>"
      ],
      "text/plain": [
       "<IPython.core.display.HTML object>"
      ]
     },
     "metadata": {},
     "output_type": "display_data"
    },
    {
     "name": "stdout",
     "output_type": "stream",
     "text": [
      "Current Lives with PlayerA : 11\n",
      "PlayerA drained by having EnergyDown at location: [0, 3]\n"
     ]
    },
    {
     "data": {
      "text/html": [],
      "text/plain": [
       "<IPython.core.display.HTML object>"
      ]
     },
     "metadata": {},
     "output_type": "display_data"
    },
    {
     "data": {
      "text/html": [
       "<style type=\"text/css\">table.blockgrid {border: none;} .blockgrid tr {border: none;} .blockgrid td {padding: 0px;} #blocksbf52dafa-d76b-4db9-8fe1-3e77fa727319 td {border: 1px solid white;}</style><table id=\"blocksbf52dafa-d76b-4db9-8fe1-3e77fa727319\" class=\"blockgrid\"><tbody><tr><td title=\"Index: [0, 0]&#10;Color: (200, 200, 200)\" style=\"width: 20px; height: 20px;background-color: rgb(200, 200, 200);\"></td><td title=\"Index: [0, 1]&#10;Color: (200, 200, 200)\" style=\"width: 20px; height: 20px;background-color: rgb(200, 200, 200);\"></td><td title=\"Index: [0, 2]&#10;Color: (200, 200, 200)\" style=\"width: 20px; height: 20px;background-color: rgb(200, 200, 200);\"></td><td title=\"Index: [0, 3]&#10;Color: (200, 200, 200)\" style=\"width: 20px; height: 20px;background-color: rgb(200, 200, 200);\"></td><td title=\"Index: [0, 4]&#10;Color: (200, 200, 200)\" style=\"width: 20px; height: 20px;background-color: rgb(200, 200, 200);\"></td><td title=\"Index: [0, 5]&#10;Color: (200, 200, 200)\" style=\"width: 20px; height: 20px;background-color: rgb(200, 200, 200);\"></td></tr><tr><td title=\"Index: [1, 0]&#10;Color: (200, 200, 200)\" style=\"width: 20px; height: 20px;background-color: rgb(200, 200, 200);\"></td><td title=\"Index: [1, 1]&#10;Color: (214, 30, 107)\" style=\"width: 20px; height: 20px;background-color: rgb(214, 30, 107);\"></td><td title=\"Index: [1, 2]&#10;Color: (200, 103, 0)\" style=\"width: 20px; height: 20px;background-color: rgb(200, 103, 0);\"></td><td title=\"Index: [1, 3]&#10;Color: (200, 200, 200)\" style=\"width: 20px; height: 20px;background-color: rgb(200, 200, 200);\"></td><td title=\"Index: [1, 4]&#10;Color: (200, 200, 200)\" style=\"width: 20px; height: 20px;background-color: rgb(200, 200, 200);\"></td><td title=\"Index: [1, 5]&#10;Color: (200, 200, 200)\" style=\"width: 20px; height: 20px;background-color: rgb(200, 200, 200);\"></td></tr><tr><td title=\"Index: [2, 0]&#10;Color: (200, 200, 200)\" style=\"width: 20px; height: 20px;background-color: rgb(200, 200, 200);\"></td><td title=\"Index: [2, 1]&#10;Color: (200, 200, 200)\" style=\"width: 20px; height: 20px;background-color: rgb(200, 200, 200);\"></td><td title=\"Index: [2, 2]&#10;Color: (200, 0, 0)\" style=\"width: 20px; height: 20px;background-color: rgb(200, 0, 0);\"></td><td title=\"Index: [2, 3]&#10;Color: (200, 200, 200)\" style=\"width: 20px; height: 20px;background-color: rgb(200, 200, 200);\"></td><td title=\"Index: [2, 4]&#10;Color: (77, 200, 0)\" style=\"width: 20px; height: 20px;background-color: rgb(77, 200, 0);\"></td><td title=\"Index: [2, 5]&#10;Color: (240, 222, 29)\" style=\"width: 20px; height: 20px;background-color: rgb(240, 222, 29);\"></td></tr><tr><td title=\"Index: [3, 0]&#10;Color: (25, 32, 33)\" style=\"width: 20px; height: 20px;background-color: rgb(25, 32, 33);\"></td><td title=\"Index: [3, 1]&#10;Color: (200, 200, 200)\" style=\"width: 20px; height: 20px;background-color: rgb(200, 200, 200);\"></td><td title=\"Index: [3, 2]&#10;Color: (200, 200, 200)\" style=\"width: 20px; height: 20px;background-color: rgb(200, 200, 200);\"></td><td title=\"Index: [3, 3]&#10;Color: (200, 200, 200)\" style=\"width: 20px; height: 20px;background-color: rgb(200, 200, 200);\"></td><td title=\"Index: [3, 4]&#10;Color: (200, 200, 200)\" style=\"width: 20px; height: 20px;background-color: rgb(200, 200, 200);\"></td><td title=\"Index: [3, 5]&#10;Color: (200, 200, 200)\" style=\"width: 20px; height: 20px;background-color: rgb(200, 200, 200);\"></td></tr><tr><td title=\"Index: [4, 0]&#10;Color: (200, 200, 200)\" style=\"width: 20px; height: 20px;background-color: rgb(200, 200, 200);\"></td><td title=\"Index: [4, 1]&#10;Color: (200, 200, 200)\" style=\"width: 20px; height: 20px;background-color: rgb(200, 200, 200);\"></td><td title=\"Index: [4, 2]&#10;Color: (66, 135, 245)\" style=\"width: 20px; height: 20px;background-color: rgb(66, 135, 245);\"></td><td title=\"Index: [4, 3]&#10;Color: (200, 200, 200)\" style=\"width: 20px; height: 20px;background-color: rgb(200, 200, 200);\"></td><td title=\"Index: [4, 4]&#10;Color: (200, 0, 0)\" style=\"width: 20px; height: 20px;background-color: rgb(200, 0, 0);\"></td><td title=\"Index: [4, 5]&#10;Color: (200, 200, 200)\" style=\"width: 20px; height: 20px;background-color: rgb(200, 200, 200);\"></td></tr><tr><td title=\"Index: [5, 0]&#10;Color: (200, 200, 200)\" style=\"width: 20px; height: 20px;background-color: rgb(200, 200, 200);\"></td><td title=\"Index: [5, 1]&#10;Color: (200, 200, 200)\" style=\"width: 20px; height: 20px;background-color: rgb(200, 200, 200);\"></td><td title=\"Index: [5, 2]&#10;Color: (200, 200, 200)\" style=\"width: 20px; height: 20px;background-color: rgb(200, 200, 200);\"></td><td title=\"Index: [5, 3]&#10;Color: (200, 200, 200)\" style=\"width: 20px; height: 20px;background-color: rgb(200, 200, 200);\"></td><td title=\"Index: [5, 4]&#10;Color: (200, 200, 200)\" style=\"width: 20px; height: 20px;background-color: rgb(200, 200, 200);\"></td><td title=\"Index: [5, 5]&#10;Color: (200, 200, 200)\" style=\"width: 20px; height: 20px;background-color: rgb(200, 200, 200);\"></td></tr></tbody></table>"
      ],
      "text/plain": [
       "<IPython.core.display.HTML object>"
      ]
     },
     "metadata": {},
     "output_type": "display_data"
    },
    {
     "name": "stdout",
     "output_type": "stream",
     "text": [
      "Current Lives with PlayerA : 7\n",
      "PlayerA decided to move upwards at location: [0, 3]\n"
     ]
    },
    {
     "data": {
      "text/html": [],
      "text/plain": [
       "<IPython.core.display.HTML object>"
      ]
     },
     "metadata": {},
     "output_type": "display_data"
    },
    {
     "data": {
      "text/html": [
       "<style type=\"text/css\">table.blockgrid {border: none;} .blockgrid tr {border: none;} .blockgrid td {padding: 0px;} #blocksc64dfb81-0324-4913-8fa6-78be7012d4ad td {border: 1px solid white;}</style><table id=\"blocksc64dfb81-0324-4913-8fa6-78be7012d4ad\" class=\"blockgrid\"><tbody><tr><td title=\"Index: [0, 0]&#10;Color: (200, 200, 200)\" style=\"width: 20px; height: 20px;background-color: rgb(200, 200, 200);\"></td><td title=\"Index: [0, 1]&#10;Color: (200, 200, 200)\" style=\"width: 20px; height: 20px;background-color: rgb(200, 200, 200);\"></td><td title=\"Index: [0, 2]&#10;Color: (200, 200, 200)\" style=\"width: 20px; height: 20px;background-color: rgb(200, 200, 200);\"></td><td title=\"Index: [0, 3]&#10;Color: (200, 200, 200)\" style=\"width: 20px; height: 20px;background-color: rgb(200, 200, 200);\"></td><td title=\"Index: [0, 4]&#10;Color: (200, 200, 200)\" style=\"width: 20px; height: 20px;background-color: rgb(200, 200, 200);\"></td><td title=\"Index: [0, 5]&#10;Color: (200, 200, 200)\" style=\"width: 20px; height: 20px;background-color: rgb(200, 200, 200);\"></td></tr><tr><td title=\"Index: [1, 0]&#10;Color: (200, 200, 200)\" style=\"width: 20px; height: 20px;background-color: rgb(200, 200, 200);\"></td><td title=\"Index: [1, 1]&#10;Color: (214, 30, 107)\" style=\"width: 20px; height: 20px;background-color: rgb(214, 30, 107);\"></td><td title=\"Index: [1, 2]&#10;Color: (200, 103, 0)\" style=\"width: 20px; height: 20px;background-color: rgb(200, 103, 0);\"></td><td title=\"Index: [1, 3]&#10;Color: (200, 200, 200)\" style=\"width: 20px; height: 20px;background-color: rgb(200, 200, 200);\"></td><td title=\"Index: [1, 4]&#10;Color: (200, 200, 200)\" style=\"width: 20px; height: 20px;background-color: rgb(200, 200, 200);\"></td><td title=\"Index: [1, 5]&#10;Color: (200, 200, 200)\" style=\"width: 20px; height: 20px;background-color: rgb(200, 200, 200);\"></td></tr><tr><td title=\"Index: [2, 0]&#10;Color: (25, 32, 33)\" style=\"width: 20px; height: 20px;background-color: rgb(25, 32, 33);\"></td><td title=\"Index: [2, 1]&#10;Color: (200, 200, 200)\" style=\"width: 20px; height: 20px;background-color: rgb(200, 200, 200);\"></td><td title=\"Index: [2, 2]&#10;Color: (200, 0, 0)\" style=\"width: 20px; height: 20px;background-color: rgb(200, 0, 0);\"></td><td title=\"Index: [2, 3]&#10;Color: (200, 200, 200)\" style=\"width: 20px; height: 20px;background-color: rgb(200, 200, 200);\"></td><td title=\"Index: [2, 4]&#10;Color: (77, 200, 0)\" style=\"width: 20px; height: 20px;background-color: rgb(77, 200, 0);\"></td><td title=\"Index: [2, 5]&#10;Color: (240, 222, 29)\" style=\"width: 20px; height: 20px;background-color: rgb(240, 222, 29);\"></td></tr><tr><td title=\"Index: [3, 0]&#10;Color: (200, 200, 200)\" style=\"width: 20px; height: 20px;background-color: rgb(200, 200, 200);\"></td><td title=\"Index: [3, 1]&#10;Color: (200, 200, 200)\" style=\"width: 20px; height: 20px;background-color: rgb(200, 200, 200);\"></td><td title=\"Index: [3, 2]&#10;Color: (200, 200, 200)\" style=\"width: 20px; height: 20px;background-color: rgb(200, 200, 200);\"></td><td title=\"Index: [3, 3]&#10;Color: (200, 200, 200)\" style=\"width: 20px; height: 20px;background-color: rgb(200, 200, 200);\"></td><td title=\"Index: [3, 4]&#10;Color: (200, 200, 200)\" style=\"width: 20px; height: 20px;background-color: rgb(200, 200, 200);\"></td><td title=\"Index: [3, 5]&#10;Color: (200, 200, 200)\" style=\"width: 20px; height: 20px;background-color: rgb(200, 200, 200);\"></td></tr><tr><td title=\"Index: [4, 0]&#10;Color: (200, 200, 200)\" style=\"width: 20px; height: 20px;background-color: rgb(200, 200, 200);\"></td><td title=\"Index: [4, 1]&#10;Color: (200, 200, 200)\" style=\"width: 20px; height: 20px;background-color: rgb(200, 200, 200);\"></td><td title=\"Index: [4, 2]&#10;Color: (66, 135, 245)\" style=\"width: 20px; height: 20px;background-color: rgb(66, 135, 245);\"></td><td title=\"Index: [4, 3]&#10;Color: (200, 200, 200)\" style=\"width: 20px; height: 20px;background-color: rgb(200, 200, 200);\"></td><td title=\"Index: [4, 4]&#10;Color: (200, 0, 0)\" style=\"width: 20px; height: 20px;background-color: rgb(200, 0, 0);\"></td><td title=\"Index: [4, 5]&#10;Color: (200, 200, 200)\" style=\"width: 20px; height: 20px;background-color: rgb(200, 200, 200);\"></td></tr><tr><td title=\"Index: [5, 0]&#10;Color: (200, 200, 200)\" style=\"width: 20px; height: 20px;background-color: rgb(200, 200, 200);\"></td><td title=\"Index: [5, 1]&#10;Color: (200, 200, 200)\" style=\"width: 20px; height: 20px;background-color: rgb(200, 200, 200);\"></td><td title=\"Index: [5, 2]&#10;Color: (200, 200, 200)\" style=\"width: 20px; height: 20px;background-color: rgb(200, 200, 200);\"></td><td title=\"Index: [5, 3]&#10;Color: (200, 200, 200)\" style=\"width: 20px; height: 20px;background-color: rgb(200, 200, 200);\"></td><td title=\"Index: [5, 4]&#10;Color: (200, 200, 200)\" style=\"width: 20px; height: 20px;background-color: rgb(200, 200, 200);\"></td><td title=\"Index: [5, 5]&#10;Color: (200, 200, 200)\" style=\"width: 20px; height: 20px;background-color: rgb(200, 200, 200);\"></td></tr></tbody></table>"
      ],
      "text/plain": [
       "<IPython.core.display.HTML object>"
      ]
     },
     "metadata": {},
     "output_type": "display_data"
    },
    {
     "name": "stdout",
     "output_type": "stream",
     "text": [
      "Current Lives with PlayerA : 7\n",
      "PlayerA decided to move upwards at location: [0, 2]\n"
     ]
    },
    {
     "data": {
      "text/html": [],
      "text/plain": [
       "<IPython.core.display.HTML object>"
      ]
     },
     "metadata": {},
     "output_type": "display_data"
    },
    {
     "data": {
      "text/html": [
       "<style type=\"text/css\">table.blockgrid {border: none;} .blockgrid tr {border: none;} .blockgrid td {padding: 0px;} #blocks34fbc487-e709-46b4-b9e1-961ccb6eda36 td {border: 1px solid white;}</style><table id=\"blocks34fbc487-e709-46b4-b9e1-961ccb6eda36\" class=\"blockgrid\"><tbody><tr><td title=\"Index: [0, 0]&#10;Color: (200, 200, 200)\" style=\"width: 20px; height: 20px;background-color: rgb(200, 200, 200);\"></td><td title=\"Index: [0, 1]&#10;Color: (200, 200, 200)\" style=\"width: 20px; height: 20px;background-color: rgb(200, 200, 200);\"></td><td title=\"Index: [0, 2]&#10;Color: (200, 200, 200)\" style=\"width: 20px; height: 20px;background-color: rgb(200, 200, 200);\"></td><td title=\"Index: [0, 3]&#10;Color: (200, 200, 200)\" style=\"width: 20px; height: 20px;background-color: rgb(200, 200, 200);\"></td><td title=\"Index: [0, 4]&#10;Color: (200, 200, 200)\" style=\"width: 20px; height: 20px;background-color: rgb(200, 200, 200);\"></td><td title=\"Index: [0, 5]&#10;Color: (200, 200, 200)\" style=\"width: 20px; height: 20px;background-color: rgb(200, 200, 200);\"></td></tr><tr><td title=\"Index: [1, 0]&#10;Color: (25, 32, 33)\" style=\"width: 20px; height: 20px;background-color: rgb(25, 32, 33);\"></td><td title=\"Index: [1, 1]&#10;Color: (214, 30, 107)\" style=\"width: 20px; height: 20px;background-color: rgb(214, 30, 107);\"></td><td title=\"Index: [1, 2]&#10;Color: (200, 103, 0)\" style=\"width: 20px; height: 20px;background-color: rgb(200, 103, 0);\"></td><td title=\"Index: [1, 3]&#10;Color: (200, 200, 200)\" style=\"width: 20px; height: 20px;background-color: rgb(200, 200, 200);\"></td><td title=\"Index: [1, 4]&#10;Color: (200, 200, 200)\" style=\"width: 20px; height: 20px;background-color: rgb(200, 200, 200);\"></td><td title=\"Index: [1, 5]&#10;Color: (200, 200, 200)\" style=\"width: 20px; height: 20px;background-color: rgb(200, 200, 200);\"></td></tr><tr><td title=\"Index: [2, 0]&#10;Color: (200, 200, 200)\" style=\"width: 20px; height: 20px;background-color: rgb(200, 200, 200);\"></td><td title=\"Index: [2, 1]&#10;Color: (200, 200, 200)\" style=\"width: 20px; height: 20px;background-color: rgb(200, 200, 200);\"></td><td title=\"Index: [2, 2]&#10;Color: (200, 0, 0)\" style=\"width: 20px; height: 20px;background-color: rgb(200, 0, 0);\"></td><td title=\"Index: [2, 3]&#10;Color: (200, 200, 200)\" style=\"width: 20px; height: 20px;background-color: rgb(200, 200, 200);\"></td><td title=\"Index: [2, 4]&#10;Color: (77, 200, 0)\" style=\"width: 20px; height: 20px;background-color: rgb(77, 200, 0);\"></td><td title=\"Index: [2, 5]&#10;Color: (240, 222, 29)\" style=\"width: 20px; height: 20px;background-color: rgb(240, 222, 29);\"></td></tr><tr><td title=\"Index: [3, 0]&#10;Color: (200, 200, 200)\" style=\"width: 20px; height: 20px;background-color: rgb(200, 200, 200);\"></td><td title=\"Index: [3, 1]&#10;Color: (200, 200, 200)\" style=\"width: 20px; height: 20px;background-color: rgb(200, 200, 200);\"></td><td title=\"Index: [3, 2]&#10;Color: (200, 200, 200)\" style=\"width: 20px; height: 20px;background-color: rgb(200, 200, 200);\"></td><td title=\"Index: [3, 3]&#10;Color: (200, 200, 200)\" style=\"width: 20px; height: 20px;background-color: rgb(200, 200, 200);\"></td><td title=\"Index: [3, 4]&#10;Color: (200, 200, 200)\" style=\"width: 20px; height: 20px;background-color: rgb(200, 200, 200);\"></td><td title=\"Index: [3, 5]&#10;Color: (200, 200, 200)\" style=\"width: 20px; height: 20px;background-color: rgb(200, 200, 200);\"></td></tr><tr><td title=\"Index: [4, 0]&#10;Color: (200, 200, 200)\" style=\"width: 20px; height: 20px;background-color: rgb(200, 200, 200);\"></td><td title=\"Index: [4, 1]&#10;Color: (200, 200, 200)\" style=\"width: 20px; height: 20px;background-color: rgb(200, 200, 200);\"></td><td title=\"Index: [4, 2]&#10;Color: (66, 135, 245)\" style=\"width: 20px; height: 20px;background-color: rgb(66, 135, 245);\"></td><td title=\"Index: [4, 3]&#10;Color: (200, 200, 200)\" style=\"width: 20px; height: 20px;background-color: rgb(200, 200, 200);\"></td><td title=\"Index: [4, 4]&#10;Color: (200, 0, 0)\" style=\"width: 20px; height: 20px;background-color: rgb(200, 0, 0);\"></td><td title=\"Index: [4, 5]&#10;Color: (200, 200, 200)\" style=\"width: 20px; height: 20px;background-color: rgb(200, 200, 200);\"></td></tr><tr><td title=\"Index: [5, 0]&#10;Color: (200, 200, 200)\" style=\"width: 20px; height: 20px;background-color: rgb(200, 200, 200);\"></td><td title=\"Index: [5, 1]&#10;Color: (200, 200, 200)\" style=\"width: 20px; height: 20px;background-color: rgb(200, 200, 200);\"></td><td title=\"Index: [5, 2]&#10;Color: (200, 200, 200)\" style=\"width: 20px; height: 20px;background-color: rgb(200, 200, 200);\"></td><td title=\"Index: [5, 3]&#10;Color: (200, 200, 200)\" style=\"width: 20px; height: 20px;background-color: rgb(200, 200, 200);\"></td><td title=\"Index: [5, 4]&#10;Color: (200, 200, 200)\" style=\"width: 20px; height: 20px;background-color: rgb(200, 200, 200);\"></td><td title=\"Index: [5, 5]&#10;Color: (200, 200, 200)\" style=\"width: 20px; height: 20px;background-color: rgb(200, 200, 200);\"></td></tr></tbody></table>"
      ],
      "text/plain": [
       "<IPython.core.display.HTML object>"
      ]
     },
     "metadata": {},
     "output_type": "display_data"
    },
    {
     "name": "stdout",
     "output_type": "stream",
     "text": [
      "Current Lives with PlayerA : 7\n",
      "PlayerA decided to turnright at location: [0, 1]\n"
     ]
    },
    {
     "data": {
      "text/html": [],
      "text/plain": [
       "<IPython.core.display.HTML object>"
      ]
     },
     "metadata": {},
     "output_type": "display_data"
    },
    {
     "data": {
      "text/html": [
       "<style type=\"text/css\">table.blockgrid {border: none;} .blockgrid tr {border: none;} .blockgrid td {padding: 0px;} #blockse0ed6c6b-18f5-4ac4-8e72-b60294f19c3f td {border: 1px solid white;}</style><table id=\"blockse0ed6c6b-18f5-4ac4-8e72-b60294f19c3f\" class=\"blockgrid\"><tbody><tr><td title=\"Index: [0, 0]&#10;Color: (200, 200, 200)\" style=\"width: 20px; height: 20px;background-color: rgb(200, 200, 200);\"></td><td title=\"Index: [0, 1]&#10;Color: (200, 200, 200)\" style=\"width: 20px; height: 20px;background-color: rgb(200, 200, 200);\"></td><td title=\"Index: [0, 2]&#10;Color: (200, 200, 200)\" style=\"width: 20px; height: 20px;background-color: rgb(200, 200, 200);\"></td><td title=\"Index: [0, 3]&#10;Color: (200, 200, 200)\" style=\"width: 20px; height: 20px;background-color: rgb(200, 200, 200);\"></td><td title=\"Index: [0, 4]&#10;Color: (200, 200, 200)\" style=\"width: 20px; height: 20px;background-color: rgb(200, 200, 200);\"></td><td title=\"Index: [0, 5]&#10;Color: (200, 200, 200)\" style=\"width: 20px; height: 20px;background-color: rgb(200, 200, 200);\"></td></tr><tr><td title=\"Index: [1, 0]&#10;Color: (25, 32, 33)\" style=\"width: 20px; height: 20px;background-color: rgb(25, 32, 33);\"></td><td title=\"Index: [1, 1]&#10;Color: (214, 30, 107)\" style=\"width: 20px; height: 20px;background-color: rgb(214, 30, 107);\"></td><td title=\"Index: [1, 2]&#10;Color: (200, 103, 0)\" style=\"width: 20px; height: 20px;background-color: rgb(200, 103, 0);\"></td><td title=\"Index: [1, 3]&#10;Color: (200, 200, 200)\" style=\"width: 20px; height: 20px;background-color: rgb(200, 200, 200);\"></td><td title=\"Index: [1, 4]&#10;Color: (200, 200, 200)\" style=\"width: 20px; height: 20px;background-color: rgb(200, 200, 200);\"></td><td title=\"Index: [1, 5]&#10;Color: (200, 200, 200)\" style=\"width: 20px; height: 20px;background-color: rgb(200, 200, 200);\"></td></tr><tr><td title=\"Index: [2, 0]&#10;Color: (200, 200, 200)\" style=\"width: 20px; height: 20px;background-color: rgb(200, 200, 200);\"></td><td title=\"Index: [2, 1]&#10;Color: (200, 200, 200)\" style=\"width: 20px; height: 20px;background-color: rgb(200, 200, 200);\"></td><td title=\"Index: [2, 2]&#10;Color: (200, 0, 0)\" style=\"width: 20px; height: 20px;background-color: rgb(200, 0, 0);\"></td><td title=\"Index: [2, 3]&#10;Color: (200, 200, 200)\" style=\"width: 20px; height: 20px;background-color: rgb(200, 200, 200);\"></td><td title=\"Index: [2, 4]&#10;Color: (77, 200, 0)\" style=\"width: 20px; height: 20px;background-color: rgb(77, 200, 0);\"></td><td title=\"Index: [2, 5]&#10;Color: (240, 222, 29)\" style=\"width: 20px; height: 20px;background-color: rgb(240, 222, 29);\"></td></tr><tr><td title=\"Index: [3, 0]&#10;Color: (200, 200, 200)\" style=\"width: 20px; height: 20px;background-color: rgb(200, 200, 200);\"></td><td title=\"Index: [3, 1]&#10;Color: (200, 200, 200)\" style=\"width: 20px; height: 20px;background-color: rgb(200, 200, 200);\"></td><td title=\"Index: [3, 2]&#10;Color: (200, 200, 200)\" style=\"width: 20px; height: 20px;background-color: rgb(200, 200, 200);\"></td><td title=\"Index: [3, 3]&#10;Color: (200, 200, 200)\" style=\"width: 20px; height: 20px;background-color: rgb(200, 200, 200);\"></td><td title=\"Index: [3, 4]&#10;Color: (200, 200, 200)\" style=\"width: 20px; height: 20px;background-color: rgb(200, 200, 200);\"></td><td title=\"Index: [3, 5]&#10;Color: (200, 200, 200)\" style=\"width: 20px; height: 20px;background-color: rgb(200, 200, 200);\"></td></tr><tr><td title=\"Index: [4, 0]&#10;Color: (200, 200, 200)\" style=\"width: 20px; height: 20px;background-color: rgb(200, 200, 200);\"></td><td title=\"Index: [4, 1]&#10;Color: (200, 200, 200)\" style=\"width: 20px; height: 20px;background-color: rgb(200, 200, 200);\"></td><td title=\"Index: [4, 2]&#10;Color: (66, 135, 245)\" style=\"width: 20px; height: 20px;background-color: rgb(66, 135, 245);\"></td><td title=\"Index: [4, 3]&#10;Color: (200, 200, 200)\" style=\"width: 20px; height: 20px;background-color: rgb(200, 200, 200);\"></td><td title=\"Index: [4, 4]&#10;Color: (200, 0, 0)\" style=\"width: 20px; height: 20px;background-color: rgb(200, 0, 0);\"></td><td title=\"Index: [4, 5]&#10;Color: (200, 200, 200)\" style=\"width: 20px; height: 20px;background-color: rgb(200, 200, 200);\"></td></tr><tr><td title=\"Index: [5, 0]&#10;Color: (200, 200, 200)\" style=\"width: 20px; height: 20px;background-color: rgb(200, 200, 200);\"></td><td title=\"Index: [5, 1]&#10;Color: (200, 200, 200)\" style=\"width: 20px; height: 20px;background-color: rgb(200, 200, 200);\"></td><td title=\"Index: [5, 2]&#10;Color: (200, 200, 200)\" style=\"width: 20px; height: 20px;background-color: rgb(200, 200, 200);\"></td><td title=\"Index: [5, 3]&#10;Color: (200, 200, 200)\" style=\"width: 20px; height: 20px;background-color: rgb(200, 200, 200);\"></td><td title=\"Index: [5, 4]&#10;Color: (200, 200, 200)\" style=\"width: 20px; height: 20px;background-color: rgb(200, 200, 200);\"></td><td title=\"Index: [5, 5]&#10;Color: (200, 200, 200)\" style=\"width: 20px; height: 20px;background-color: rgb(200, 200, 200);\"></td></tr></tbody></table>"
      ],
      "text/plain": [
       "<IPython.core.display.HTML object>"
      ]
     },
     "metadata": {},
     "output_type": "display_data"
    },
    {
     "name": "stdout",
     "output_type": "stream",
     "text": [
      "Current Lives with PlayerA : 7\n",
      "PlayerA decided to move rightwards at location: [0, 1]\n"
     ]
    },
    {
     "data": {
      "text/html": [],
      "text/plain": [
       "<IPython.core.display.HTML object>"
      ]
     },
     "metadata": {},
     "output_type": "display_data"
    },
    {
     "data": {
      "text/html": [
       "<style type=\"text/css\">table.blockgrid {border: none;} .blockgrid tr {border: none;} .blockgrid td {padding: 0px;} #blocks1f41f2ff-8bb5-4128-93ca-21df919c4a2e td {border: 1px solid white;}</style><table id=\"blocks1f41f2ff-8bb5-4128-93ca-21df919c4a2e\" class=\"blockgrid\"><tbody><tr><td title=\"Index: [0, 0]&#10;Color: (200, 200, 200)\" style=\"width: 20px; height: 20px;background-color: rgb(200, 200, 200);\"></td><td title=\"Index: [0, 1]&#10;Color: (200, 200, 200)\" style=\"width: 20px; height: 20px;background-color: rgb(200, 200, 200);\"></td><td title=\"Index: [0, 2]&#10;Color: (200, 200, 200)\" style=\"width: 20px; height: 20px;background-color: rgb(200, 200, 200);\"></td><td title=\"Index: [0, 3]&#10;Color: (200, 200, 200)\" style=\"width: 20px; height: 20px;background-color: rgb(200, 200, 200);\"></td><td title=\"Index: [0, 4]&#10;Color: (200, 200, 200)\" style=\"width: 20px; height: 20px;background-color: rgb(200, 200, 200);\"></td><td title=\"Index: [0, 5]&#10;Color: (200, 200, 200)\" style=\"width: 20px; height: 20px;background-color: rgb(200, 200, 200);\"></td></tr><tr><td title=\"Index: [1, 0]&#10;Color: (200, 200, 200)\" style=\"width: 20px; height: 20px;background-color: rgb(200, 200, 200);\"></td><td title=\"Index: [1, 1]&#10;Color: (214, 30, 107)\" style=\"width: 20px; height: 20px;background-color: rgb(214, 30, 107);\"></td><td title=\"Index: [1, 2]&#10;Color: (200, 103, 0)\" style=\"width: 20px; height: 20px;background-color: rgb(200, 103, 0);\"></td><td title=\"Index: [1, 3]&#10;Color: (200, 200, 200)\" style=\"width: 20px; height: 20px;background-color: rgb(200, 200, 200);\"></td><td title=\"Index: [1, 4]&#10;Color: (200, 200, 200)\" style=\"width: 20px; height: 20px;background-color: rgb(200, 200, 200);\"></td><td title=\"Index: [1, 5]&#10;Color: (200, 200, 200)\" style=\"width: 20px; height: 20px;background-color: rgb(200, 200, 200);\"></td></tr><tr><td title=\"Index: [2, 0]&#10;Color: (200, 200, 200)\" style=\"width: 20px; height: 20px;background-color: rgb(200, 200, 200);\"></td><td title=\"Index: [2, 1]&#10;Color: (200, 200, 200)\" style=\"width: 20px; height: 20px;background-color: rgb(200, 200, 200);\"></td><td title=\"Index: [2, 2]&#10;Color: (200, 0, 0)\" style=\"width: 20px; height: 20px;background-color: rgb(200, 0, 0);\"></td><td title=\"Index: [2, 3]&#10;Color: (200, 200, 200)\" style=\"width: 20px; height: 20px;background-color: rgb(200, 200, 200);\"></td><td title=\"Index: [2, 4]&#10;Color: (77, 200, 0)\" style=\"width: 20px; height: 20px;background-color: rgb(77, 200, 0);\"></td><td title=\"Index: [2, 5]&#10;Color: (240, 222, 29)\" style=\"width: 20px; height: 20px;background-color: rgb(240, 222, 29);\"></td></tr><tr><td title=\"Index: [3, 0]&#10;Color: (200, 200, 200)\" style=\"width: 20px; height: 20px;background-color: rgb(200, 200, 200);\"></td><td title=\"Index: [3, 1]&#10;Color: (200, 200, 200)\" style=\"width: 20px; height: 20px;background-color: rgb(200, 200, 200);\"></td><td title=\"Index: [3, 2]&#10;Color: (200, 200, 200)\" style=\"width: 20px; height: 20px;background-color: rgb(200, 200, 200);\"></td><td title=\"Index: [3, 3]&#10;Color: (200, 200, 200)\" style=\"width: 20px; height: 20px;background-color: rgb(200, 200, 200);\"></td><td title=\"Index: [3, 4]&#10;Color: (200, 200, 200)\" style=\"width: 20px; height: 20px;background-color: rgb(200, 200, 200);\"></td><td title=\"Index: [3, 5]&#10;Color: (200, 200, 200)\" style=\"width: 20px; height: 20px;background-color: rgb(200, 200, 200);\"></td></tr><tr><td title=\"Index: [4, 0]&#10;Color: (200, 200, 200)\" style=\"width: 20px; height: 20px;background-color: rgb(200, 200, 200);\"></td><td title=\"Index: [4, 1]&#10;Color: (200, 200, 200)\" style=\"width: 20px; height: 20px;background-color: rgb(200, 200, 200);\"></td><td title=\"Index: [4, 2]&#10;Color: (66, 135, 245)\" style=\"width: 20px; height: 20px;background-color: rgb(66, 135, 245);\"></td><td title=\"Index: [4, 3]&#10;Color: (200, 200, 200)\" style=\"width: 20px; height: 20px;background-color: rgb(200, 200, 200);\"></td><td title=\"Index: [4, 4]&#10;Color: (200, 0, 0)\" style=\"width: 20px; height: 20px;background-color: rgb(200, 0, 0);\"></td><td title=\"Index: [4, 5]&#10;Color: (200, 200, 200)\" style=\"width: 20px; height: 20px;background-color: rgb(200, 200, 200);\"></td></tr><tr><td title=\"Index: [5, 0]&#10;Color: (200, 200, 200)\" style=\"width: 20px; height: 20px;background-color: rgb(200, 200, 200);\"></td><td title=\"Index: [5, 1]&#10;Color: (200, 200, 200)\" style=\"width: 20px; height: 20px;background-color: rgb(200, 200, 200);\"></td><td title=\"Index: [5, 2]&#10;Color: (200, 200, 200)\" style=\"width: 20px; height: 20px;background-color: rgb(200, 200, 200);\"></td><td title=\"Index: [5, 3]&#10;Color: (200, 200, 200)\" style=\"width: 20px; height: 20px;background-color: rgb(200, 200, 200);\"></td><td title=\"Index: [5, 4]&#10;Color: (200, 200, 200)\" style=\"width: 20px; height: 20px;background-color: rgb(200, 200, 200);\"></td><td title=\"Index: [5, 5]&#10;Color: (200, 200, 200)\" style=\"width: 20px; height: 20px;background-color: rgb(200, 200, 200);\"></td></tr></tbody></table>"
      ],
      "text/plain": [
       "<IPython.core.display.HTML object>"
      ]
     },
     "metadata": {},
     "output_type": "display_data"
    },
    {
     "name": "stdout",
     "output_type": "stream",
     "text": [
      "Current Lives with PlayerA : 7\n",
      "PlayerA died by falling into PitFall at location: [1, 1]\n"
     ]
    },
    {
     "data": {
      "text/html": [],
      "text/plain": [
       "<IPython.core.display.HTML object>"
      ]
     },
     "metadata": {},
     "output_type": "display_data"
    },
    {
     "data": {
      "text/html": [
       "<style type=\"text/css\">table.blockgrid {border: none;} .blockgrid tr {border: none;} .blockgrid td {padding: 0px;} #blocksf7436103-a515-4324-92e2-fa5f526fbbf5 td {border: 1px solid white;}</style><table id=\"blocksf7436103-a515-4324-92e2-fa5f526fbbf5\" class=\"blockgrid\"><tbody><tr><td title=\"Index: [0, 0]&#10;Color: (200, 200, 200)\" style=\"width: 20px; height: 20px;background-color: rgb(200, 200, 200);\"></td><td title=\"Index: [0, 1]&#10;Color: (200, 200, 200)\" style=\"width: 20px; height: 20px;background-color: rgb(200, 200, 200);\"></td><td title=\"Index: [0, 2]&#10;Color: (200, 200, 200)\" style=\"width: 20px; height: 20px;background-color: rgb(200, 200, 200);\"></td><td title=\"Index: [0, 3]&#10;Color: (200, 200, 200)\" style=\"width: 20px; height: 20px;background-color: rgb(200, 200, 200);\"></td><td title=\"Index: [0, 4]&#10;Color: (200, 200, 200)\" style=\"width: 20px; height: 20px;background-color: rgb(200, 200, 200);\"></td><td title=\"Index: [0, 5]&#10;Color: (200, 200, 200)\" style=\"width: 20px; height: 20px;background-color: rgb(200, 200, 200);\"></td></tr><tr><td title=\"Index: [1, 0]&#10;Color: (200, 200, 200)\" style=\"width: 20px; height: 20px;background-color: rgb(200, 200, 200);\"></td><td title=\"Index: [1, 1]&#10;Color: (25, 32, 33)\" style=\"width: 20px; height: 20px;background-color: rgb(25, 32, 33);\"></td><td title=\"Index: [1, 2]&#10;Color: (200, 103, 0)\" style=\"width: 20px; height: 20px;background-color: rgb(200, 103, 0);\"></td><td title=\"Index: [1, 3]&#10;Color: (200, 200, 200)\" style=\"width: 20px; height: 20px;background-color: rgb(200, 200, 200);\"></td><td title=\"Index: [1, 4]&#10;Color: (200, 200, 200)\" style=\"width: 20px; height: 20px;background-color: rgb(200, 200, 200);\"></td><td title=\"Index: [1, 5]&#10;Color: (200, 200, 200)\" style=\"width: 20px; height: 20px;background-color: rgb(200, 200, 200);\"></td></tr><tr><td title=\"Index: [2, 0]&#10;Color: (200, 200, 200)\" style=\"width: 20px; height: 20px;background-color: rgb(200, 200, 200);\"></td><td title=\"Index: [2, 1]&#10;Color: (200, 200, 200)\" style=\"width: 20px; height: 20px;background-color: rgb(200, 200, 200);\"></td><td title=\"Index: [2, 2]&#10;Color: (200, 0, 0)\" style=\"width: 20px; height: 20px;background-color: rgb(200, 0, 0);\"></td><td title=\"Index: [2, 3]&#10;Color: (200, 200, 200)\" style=\"width: 20px; height: 20px;background-color: rgb(200, 200, 200);\"></td><td title=\"Index: [2, 4]&#10;Color: (77, 200, 0)\" style=\"width: 20px; height: 20px;background-color: rgb(77, 200, 0);\"></td><td title=\"Index: [2, 5]&#10;Color: (240, 222, 29)\" style=\"width: 20px; height: 20px;background-color: rgb(240, 222, 29);\"></td></tr><tr><td title=\"Index: [3, 0]&#10;Color: (200, 200, 200)\" style=\"width: 20px; height: 20px;background-color: rgb(200, 200, 200);\"></td><td title=\"Index: [3, 1]&#10;Color: (200, 200, 200)\" style=\"width: 20px; height: 20px;background-color: rgb(200, 200, 200);\"></td><td title=\"Index: [3, 2]&#10;Color: (200, 200, 200)\" style=\"width: 20px; height: 20px;background-color: rgb(200, 200, 200);\"></td><td title=\"Index: [3, 3]&#10;Color: (200, 200, 200)\" style=\"width: 20px; height: 20px;background-color: rgb(200, 200, 200);\"></td><td title=\"Index: [3, 4]&#10;Color: (200, 200, 200)\" style=\"width: 20px; height: 20px;background-color: rgb(200, 200, 200);\"></td><td title=\"Index: [3, 5]&#10;Color: (200, 200, 200)\" style=\"width: 20px; height: 20px;background-color: rgb(200, 200, 200);\"></td></tr><tr><td title=\"Index: [4, 0]&#10;Color: (200, 200, 200)\" style=\"width: 20px; height: 20px;background-color: rgb(200, 200, 200);\"></td><td title=\"Index: [4, 1]&#10;Color: (200, 200, 200)\" style=\"width: 20px; height: 20px;background-color: rgb(200, 200, 200);\"></td><td title=\"Index: [4, 2]&#10;Color: (66, 135, 245)\" style=\"width: 20px; height: 20px;background-color: rgb(66, 135, 245);\"></td><td title=\"Index: [4, 3]&#10;Color: (200, 200, 200)\" style=\"width: 20px; height: 20px;background-color: rgb(200, 200, 200);\"></td><td title=\"Index: [4, 4]&#10;Color: (200, 0, 0)\" style=\"width: 20px; height: 20px;background-color: rgb(200, 0, 0);\"></td><td title=\"Index: [4, 5]&#10;Color: (200, 200, 200)\" style=\"width: 20px; height: 20px;background-color: rgb(200, 200, 200);\"></td></tr><tr><td title=\"Index: [5, 0]&#10;Color: (200, 200, 200)\" style=\"width: 20px; height: 20px;background-color: rgb(200, 200, 200);\"></td><td title=\"Index: [5, 1]&#10;Color: (200, 200, 200)\" style=\"width: 20px; height: 20px;background-color: rgb(200, 200, 200);\"></td><td title=\"Index: [5, 2]&#10;Color: (200, 200, 200)\" style=\"width: 20px; height: 20px;background-color: rgb(200, 200, 200);\"></td><td title=\"Index: [5, 3]&#10;Color: (200, 200, 200)\" style=\"width: 20px; height: 20px;background-color: rgb(200, 200, 200);\"></td><td title=\"Index: [5, 4]&#10;Color: (200, 200, 200)\" style=\"width: 20px; height: 20px;background-color: rgb(200, 200, 200);\"></td><td title=\"Index: [5, 5]&#10;Color: (200, 200, 200)\" style=\"width: 20px; height: 20px;background-color: rgb(200, 200, 200);\"></td></tr></tbody></table>"
      ],
      "text/plain": [
       "<IPython.core.display.HTML object>"
      ]
     },
     "metadata": {},
     "output_type": "display_data"
    },
    {
     "data": {
      "text/html": [],
      "text/plain": [
       "<IPython.core.display.HTML object>"
      ]
     },
     "metadata": {},
     "output_type": "display_data"
    },
    {
     "data": {
      "text/html": [
       "<style type=\"text/css\">table.blockgrid {border: none;} .blockgrid tr {border: none;} .blockgrid td {padding: 0px;} #blocks6b7eecaa-c524-49a0-a9b9-b7dd986b25d7 td {border: 1px solid white;}</style><table id=\"blocks6b7eecaa-c524-49a0-a9b9-b7dd986b25d7\" class=\"blockgrid\"><tbody><tr><td title=\"Index: [0, 0]&#10;Color: (200, 200, 200)\" style=\"width: 20px; height: 20px;background-color: rgb(200, 200, 200);\"></td><td title=\"Index: [0, 1]&#10;Color: (200, 200, 200)\" style=\"width: 20px; height: 20px;background-color: rgb(200, 200, 200);\"></td><td title=\"Index: [0, 2]&#10;Color: (200, 200, 200)\" style=\"width: 20px; height: 20px;background-color: rgb(200, 200, 200);\"></td><td title=\"Index: [0, 3]&#10;Color: (200, 200, 200)\" style=\"width: 20px; height: 20px;background-color: rgb(200, 200, 200);\"></td><td title=\"Index: [0, 4]&#10;Color: (200, 200, 200)\" style=\"width: 20px; height: 20px;background-color: rgb(200, 200, 200);\"></td><td title=\"Index: [0, 5]&#10;Color: (200, 200, 200)\" style=\"width: 20px; height: 20px;background-color: rgb(200, 200, 200);\"></td></tr><tr><td title=\"Index: [1, 0]&#10;Color: (200, 200, 200)\" style=\"width: 20px; height: 20px;background-color: rgb(200, 200, 200);\"></td><td title=\"Index: [1, 1]&#10;Color: (25, 32, 33)\" style=\"width: 20px; height: 20px;background-color: rgb(25, 32, 33);\"></td><td title=\"Index: [1, 2]&#10;Color: (200, 103, 0)\" style=\"width: 20px; height: 20px;background-color: rgb(200, 103, 0);\"></td><td title=\"Index: [1, 3]&#10;Color: (200, 200, 200)\" style=\"width: 20px; height: 20px;background-color: rgb(200, 200, 200);\"></td><td title=\"Index: [1, 4]&#10;Color: (200, 200, 200)\" style=\"width: 20px; height: 20px;background-color: rgb(200, 200, 200);\"></td><td title=\"Index: [1, 5]&#10;Color: (200, 200, 200)\" style=\"width: 20px; height: 20px;background-color: rgb(200, 200, 200);\"></td></tr><tr><td title=\"Index: [2, 0]&#10;Color: (200, 200, 200)\" style=\"width: 20px; height: 20px;background-color: rgb(200, 200, 200);\"></td><td title=\"Index: [2, 1]&#10;Color: (200, 200, 200)\" style=\"width: 20px; height: 20px;background-color: rgb(200, 200, 200);\"></td><td title=\"Index: [2, 2]&#10;Color: (200, 0, 0)\" style=\"width: 20px; height: 20px;background-color: rgb(200, 0, 0);\"></td><td title=\"Index: [2, 3]&#10;Color: (200, 200, 200)\" style=\"width: 20px; height: 20px;background-color: rgb(200, 200, 200);\"></td><td title=\"Index: [2, 4]&#10;Color: (77, 200, 0)\" style=\"width: 20px; height: 20px;background-color: rgb(77, 200, 0);\"></td><td title=\"Index: [2, 5]&#10;Color: (240, 222, 29)\" style=\"width: 20px; height: 20px;background-color: rgb(240, 222, 29);\"></td></tr><tr><td title=\"Index: [3, 0]&#10;Color: (200, 200, 200)\" style=\"width: 20px; height: 20px;background-color: rgb(200, 200, 200);\"></td><td title=\"Index: [3, 1]&#10;Color: (200, 200, 200)\" style=\"width: 20px; height: 20px;background-color: rgb(200, 200, 200);\"></td><td title=\"Index: [3, 2]&#10;Color: (200, 200, 200)\" style=\"width: 20px; height: 20px;background-color: rgb(200, 200, 200);\"></td><td title=\"Index: [3, 3]&#10;Color: (200, 200, 200)\" style=\"width: 20px; height: 20px;background-color: rgb(200, 200, 200);\"></td><td title=\"Index: [3, 4]&#10;Color: (200, 200, 200)\" style=\"width: 20px; height: 20px;background-color: rgb(200, 200, 200);\"></td><td title=\"Index: [3, 5]&#10;Color: (200, 200, 200)\" style=\"width: 20px; height: 20px;background-color: rgb(200, 200, 200);\"></td></tr><tr><td title=\"Index: [4, 0]&#10;Color: (200, 200, 200)\" style=\"width: 20px; height: 20px;background-color: rgb(200, 200, 200);\"></td><td title=\"Index: [4, 1]&#10;Color: (200, 200, 200)\" style=\"width: 20px; height: 20px;background-color: rgb(200, 200, 200);\"></td><td title=\"Index: [4, 2]&#10;Color: (66, 135, 245)\" style=\"width: 20px; height: 20px;background-color: rgb(66, 135, 245);\"></td><td title=\"Index: [4, 3]&#10;Color: (200, 200, 200)\" style=\"width: 20px; height: 20px;background-color: rgb(200, 200, 200);\"></td><td title=\"Index: [4, 4]&#10;Color: (200, 0, 0)\" style=\"width: 20px; height: 20px;background-color: rgb(200, 0, 0);\"></td><td title=\"Index: [4, 5]&#10;Color: (200, 200, 200)\" style=\"width: 20px; height: 20px;background-color: rgb(200, 200, 200);\"></td></tr><tr><td title=\"Index: [5, 0]&#10;Color: (200, 200, 200)\" style=\"width: 20px; height: 20px;background-color: rgb(200, 200, 200);\"></td><td title=\"Index: [5, 1]&#10;Color: (200, 200, 200)\" style=\"width: 20px; height: 20px;background-color: rgb(200, 200, 200);\"></td><td title=\"Index: [5, 2]&#10;Color: (200, 200, 200)\" style=\"width: 20px; height: 20px;background-color: rgb(200, 200, 200);\"></td><td title=\"Index: [5, 3]&#10;Color: (200, 200, 200)\" style=\"width: 20px; height: 20px;background-color: rgb(200, 200, 200);\"></td><td title=\"Index: [5, 4]&#10;Color: (200, 200, 200)\" style=\"width: 20px; height: 20px;background-color: rgb(200, 200, 200);\"></td><td title=\"Index: [5, 5]&#10;Color: (200, 200, 200)\" style=\"width: 20px; height: 20px;background-color: rgb(200, 200, 200);\"></td></tr></tbody></table>"
      ],
      "text/plain": [
       "<IPython.core.display.HTML object>"
      ]
     },
     "metadata": {},
     "output_type": "display_data"
    },
    {
     "name": "stdout",
     "output_type": "stream",
     "text": [
      "The PlayerA  did not grab anything in the Game\n"
     ]
    }
   ],
   "source": [
    "agent_run('PlayerA',100,PlayerA(program,goalsearch=False))"
   ]
  },
  {
   "cell_type": "markdown",
   "metadata": {},
   "source": [
    "## Agent 2 Model Based Reflex Agent"
   ]
  },
  {
   "cell_type": "markdown",
   "metadata": {},
   "source": [
    "This agent will know what is the immediate environment and will take the action accordingly\n",
    "\n",
    "1. If the agent see's that there is a energy down in any adjacent cell, it will avoid going there\n",
    "2. If agent's Current Live is 10(Maximum), then agent will avoid going to Power Up as it cannot hold more power\n",
    "3. If a agent has Life Jacket in any adjacent cell, it will grab it.\n",
    "4. If the agent see a pitfall, it will Jump over it."
   ]
  },
  {
   "cell_type": "markdown",
   "metadata": {},
   "source": [
    "#### Creating the Agent (Player B)\n",
    "\n",
    "Agent :Player B is a Model Based Reflex Agent\n",
    "1. It percepts upon the items present in the environment <b>Done</b>\n",
    "\n",
    "2. It percept the Wall and takes appropriate change in direction <b>Done</b>\n",
    "\n",
    "3. It percepts the Winning Row and take the appropriate direction of moving towards goal <b>Done</b>\n",
    "\n",
    "4. It percepts the available Power Ups and increase it Life Count <b>Done</b>\n",
    "    <br>a. If agent's Current Live is 10(Maximum), then agent will avoid going to Power Up as it cannot hold more power - <b>Done</b>\n",
    "    \n",
    "5. It percepts the encounter of the Power Down and decreases its Life Count <b>Done</b>\n",
    "\n",
    "6. It percepts the encounter of the Energy Up and increases its Life Count <b>Done</b>\n",
    "    <br>a. If agent's Current Live is 10(Maximum), then agent will avoid going to Energy Up as it cannot hold more power <b>Done</b>\n",
    "    <br>b. If after taking the Energy Up if the energy goes > 10 , it should keep it maximum to 10 <b>Done</b>\n",
    "    \n",
    "7. It percepts the encounter of the Energy Down and decreases its Life Count\n",
    "    <br>a. If the agent live is < max lives, then its see's that there is a energy down in any near(non adjacent) cell, it will avoid going there -<b>Done</b>\n",
    "\n",
    "8. It percepts the Pitfall and dies <b>Done</b>\n",
    "    <br>a. If the agent see a pitfall, it will Jump over it if the lives are between 5 and 10. This operation has a cost,which reduces the agent lives to 4"
   ]
  },
  {
   "cell_type": "code",
   "execution_count": 10,
   "metadata": {},
   "outputs": [],
   "source": [
    "class PlayerB(Agent):\n",
    "    \n",
    "    \"\"\"This agent takes action based on the percept and the near environment. <MODEL BASED REFLEX AGENT>\"\"\"\n",
    "    \n",
    "    location = [0,3]\n",
    "    direction = Direction(\"up\")\n",
    "    steps = 0\n",
    "    max_lives = 10\n",
    "    lives = max_lives   # lives with player on game start\n",
    "    display_performance = True\n",
    "\n",
    "    def can_grab(self, thing):\n",
    "        \"\"\"Explorer can only grab Life Jacket\"\"\"\n",
    "        return thing.__class__ == LifeJacket    \n",
    "\n",
    "    def moveforward(self, success=True):\n",
    "        '''moveforward possible only if success (i.e. valid destination location)'''\n",
    "        self.display_performance = True\n",
    "        if not success:\n",
    "            return\n",
    "        if self.direction.direction == Direction.R:\n",
    "            self.location[0] += 1\n",
    "            self.steps +=1 \n",
    "        elif self.direction.direction == Direction.L:\n",
    "            self.location[0] -= 1\n",
    "            self.steps +=1 \n",
    "        elif self.direction.direction == Direction.D:\n",
    "            self.location[1] += 1\n",
    "            self.steps +=1 \n",
    "        elif self.direction.direction == Direction.U:\n",
    "            self.location[1] -= 1\n",
    "            self.steps +=1 \n",
    "\n",
    "    def turn(self, d):\n",
    "        self.display_performance = True\n",
    "        self.direction = self.direction + d\n",
    "\n",
    "        \n",
    "    def powerup(self, thing):\n",
    "        '''returns True upon success or False otherwise'''\n",
    "        self.display_performance = True\n",
    "        if isinstance(thing, PowerUp):\n",
    "            #self.lives +=1\n",
    "            return True\n",
    "        return False\n",
    "    \n",
    "    def powerdown(self, thing):\n",
    "        ''' returns True upon success or False otherwise'''\n",
    "        self.display_performance = True\n",
    "        if isinstance(thing, PowerDown):\n",
    "            self.lives -=1\n",
    "            return True\n",
    "        return False\n",
    "    \n",
    "    def energyup(self, thing):\n",
    "        ''' returns True upon success or False otherwise'''\n",
    "        self.display_performance = True\n",
    "        if isinstance(thing, EnergyUp):\n",
    "            #self.lives += 4\n",
    "            return True\n",
    "        return False\n",
    "\n",
    "    def energydown(self, thing):\n",
    "        ''' returns True upon success or False otherwise'''\n",
    "        self.display_performance = True\n",
    "        if isinstance(thing, EnergyDown):\n",
    "            self.lives -= 4\n",
    "            return True\n",
    "        return False\n",
    "    \n",
    "    def pitfall(self,thing):\n",
    "        if isinstance(thing,PitFall):\n",
    "            return True\n",
    "        return False\n",
    "        \n",
    "    def barrier(self,thing):\n",
    "        if isinstance(thing,Barrier):\n",
    "            return True\n",
    "        return False\n",
    "        \n",
    "           "
   ]
  },
  {
   "cell_type": "code",
   "execution_count": 16,
   "metadata": {
    "collapsed": true
   },
   "outputs": [
    {
     "name": "stdout",
     "output_type": "stream",
     "text": [
      "PlayerB  started at [1, 5], facing up. See if he Wins\n"
     ]
    },
    {
     "data": {
      "text/html": [
       "<style type=\"text/css\">table.blockgrid {border: none;} .blockgrid tr {border: none;} .blockgrid td {padding: 0px;} #blocks966105c0-281e-454d-985f-83dfdeae2f73 td {border: 1px solid white;}</style><table id=\"blocks966105c0-281e-454d-985f-83dfdeae2f73\" class=\"blockgrid\"><tbody><tr><td title=\"Index: [0, 0]&#10;Color: (200, 200, 200)\" style=\"width: 20px; height: 20px;background-color: rgb(200, 200, 200);\"></td><td title=\"Index: [0, 1]&#10;Color: (200, 200, 200)\" style=\"width: 20px; height: 20px;background-color: rgb(200, 200, 200);\"></td><td title=\"Index: [0, 2]&#10;Color: (200, 200, 200)\" style=\"width: 20px; height: 20px;background-color: rgb(200, 200, 200);\"></td><td title=\"Index: [0, 3]&#10;Color: (200, 200, 200)\" style=\"width: 20px; height: 20px;background-color: rgb(200, 200, 200);\"></td><td title=\"Index: [0, 4]&#10;Color: (200, 200, 200)\" style=\"width: 20px; height: 20px;background-color: rgb(200, 200, 200);\"></td><td title=\"Index: [0, 5]&#10;Color: (200, 200, 200)\" style=\"width: 20px; height: 20px;background-color: rgb(200, 200, 200);\"></td></tr><tr><td title=\"Index: [1, 0]&#10;Color: (200, 200, 200)\" style=\"width: 20px; height: 20px;background-color: rgb(200, 200, 200);\"></td><td title=\"Index: [1, 1]&#10;Color: (214, 30, 107)\" style=\"width: 20px; height: 20px;background-color: rgb(214, 30, 107);\"></td><td title=\"Index: [1, 2]&#10;Color: (200, 103, 0)\" style=\"width: 20px; height: 20px;background-color: rgb(200, 103, 0);\"></td><td title=\"Index: [1, 3]&#10;Color: (200, 200, 200)\" style=\"width: 20px; height: 20px;background-color: rgb(200, 200, 200);\"></td><td title=\"Index: [1, 4]&#10;Color: (200, 200, 200)\" style=\"width: 20px; height: 20px;background-color: rgb(200, 200, 200);\"></td><td title=\"Index: [1, 5]&#10;Color: (200, 200, 200)\" style=\"width: 20px; height: 20px;background-color: rgb(200, 200, 200);\"></td></tr><tr><td title=\"Index: [2, 0]&#10;Color: (200, 200, 200)\" style=\"width: 20px; height: 20px;background-color: rgb(200, 200, 200);\"></td><td title=\"Index: [2, 1]&#10;Color: (200, 200, 200)\" style=\"width: 20px; height: 20px;background-color: rgb(200, 200, 200);\"></td><td title=\"Index: [2, 2]&#10;Color: (200, 0, 0)\" style=\"width: 20px; height: 20px;background-color: rgb(200, 0, 0);\"></td><td title=\"Index: [2, 3]&#10;Color: (200, 200, 200)\" style=\"width: 20px; height: 20px;background-color: rgb(200, 200, 200);\"></td><td title=\"Index: [2, 4]&#10;Color: (77, 200, 0)\" style=\"width: 20px; height: 20px;background-color: rgb(77, 200, 0);\"></td><td title=\"Index: [2, 5]&#10;Color: (240, 222, 29)\" style=\"width: 20px; height: 20px;background-color: rgb(240, 222, 29);\"></td></tr><tr><td title=\"Index: [3, 0]&#10;Color: (200, 0, 0)\" style=\"width: 20px; height: 20px;background-color: rgb(200, 0, 0);\"></td><td title=\"Index: [3, 1]&#10;Color: (200, 200, 200)\" style=\"width: 20px; height: 20px;background-color: rgb(200, 200, 200);\"></td><td title=\"Index: [3, 2]&#10;Color: (200, 200, 200)\" style=\"width: 20px; height: 20px;background-color: rgb(200, 200, 200);\"></td><td title=\"Index: [3, 3]&#10;Color: (200, 200, 200)\" style=\"width: 20px; height: 20px;background-color: rgb(200, 200, 200);\"></td><td title=\"Index: [3, 4]&#10;Color: (200, 200, 200)\" style=\"width: 20px; height: 20px;background-color: rgb(200, 200, 200);\"></td><td title=\"Index: [3, 5]&#10;Color: (200, 200, 200)\" style=\"width: 20px; height: 20px;background-color: rgb(200, 200, 200);\"></td></tr><tr><td title=\"Index: [4, 0]&#10;Color: (200, 200, 200)\" style=\"width: 20px; height: 20px;background-color: rgb(200, 200, 200);\"></td><td title=\"Index: [4, 1]&#10;Color: (200, 200, 200)\" style=\"width: 20px; height: 20px;background-color: rgb(200, 200, 200);\"></td><td title=\"Index: [4, 2]&#10;Color: (66, 135, 245)\" style=\"width: 20px; height: 20px;background-color: rgb(66, 135, 245);\"></td><td title=\"Index: [4, 3]&#10;Color: (200, 200, 200)\" style=\"width: 20px; height: 20px;background-color: rgb(200, 200, 200);\"></td><td title=\"Index: [4, 4]&#10;Color: (200, 0, 0)\" style=\"width: 20px; height: 20px;background-color: rgb(200, 0, 0);\"></td><td title=\"Index: [4, 5]&#10;Color: (200, 200, 200)\" style=\"width: 20px; height: 20px;background-color: rgb(200, 200, 200);\"></td></tr><tr><td title=\"Index: [5, 0]&#10;Color: (157, 200, 0)\" style=\"width: 20px; height: 20px;background-color: rgb(157, 200, 0);\"></td><td title=\"Index: [5, 1]&#10;Color: (25, 32, 33)\" style=\"width: 20px; height: 20px;background-color: rgb(25, 32, 33);\"></td><td title=\"Index: [5, 2]&#10;Color: (200, 200, 200)\" style=\"width: 20px; height: 20px;background-color: rgb(200, 200, 200);\"></td><td title=\"Index: [5, 3]&#10;Color: (200, 200, 200)\" style=\"width: 20px; height: 20px;background-color: rgb(200, 200, 200);\"></td><td title=\"Index: [5, 4]&#10;Color: (200, 200, 200)\" style=\"width: 20px; height: 20px;background-color: rgb(200, 200, 200);\"></td><td title=\"Index: [5, 5]&#10;Color: (200, 200, 200)\" style=\"width: 20px; height: 20px;background-color: rgb(200, 200, 200);\"></td></tr></tbody></table>"
      ],
      "text/plain": [
       "<IPython.core.display.HTML object>"
      ]
     },
     "metadata": {},
     "output_type": "display_data"
    },
    {
     "name": "stdout",
     "output_type": "stream",
     "text": [
      "Current Lives with PlayerB : 10\n",
      "PlayerB decided to move leftwards at location: [1, 5]\n"
     ]
    },
    {
     "data": {
      "text/html": [],
      "text/plain": [
       "<IPython.core.display.HTML object>"
      ]
     },
     "metadata": {},
     "output_type": "display_data"
    },
    {
     "data": {
      "text/html": [
       "<style type=\"text/css\">table.blockgrid {border: none;} .blockgrid tr {border: none;} .blockgrid td {padding: 0px;} #blocks3af8d7eb-1dfe-455a-a8cb-11795a001572 td {border: 1px solid white;}</style><table id=\"blocks3af8d7eb-1dfe-455a-a8cb-11795a001572\" class=\"blockgrid\"><tbody><tr><td title=\"Index: [0, 0]&#10;Color: (200, 200, 200)\" style=\"width: 20px; height: 20px;background-color: rgb(200, 200, 200);\"></td><td title=\"Index: [0, 1]&#10;Color: (200, 200, 200)\" style=\"width: 20px; height: 20px;background-color: rgb(200, 200, 200);\"></td><td title=\"Index: [0, 2]&#10;Color: (200, 200, 200)\" style=\"width: 20px; height: 20px;background-color: rgb(200, 200, 200);\"></td><td title=\"Index: [0, 3]&#10;Color: (200, 200, 200)\" style=\"width: 20px; height: 20px;background-color: rgb(200, 200, 200);\"></td><td title=\"Index: [0, 4]&#10;Color: (200, 200, 200)\" style=\"width: 20px; height: 20px;background-color: rgb(200, 200, 200);\"></td><td title=\"Index: [0, 5]&#10;Color: (200, 200, 200)\" style=\"width: 20px; height: 20px;background-color: rgb(200, 200, 200);\"></td></tr><tr><td title=\"Index: [1, 0]&#10;Color: (200, 200, 200)\" style=\"width: 20px; height: 20px;background-color: rgb(200, 200, 200);\"></td><td title=\"Index: [1, 1]&#10;Color: (214, 30, 107)\" style=\"width: 20px; height: 20px;background-color: rgb(214, 30, 107);\"></td><td title=\"Index: [1, 2]&#10;Color: (200, 103, 0)\" style=\"width: 20px; height: 20px;background-color: rgb(200, 103, 0);\"></td><td title=\"Index: [1, 3]&#10;Color: (200, 200, 200)\" style=\"width: 20px; height: 20px;background-color: rgb(200, 200, 200);\"></td><td title=\"Index: [1, 4]&#10;Color: (200, 200, 200)\" style=\"width: 20px; height: 20px;background-color: rgb(200, 200, 200);\"></td><td title=\"Index: [1, 5]&#10;Color: (200, 200, 200)\" style=\"width: 20px; height: 20px;background-color: rgb(200, 200, 200);\"></td></tr><tr><td title=\"Index: [2, 0]&#10;Color: (200, 200, 200)\" style=\"width: 20px; height: 20px;background-color: rgb(200, 200, 200);\"></td><td title=\"Index: [2, 1]&#10;Color: (200, 200, 200)\" style=\"width: 20px; height: 20px;background-color: rgb(200, 200, 200);\"></td><td title=\"Index: [2, 2]&#10;Color: (200, 0, 0)\" style=\"width: 20px; height: 20px;background-color: rgb(200, 0, 0);\"></td><td title=\"Index: [2, 3]&#10;Color: (200, 200, 200)\" style=\"width: 20px; height: 20px;background-color: rgb(200, 200, 200);\"></td><td title=\"Index: [2, 4]&#10;Color: (77, 200, 0)\" style=\"width: 20px; height: 20px;background-color: rgb(77, 200, 0);\"></td><td title=\"Index: [2, 5]&#10;Color: (240, 222, 29)\" style=\"width: 20px; height: 20px;background-color: rgb(240, 222, 29);\"></td></tr><tr><td title=\"Index: [3, 0]&#10;Color: (200, 0, 0)\" style=\"width: 20px; height: 20px;background-color: rgb(200, 0, 0);\"></td><td title=\"Index: [3, 1]&#10;Color: (200, 200, 200)\" style=\"width: 20px; height: 20px;background-color: rgb(200, 200, 200);\"></td><td title=\"Index: [3, 2]&#10;Color: (200, 200, 200)\" style=\"width: 20px; height: 20px;background-color: rgb(200, 200, 200);\"></td><td title=\"Index: [3, 3]&#10;Color: (200, 200, 200)\" style=\"width: 20px; height: 20px;background-color: rgb(200, 200, 200);\"></td><td title=\"Index: [3, 4]&#10;Color: (200, 200, 200)\" style=\"width: 20px; height: 20px;background-color: rgb(200, 200, 200);\"></td><td title=\"Index: [3, 5]&#10;Color: (200, 200, 200)\" style=\"width: 20px; height: 20px;background-color: rgb(200, 200, 200);\"></td></tr><tr><td title=\"Index: [4, 0]&#10;Color: (200, 200, 200)\" style=\"width: 20px; height: 20px;background-color: rgb(200, 200, 200);\"></td><td title=\"Index: [4, 1]&#10;Color: (200, 200, 200)\" style=\"width: 20px; height: 20px;background-color: rgb(200, 200, 200);\"></td><td title=\"Index: [4, 2]&#10;Color: (66, 135, 245)\" style=\"width: 20px; height: 20px;background-color: rgb(66, 135, 245);\"></td><td title=\"Index: [4, 3]&#10;Color: (200, 200, 200)\" style=\"width: 20px; height: 20px;background-color: rgb(200, 200, 200);\"></td><td title=\"Index: [4, 4]&#10;Color: (200, 0, 0)\" style=\"width: 20px; height: 20px;background-color: rgb(200, 0, 0);\"></td><td title=\"Index: [4, 5]&#10;Color: (200, 200, 200)\" style=\"width: 20px; height: 20px;background-color: rgb(200, 200, 200);\"></td></tr><tr><td title=\"Index: [5, 0]&#10;Color: (157, 200, 0)\" style=\"width: 20px; height: 20px;background-color: rgb(157, 200, 0);\"></td><td title=\"Index: [5, 1]&#10;Color: (200, 200, 200)\" style=\"width: 20px; height: 20px;background-color: rgb(200, 200, 200);\"></td><td title=\"Index: [5, 2]&#10;Color: (200, 200, 200)\" style=\"width: 20px; height: 20px;background-color: rgb(200, 200, 200);\"></td><td title=\"Index: [5, 3]&#10;Color: (200, 200, 200)\" style=\"width: 20px; height: 20px;background-color: rgb(200, 200, 200);\"></td><td title=\"Index: [5, 4]&#10;Color: (200, 200, 200)\" style=\"width: 20px; height: 20px;background-color: rgb(200, 200, 200);\"></td><td title=\"Index: [5, 5]&#10;Color: (200, 200, 200)\" style=\"width: 20px; height: 20px;background-color: rgb(200, 200, 200);\"></td></tr></tbody></table>"
      ],
      "text/plain": [
       "<IPython.core.display.HTML object>"
      ]
     },
     "metadata": {},
     "output_type": "display_data"
    },
    {
     "name": "stdout",
     "output_type": "stream",
     "text": [
      "Current Lives with PlayerB : 10\n",
      "PlayerB ignores a power up at location: [0, 5] as its Power is Full\n",
      "PlayerB decided to move upwards at location: [0, 5]\n"
     ]
    },
    {
     "data": {
      "text/html": [],
      "text/plain": [
       "<IPython.core.display.HTML object>"
      ]
     },
     "metadata": {},
     "output_type": "display_data"
    },
    {
     "data": {
      "text/html": [
       "<style type=\"text/css\">table.blockgrid {border: none;} .blockgrid tr {border: none;} .blockgrid td {padding: 0px;} #blocksf1397eb8-4b5b-42af-b5ea-f23b0ccd88e9 td {border: 1px solid white;}</style><table id=\"blocksf1397eb8-4b5b-42af-b5ea-f23b0ccd88e9\" class=\"blockgrid\"><tbody><tr><td title=\"Index: [0, 0]&#10;Color: (200, 200, 200)\" style=\"width: 20px; height: 20px;background-color: rgb(200, 200, 200);\"></td><td title=\"Index: [0, 1]&#10;Color: (200, 200, 200)\" style=\"width: 20px; height: 20px;background-color: rgb(200, 200, 200);\"></td><td title=\"Index: [0, 2]&#10;Color: (200, 200, 200)\" style=\"width: 20px; height: 20px;background-color: rgb(200, 200, 200);\"></td><td title=\"Index: [0, 3]&#10;Color: (200, 200, 200)\" style=\"width: 20px; height: 20px;background-color: rgb(200, 200, 200);\"></td><td title=\"Index: [0, 4]&#10;Color: (200, 200, 200)\" style=\"width: 20px; height: 20px;background-color: rgb(200, 200, 200);\"></td><td title=\"Index: [0, 5]&#10;Color: (200, 200, 200)\" style=\"width: 20px; height: 20px;background-color: rgb(200, 200, 200);\"></td></tr><tr><td title=\"Index: [1, 0]&#10;Color: (200, 200, 200)\" style=\"width: 20px; height: 20px;background-color: rgb(200, 200, 200);\"></td><td title=\"Index: [1, 1]&#10;Color: (214, 30, 107)\" style=\"width: 20px; height: 20px;background-color: rgb(214, 30, 107);\"></td><td title=\"Index: [1, 2]&#10;Color: (200, 103, 0)\" style=\"width: 20px; height: 20px;background-color: rgb(200, 103, 0);\"></td><td title=\"Index: [1, 3]&#10;Color: (200, 200, 200)\" style=\"width: 20px; height: 20px;background-color: rgb(200, 200, 200);\"></td><td title=\"Index: [1, 4]&#10;Color: (200, 200, 200)\" style=\"width: 20px; height: 20px;background-color: rgb(200, 200, 200);\"></td><td title=\"Index: [1, 5]&#10;Color: (200, 200, 200)\" style=\"width: 20px; height: 20px;background-color: rgb(200, 200, 200);\"></td></tr><tr><td title=\"Index: [2, 0]&#10;Color: (200, 200, 200)\" style=\"width: 20px; height: 20px;background-color: rgb(200, 200, 200);\"></td><td title=\"Index: [2, 1]&#10;Color: (200, 200, 200)\" style=\"width: 20px; height: 20px;background-color: rgb(200, 200, 200);\"></td><td title=\"Index: [2, 2]&#10;Color: (200, 0, 0)\" style=\"width: 20px; height: 20px;background-color: rgb(200, 0, 0);\"></td><td title=\"Index: [2, 3]&#10;Color: (200, 200, 200)\" style=\"width: 20px; height: 20px;background-color: rgb(200, 200, 200);\"></td><td title=\"Index: [2, 4]&#10;Color: (77, 200, 0)\" style=\"width: 20px; height: 20px;background-color: rgb(77, 200, 0);\"></td><td title=\"Index: [2, 5]&#10;Color: (240, 222, 29)\" style=\"width: 20px; height: 20px;background-color: rgb(240, 222, 29);\"></td></tr><tr><td title=\"Index: [3, 0]&#10;Color: (200, 0, 0)\" style=\"width: 20px; height: 20px;background-color: rgb(200, 0, 0);\"></td><td title=\"Index: [3, 1]&#10;Color: (200, 200, 200)\" style=\"width: 20px; height: 20px;background-color: rgb(200, 200, 200);\"></td><td title=\"Index: [3, 2]&#10;Color: (200, 200, 200)\" style=\"width: 20px; height: 20px;background-color: rgb(200, 200, 200);\"></td><td title=\"Index: [3, 3]&#10;Color: (200, 200, 200)\" style=\"width: 20px; height: 20px;background-color: rgb(200, 200, 200);\"></td><td title=\"Index: [3, 4]&#10;Color: (200, 200, 200)\" style=\"width: 20px; height: 20px;background-color: rgb(200, 200, 200);\"></td><td title=\"Index: [3, 5]&#10;Color: (200, 200, 200)\" style=\"width: 20px; height: 20px;background-color: rgb(200, 200, 200);\"></td></tr><tr><td title=\"Index: [4, 0]&#10;Color: (25, 32, 33)\" style=\"width: 20px; height: 20px;background-color: rgb(25, 32, 33);\"></td><td title=\"Index: [4, 1]&#10;Color: (200, 200, 200)\" style=\"width: 20px; height: 20px;background-color: rgb(200, 200, 200);\"></td><td title=\"Index: [4, 2]&#10;Color: (66, 135, 245)\" style=\"width: 20px; height: 20px;background-color: rgb(66, 135, 245);\"></td><td title=\"Index: [4, 3]&#10;Color: (200, 200, 200)\" style=\"width: 20px; height: 20px;background-color: rgb(200, 200, 200);\"></td><td title=\"Index: [4, 4]&#10;Color: (200, 0, 0)\" style=\"width: 20px; height: 20px;background-color: rgb(200, 0, 0);\"></td><td title=\"Index: [4, 5]&#10;Color: (200, 200, 200)\" style=\"width: 20px; height: 20px;background-color: rgb(200, 200, 200);\"></td></tr><tr><td title=\"Index: [5, 0]&#10;Color: (157, 200, 0)\" style=\"width: 20px; height: 20px;background-color: rgb(157, 200, 0);\"></td><td title=\"Index: [5, 1]&#10;Color: (200, 200, 200)\" style=\"width: 20px; height: 20px;background-color: rgb(200, 200, 200);\"></td><td title=\"Index: [5, 2]&#10;Color: (200, 200, 200)\" style=\"width: 20px; height: 20px;background-color: rgb(200, 200, 200);\"></td><td title=\"Index: [5, 3]&#10;Color: (200, 200, 200)\" style=\"width: 20px; height: 20px;background-color: rgb(200, 200, 200);\"></td><td title=\"Index: [5, 4]&#10;Color: (200, 200, 200)\" style=\"width: 20px; height: 20px;background-color: rgb(200, 200, 200);\"></td><td title=\"Index: [5, 5]&#10;Color: (200, 200, 200)\" style=\"width: 20px; height: 20px;background-color: rgb(200, 200, 200);\"></td></tr></tbody></table>"
      ],
      "text/plain": [
       "<IPython.core.display.HTML object>"
      ]
     },
     "metadata": {},
     "output_type": "display_data"
    },
    {
     "name": "stdout",
     "output_type": "stream",
     "text": [
      "Current Lives with PlayerB : 10\n",
      "PlayerB decided to move upwards at location: [0, 4]\n"
     ]
    },
    {
     "data": {
      "text/html": [],
      "text/plain": [
       "<IPython.core.display.HTML object>"
      ]
     },
     "metadata": {},
     "output_type": "display_data"
    },
    {
     "data": {
      "text/html": [
       "<style type=\"text/css\">table.blockgrid {border: none;} .blockgrid tr {border: none;} .blockgrid td {padding: 0px;} #blockse4a31612-77b8-434f-ac83-0ff3126f9dcb td {border: 1px solid white;}</style><table id=\"blockse4a31612-77b8-434f-ac83-0ff3126f9dcb\" class=\"blockgrid\"><tbody><tr><td title=\"Index: [0, 0]&#10;Color: (200, 200, 200)\" style=\"width: 20px; height: 20px;background-color: rgb(200, 200, 200);\"></td><td title=\"Index: [0, 1]&#10;Color: (200, 200, 200)\" style=\"width: 20px; height: 20px;background-color: rgb(200, 200, 200);\"></td><td title=\"Index: [0, 2]&#10;Color: (200, 200, 200)\" style=\"width: 20px; height: 20px;background-color: rgb(200, 200, 200);\"></td><td title=\"Index: [0, 3]&#10;Color: (200, 200, 200)\" style=\"width: 20px; height: 20px;background-color: rgb(200, 200, 200);\"></td><td title=\"Index: [0, 4]&#10;Color: (200, 200, 200)\" style=\"width: 20px; height: 20px;background-color: rgb(200, 200, 200);\"></td><td title=\"Index: [0, 5]&#10;Color: (200, 200, 200)\" style=\"width: 20px; height: 20px;background-color: rgb(200, 200, 200);\"></td></tr><tr><td title=\"Index: [1, 0]&#10;Color: (200, 200, 200)\" style=\"width: 20px; height: 20px;background-color: rgb(200, 200, 200);\"></td><td title=\"Index: [1, 1]&#10;Color: (214, 30, 107)\" style=\"width: 20px; height: 20px;background-color: rgb(214, 30, 107);\"></td><td title=\"Index: [1, 2]&#10;Color: (200, 103, 0)\" style=\"width: 20px; height: 20px;background-color: rgb(200, 103, 0);\"></td><td title=\"Index: [1, 3]&#10;Color: (200, 200, 200)\" style=\"width: 20px; height: 20px;background-color: rgb(200, 200, 200);\"></td><td title=\"Index: [1, 4]&#10;Color: (200, 200, 200)\" style=\"width: 20px; height: 20px;background-color: rgb(200, 200, 200);\"></td><td title=\"Index: [1, 5]&#10;Color: (200, 200, 200)\" style=\"width: 20px; height: 20px;background-color: rgb(200, 200, 200);\"></td></tr><tr><td title=\"Index: [2, 0]&#10;Color: (200, 200, 200)\" style=\"width: 20px; height: 20px;background-color: rgb(200, 200, 200);\"></td><td title=\"Index: [2, 1]&#10;Color: (200, 200, 200)\" style=\"width: 20px; height: 20px;background-color: rgb(200, 200, 200);\"></td><td title=\"Index: [2, 2]&#10;Color: (200, 0, 0)\" style=\"width: 20px; height: 20px;background-color: rgb(200, 0, 0);\"></td><td title=\"Index: [2, 3]&#10;Color: (200, 200, 200)\" style=\"width: 20px; height: 20px;background-color: rgb(200, 200, 200);\"></td><td title=\"Index: [2, 4]&#10;Color: (77, 200, 0)\" style=\"width: 20px; height: 20px;background-color: rgb(77, 200, 0);\"></td><td title=\"Index: [2, 5]&#10;Color: (240, 222, 29)\" style=\"width: 20px; height: 20px;background-color: rgb(240, 222, 29);\"></td></tr><tr><td title=\"Index: [3, 0]&#10;Color: (200, 0, 0)\" style=\"width: 20px; height: 20px;background-color: rgb(200, 0, 0);\"></td><td title=\"Index: [3, 1]&#10;Color: (200, 200, 200)\" style=\"width: 20px; height: 20px;background-color: rgb(200, 200, 200);\"></td><td title=\"Index: [3, 2]&#10;Color: (200, 200, 200)\" style=\"width: 20px; height: 20px;background-color: rgb(200, 200, 200);\"></td><td title=\"Index: [3, 3]&#10;Color: (200, 200, 200)\" style=\"width: 20px; height: 20px;background-color: rgb(200, 200, 200);\"></td><td title=\"Index: [3, 4]&#10;Color: (200, 200, 200)\" style=\"width: 20px; height: 20px;background-color: rgb(200, 200, 200);\"></td><td title=\"Index: [3, 5]&#10;Color: (200, 200, 200)\" style=\"width: 20px; height: 20px;background-color: rgb(200, 200, 200);\"></td></tr><tr><td title=\"Index: [4, 0]&#10;Color: (200, 200, 200)\" style=\"width: 20px; height: 20px;background-color: rgb(200, 200, 200);\"></td><td title=\"Index: [4, 1]&#10;Color: (200, 200, 200)\" style=\"width: 20px; height: 20px;background-color: rgb(200, 200, 200);\"></td><td title=\"Index: [4, 2]&#10;Color: (66, 135, 245)\" style=\"width: 20px; height: 20px;background-color: rgb(66, 135, 245);\"></td><td title=\"Index: [4, 3]&#10;Color: (200, 200, 200)\" style=\"width: 20px; height: 20px;background-color: rgb(200, 200, 200);\"></td><td title=\"Index: [4, 4]&#10;Color: (200, 0, 0)\" style=\"width: 20px; height: 20px;background-color: rgb(200, 0, 0);\"></td><td title=\"Index: [4, 5]&#10;Color: (200, 200, 200)\" style=\"width: 20px; height: 20px;background-color: rgb(200, 200, 200);\"></td></tr><tr><td title=\"Index: [5, 0]&#10;Color: (157, 200, 0)\" style=\"width: 20px; height: 20px;background-color: rgb(157, 200, 0);\"></td><td title=\"Index: [5, 1]&#10;Color: (200, 200, 200)\" style=\"width: 20px; height: 20px;background-color: rgb(200, 200, 200);\"></td><td title=\"Index: [5, 2]&#10;Color: (200, 200, 200)\" style=\"width: 20px; height: 20px;background-color: rgb(200, 200, 200);\"></td><td title=\"Index: [5, 3]&#10;Color: (200, 200, 200)\" style=\"width: 20px; height: 20px;background-color: rgb(200, 200, 200);\"></td><td title=\"Index: [5, 4]&#10;Color: (200, 200, 200)\" style=\"width: 20px; height: 20px;background-color: rgb(200, 200, 200);\"></td><td title=\"Index: [5, 5]&#10;Color: (200, 200, 200)\" style=\"width: 20px; height: 20px;background-color: rgb(200, 200, 200);\"></td></tr></tbody></table>"
      ],
      "text/plain": [
       "<IPython.core.display.HTML object>"
      ]
     },
     "metadata": {},
     "output_type": "display_data"
    },
    {
     "name": "stdout",
     "output_type": "stream",
     "text": [
      "Current Lives with PlayerB : 10\n",
      "PlayerB drained by having EnergyDown at location: [0, 3]\n"
     ]
    },
    {
     "data": {
      "text/html": [],
      "text/plain": [
       "<IPython.core.display.HTML object>"
      ]
     },
     "metadata": {},
     "output_type": "display_data"
    },
    {
     "data": {
      "text/html": [
       "<style type=\"text/css\">table.blockgrid {border: none;} .blockgrid tr {border: none;} .blockgrid td {padding: 0px;} #blocks37342b75-6299-4a81-81ba-a0490ec40b11 td {border: 1px solid white;}</style><table id=\"blocks37342b75-6299-4a81-81ba-a0490ec40b11\" class=\"blockgrid\"><tbody><tr><td title=\"Index: [0, 0]&#10;Color: (200, 200, 200)\" style=\"width: 20px; height: 20px;background-color: rgb(200, 200, 200);\"></td><td title=\"Index: [0, 1]&#10;Color: (200, 200, 200)\" style=\"width: 20px; height: 20px;background-color: rgb(200, 200, 200);\"></td><td title=\"Index: [0, 2]&#10;Color: (200, 200, 200)\" style=\"width: 20px; height: 20px;background-color: rgb(200, 200, 200);\"></td><td title=\"Index: [0, 3]&#10;Color: (200, 200, 200)\" style=\"width: 20px; height: 20px;background-color: rgb(200, 200, 200);\"></td><td title=\"Index: [0, 4]&#10;Color: (200, 200, 200)\" style=\"width: 20px; height: 20px;background-color: rgb(200, 200, 200);\"></td><td title=\"Index: [0, 5]&#10;Color: (200, 200, 200)\" style=\"width: 20px; height: 20px;background-color: rgb(200, 200, 200);\"></td></tr><tr><td title=\"Index: [1, 0]&#10;Color: (200, 200, 200)\" style=\"width: 20px; height: 20px;background-color: rgb(200, 200, 200);\"></td><td title=\"Index: [1, 1]&#10;Color: (214, 30, 107)\" style=\"width: 20px; height: 20px;background-color: rgb(214, 30, 107);\"></td><td title=\"Index: [1, 2]&#10;Color: (200, 103, 0)\" style=\"width: 20px; height: 20px;background-color: rgb(200, 103, 0);\"></td><td title=\"Index: [1, 3]&#10;Color: (200, 200, 200)\" style=\"width: 20px; height: 20px;background-color: rgb(200, 200, 200);\"></td><td title=\"Index: [1, 4]&#10;Color: (200, 200, 200)\" style=\"width: 20px; height: 20px;background-color: rgb(200, 200, 200);\"></td><td title=\"Index: [1, 5]&#10;Color: (200, 200, 200)\" style=\"width: 20px; height: 20px;background-color: rgb(200, 200, 200);\"></td></tr><tr><td title=\"Index: [2, 0]&#10;Color: (200, 200, 200)\" style=\"width: 20px; height: 20px;background-color: rgb(200, 200, 200);\"></td><td title=\"Index: [2, 1]&#10;Color: (200, 200, 200)\" style=\"width: 20px; height: 20px;background-color: rgb(200, 200, 200);\"></td><td title=\"Index: [2, 2]&#10;Color: (200, 0, 0)\" style=\"width: 20px; height: 20px;background-color: rgb(200, 0, 0);\"></td><td title=\"Index: [2, 3]&#10;Color: (200, 200, 200)\" style=\"width: 20px; height: 20px;background-color: rgb(200, 200, 200);\"></td><td title=\"Index: [2, 4]&#10;Color: (77, 200, 0)\" style=\"width: 20px; height: 20px;background-color: rgb(77, 200, 0);\"></td><td title=\"Index: [2, 5]&#10;Color: (240, 222, 29)\" style=\"width: 20px; height: 20px;background-color: rgb(240, 222, 29);\"></td></tr><tr><td title=\"Index: [3, 0]&#10;Color: (25, 32, 33)\" style=\"width: 20px; height: 20px;background-color: rgb(25, 32, 33);\"></td><td title=\"Index: [3, 1]&#10;Color: (200, 200, 200)\" style=\"width: 20px; height: 20px;background-color: rgb(200, 200, 200);\"></td><td title=\"Index: [3, 2]&#10;Color: (200, 200, 200)\" style=\"width: 20px; height: 20px;background-color: rgb(200, 200, 200);\"></td><td title=\"Index: [3, 3]&#10;Color: (200, 200, 200)\" style=\"width: 20px; height: 20px;background-color: rgb(200, 200, 200);\"></td><td title=\"Index: [3, 4]&#10;Color: (200, 200, 200)\" style=\"width: 20px; height: 20px;background-color: rgb(200, 200, 200);\"></td><td title=\"Index: [3, 5]&#10;Color: (200, 200, 200)\" style=\"width: 20px; height: 20px;background-color: rgb(200, 200, 200);\"></td></tr><tr><td title=\"Index: [4, 0]&#10;Color: (200, 200, 200)\" style=\"width: 20px; height: 20px;background-color: rgb(200, 200, 200);\"></td><td title=\"Index: [4, 1]&#10;Color: (200, 200, 200)\" style=\"width: 20px; height: 20px;background-color: rgb(200, 200, 200);\"></td><td title=\"Index: [4, 2]&#10;Color: (66, 135, 245)\" style=\"width: 20px; height: 20px;background-color: rgb(66, 135, 245);\"></td><td title=\"Index: [4, 3]&#10;Color: (200, 200, 200)\" style=\"width: 20px; height: 20px;background-color: rgb(200, 200, 200);\"></td><td title=\"Index: [4, 4]&#10;Color: (200, 0, 0)\" style=\"width: 20px; height: 20px;background-color: rgb(200, 0, 0);\"></td><td title=\"Index: [4, 5]&#10;Color: (200, 200, 200)\" style=\"width: 20px; height: 20px;background-color: rgb(200, 200, 200);\"></td></tr><tr><td title=\"Index: [5, 0]&#10;Color: (157, 200, 0)\" style=\"width: 20px; height: 20px;background-color: rgb(157, 200, 0);\"></td><td title=\"Index: [5, 1]&#10;Color: (200, 200, 200)\" style=\"width: 20px; height: 20px;background-color: rgb(200, 200, 200);\"></td><td title=\"Index: [5, 2]&#10;Color: (200, 200, 200)\" style=\"width: 20px; height: 20px;background-color: rgb(200, 200, 200);\"></td><td title=\"Index: [5, 3]&#10;Color: (200, 200, 200)\" style=\"width: 20px; height: 20px;background-color: rgb(200, 200, 200);\"></td><td title=\"Index: [5, 4]&#10;Color: (200, 200, 200)\" style=\"width: 20px; height: 20px;background-color: rgb(200, 200, 200);\"></td><td title=\"Index: [5, 5]&#10;Color: (200, 200, 200)\" style=\"width: 20px; height: 20px;background-color: rgb(200, 200, 200);\"></td></tr></tbody></table>"
      ],
      "text/plain": [
       "<IPython.core.display.HTML object>"
      ]
     },
     "metadata": {},
     "output_type": "display_data"
    },
    {
     "name": "stdout",
     "output_type": "stream",
     "text": [
      "Current Lives with PlayerB : 6\n",
      "PlayerB decided to move upwards at location: [0, 3]\n"
     ]
    },
    {
     "data": {
      "text/html": [],
      "text/plain": [
       "<IPython.core.display.HTML object>"
      ]
     },
     "metadata": {},
     "output_type": "display_data"
    },
    {
     "data": {
      "text/html": [
       "<style type=\"text/css\">table.blockgrid {border: none;} .blockgrid tr {border: none;} .blockgrid td {padding: 0px;} #blocks01c992ff-7871-4e35-9382-a87d5238fe13 td {border: 1px solid white;}</style><table id=\"blocks01c992ff-7871-4e35-9382-a87d5238fe13\" class=\"blockgrid\"><tbody><tr><td title=\"Index: [0, 0]&#10;Color: (200, 200, 200)\" style=\"width: 20px; height: 20px;background-color: rgb(200, 200, 200);\"></td><td title=\"Index: [0, 1]&#10;Color: (200, 200, 200)\" style=\"width: 20px; height: 20px;background-color: rgb(200, 200, 200);\"></td><td title=\"Index: [0, 2]&#10;Color: (200, 200, 200)\" style=\"width: 20px; height: 20px;background-color: rgb(200, 200, 200);\"></td><td title=\"Index: [0, 3]&#10;Color: (200, 200, 200)\" style=\"width: 20px; height: 20px;background-color: rgb(200, 200, 200);\"></td><td title=\"Index: [0, 4]&#10;Color: (200, 200, 200)\" style=\"width: 20px; height: 20px;background-color: rgb(200, 200, 200);\"></td><td title=\"Index: [0, 5]&#10;Color: (200, 200, 200)\" style=\"width: 20px; height: 20px;background-color: rgb(200, 200, 200);\"></td></tr><tr><td title=\"Index: [1, 0]&#10;Color: (200, 200, 200)\" style=\"width: 20px; height: 20px;background-color: rgb(200, 200, 200);\"></td><td title=\"Index: [1, 1]&#10;Color: (214, 30, 107)\" style=\"width: 20px; height: 20px;background-color: rgb(214, 30, 107);\"></td><td title=\"Index: [1, 2]&#10;Color: (200, 103, 0)\" style=\"width: 20px; height: 20px;background-color: rgb(200, 103, 0);\"></td><td title=\"Index: [1, 3]&#10;Color: (200, 200, 200)\" style=\"width: 20px; height: 20px;background-color: rgb(200, 200, 200);\"></td><td title=\"Index: [1, 4]&#10;Color: (200, 200, 200)\" style=\"width: 20px; height: 20px;background-color: rgb(200, 200, 200);\"></td><td title=\"Index: [1, 5]&#10;Color: (200, 200, 200)\" style=\"width: 20px; height: 20px;background-color: rgb(200, 200, 200);\"></td></tr><tr><td title=\"Index: [2, 0]&#10;Color: (25, 32, 33)\" style=\"width: 20px; height: 20px;background-color: rgb(25, 32, 33);\"></td><td title=\"Index: [2, 1]&#10;Color: (200, 200, 200)\" style=\"width: 20px; height: 20px;background-color: rgb(200, 200, 200);\"></td><td title=\"Index: [2, 2]&#10;Color: (200, 0, 0)\" style=\"width: 20px; height: 20px;background-color: rgb(200, 0, 0);\"></td><td title=\"Index: [2, 3]&#10;Color: (200, 200, 200)\" style=\"width: 20px; height: 20px;background-color: rgb(200, 200, 200);\"></td><td title=\"Index: [2, 4]&#10;Color: (77, 200, 0)\" style=\"width: 20px; height: 20px;background-color: rgb(77, 200, 0);\"></td><td title=\"Index: [2, 5]&#10;Color: (240, 222, 29)\" style=\"width: 20px; height: 20px;background-color: rgb(240, 222, 29);\"></td></tr><tr><td title=\"Index: [3, 0]&#10;Color: (200, 200, 200)\" style=\"width: 20px; height: 20px;background-color: rgb(200, 200, 200);\"></td><td title=\"Index: [3, 1]&#10;Color: (200, 200, 200)\" style=\"width: 20px; height: 20px;background-color: rgb(200, 200, 200);\"></td><td title=\"Index: [3, 2]&#10;Color: (200, 200, 200)\" style=\"width: 20px; height: 20px;background-color: rgb(200, 200, 200);\"></td><td title=\"Index: [3, 3]&#10;Color: (200, 200, 200)\" style=\"width: 20px; height: 20px;background-color: rgb(200, 200, 200);\"></td><td title=\"Index: [3, 4]&#10;Color: (200, 200, 200)\" style=\"width: 20px; height: 20px;background-color: rgb(200, 200, 200);\"></td><td title=\"Index: [3, 5]&#10;Color: (200, 200, 200)\" style=\"width: 20px; height: 20px;background-color: rgb(200, 200, 200);\"></td></tr><tr><td title=\"Index: [4, 0]&#10;Color: (200, 200, 200)\" style=\"width: 20px; height: 20px;background-color: rgb(200, 200, 200);\"></td><td title=\"Index: [4, 1]&#10;Color: (200, 200, 200)\" style=\"width: 20px; height: 20px;background-color: rgb(200, 200, 200);\"></td><td title=\"Index: [4, 2]&#10;Color: (66, 135, 245)\" style=\"width: 20px; height: 20px;background-color: rgb(66, 135, 245);\"></td><td title=\"Index: [4, 3]&#10;Color: (200, 200, 200)\" style=\"width: 20px; height: 20px;background-color: rgb(200, 200, 200);\"></td><td title=\"Index: [4, 4]&#10;Color: (200, 0, 0)\" style=\"width: 20px; height: 20px;background-color: rgb(200, 0, 0);\"></td><td title=\"Index: [4, 5]&#10;Color: (200, 200, 200)\" style=\"width: 20px; height: 20px;background-color: rgb(200, 200, 200);\"></td></tr><tr><td title=\"Index: [5, 0]&#10;Color: (157, 200, 0)\" style=\"width: 20px; height: 20px;background-color: rgb(157, 200, 0);\"></td><td title=\"Index: [5, 1]&#10;Color: (200, 200, 200)\" style=\"width: 20px; height: 20px;background-color: rgb(200, 200, 200);\"></td><td title=\"Index: [5, 2]&#10;Color: (200, 200, 200)\" style=\"width: 20px; height: 20px;background-color: rgb(200, 200, 200);\"></td><td title=\"Index: [5, 3]&#10;Color: (200, 200, 200)\" style=\"width: 20px; height: 20px;background-color: rgb(200, 200, 200);\"></td><td title=\"Index: [5, 4]&#10;Color: (200, 200, 200)\" style=\"width: 20px; height: 20px;background-color: rgb(200, 200, 200);\"></td><td title=\"Index: [5, 5]&#10;Color: (200, 200, 200)\" style=\"width: 20px; height: 20px;background-color: rgb(200, 200, 200);\"></td></tr></tbody></table>"
      ],
      "text/plain": [
       "<IPython.core.display.HTML object>"
      ]
     },
     "metadata": {},
     "output_type": "display_data"
    },
    {
     "name": "stdout",
     "output_type": "stream",
     "text": [
      "Current Lives with PlayerB : 6\n",
      "PlayerB decided to turnright at location: [0, 2]\n"
     ]
    },
    {
     "data": {
      "text/html": [],
      "text/plain": [
       "<IPython.core.display.HTML object>"
      ]
     },
     "metadata": {},
     "output_type": "display_data"
    },
    {
     "data": {
      "text/html": [
       "<style type=\"text/css\">table.blockgrid {border: none;} .blockgrid tr {border: none;} .blockgrid td {padding: 0px;} #blocks6f5e761c-6980-4ec8-971c-43d68ecb1c80 td {border: 1px solid white;}</style><table id=\"blocks6f5e761c-6980-4ec8-971c-43d68ecb1c80\" class=\"blockgrid\"><tbody><tr><td title=\"Index: [0, 0]&#10;Color: (200, 200, 200)\" style=\"width: 20px; height: 20px;background-color: rgb(200, 200, 200);\"></td><td title=\"Index: [0, 1]&#10;Color: (200, 200, 200)\" style=\"width: 20px; height: 20px;background-color: rgb(200, 200, 200);\"></td><td title=\"Index: [0, 2]&#10;Color: (200, 200, 200)\" style=\"width: 20px; height: 20px;background-color: rgb(200, 200, 200);\"></td><td title=\"Index: [0, 3]&#10;Color: (200, 200, 200)\" style=\"width: 20px; height: 20px;background-color: rgb(200, 200, 200);\"></td><td title=\"Index: [0, 4]&#10;Color: (200, 200, 200)\" style=\"width: 20px; height: 20px;background-color: rgb(200, 200, 200);\"></td><td title=\"Index: [0, 5]&#10;Color: (200, 200, 200)\" style=\"width: 20px; height: 20px;background-color: rgb(200, 200, 200);\"></td></tr><tr><td title=\"Index: [1, 0]&#10;Color: (200, 200, 200)\" style=\"width: 20px; height: 20px;background-color: rgb(200, 200, 200);\"></td><td title=\"Index: [1, 1]&#10;Color: (214, 30, 107)\" style=\"width: 20px; height: 20px;background-color: rgb(214, 30, 107);\"></td><td title=\"Index: [1, 2]&#10;Color: (200, 103, 0)\" style=\"width: 20px; height: 20px;background-color: rgb(200, 103, 0);\"></td><td title=\"Index: [1, 3]&#10;Color: (200, 200, 200)\" style=\"width: 20px; height: 20px;background-color: rgb(200, 200, 200);\"></td><td title=\"Index: [1, 4]&#10;Color: (200, 200, 200)\" style=\"width: 20px; height: 20px;background-color: rgb(200, 200, 200);\"></td><td title=\"Index: [1, 5]&#10;Color: (200, 200, 200)\" style=\"width: 20px; height: 20px;background-color: rgb(200, 200, 200);\"></td></tr><tr><td title=\"Index: [2, 0]&#10;Color: (25, 32, 33)\" style=\"width: 20px; height: 20px;background-color: rgb(25, 32, 33);\"></td><td title=\"Index: [2, 1]&#10;Color: (200, 200, 200)\" style=\"width: 20px; height: 20px;background-color: rgb(200, 200, 200);\"></td><td title=\"Index: [2, 2]&#10;Color: (200, 0, 0)\" style=\"width: 20px; height: 20px;background-color: rgb(200, 0, 0);\"></td><td title=\"Index: [2, 3]&#10;Color: (200, 200, 200)\" style=\"width: 20px; height: 20px;background-color: rgb(200, 200, 200);\"></td><td title=\"Index: [2, 4]&#10;Color: (77, 200, 0)\" style=\"width: 20px; height: 20px;background-color: rgb(77, 200, 0);\"></td><td title=\"Index: [2, 5]&#10;Color: (240, 222, 29)\" style=\"width: 20px; height: 20px;background-color: rgb(240, 222, 29);\"></td></tr><tr><td title=\"Index: [3, 0]&#10;Color: (200, 200, 200)\" style=\"width: 20px; height: 20px;background-color: rgb(200, 200, 200);\"></td><td title=\"Index: [3, 1]&#10;Color: (200, 200, 200)\" style=\"width: 20px; height: 20px;background-color: rgb(200, 200, 200);\"></td><td title=\"Index: [3, 2]&#10;Color: (200, 200, 200)\" style=\"width: 20px; height: 20px;background-color: rgb(200, 200, 200);\"></td><td title=\"Index: [3, 3]&#10;Color: (200, 200, 200)\" style=\"width: 20px; height: 20px;background-color: rgb(200, 200, 200);\"></td><td title=\"Index: [3, 4]&#10;Color: (200, 200, 200)\" style=\"width: 20px; height: 20px;background-color: rgb(200, 200, 200);\"></td><td title=\"Index: [3, 5]&#10;Color: (200, 200, 200)\" style=\"width: 20px; height: 20px;background-color: rgb(200, 200, 200);\"></td></tr><tr><td title=\"Index: [4, 0]&#10;Color: (200, 200, 200)\" style=\"width: 20px; height: 20px;background-color: rgb(200, 200, 200);\"></td><td title=\"Index: [4, 1]&#10;Color: (200, 200, 200)\" style=\"width: 20px; height: 20px;background-color: rgb(200, 200, 200);\"></td><td title=\"Index: [4, 2]&#10;Color: (66, 135, 245)\" style=\"width: 20px; height: 20px;background-color: rgb(66, 135, 245);\"></td><td title=\"Index: [4, 3]&#10;Color: (200, 200, 200)\" style=\"width: 20px; height: 20px;background-color: rgb(200, 200, 200);\"></td><td title=\"Index: [4, 4]&#10;Color: (200, 0, 0)\" style=\"width: 20px; height: 20px;background-color: rgb(200, 0, 0);\"></td><td title=\"Index: [4, 5]&#10;Color: (200, 200, 200)\" style=\"width: 20px; height: 20px;background-color: rgb(200, 200, 200);\"></td></tr><tr><td title=\"Index: [5, 0]&#10;Color: (157, 200, 0)\" style=\"width: 20px; height: 20px;background-color: rgb(157, 200, 0);\"></td><td title=\"Index: [5, 1]&#10;Color: (200, 200, 200)\" style=\"width: 20px; height: 20px;background-color: rgb(200, 200, 200);\"></td><td title=\"Index: [5, 2]&#10;Color: (200, 200, 200)\" style=\"width: 20px; height: 20px;background-color: rgb(200, 200, 200);\"></td><td title=\"Index: [5, 3]&#10;Color: (200, 200, 200)\" style=\"width: 20px; height: 20px;background-color: rgb(200, 200, 200);\"></td><td title=\"Index: [5, 4]&#10;Color: (200, 200, 200)\" style=\"width: 20px; height: 20px;background-color: rgb(200, 200, 200);\"></td><td title=\"Index: [5, 5]&#10;Color: (200, 200, 200)\" style=\"width: 20px; height: 20px;background-color: rgb(200, 200, 200);\"></td></tr></tbody></table>"
      ],
      "text/plain": [
       "<IPython.core.display.HTML object>"
      ]
     },
     "metadata": {},
     "output_type": "display_data"
    },
    {
     "name": "stdout",
     "output_type": "stream",
     "text": [
      "Current Lives with PlayerB : 6\n",
      "PlayerB decided to move rightwards at location: [0, 2]\n"
     ]
    },
    {
     "data": {
      "text/html": [],
      "text/plain": [
       "<IPython.core.display.HTML object>"
      ]
     },
     "metadata": {},
     "output_type": "display_data"
    },
    {
     "data": {
      "text/html": [
       "<style type=\"text/css\">table.blockgrid {border: none;} .blockgrid tr {border: none;} .blockgrid td {padding: 0px;} #blocks1553d4b7-7e32-41cc-9d78-7cd9d6d25150 td {border: 1px solid white;}</style><table id=\"blocks1553d4b7-7e32-41cc-9d78-7cd9d6d25150\" class=\"blockgrid\"><tbody><tr><td title=\"Index: [0, 0]&#10;Color: (200, 200, 200)\" style=\"width: 20px; height: 20px;background-color: rgb(200, 200, 200);\"></td><td title=\"Index: [0, 1]&#10;Color: (200, 200, 200)\" style=\"width: 20px; height: 20px;background-color: rgb(200, 200, 200);\"></td><td title=\"Index: [0, 2]&#10;Color: (200, 200, 200)\" style=\"width: 20px; height: 20px;background-color: rgb(200, 200, 200);\"></td><td title=\"Index: [0, 3]&#10;Color: (200, 200, 200)\" style=\"width: 20px; height: 20px;background-color: rgb(200, 200, 200);\"></td><td title=\"Index: [0, 4]&#10;Color: (200, 200, 200)\" style=\"width: 20px; height: 20px;background-color: rgb(200, 200, 200);\"></td><td title=\"Index: [0, 5]&#10;Color: (200, 200, 200)\" style=\"width: 20px; height: 20px;background-color: rgb(200, 200, 200);\"></td></tr><tr><td title=\"Index: [1, 0]&#10;Color: (200, 200, 200)\" style=\"width: 20px; height: 20px;background-color: rgb(200, 200, 200);\"></td><td title=\"Index: [1, 1]&#10;Color: (214, 30, 107)\" style=\"width: 20px; height: 20px;background-color: rgb(214, 30, 107);\"></td><td title=\"Index: [1, 2]&#10;Color: (200, 103, 0)\" style=\"width: 20px; height: 20px;background-color: rgb(200, 103, 0);\"></td><td title=\"Index: [1, 3]&#10;Color: (200, 200, 200)\" style=\"width: 20px; height: 20px;background-color: rgb(200, 200, 200);\"></td><td title=\"Index: [1, 4]&#10;Color: (200, 200, 200)\" style=\"width: 20px; height: 20px;background-color: rgb(200, 200, 200);\"></td><td title=\"Index: [1, 5]&#10;Color: (200, 200, 200)\" style=\"width: 20px; height: 20px;background-color: rgb(200, 200, 200);\"></td></tr><tr><td title=\"Index: [2, 0]&#10;Color: (200, 200, 200)\" style=\"width: 20px; height: 20px;background-color: rgb(200, 200, 200);\"></td><td title=\"Index: [2, 1]&#10;Color: (25, 32, 33)\" style=\"width: 20px; height: 20px;background-color: rgb(25, 32, 33);\"></td><td title=\"Index: [2, 2]&#10;Color: (200, 0, 0)\" style=\"width: 20px; height: 20px;background-color: rgb(200, 0, 0);\"></td><td title=\"Index: [2, 3]&#10;Color: (200, 200, 200)\" style=\"width: 20px; height: 20px;background-color: rgb(200, 200, 200);\"></td><td title=\"Index: [2, 4]&#10;Color: (77, 200, 0)\" style=\"width: 20px; height: 20px;background-color: rgb(77, 200, 0);\"></td><td title=\"Index: [2, 5]&#10;Color: (240, 222, 29)\" style=\"width: 20px; height: 20px;background-color: rgb(240, 222, 29);\"></td></tr><tr><td title=\"Index: [3, 0]&#10;Color: (200, 200, 200)\" style=\"width: 20px; height: 20px;background-color: rgb(200, 200, 200);\"></td><td title=\"Index: [3, 1]&#10;Color: (200, 200, 200)\" style=\"width: 20px; height: 20px;background-color: rgb(200, 200, 200);\"></td><td title=\"Index: [3, 2]&#10;Color: (200, 200, 200)\" style=\"width: 20px; height: 20px;background-color: rgb(200, 200, 200);\"></td><td title=\"Index: [3, 3]&#10;Color: (200, 200, 200)\" style=\"width: 20px; height: 20px;background-color: rgb(200, 200, 200);\"></td><td title=\"Index: [3, 4]&#10;Color: (200, 200, 200)\" style=\"width: 20px; height: 20px;background-color: rgb(200, 200, 200);\"></td><td title=\"Index: [3, 5]&#10;Color: (200, 200, 200)\" style=\"width: 20px; height: 20px;background-color: rgb(200, 200, 200);\"></td></tr><tr><td title=\"Index: [4, 0]&#10;Color: (200, 200, 200)\" style=\"width: 20px; height: 20px;background-color: rgb(200, 200, 200);\"></td><td title=\"Index: [4, 1]&#10;Color: (200, 200, 200)\" style=\"width: 20px; height: 20px;background-color: rgb(200, 200, 200);\"></td><td title=\"Index: [4, 2]&#10;Color: (66, 135, 245)\" style=\"width: 20px; height: 20px;background-color: rgb(66, 135, 245);\"></td><td title=\"Index: [4, 3]&#10;Color: (200, 200, 200)\" style=\"width: 20px; height: 20px;background-color: rgb(200, 200, 200);\"></td><td title=\"Index: [4, 4]&#10;Color: (200, 0, 0)\" style=\"width: 20px; height: 20px;background-color: rgb(200, 0, 0);\"></td><td title=\"Index: [4, 5]&#10;Color: (200, 200, 200)\" style=\"width: 20px; height: 20px;background-color: rgb(200, 200, 200);\"></td></tr><tr><td title=\"Index: [5, 0]&#10;Color: (157, 200, 0)\" style=\"width: 20px; height: 20px;background-color: rgb(157, 200, 0);\"></td><td title=\"Index: [5, 1]&#10;Color: (200, 200, 200)\" style=\"width: 20px; height: 20px;background-color: rgb(200, 200, 200);\"></td><td title=\"Index: [5, 2]&#10;Color: (200, 200, 200)\" style=\"width: 20px; height: 20px;background-color: rgb(200, 200, 200);\"></td><td title=\"Index: [5, 3]&#10;Color: (200, 200, 200)\" style=\"width: 20px; height: 20px;background-color: rgb(200, 200, 200);\"></td><td title=\"Index: [5, 4]&#10;Color: (200, 200, 200)\" style=\"width: 20px; height: 20px;background-color: rgb(200, 200, 200);\"></td><td title=\"Index: [5, 5]&#10;Color: (200, 200, 200)\" style=\"width: 20px; height: 20px;background-color: rgb(200, 200, 200);\"></td></tr></tbody></table>"
      ],
      "text/plain": [
       "<IPython.core.display.HTML object>"
      ]
     },
     "metadata": {},
     "output_type": "display_data"
    },
    {
     "name": "stdout",
     "output_type": "stream",
     "text": [
      "Current Lives with PlayerB : 6\n",
      "Found Pitfall ahead, PlayerB decided to Jump at location: [1, 2]\n"
     ]
    },
    {
     "data": {
      "text/html": [],
      "text/plain": [
       "<IPython.core.display.HTML object>"
      ]
     },
     "metadata": {},
     "output_type": "display_data"
    },
    {
     "data": {
      "text/html": [
       "<style type=\"text/css\">table.blockgrid {border: none;} .blockgrid tr {border: none;} .blockgrid td {padding: 0px;} #blocks1e7bd615-e698-4db8-82fd-d62733d0acdc td {border: 1px solid white;}</style><table id=\"blocks1e7bd615-e698-4db8-82fd-d62733d0acdc\" class=\"blockgrid\"><tbody><tr><td title=\"Index: [0, 0]&#10;Color: (200, 200, 200)\" style=\"width: 20px; height: 20px;background-color: rgb(200, 200, 200);\"></td><td title=\"Index: [0, 1]&#10;Color: (25, 32, 33)\" style=\"width: 20px; height: 20px;background-color: rgb(25, 32, 33);\"></td><td title=\"Index: [0, 2]&#10;Color: (200, 200, 200)\" style=\"width: 20px; height: 20px;background-color: rgb(200, 200, 200);\"></td><td title=\"Index: [0, 3]&#10;Color: (200, 200, 200)\" style=\"width: 20px; height: 20px;background-color: rgb(200, 200, 200);\"></td><td title=\"Index: [0, 4]&#10;Color: (200, 200, 200)\" style=\"width: 20px; height: 20px;background-color: rgb(200, 200, 200);\"></td><td title=\"Index: [0, 5]&#10;Color: (200, 200, 200)\" style=\"width: 20px; height: 20px;background-color: rgb(200, 200, 200);\"></td></tr><tr><td title=\"Index: [1, 0]&#10;Color: (200, 200, 200)\" style=\"width: 20px; height: 20px;background-color: rgb(200, 200, 200);\"></td><td title=\"Index: [1, 1]&#10;Color: (214, 30, 107)\" style=\"width: 20px; height: 20px;background-color: rgb(214, 30, 107);\"></td><td title=\"Index: [1, 2]&#10;Color: (200, 103, 0)\" style=\"width: 20px; height: 20px;background-color: rgb(200, 103, 0);\"></td><td title=\"Index: [1, 3]&#10;Color: (200, 200, 200)\" style=\"width: 20px; height: 20px;background-color: rgb(200, 200, 200);\"></td><td title=\"Index: [1, 4]&#10;Color: (200, 200, 200)\" style=\"width: 20px; height: 20px;background-color: rgb(200, 200, 200);\"></td><td title=\"Index: [1, 5]&#10;Color: (200, 200, 200)\" style=\"width: 20px; height: 20px;background-color: rgb(200, 200, 200);\"></td></tr><tr><td title=\"Index: [2, 0]&#10;Color: (200, 200, 200)\" style=\"width: 20px; height: 20px;background-color: rgb(200, 200, 200);\"></td><td title=\"Index: [2, 1]&#10;Color: (200, 200, 200)\" style=\"width: 20px; height: 20px;background-color: rgb(200, 200, 200);\"></td><td title=\"Index: [2, 2]&#10;Color: (200, 0, 0)\" style=\"width: 20px; height: 20px;background-color: rgb(200, 0, 0);\"></td><td title=\"Index: [2, 3]&#10;Color: (200, 200, 200)\" style=\"width: 20px; height: 20px;background-color: rgb(200, 200, 200);\"></td><td title=\"Index: [2, 4]&#10;Color: (77, 200, 0)\" style=\"width: 20px; height: 20px;background-color: rgb(77, 200, 0);\"></td><td title=\"Index: [2, 5]&#10;Color: (240, 222, 29)\" style=\"width: 20px; height: 20px;background-color: rgb(240, 222, 29);\"></td></tr><tr><td title=\"Index: [3, 0]&#10;Color: (200, 200, 200)\" style=\"width: 20px; height: 20px;background-color: rgb(200, 200, 200);\"></td><td title=\"Index: [3, 1]&#10;Color: (200, 200, 200)\" style=\"width: 20px; height: 20px;background-color: rgb(200, 200, 200);\"></td><td title=\"Index: [3, 2]&#10;Color: (200, 200, 200)\" style=\"width: 20px; height: 20px;background-color: rgb(200, 200, 200);\"></td><td title=\"Index: [3, 3]&#10;Color: (200, 200, 200)\" style=\"width: 20px; height: 20px;background-color: rgb(200, 200, 200);\"></td><td title=\"Index: [3, 4]&#10;Color: (200, 200, 200)\" style=\"width: 20px; height: 20px;background-color: rgb(200, 200, 200);\"></td><td title=\"Index: [3, 5]&#10;Color: (200, 200, 200)\" style=\"width: 20px; height: 20px;background-color: rgb(200, 200, 200);\"></td></tr><tr><td title=\"Index: [4, 0]&#10;Color: (200, 200, 200)\" style=\"width: 20px; height: 20px;background-color: rgb(200, 200, 200);\"></td><td title=\"Index: [4, 1]&#10;Color: (200, 200, 200)\" style=\"width: 20px; height: 20px;background-color: rgb(200, 200, 200);\"></td><td title=\"Index: [4, 2]&#10;Color: (66, 135, 245)\" style=\"width: 20px; height: 20px;background-color: rgb(66, 135, 245);\"></td><td title=\"Index: [4, 3]&#10;Color: (200, 200, 200)\" style=\"width: 20px; height: 20px;background-color: rgb(200, 200, 200);\"></td><td title=\"Index: [4, 4]&#10;Color: (200, 0, 0)\" style=\"width: 20px; height: 20px;background-color: rgb(200, 0, 0);\"></td><td title=\"Index: [4, 5]&#10;Color: (200, 200, 200)\" style=\"width: 20px; height: 20px;background-color: rgb(200, 200, 200);\"></td></tr><tr><td title=\"Index: [5, 0]&#10;Color: (157, 200, 0)\" style=\"width: 20px; height: 20px;background-color: rgb(157, 200, 0);\"></td><td title=\"Index: [5, 1]&#10;Color: (200, 200, 200)\" style=\"width: 20px; height: 20px;background-color: rgb(200, 200, 200);\"></td><td title=\"Index: [5, 2]&#10;Color: (200, 200, 200)\" style=\"width: 20px; height: 20px;background-color: rgb(200, 200, 200);\"></td><td title=\"Index: [5, 3]&#10;Color: (200, 200, 200)\" style=\"width: 20px; height: 20px;background-color: rgb(200, 200, 200);\"></td><td title=\"Index: [5, 4]&#10;Color: (200, 200, 200)\" style=\"width: 20px; height: 20px;background-color: rgb(200, 200, 200);\"></td><td title=\"Index: [5, 5]&#10;Color: (200, 200, 200)\" style=\"width: 20px; height: 20px;background-color: rgb(200, 200, 200);\"></td></tr></tbody></table>"
      ],
      "text/plain": [
       "<IPython.core.display.HTML object>"
      ]
     },
     "metadata": {},
     "output_type": "display_data"
    },
    {
     "name": "stdout",
     "output_type": "stream",
     "text": [
      "Current Lives with PlayerB : 5\n",
      "PlayerB decided to move leftwards at location: [1, 0]\n"
     ]
    },
    {
     "data": {
      "text/html": [],
      "text/plain": [
       "<IPython.core.display.HTML object>"
      ]
     },
     "metadata": {},
     "output_type": "display_data"
    },
    {
     "data": {
      "text/html": [
       "<style type=\"text/css\">table.blockgrid {border: none;} .blockgrid tr {border: none;} .blockgrid td {padding: 0px;} #blocks27bb680a-0b87-4332-b357-fe283a4b0cbe td {border: 1px solid white;}</style><table id=\"blocks27bb680a-0b87-4332-b357-fe283a4b0cbe\" class=\"blockgrid\"><tbody><tr><td title=\"Index: [0, 0]&#10;Color: (25, 32, 33)\" style=\"width: 20px; height: 20px;background-color: rgb(25, 32, 33);\"></td><td title=\"Index: [0, 1]&#10;Color: (200, 200, 200)\" style=\"width: 20px; height: 20px;background-color: rgb(200, 200, 200);\"></td><td title=\"Index: [0, 2]&#10;Color: (200, 200, 200)\" style=\"width: 20px; height: 20px;background-color: rgb(200, 200, 200);\"></td><td title=\"Index: [0, 3]&#10;Color: (200, 200, 200)\" style=\"width: 20px; height: 20px;background-color: rgb(200, 200, 200);\"></td><td title=\"Index: [0, 4]&#10;Color: (200, 200, 200)\" style=\"width: 20px; height: 20px;background-color: rgb(200, 200, 200);\"></td><td title=\"Index: [0, 5]&#10;Color: (200, 200, 200)\" style=\"width: 20px; height: 20px;background-color: rgb(200, 200, 200);\"></td></tr><tr><td title=\"Index: [1, 0]&#10;Color: (200, 200, 200)\" style=\"width: 20px; height: 20px;background-color: rgb(200, 200, 200);\"></td><td title=\"Index: [1, 1]&#10;Color: (214, 30, 107)\" style=\"width: 20px; height: 20px;background-color: rgb(214, 30, 107);\"></td><td title=\"Index: [1, 2]&#10;Color: (200, 103, 0)\" style=\"width: 20px; height: 20px;background-color: rgb(200, 103, 0);\"></td><td title=\"Index: [1, 3]&#10;Color: (200, 200, 200)\" style=\"width: 20px; height: 20px;background-color: rgb(200, 200, 200);\"></td><td title=\"Index: [1, 4]&#10;Color: (200, 200, 200)\" style=\"width: 20px; height: 20px;background-color: rgb(200, 200, 200);\"></td><td title=\"Index: [1, 5]&#10;Color: (200, 200, 200)\" style=\"width: 20px; height: 20px;background-color: rgb(200, 200, 200);\"></td></tr><tr><td title=\"Index: [2, 0]&#10;Color: (200, 200, 200)\" style=\"width: 20px; height: 20px;background-color: rgb(200, 200, 200);\"></td><td title=\"Index: [2, 1]&#10;Color: (200, 200, 200)\" style=\"width: 20px; height: 20px;background-color: rgb(200, 200, 200);\"></td><td title=\"Index: [2, 2]&#10;Color: (200, 0, 0)\" style=\"width: 20px; height: 20px;background-color: rgb(200, 0, 0);\"></td><td title=\"Index: [2, 3]&#10;Color: (200, 200, 200)\" style=\"width: 20px; height: 20px;background-color: rgb(200, 200, 200);\"></td><td title=\"Index: [2, 4]&#10;Color: (77, 200, 0)\" style=\"width: 20px; height: 20px;background-color: rgb(77, 200, 0);\"></td><td title=\"Index: [2, 5]&#10;Color: (240, 222, 29)\" style=\"width: 20px; height: 20px;background-color: rgb(240, 222, 29);\"></td></tr><tr><td title=\"Index: [3, 0]&#10;Color: (200, 200, 200)\" style=\"width: 20px; height: 20px;background-color: rgb(200, 200, 200);\"></td><td title=\"Index: [3, 1]&#10;Color: (200, 200, 200)\" style=\"width: 20px; height: 20px;background-color: rgb(200, 200, 200);\"></td><td title=\"Index: [3, 2]&#10;Color: (200, 200, 200)\" style=\"width: 20px; height: 20px;background-color: rgb(200, 200, 200);\"></td><td title=\"Index: [3, 3]&#10;Color: (200, 200, 200)\" style=\"width: 20px; height: 20px;background-color: rgb(200, 200, 200);\"></td><td title=\"Index: [3, 4]&#10;Color: (200, 200, 200)\" style=\"width: 20px; height: 20px;background-color: rgb(200, 200, 200);\"></td><td title=\"Index: [3, 5]&#10;Color: (200, 200, 200)\" style=\"width: 20px; height: 20px;background-color: rgb(200, 200, 200);\"></td></tr><tr><td title=\"Index: [4, 0]&#10;Color: (200, 200, 200)\" style=\"width: 20px; height: 20px;background-color: rgb(200, 200, 200);\"></td><td title=\"Index: [4, 1]&#10;Color: (200, 200, 200)\" style=\"width: 20px; height: 20px;background-color: rgb(200, 200, 200);\"></td><td title=\"Index: [4, 2]&#10;Color: (66, 135, 245)\" style=\"width: 20px; height: 20px;background-color: rgb(66, 135, 245);\"></td><td title=\"Index: [4, 3]&#10;Color: (200, 200, 200)\" style=\"width: 20px; height: 20px;background-color: rgb(200, 200, 200);\"></td><td title=\"Index: [4, 4]&#10;Color: (200, 0, 0)\" style=\"width: 20px; height: 20px;background-color: rgb(200, 0, 0);\"></td><td title=\"Index: [4, 5]&#10;Color: (200, 200, 200)\" style=\"width: 20px; height: 20px;background-color: rgb(200, 200, 200);\"></td></tr><tr><td title=\"Index: [5, 0]&#10;Color: (157, 200, 0)\" style=\"width: 20px; height: 20px;background-color: rgb(157, 200, 0);\"></td><td title=\"Index: [5, 1]&#10;Color: (200, 200, 200)\" style=\"width: 20px; height: 20px;background-color: rgb(200, 200, 200);\"></td><td title=\"Index: [5, 2]&#10;Color: (200, 200, 200)\" style=\"width: 20px; height: 20px;background-color: rgb(200, 200, 200);\"></td><td title=\"Index: [5, 3]&#10;Color: (200, 200, 200)\" style=\"width: 20px; height: 20px;background-color: rgb(200, 200, 200);\"></td><td title=\"Index: [5, 4]&#10;Color: (200, 200, 200)\" style=\"width: 20px; height: 20px;background-color: rgb(200, 200, 200);\"></td><td title=\"Index: [5, 5]&#10;Color: (200, 200, 200)\" style=\"width: 20px; height: 20px;background-color: rgb(200, 200, 200);\"></td></tr></tbody></table>"
      ],
      "text/plain": [
       "<IPython.core.display.HTML object>"
      ]
     },
     "metadata": {},
     "output_type": "display_data"
    },
    {
     "name": "stdout",
     "output_type": "stream",
     "text": [
      "Current Lives with PlayerB : 5\n",
      "PlayerB won the game in 7 steps\n"
     ]
    },
    {
     "data": {
      "text/html": [],
      "text/plain": [
       "<IPython.core.display.HTML object>"
      ]
     },
     "metadata": {},
     "output_type": "display_data"
    },
    {
     "data": {
      "text/html": [
       "<style type=\"text/css\">table.blockgrid {border: none;} .blockgrid tr {border: none;} .blockgrid td {padding: 0px;} #blocksec7b5cdc-5fd8-4d96-9fea-d7913428b9c0 td {border: 1px solid white;}</style><table id=\"blocksec7b5cdc-5fd8-4d96-9fea-d7913428b9c0\" class=\"blockgrid\"><tbody><tr><td title=\"Index: [0, 0]&#10;Color: (25, 32, 33)\" style=\"width: 20px; height: 20px;background-color: rgb(25, 32, 33);\"></td><td title=\"Index: [0, 1]&#10;Color: (200, 200, 200)\" style=\"width: 20px; height: 20px;background-color: rgb(200, 200, 200);\"></td><td title=\"Index: [0, 2]&#10;Color: (200, 200, 200)\" style=\"width: 20px; height: 20px;background-color: rgb(200, 200, 200);\"></td><td title=\"Index: [0, 3]&#10;Color: (200, 200, 200)\" style=\"width: 20px; height: 20px;background-color: rgb(200, 200, 200);\"></td><td title=\"Index: [0, 4]&#10;Color: (200, 200, 200)\" style=\"width: 20px; height: 20px;background-color: rgb(200, 200, 200);\"></td><td title=\"Index: [0, 5]&#10;Color: (200, 200, 200)\" style=\"width: 20px; height: 20px;background-color: rgb(200, 200, 200);\"></td></tr><tr><td title=\"Index: [1, 0]&#10;Color: (200, 200, 200)\" style=\"width: 20px; height: 20px;background-color: rgb(200, 200, 200);\"></td><td title=\"Index: [1, 1]&#10;Color: (214, 30, 107)\" style=\"width: 20px; height: 20px;background-color: rgb(214, 30, 107);\"></td><td title=\"Index: [1, 2]&#10;Color: (200, 103, 0)\" style=\"width: 20px; height: 20px;background-color: rgb(200, 103, 0);\"></td><td title=\"Index: [1, 3]&#10;Color: (200, 200, 200)\" style=\"width: 20px; height: 20px;background-color: rgb(200, 200, 200);\"></td><td title=\"Index: [1, 4]&#10;Color: (200, 200, 200)\" style=\"width: 20px; height: 20px;background-color: rgb(200, 200, 200);\"></td><td title=\"Index: [1, 5]&#10;Color: (200, 200, 200)\" style=\"width: 20px; height: 20px;background-color: rgb(200, 200, 200);\"></td></tr><tr><td title=\"Index: [2, 0]&#10;Color: (200, 200, 200)\" style=\"width: 20px; height: 20px;background-color: rgb(200, 200, 200);\"></td><td title=\"Index: [2, 1]&#10;Color: (200, 200, 200)\" style=\"width: 20px; height: 20px;background-color: rgb(200, 200, 200);\"></td><td title=\"Index: [2, 2]&#10;Color: (200, 0, 0)\" style=\"width: 20px; height: 20px;background-color: rgb(200, 0, 0);\"></td><td title=\"Index: [2, 3]&#10;Color: (200, 200, 200)\" style=\"width: 20px; height: 20px;background-color: rgb(200, 200, 200);\"></td><td title=\"Index: [2, 4]&#10;Color: (77, 200, 0)\" style=\"width: 20px; height: 20px;background-color: rgb(77, 200, 0);\"></td><td title=\"Index: [2, 5]&#10;Color: (240, 222, 29)\" style=\"width: 20px; height: 20px;background-color: rgb(240, 222, 29);\"></td></tr><tr><td title=\"Index: [3, 0]&#10;Color: (200, 200, 200)\" style=\"width: 20px; height: 20px;background-color: rgb(200, 200, 200);\"></td><td title=\"Index: [3, 1]&#10;Color: (200, 200, 200)\" style=\"width: 20px; height: 20px;background-color: rgb(200, 200, 200);\"></td><td title=\"Index: [3, 2]&#10;Color: (200, 200, 200)\" style=\"width: 20px; height: 20px;background-color: rgb(200, 200, 200);\"></td><td title=\"Index: [3, 3]&#10;Color: (200, 200, 200)\" style=\"width: 20px; height: 20px;background-color: rgb(200, 200, 200);\"></td><td title=\"Index: [3, 4]&#10;Color: (200, 200, 200)\" style=\"width: 20px; height: 20px;background-color: rgb(200, 200, 200);\"></td><td title=\"Index: [3, 5]&#10;Color: (200, 200, 200)\" style=\"width: 20px; height: 20px;background-color: rgb(200, 200, 200);\"></td></tr><tr><td title=\"Index: [4, 0]&#10;Color: (200, 200, 200)\" style=\"width: 20px; height: 20px;background-color: rgb(200, 200, 200);\"></td><td title=\"Index: [4, 1]&#10;Color: (200, 200, 200)\" style=\"width: 20px; height: 20px;background-color: rgb(200, 200, 200);\"></td><td title=\"Index: [4, 2]&#10;Color: (66, 135, 245)\" style=\"width: 20px; height: 20px;background-color: rgb(66, 135, 245);\"></td><td title=\"Index: [4, 3]&#10;Color: (200, 200, 200)\" style=\"width: 20px; height: 20px;background-color: rgb(200, 200, 200);\"></td><td title=\"Index: [4, 4]&#10;Color: (200, 0, 0)\" style=\"width: 20px; height: 20px;background-color: rgb(200, 0, 0);\"></td><td title=\"Index: [4, 5]&#10;Color: (200, 200, 200)\" style=\"width: 20px; height: 20px;background-color: rgb(200, 200, 200);\"></td></tr><tr><td title=\"Index: [5, 0]&#10;Color: (157, 200, 0)\" style=\"width: 20px; height: 20px;background-color: rgb(157, 200, 0);\"></td><td title=\"Index: [5, 1]&#10;Color: (200, 200, 200)\" style=\"width: 20px; height: 20px;background-color: rgb(200, 200, 200);\"></td><td title=\"Index: [5, 2]&#10;Color: (200, 200, 200)\" style=\"width: 20px; height: 20px;background-color: rgb(200, 200, 200);\"></td><td title=\"Index: [5, 3]&#10;Color: (200, 200, 200)\" style=\"width: 20px; height: 20px;background-color: rgb(200, 200, 200);\"></td><td title=\"Index: [5, 4]&#10;Color: (200, 200, 200)\" style=\"width: 20px; height: 20px;background-color: rgb(200, 200, 200);\"></td><td title=\"Index: [5, 5]&#10;Color: (200, 200, 200)\" style=\"width: 20px; height: 20px;background-color: rgb(200, 200, 200);\"></td></tr></tbody></table>"
      ],
      "text/plain": [
       "<IPython.core.display.HTML object>"
      ]
     },
     "metadata": {},
     "output_type": "display_data"
    },
    {
     "name": "stdout",
     "output_type": "stream",
     "text": [
      "The PlayerB  did not grab anything in the Game\n"
     ]
    }
   ],
   "source": [
    "agent_run('PlayerB',100,PlayerB(program))"
   ]
  },
  {
   "cell_type": "code",
   "execution_count": null,
   "metadata": {},
   "outputs": [],
   "source": []
  },
  {
   "cell_type": "markdown",
   "metadata": {},
   "source": [
    "## SEARCH"
   ]
  },
  {
   "cell_type": "markdown",
   "metadata": {},
   "source": [
    "#### Defining the Problem Class which will be the base class for the Problem Statement"
   ]
  },
  {
   "cell_type": "code",
   "execution_count": 141,
   "metadata": {},
   "outputs": [],
   "source": [
    "import math , sys\n",
    "from collections import deque"
   ]
  },
  {
   "cell_type": "code",
   "execution_count": 142,
   "metadata": {},
   "outputs": [],
   "source": [
    "class Problem(object):\n",
    "    \"\"\"The abstract class for a formal problem. A new domain subclasses this,\n",
    "    overriding `actions` and `results`, and perhaps other methods.\n",
    "    The default heuristic is 0 and the default action cost is 1 for all states.\n",
    "    When yiou create an instance of a subclass, specify `initial`, and `goal` states\n",
    "    (or give an `is_goal` method) and perhaps other keyword args for the subclass.\"\"\"\n",
    "\n",
    "    def __init__(self, initial=None, goal=None, **kwds):\n",
    "        self.__dict__.update(initial=initial, goal=goal, **kwds)\n",
    "\n",
    "    def actions(self, state):        \n",
    "        raise NotImplementedError\n",
    "\n",
    "    def result(self, state, action): \n",
    "        raise NotImplementedError\n",
    "\n",
    "    def is_goal(self, state):        \n",
    "        return state == self.goal\n",
    "\n",
    "    def action_cost(self, s, a, s1): \n",
    "        return 1\n",
    "\n",
    "    def h(self, node):               \n",
    "        return 0\n",
    "\n",
    "    def __str__(self):\n",
    "        return '{}({!r}, {!r})'.format(type(self).__name__, self.initial, self.goal)"
   ]
  },
  {
   "cell_type": "markdown",
   "metadata": {},
   "source": [
    "#### Defining the Node Class ( A node in the search tree)"
   ]
  },
  {
   "cell_type": "code",
   "execution_count": 143,
   "metadata": {},
   "outputs": [],
   "source": [
    "class Node:\n",
    "    \n",
    "    \"\"\"A node in a search tree. Contains a pointer to the parent (the node\n",
    "    that this is a successor of) and to the actual state for this node. Note\n",
    "    that if a state is arrived at by two paths, then there are two nodes with\n",
    "    the same state.\"\"\"\n",
    "\n",
    "    def __init__(self, state, parent=None, action=None, path_cost=0):\n",
    "        \n",
    "        self.__dict__.update(state=state, parent=parent, action=action, path_cost=path_cost)\n",
    "\n",
    "    def __repr__(self): \n",
    "        return '<{}>'.format(self.state)\n",
    "\n",
    "    def __len__(self): \n",
    "        return 0 if self.parent is None else (1 + len(self.parent))\n",
    "\n",
    "    def __lt__(self, other): \n",
    "        return self.path_cost < other.path_cost\n",
    "\n",
    "\n",
    "    def path(self):\n",
    "        \"\"\"Return a list of nodes forming the path from the root to this node.\"\"\"\n",
    "        node, path_back = self, []\n",
    "        while node:\n",
    "            path_back.append(node)\n",
    "            node = node.parent\n",
    "        return list(reversed(path_back))\n",
    "    \n",
    "    def solution(self):\n",
    "        \"\"\"Return the sequence of actions to go from the root to this node.\"\"\"\n",
    "        return [node.action for node in self.path()[:]]\n",
    "\n",
    "    \n",
    "failure = Node('failure', path_cost=math.inf)  # Indicates an algorithm couldn't find a solution.\n",
    "cutoff = Node('cutoff', path_cost=math.inf)  # Indicates iterative deepening search was cut off."
   ]
  },
  {
   "cell_type": "code",
   "execution_count": 144,
   "metadata": {},
   "outputs": [],
   "source": [
    "def expand(problem, node):\n",
    "    \"Expand a node, generating the children nodes.\"\n",
    "    s = node.state\n",
    "    for action in problem.actions(s):\n",
    "        s1 = problem.result(s, action)\n",
    "        cost = node.path_cost + problem.action_cost(s, action, s1)\n",
    "        yield Node(s1, node, action, cost)"
   ]
  },
  {
   "cell_type": "code",
   "execution_count": 145,
   "metadata": {},
   "outputs": [],
   "source": [
    "FIFOQueue = deque\n",
    "\n",
    "LIFOQueue = list"
   ]
  },
  {
   "cell_type": "markdown",
   "metadata": {},
   "source": [
    "### The Search Technique : Breadth First Search"
   ]
  },
  {
   "cell_type": "code",
   "execution_count": 146,
   "metadata": {},
   "outputs": [],
   "source": [
    "def breadth_first_search(problem):\n",
    "    \"Search shallowest nodes in the search tree first.\"\n",
    "    node = Node(problem.initial)\n",
    "    if problem.is_goal(problem.initial):\n",
    "        return node\n",
    "    frontier = FIFOQueue([node])\n",
    "    reached = {problem.initial}\n",
    "    while frontier:\n",
    "        node = frontier.pop()\n",
    "        for child in expand(problem, node):\n",
    "            s = child.state\n",
    "            if problem.is_goal(s):\n",
    "                return child\n",
    "            if s not in reached:\n",
    "                reached.add(s)\n",
    "                frontier.appendleft(child)\n",
    "    return failure"
   ]
  },
  {
   "cell_type": "markdown",
   "metadata": {},
   "source": [
    "### The Search Technique : Depth Limited Search"
   ]
  },
  {
   "cell_type": "code",
   "execution_count": 454,
   "metadata": {},
   "outputs": [],
   "source": [
    "def is_cycle(node, k=30):\n",
    "    \"Does this node form a cycle of length k or less?\"\n",
    "\n",
    "    def find_cycle(ancestor, k):\n",
    "        return (ancestor is not None and k > 0 and\n",
    "                (ancestor.state == node.state or find_cycle(ancestor.parent, k - 1)))\n",
    "\n",
    "    return find_cycle(node.parent, k)\n",
    "\n",
    "def depth_limited_search(problem, limit=10):\n",
    "    \"Search deepest nodes in the search tree first.\"\n",
    "    frontier = LIFOQueue([Node(problem.initial)])\n",
    "    result = failure\n",
    "    while frontier:\n",
    "        node = frontier.pop()\n",
    "        if problem.is_goal(node.state):\n",
    "            return node\n",
    "        elif len(node) >= limit:\n",
    "            result = cutoff\n",
    "        elif not is_cycle(node):\n",
    "            for child in expand(problem, node):\n",
    "                frontier.append(child)\n",
    "    return result"
   ]
  },
  {
   "cell_type": "markdown",
   "metadata": {},
   "source": [
    "### The Search Technique : Iterative Deepening Search"
   ]
  },
  {
   "cell_type": "code",
   "execution_count": 450,
   "metadata": {},
   "outputs": [],
   "source": [
    "def iterative_deepening_search(problem):\n",
    "    \"Do depth-limited search with increasing depth limits.\"\n",
    "    for limit in range(1, sys.maxsize):\n",
    "        result = depth_limited_search(problem, limit)\n",
    "        if result != cutoff:\n",
    "            return result"
   ]
  },
  {
   "cell_type": "markdown",
   "metadata": {},
   "source": [
    "### Defining the Problem Statement class "
   ]
  },
  {
   "cell_type": "code",
   "execution_count": 149,
   "metadata": {},
   "outputs": [],
   "source": [
    "class GoalSearch(Problem):\n",
    "    \n",
    "    \"\"\"Finding a path on a 2D grid with obstacles. Obstacles are (x, y) cells.\"\"\"\n",
    "\n",
    "    def __init__(self, initial=(5,5), goal=(0,0), obstacles=(), **kwds):\n",
    "        \n",
    "        Problem.__init__(self, initial=initial, goal=goal,obstacles=set(obstacles) - {initial, goal}, **kwds)\n",
    "\n",
    "    directions = [(0, -1),(-1, 0), (+1, 0),(0, +1)]\n",
    "    \n",
    "    def action_cost(self, s, action, s1):\n",
    "\n",
    "        return straight_line_distance(s, s1)\n",
    "\n",
    "    def h(self, node):\n",
    "\n",
    "        return straight_line_distance(node.state, self.goal)\n",
    "\n",
    "    def result(self, state, action):\n",
    "        \"Both states and actions are represented by (x, y) pairs.\"\n",
    "        return action if action not in self.obstacles else state\n",
    "\n",
    "    def actions(self, state):\n",
    "        \"\"\"You can move one cell in any of `directions` to a non-obstacle cell.\"\"\"\n",
    "        x, y = state\n",
    "\n",
    "        return {(x + dx, y + dy) for (dx, dy) in self.directions} - self.obstacles\n",
    "    \n",
    "def straight_line_distance(A, B):\n",
    "    \"Straight-line distance between two points.\"\n",
    "    return sum(abs(a - b)**2 for (a, b) in zip(A, B)) ** 0.5"
   ]
  },
  {
   "cell_type": "code",
   "execution_count": null,
   "metadata": {},
   "outputs": [],
   "source": []
  },
  {
   "cell_type": "code",
   "execution_count": 459,
   "metadata": {},
   "outputs": [],
   "source": [
    "seed_randomizer = [34,5,656,578,98,35,52,3,5,67,78,797,99,898,895586,63626,26,986,9,869,68,96]\n",
    "x = random.choice(seed_randomizer)\n",
    "random.seed(x)\n",
    "start_location = random.choice([[1,5],[2,5],[3,5],[4,5],[5,5]])\n",
    "start_location_search = tuple(start_location)\n",
    "searchproblem = GoalSearch(initial = start_location_search,obstacles={(4,4),(0,3),(2,2),(5,2),(2,1),(1,1)})"
   ]
  },
  {
   "cell_type": "markdown",
   "metadata": {},
   "source": [
    "##### Goal Test with Breadth First Search"
   ]
  },
  {
   "cell_type": "code",
   "execution_count": 441,
   "metadata": {},
   "outputs": [
    {
     "name": "stdout",
     "output_type": "stream",
     "text": [
      "Breadth First Search \n",
      " Shotest Route : [(1, 5), (1, 4), (1, 3), (1, 2), (0, 2), (0, 1), (0, 0)]\n",
      "PlayerA  started at [2, 5], facing up. See if he Wins\n"
     ]
    },
    {
     "data": {
      "text/html": [
       "<style type=\"text/css\">table.blockgrid {border: none;} .blockgrid tr {border: none;} .blockgrid td {padding: 0px;} #blocksd2737853-6173-47ca-a35d-9424bb28cfa0 td {border: 1px solid white;}</style><table id=\"blocksd2737853-6173-47ca-a35d-9424bb28cfa0\" class=\"blockgrid\"><tbody><tr><td title=\"Index: [0, 0]&#10;Color: (200, 200, 200)\" style=\"width: 20px; height: 20px;background-color: rgb(200, 200, 200);\"></td><td title=\"Index: [0, 1]&#10;Color: (200, 200, 200)\" style=\"width: 20px; height: 20px;background-color: rgb(200, 200, 200);\"></td><td title=\"Index: [0, 2]&#10;Color: (200, 200, 200)\" style=\"width: 20px; height: 20px;background-color: rgb(200, 200, 200);\"></td><td title=\"Index: [0, 3]&#10;Color: (200, 200, 200)\" style=\"width: 20px; height: 20px;background-color: rgb(200, 200, 200);\"></td><td title=\"Index: [0, 4]&#10;Color: (200, 200, 200)\" style=\"width: 20px; height: 20px;background-color: rgb(200, 200, 200);\"></td><td title=\"Index: [0, 5]&#10;Color: (200, 200, 200)\" style=\"width: 20px; height: 20px;background-color: rgb(200, 200, 200);\"></td></tr><tr><td title=\"Index: [1, 0]&#10;Color: (200, 200, 200)\" style=\"width: 20px; height: 20px;background-color: rgb(200, 200, 200);\"></td><td title=\"Index: [1, 1]&#10;Color: (214, 30, 107)\" style=\"width: 20px; height: 20px;background-color: rgb(214, 30, 107);\"></td><td title=\"Index: [1, 2]&#10;Color: (200, 103, 0)\" style=\"width: 20px; height: 20px;background-color: rgb(200, 103, 0);\"></td><td title=\"Index: [1, 3]&#10;Color: (200, 200, 200)\" style=\"width: 20px; height: 20px;background-color: rgb(200, 200, 200);\"></td><td title=\"Index: [1, 4]&#10;Color: (200, 200, 200)\" style=\"width: 20px; height: 20px;background-color: rgb(200, 200, 200);\"></td><td title=\"Index: [1, 5]&#10;Color: (200, 200, 200)\" style=\"width: 20px; height: 20px;background-color: rgb(200, 200, 200);\"></td></tr><tr><td title=\"Index: [2, 0]&#10;Color: (200, 200, 200)\" style=\"width: 20px; height: 20px;background-color: rgb(200, 200, 200);\"></td><td title=\"Index: [2, 1]&#10;Color: (200, 200, 200)\" style=\"width: 20px; height: 20px;background-color: rgb(200, 200, 200);\"></td><td title=\"Index: [2, 2]&#10;Color: (200, 0, 0)\" style=\"width: 20px; height: 20px;background-color: rgb(200, 0, 0);\"></td><td title=\"Index: [2, 3]&#10;Color: (200, 200, 200)\" style=\"width: 20px; height: 20px;background-color: rgb(200, 200, 200);\"></td><td title=\"Index: [2, 4]&#10;Color: (77, 200, 0)\" style=\"width: 20px; height: 20px;background-color: rgb(77, 200, 0);\"></td><td title=\"Index: [2, 5]&#10;Color: (240, 222, 29)\" style=\"width: 20px; height: 20px;background-color: rgb(240, 222, 29);\"></td></tr><tr><td title=\"Index: [3, 0]&#10;Color: (200, 0, 0)\" style=\"width: 20px; height: 20px;background-color: rgb(200, 0, 0);\"></td><td title=\"Index: [3, 1]&#10;Color: (200, 200, 200)\" style=\"width: 20px; height: 20px;background-color: rgb(200, 200, 200);\"></td><td title=\"Index: [3, 2]&#10;Color: (200, 200, 200)\" style=\"width: 20px; height: 20px;background-color: rgb(200, 200, 200);\"></td><td title=\"Index: [3, 3]&#10;Color: (200, 200, 200)\" style=\"width: 20px; height: 20px;background-color: rgb(200, 200, 200);\"></td><td title=\"Index: [3, 4]&#10;Color: (200, 200, 200)\" style=\"width: 20px; height: 20px;background-color: rgb(200, 200, 200);\"></td><td title=\"Index: [3, 5]&#10;Color: (200, 200, 200)\" style=\"width: 20px; height: 20px;background-color: rgb(200, 200, 200);\"></td></tr><tr><td title=\"Index: [4, 0]&#10;Color: (200, 200, 200)\" style=\"width: 20px; height: 20px;background-color: rgb(200, 200, 200);\"></td><td title=\"Index: [4, 1]&#10;Color: (200, 200, 200)\" style=\"width: 20px; height: 20px;background-color: rgb(200, 200, 200);\"></td><td title=\"Index: [4, 2]&#10;Color: (66, 135, 245)\" style=\"width: 20px; height: 20px;background-color: rgb(66, 135, 245);\"></td><td title=\"Index: [4, 3]&#10;Color: (200, 200, 200)\" style=\"width: 20px; height: 20px;background-color: rgb(200, 200, 200);\"></td><td title=\"Index: [4, 4]&#10;Color: (200, 0, 0)\" style=\"width: 20px; height: 20px;background-color: rgb(200, 0, 0);\"></td><td title=\"Index: [4, 5]&#10;Color: (200, 200, 200)\" style=\"width: 20px; height: 20px;background-color: rgb(200, 200, 200);\"></td></tr><tr><td title=\"Index: [5, 0]&#10;Color: (157, 200, 0)\" style=\"width: 20px; height: 20px;background-color: rgb(157, 200, 0);\"></td><td title=\"Index: [5, 1]&#10;Color: (200, 200, 200)\" style=\"width: 20px; height: 20px;background-color: rgb(200, 200, 200);\"></td><td title=\"Index: [5, 2]&#10;Color: (25, 32, 33)\" style=\"width: 20px; height: 20px;background-color: rgb(25, 32, 33);\"></td><td title=\"Index: [5, 3]&#10;Color: (200, 200, 200)\" style=\"width: 20px; height: 20px;background-color: rgb(200, 200, 200);\"></td><td title=\"Index: [5, 4]&#10;Color: (200, 200, 200)\" style=\"width: 20px; height: 20px;background-color: rgb(200, 200, 200);\"></td><td title=\"Index: [5, 5]&#10;Color: (200, 200, 200)\" style=\"width: 20px; height: 20px;background-color: rgb(200, 200, 200);\"></td></tr></tbody></table>"
      ],
      "text/plain": [
       "<IPython.core.display.HTML object>"
      ]
     },
     "metadata": {},
     "output_type": "display_data"
    },
    {
     "name": "stdout",
     "output_type": "stream",
     "text": [
      "Current Lives with PlayerA : 10\n",
      "PlayerA decided to move at location: [1, 5]\n"
     ]
    },
    {
     "data": {
      "text/html": [],
      "text/plain": [
       "<IPython.core.display.HTML object>"
      ]
     },
     "metadata": {},
     "output_type": "display_data"
    },
    {
     "data": {
      "text/html": [
       "<style type=\"text/css\">table.blockgrid {border: none;} .blockgrid tr {border: none;} .blockgrid td {padding: 0px;} #blocks22a3291b-c28a-4674-92c2-4fccf1195d8c td {border: 1px solid white;}</style><table id=\"blocks22a3291b-c28a-4674-92c2-4fccf1195d8c\" class=\"blockgrid\"><tbody><tr><td title=\"Index: [0, 0]&#10;Color: (200, 200, 200)\" style=\"width: 20px; height: 20px;background-color: rgb(200, 200, 200);\"></td><td title=\"Index: [0, 1]&#10;Color: (200, 200, 200)\" style=\"width: 20px; height: 20px;background-color: rgb(200, 200, 200);\"></td><td title=\"Index: [0, 2]&#10;Color: (200, 200, 200)\" style=\"width: 20px; height: 20px;background-color: rgb(200, 200, 200);\"></td><td title=\"Index: [0, 3]&#10;Color: (200, 200, 200)\" style=\"width: 20px; height: 20px;background-color: rgb(200, 200, 200);\"></td><td title=\"Index: [0, 4]&#10;Color: (200, 200, 200)\" style=\"width: 20px; height: 20px;background-color: rgb(200, 200, 200);\"></td><td title=\"Index: [0, 5]&#10;Color: (200, 200, 200)\" style=\"width: 20px; height: 20px;background-color: rgb(200, 200, 200);\"></td></tr><tr><td title=\"Index: [1, 0]&#10;Color: (200, 200, 200)\" style=\"width: 20px; height: 20px;background-color: rgb(200, 200, 200);\"></td><td title=\"Index: [1, 1]&#10;Color: (214, 30, 107)\" style=\"width: 20px; height: 20px;background-color: rgb(214, 30, 107);\"></td><td title=\"Index: [1, 2]&#10;Color: (200, 103, 0)\" style=\"width: 20px; height: 20px;background-color: rgb(200, 103, 0);\"></td><td title=\"Index: [1, 3]&#10;Color: (200, 200, 200)\" style=\"width: 20px; height: 20px;background-color: rgb(200, 200, 200);\"></td><td title=\"Index: [1, 4]&#10;Color: (200, 200, 200)\" style=\"width: 20px; height: 20px;background-color: rgb(200, 200, 200);\"></td><td title=\"Index: [1, 5]&#10;Color: (200, 200, 200)\" style=\"width: 20px; height: 20px;background-color: rgb(200, 200, 200);\"></td></tr><tr><td title=\"Index: [2, 0]&#10;Color: (200, 200, 200)\" style=\"width: 20px; height: 20px;background-color: rgb(200, 200, 200);\"></td><td title=\"Index: [2, 1]&#10;Color: (200, 200, 200)\" style=\"width: 20px; height: 20px;background-color: rgb(200, 200, 200);\"></td><td title=\"Index: [2, 2]&#10;Color: (200, 0, 0)\" style=\"width: 20px; height: 20px;background-color: rgb(200, 0, 0);\"></td><td title=\"Index: [2, 3]&#10;Color: (200, 200, 200)\" style=\"width: 20px; height: 20px;background-color: rgb(200, 200, 200);\"></td><td title=\"Index: [2, 4]&#10;Color: (77, 200, 0)\" style=\"width: 20px; height: 20px;background-color: rgb(77, 200, 0);\"></td><td title=\"Index: [2, 5]&#10;Color: (240, 222, 29)\" style=\"width: 20px; height: 20px;background-color: rgb(240, 222, 29);\"></td></tr><tr><td title=\"Index: [3, 0]&#10;Color: (200, 0, 0)\" style=\"width: 20px; height: 20px;background-color: rgb(200, 0, 0);\"></td><td title=\"Index: [3, 1]&#10;Color: (200, 200, 200)\" style=\"width: 20px; height: 20px;background-color: rgb(200, 200, 200);\"></td><td title=\"Index: [3, 2]&#10;Color: (200, 200, 200)\" style=\"width: 20px; height: 20px;background-color: rgb(200, 200, 200);\"></td><td title=\"Index: [3, 3]&#10;Color: (200, 200, 200)\" style=\"width: 20px; height: 20px;background-color: rgb(200, 200, 200);\"></td><td title=\"Index: [3, 4]&#10;Color: (200, 200, 200)\" style=\"width: 20px; height: 20px;background-color: rgb(200, 200, 200);\"></td><td title=\"Index: [3, 5]&#10;Color: (200, 200, 200)\" style=\"width: 20px; height: 20px;background-color: rgb(200, 200, 200);\"></td></tr><tr><td title=\"Index: [4, 0]&#10;Color: (200, 200, 200)\" style=\"width: 20px; height: 20px;background-color: rgb(200, 200, 200);\"></td><td title=\"Index: [4, 1]&#10;Color: (200, 200, 200)\" style=\"width: 20px; height: 20px;background-color: rgb(200, 200, 200);\"></td><td title=\"Index: [4, 2]&#10;Color: (66, 135, 245)\" style=\"width: 20px; height: 20px;background-color: rgb(66, 135, 245);\"></td><td title=\"Index: [4, 3]&#10;Color: (200, 200, 200)\" style=\"width: 20px; height: 20px;background-color: rgb(200, 200, 200);\"></td><td title=\"Index: [4, 4]&#10;Color: (200, 0, 0)\" style=\"width: 20px; height: 20px;background-color: rgb(200, 0, 0);\"></td><td title=\"Index: [4, 5]&#10;Color: (200, 200, 200)\" style=\"width: 20px; height: 20px;background-color: rgb(200, 200, 200);\"></td></tr><tr><td title=\"Index: [5, 0]&#10;Color: (157, 200, 0)\" style=\"width: 20px; height: 20px;background-color: rgb(157, 200, 0);\"></td><td title=\"Index: [5, 1]&#10;Color: (25, 32, 33)\" style=\"width: 20px; height: 20px;background-color: rgb(25, 32, 33);\"></td><td title=\"Index: [5, 2]&#10;Color: (200, 200, 200)\" style=\"width: 20px; height: 20px;background-color: rgb(200, 200, 200);\"></td><td title=\"Index: [5, 3]&#10;Color: (200, 200, 200)\" style=\"width: 20px; height: 20px;background-color: rgb(200, 200, 200);\"></td><td title=\"Index: [5, 4]&#10;Color: (200, 200, 200)\" style=\"width: 20px; height: 20px;background-color: rgb(200, 200, 200);\"></td><td title=\"Index: [5, 5]&#10;Color: (200, 200, 200)\" style=\"width: 20px; height: 20px;background-color: rgb(200, 200, 200);\"></td></tr></tbody></table>"
      ],
      "text/plain": [
       "<IPython.core.display.HTML object>"
      ]
     },
     "metadata": {},
     "output_type": "display_data"
    },
    {
     "name": "stdout",
     "output_type": "stream",
     "text": [
      "Current Lives with PlayerA : 10\n",
      "PlayerA decided to move at location: [1, 4]\n"
     ]
    },
    {
     "data": {
      "text/html": [],
      "text/plain": [
       "<IPython.core.display.HTML object>"
      ]
     },
     "metadata": {},
     "output_type": "display_data"
    },
    {
     "data": {
      "text/html": [
       "<style type=\"text/css\">table.blockgrid {border: none;} .blockgrid tr {border: none;} .blockgrid td {padding: 0px;} #blocks919824c3-566e-4739-9d3b-c396cf0e1d05 td {border: 1px solid white;}</style><table id=\"blocks919824c3-566e-4739-9d3b-c396cf0e1d05\" class=\"blockgrid\"><tbody><tr><td title=\"Index: [0, 0]&#10;Color: (200, 200, 200)\" style=\"width: 20px; height: 20px;background-color: rgb(200, 200, 200);\"></td><td title=\"Index: [0, 1]&#10;Color: (200, 200, 200)\" style=\"width: 20px; height: 20px;background-color: rgb(200, 200, 200);\"></td><td title=\"Index: [0, 2]&#10;Color: (200, 200, 200)\" style=\"width: 20px; height: 20px;background-color: rgb(200, 200, 200);\"></td><td title=\"Index: [0, 3]&#10;Color: (200, 200, 200)\" style=\"width: 20px; height: 20px;background-color: rgb(200, 200, 200);\"></td><td title=\"Index: [0, 4]&#10;Color: (200, 200, 200)\" style=\"width: 20px; height: 20px;background-color: rgb(200, 200, 200);\"></td><td title=\"Index: [0, 5]&#10;Color: (200, 200, 200)\" style=\"width: 20px; height: 20px;background-color: rgb(200, 200, 200);\"></td></tr><tr><td title=\"Index: [1, 0]&#10;Color: (200, 200, 200)\" style=\"width: 20px; height: 20px;background-color: rgb(200, 200, 200);\"></td><td title=\"Index: [1, 1]&#10;Color: (214, 30, 107)\" style=\"width: 20px; height: 20px;background-color: rgb(214, 30, 107);\"></td><td title=\"Index: [1, 2]&#10;Color: (200, 103, 0)\" style=\"width: 20px; height: 20px;background-color: rgb(200, 103, 0);\"></td><td title=\"Index: [1, 3]&#10;Color: (200, 200, 200)\" style=\"width: 20px; height: 20px;background-color: rgb(200, 200, 200);\"></td><td title=\"Index: [1, 4]&#10;Color: (200, 200, 200)\" style=\"width: 20px; height: 20px;background-color: rgb(200, 200, 200);\"></td><td title=\"Index: [1, 5]&#10;Color: (200, 200, 200)\" style=\"width: 20px; height: 20px;background-color: rgb(200, 200, 200);\"></td></tr><tr><td title=\"Index: [2, 0]&#10;Color: (200, 200, 200)\" style=\"width: 20px; height: 20px;background-color: rgb(200, 200, 200);\"></td><td title=\"Index: [2, 1]&#10;Color: (200, 200, 200)\" style=\"width: 20px; height: 20px;background-color: rgb(200, 200, 200);\"></td><td title=\"Index: [2, 2]&#10;Color: (200, 0, 0)\" style=\"width: 20px; height: 20px;background-color: rgb(200, 0, 0);\"></td><td title=\"Index: [2, 3]&#10;Color: (200, 200, 200)\" style=\"width: 20px; height: 20px;background-color: rgb(200, 200, 200);\"></td><td title=\"Index: [2, 4]&#10;Color: (77, 200, 0)\" style=\"width: 20px; height: 20px;background-color: rgb(77, 200, 0);\"></td><td title=\"Index: [2, 5]&#10;Color: (240, 222, 29)\" style=\"width: 20px; height: 20px;background-color: rgb(240, 222, 29);\"></td></tr><tr><td title=\"Index: [3, 0]&#10;Color: (200, 0, 0)\" style=\"width: 20px; height: 20px;background-color: rgb(200, 0, 0);\"></td><td title=\"Index: [3, 1]&#10;Color: (200, 200, 200)\" style=\"width: 20px; height: 20px;background-color: rgb(200, 200, 200);\"></td><td title=\"Index: [3, 2]&#10;Color: (200, 200, 200)\" style=\"width: 20px; height: 20px;background-color: rgb(200, 200, 200);\"></td><td title=\"Index: [3, 3]&#10;Color: (200, 200, 200)\" style=\"width: 20px; height: 20px;background-color: rgb(200, 200, 200);\"></td><td title=\"Index: [3, 4]&#10;Color: (200, 200, 200)\" style=\"width: 20px; height: 20px;background-color: rgb(200, 200, 200);\"></td><td title=\"Index: [3, 5]&#10;Color: (200, 200, 200)\" style=\"width: 20px; height: 20px;background-color: rgb(200, 200, 200);\"></td></tr><tr><td title=\"Index: [4, 0]&#10;Color: (200, 200, 200)\" style=\"width: 20px; height: 20px;background-color: rgb(200, 200, 200);\"></td><td title=\"Index: [4, 1]&#10;Color: (25, 32, 33)\" style=\"width: 20px; height: 20px;background-color: rgb(25, 32, 33);\"></td><td title=\"Index: [4, 2]&#10;Color: (66, 135, 245)\" style=\"width: 20px; height: 20px;background-color: rgb(66, 135, 245);\"></td><td title=\"Index: [4, 3]&#10;Color: (200, 200, 200)\" style=\"width: 20px; height: 20px;background-color: rgb(200, 200, 200);\"></td><td title=\"Index: [4, 4]&#10;Color: (200, 0, 0)\" style=\"width: 20px; height: 20px;background-color: rgb(200, 0, 0);\"></td><td title=\"Index: [4, 5]&#10;Color: (200, 200, 200)\" style=\"width: 20px; height: 20px;background-color: rgb(200, 200, 200);\"></td></tr><tr><td title=\"Index: [5, 0]&#10;Color: (157, 200, 0)\" style=\"width: 20px; height: 20px;background-color: rgb(157, 200, 0);\"></td><td title=\"Index: [5, 1]&#10;Color: (200, 200, 200)\" style=\"width: 20px; height: 20px;background-color: rgb(200, 200, 200);\"></td><td title=\"Index: [5, 2]&#10;Color: (200, 200, 200)\" style=\"width: 20px; height: 20px;background-color: rgb(200, 200, 200);\"></td><td title=\"Index: [5, 3]&#10;Color: (200, 200, 200)\" style=\"width: 20px; height: 20px;background-color: rgb(200, 200, 200);\"></td><td title=\"Index: [5, 4]&#10;Color: (200, 200, 200)\" style=\"width: 20px; height: 20px;background-color: rgb(200, 200, 200);\"></td><td title=\"Index: [5, 5]&#10;Color: (200, 200, 200)\" style=\"width: 20px; height: 20px;background-color: rgb(200, 200, 200);\"></td></tr></tbody></table>"
      ],
      "text/plain": [
       "<IPython.core.display.HTML object>"
      ]
     },
     "metadata": {},
     "output_type": "display_data"
    },
    {
     "name": "stdout",
     "output_type": "stream",
     "text": [
      "Current Lives with PlayerA : 10\n",
      "PlayerA decided to move at location: [1, 3]\n"
     ]
    },
    {
     "data": {
      "text/html": [],
      "text/plain": [
       "<IPython.core.display.HTML object>"
      ]
     },
     "metadata": {},
     "output_type": "display_data"
    },
    {
     "data": {
      "text/html": [
       "<style type=\"text/css\">table.blockgrid {border: none;} .blockgrid tr {border: none;} .blockgrid td {padding: 0px;} #blocks4e352f3a-8a10-4022-98bd-04c85cbf5df3 td {border: 1px solid white;}</style><table id=\"blocks4e352f3a-8a10-4022-98bd-04c85cbf5df3\" class=\"blockgrid\"><tbody><tr><td title=\"Index: [0, 0]&#10;Color: (200, 200, 200)\" style=\"width: 20px; height: 20px;background-color: rgb(200, 200, 200);\"></td><td title=\"Index: [0, 1]&#10;Color: (200, 200, 200)\" style=\"width: 20px; height: 20px;background-color: rgb(200, 200, 200);\"></td><td title=\"Index: [0, 2]&#10;Color: (200, 200, 200)\" style=\"width: 20px; height: 20px;background-color: rgb(200, 200, 200);\"></td><td title=\"Index: [0, 3]&#10;Color: (200, 200, 200)\" style=\"width: 20px; height: 20px;background-color: rgb(200, 200, 200);\"></td><td title=\"Index: [0, 4]&#10;Color: (200, 200, 200)\" style=\"width: 20px; height: 20px;background-color: rgb(200, 200, 200);\"></td><td title=\"Index: [0, 5]&#10;Color: (200, 200, 200)\" style=\"width: 20px; height: 20px;background-color: rgb(200, 200, 200);\"></td></tr><tr><td title=\"Index: [1, 0]&#10;Color: (200, 200, 200)\" style=\"width: 20px; height: 20px;background-color: rgb(200, 200, 200);\"></td><td title=\"Index: [1, 1]&#10;Color: (214, 30, 107)\" style=\"width: 20px; height: 20px;background-color: rgb(214, 30, 107);\"></td><td title=\"Index: [1, 2]&#10;Color: (200, 103, 0)\" style=\"width: 20px; height: 20px;background-color: rgb(200, 103, 0);\"></td><td title=\"Index: [1, 3]&#10;Color: (200, 200, 200)\" style=\"width: 20px; height: 20px;background-color: rgb(200, 200, 200);\"></td><td title=\"Index: [1, 4]&#10;Color: (200, 200, 200)\" style=\"width: 20px; height: 20px;background-color: rgb(200, 200, 200);\"></td><td title=\"Index: [1, 5]&#10;Color: (200, 200, 200)\" style=\"width: 20px; height: 20px;background-color: rgb(200, 200, 200);\"></td></tr><tr><td title=\"Index: [2, 0]&#10;Color: (200, 200, 200)\" style=\"width: 20px; height: 20px;background-color: rgb(200, 200, 200);\"></td><td title=\"Index: [2, 1]&#10;Color: (200, 200, 200)\" style=\"width: 20px; height: 20px;background-color: rgb(200, 200, 200);\"></td><td title=\"Index: [2, 2]&#10;Color: (200, 0, 0)\" style=\"width: 20px; height: 20px;background-color: rgb(200, 0, 0);\"></td><td title=\"Index: [2, 3]&#10;Color: (200, 200, 200)\" style=\"width: 20px; height: 20px;background-color: rgb(200, 200, 200);\"></td><td title=\"Index: [2, 4]&#10;Color: (77, 200, 0)\" style=\"width: 20px; height: 20px;background-color: rgb(77, 200, 0);\"></td><td title=\"Index: [2, 5]&#10;Color: (240, 222, 29)\" style=\"width: 20px; height: 20px;background-color: rgb(240, 222, 29);\"></td></tr><tr><td title=\"Index: [3, 0]&#10;Color: (200, 0, 0)\" style=\"width: 20px; height: 20px;background-color: rgb(200, 0, 0);\"></td><td title=\"Index: [3, 1]&#10;Color: (25, 32, 33)\" style=\"width: 20px; height: 20px;background-color: rgb(25, 32, 33);\"></td><td title=\"Index: [3, 2]&#10;Color: (200, 200, 200)\" style=\"width: 20px; height: 20px;background-color: rgb(200, 200, 200);\"></td><td title=\"Index: [3, 3]&#10;Color: (200, 200, 200)\" style=\"width: 20px; height: 20px;background-color: rgb(200, 200, 200);\"></td><td title=\"Index: [3, 4]&#10;Color: (200, 200, 200)\" style=\"width: 20px; height: 20px;background-color: rgb(200, 200, 200);\"></td><td title=\"Index: [3, 5]&#10;Color: (200, 200, 200)\" style=\"width: 20px; height: 20px;background-color: rgb(200, 200, 200);\"></td></tr><tr><td title=\"Index: [4, 0]&#10;Color: (200, 200, 200)\" style=\"width: 20px; height: 20px;background-color: rgb(200, 200, 200);\"></td><td title=\"Index: [4, 1]&#10;Color: (200, 200, 200)\" style=\"width: 20px; height: 20px;background-color: rgb(200, 200, 200);\"></td><td title=\"Index: [4, 2]&#10;Color: (66, 135, 245)\" style=\"width: 20px; height: 20px;background-color: rgb(66, 135, 245);\"></td><td title=\"Index: [4, 3]&#10;Color: (200, 200, 200)\" style=\"width: 20px; height: 20px;background-color: rgb(200, 200, 200);\"></td><td title=\"Index: [4, 4]&#10;Color: (200, 0, 0)\" style=\"width: 20px; height: 20px;background-color: rgb(200, 0, 0);\"></td><td title=\"Index: [4, 5]&#10;Color: (200, 200, 200)\" style=\"width: 20px; height: 20px;background-color: rgb(200, 200, 200);\"></td></tr><tr><td title=\"Index: [5, 0]&#10;Color: (157, 200, 0)\" style=\"width: 20px; height: 20px;background-color: rgb(157, 200, 0);\"></td><td title=\"Index: [5, 1]&#10;Color: (200, 200, 200)\" style=\"width: 20px; height: 20px;background-color: rgb(200, 200, 200);\"></td><td title=\"Index: [5, 2]&#10;Color: (200, 200, 200)\" style=\"width: 20px; height: 20px;background-color: rgb(200, 200, 200);\"></td><td title=\"Index: [5, 3]&#10;Color: (200, 200, 200)\" style=\"width: 20px; height: 20px;background-color: rgb(200, 200, 200);\"></td><td title=\"Index: [5, 4]&#10;Color: (200, 200, 200)\" style=\"width: 20px; height: 20px;background-color: rgb(200, 200, 200);\"></td><td title=\"Index: [5, 5]&#10;Color: (200, 200, 200)\" style=\"width: 20px; height: 20px;background-color: rgb(200, 200, 200);\"></td></tr></tbody></table>"
      ],
      "text/plain": [
       "<IPython.core.display.HTML object>"
      ]
     },
     "metadata": {},
     "output_type": "display_data"
    },
    {
     "name": "stdout",
     "output_type": "stream",
     "text": [
      "Current Lives with PlayerA : 10\n",
      "PlayerA decided to move at location: [1, 2]\n"
     ]
    },
    {
     "data": {
      "text/html": [],
      "text/plain": [
       "<IPython.core.display.HTML object>"
      ]
     },
     "metadata": {},
     "output_type": "display_data"
    },
    {
     "data": {
      "text/html": [
       "<style type=\"text/css\">table.blockgrid {border: none;} .blockgrid tr {border: none;} .blockgrid td {padding: 0px;} #blocksf4ee8845-bad7-49ac-8f2e-4e1096b33853 td {border: 1px solid white;}</style><table id=\"blocksf4ee8845-bad7-49ac-8f2e-4e1096b33853\" class=\"blockgrid\"><tbody><tr><td title=\"Index: [0, 0]&#10;Color: (200, 200, 200)\" style=\"width: 20px; height: 20px;background-color: rgb(200, 200, 200);\"></td><td title=\"Index: [0, 1]&#10;Color: (200, 200, 200)\" style=\"width: 20px; height: 20px;background-color: rgb(200, 200, 200);\"></td><td title=\"Index: [0, 2]&#10;Color: (200, 200, 200)\" style=\"width: 20px; height: 20px;background-color: rgb(200, 200, 200);\"></td><td title=\"Index: [0, 3]&#10;Color: (200, 200, 200)\" style=\"width: 20px; height: 20px;background-color: rgb(200, 200, 200);\"></td><td title=\"Index: [0, 4]&#10;Color: (200, 200, 200)\" style=\"width: 20px; height: 20px;background-color: rgb(200, 200, 200);\"></td><td title=\"Index: [0, 5]&#10;Color: (200, 200, 200)\" style=\"width: 20px; height: 20px;background-color: rgb(200, 200, 200);\"></td></tr><tr><td title=\"Index: [1, 0]&#10;Color: (200, 200, 200)\" style=\"width: 20px; height: 20px;background-color: rgb(200, 200, 200);\"></td><td title=\"Index: [1, 1]&#10;Color: (214, 30, 107)\" style=\"width: 20px; height: 20px;background-color: rgb(214, 30, 107);\"></td><td title=\"Index: [1, 2]&#10;Color: (200, 103, 0)\" style=\"width: 20px; height: 20px;background-color: rgb(200, 103, 0);\"></td><td title=\"Index: [1, 3]&#10;Color: (200, 200, 200)\" style=\"width: 20px; height: 20px;background-color: rgb(200, 200, 200);\"></td><td title=\"Index: [1, 4]&#10;Color: (200, 200, 200)\" style=\"width: 20px; height: 20px;background-color: rgb(200, 200, 200);\"></td><td title=\"Index: [1, 5]&#10;Color: (200, 200, 200)\" style=\"width: 20px; height: 20px;background-color: rgb(200, 200, 200);\"></td></tr><tr><td title=\"Index: [2, 0]&#10;Color: (200, 200, 200)\" style=\"width: 20px; height: 20px;background-color: rgb(200, 200, 200);\"></td><td title=\"Index: [2, 1]&#10;Color: (25, 32, 33)\" style=\"width: 20px; height: 20px;background-color: rgb(25, 32, 33);\"></td><td title=\"Index: [2, 2]&#10;Color: (200, 0, 0)\" style=\"width: 20px; height: 20px;background-color: rgb(200, 0, 0);\"></td><td title=\"Index: [2, 3]&#10;Color: (200, 200, 200)\" style=\"width: 20px; height: 20px;background-color: rgb(200, 200, 200);\"></td><td title=\"Index: [2, 4]&#10;Color: (77, 200, 0)\" style=\"width: 20px; height: 20px;background-color: rgb(77, 200, 0);\"></td><td title=\"Index: [2, 5]&#10;Color: (240, 222, 29)\" style=\"width: 20px; height: 20px;background-color: rgb(240, 222, 29);\"></td></tr><tr><td title=\"Index: [3, 0]&#10;Color: (200, 0, 0)\" style=\"width: 20px; height: 20px;background-color: rgb(200, 0, 0);\"></td><td title=\"Index: [3, 1]&#10;Color: (200, 200, 200)\" style=\"width: 20px; height: 20px;background-color: rgb(200, 200, 200);\"></td><td title=\"Index: [3, 2]&#10;Color: (200, 200, 200)\" style=\"width: 20px; height: 20px;background-color: rgb(200, 200, 200);\"></td><td title=\"Index: [3, 3]&#10;Color: (200, 200, 200)\" style=\"width: 20px; height: 20px;background-color: rgb(200, 200, 200);\"></td><td title=\"Index: [3, 4]&#10;Color: (200, 200, 200)\" style=\"width: 20px; height: 20px;background-color: rgb(200, 200, 200);\"></td><td title=\"Index: [3, 5]&#10;Color: (200, 200, 200)\" style=\"width: 20px; height: 20px;background-color: rgb(200, 200, 200);\"></td></tr><tr><td title=\"Index: [4, 0]&#10;Color: (200, 200, 200)\" style=\"width: 20px; height: 20px;background-color: rgb(200, 200, 200);\"></td><td title=\"Index: [4, 1]&#10;Color: (200, 200, 200)\" style=\"width: 20px; height: 20px;background-color: rgb(200, 200, 200);\"></td><td title=\"Index: [4, 2]&#10;Color: (66, 135, 245)\" style=\"width: 20px; height: 20px;background-color: rgb(66, 135, 245);\"></td><td title=\"Index: [4, 3]&#10;Color: (200, 200, 200)\" style=\"width: 20px; height: 20px;background-color: rgb(200, 200, 200);\"></td><td title=\"Index: [4, 4]&#10;Color: (200, 0, 0)\" style=\"width: 20px; height: 20px;background-color: rgb(200, 0, 0);\"></td><td title=\"Index: [4, 5]&#10;Color: (200, 200, 200)\" style=\"width: 20px; height: 20px;background-color: rgb(200, 200, 200);\"></td></tr><tr><td title=\"Index: [5, 0]&#10;Color: (157, 200, 0)\" style=\"width: 20px; height: 20px;background-color: rgb(157, 200, 0);\"></td><td title=\"Index: [5, 1]&#10;Color: (200, 200, 200)\" style=\"width: 20px; height: 20px;background-color: rgb(200, 200, 200);\"></td><td title=\"Index: [5, 2]&#10;Color: (200, 200, 200)\" style=\"width: 20px; height: 20px;background-color: rgb(200, 200, 200);\"></td><td title=\"Index: [5, 3]&#10;Color: (200, 200, 200)\" style=\"width: 20px; height: 20px;background-color: rgb(200, 200, 200);\"></td><td title=\"Index: [5, 4]&#10;Color: (200, 200, 200)\" style=\"width: 20px; height: 20px;background-color: rgb(200, 200, 200);\"></td><td title=\"Index: [5, 5]&#10;Color: (200, 200, 200)\" style=\"width: 20px; height: 20px;background-color: rgb(200, 200, 200);\"></td></tr></tbody></table>"
      ],
      "text/plain": [
       "<IPython.core.display.HTML object>"
      ]
     },
     "metadata": {},
     "output_type": "display_data"
    },
    {
     "name": "stdout",
     "output_type": "stream",
     "text": [
      "Current Lives with PlayerA : 10\n",
      "PlayerA decided to move at location: [0, 2]\n"
     ]
    },
    {
     "data": {
      "text/html": [],
      "text/plain": [
       "<IPython.core.display.HTML object>"
      ]
     },
     "metadata": {},
     "output_type": "display_data"
    },
    {
     "data": {
      "text/html": [
       "<style type=\"text/css\">table.blockgrid {border: none;} .blockgrid tr {border: none;} .blockgrid td {padding: 0px;} #blocks3488dc98-f873-478e-9d3e-9852f73c0287 td {border: 1px solid white;}</style><table id=\"blocks3488dc98-f873-478e-9d3e-9852f73c0287\" class=\"blockgrid\"><tbody><tr><td title=\"Index: [0, 0]&#10;Color: (200, 200, 200)\" style=\"width: 20px; height: 20px;background-color: rgb(200, 200, 200);\"></td><td title=\"Index: [0, 1]&#10;Color: (200, 200, 200)\" style=\"width: 20px; height: 20px;background-color: rgb(200, 200, 200);\"></td><td title=\"Index: [0, 2]&#10;Color: (200, 200, 200)\" style=\"width: 20px; height: 20px;background-color: rgb(200, 200, 200);\"></td><td title=\"Index: [0, 3]&#10;Color: (200, 200, 200)\" style=\"width: 20px; height: 20px;background-color: rgb(200, 200, 200);\"></td><td title=\"Index: [0, 4]&#10;Color: (200, 200, 200)\" style=\"width: 20px; height: 20px;background-color: rgb(200, 200, 200);\"></td><td title=\"Index: [0, 5]&#10;Color: (200, 200, 200)\" style=\"width: 20px; height: 20px;background-color: rgb(200, 200, 200);\"></td></tr><tr><td title=\"Index: [1, 0]&#10;Color: (200, 200, 200)\" style=\"width: 20px; height: 20px;background-color: rgb(200, 200, 200);\"></td><td title=\"Index: [1, 1]&#10;Color: (214, 30, 107)\" style=\"width: 20px; height: 20px;background-color: rgb(214, 30, 107);\"></td><td title=\"Index: [1, 2]&#10;Color: (200, 103, 0)\" style=\"width: 20px; height: 20px;background-color: rgb(200, 103, 0);\"></td><td title=\"Index: [1, 3]&#10;Color: (200, 200, 200)\" style=\"width: 20px; height: 20px;background-color: rgb(200, 200, 200);\"></td><td title=\"Index: [1, 4]&#10;Color: (200, 200, 200)\" style=\"width: 20px; height: 20px;background-color: rgb(200, 200, 200);\"></td><td title=\"Index: [1, 5]&#10;Color: (200, 200, 200)\" style=\"width: 20px; height: 20px;background-color: rgb(200, 200, 200);\"></td></tr><tr><td title=\"Index: [2, 0]&#10;Color: (25, 32, 33)\" style=\"width: 20px; height: 20px;background-color: rgb(25, 32, 33);\"></td><td title=\"Index: [2, 1]&#10;Color: (200, 200, 200)\" style=\"width: 20px; height: 20px;background-color: rgb(200, 200, 200);\"></td><td title=\"Index: [2, 2]&#10;Color: (200, 0, 0)\" style=\"width: 20px; height: 20px;background-color: rgb(200, 0, 0);\"></td><td title=\"Index: [2, 3]&#10;Color: (200, 200, 200)\" style=\"width: 20px; height: 20px;background-color: rgb(200, 200, 200);\"></td><td title=\"Index: [2, 4]&#10;Color: (77, 200, 0)\" style=\"width: 20px; height: 20px;background-color: rgb(77, 200, 0);\"></td><td title=\"Index: [2, 5]&#10;Color: (240, 222, 29)\" style=\"width: 20px; height: 20px;background-color: rgb(240, 222, 29);\"></td></tr><tr><td title=\"Index: [3, 0]&#10;Color: (200, 0, 0)\" style=\"width: 20px; height: 20px;background-color: rgb(200, 0, 0);\"></td><td title=\"Index: [3, 1]&#10;Color: (200, 200, 200)\" style=\"width: 20px; height: 20px;background-color: rgb(200, 200, 200);\"></td><td title=\"Index: [3, 2]&#10;Color: (200, 200, 200)\" style=\"width: 20px; height: 20px;background-color: rgb(200, 200, 200);\"></td><td title=\"Index: [3, 3]&#10;Color: (200, 200, 200)\" style=\"width: 20px; height: 20px;background-color: rgb(200, 200, 200);\"></td><td title=\"Index: [3, 4]&#10;Color: (200, 200, 200)\" style=\"width: 20px; height: 20px;background-color: rgb(200, 200, 200);\"></td><td title=\"Index: [3, 5]&#10;Color: (200, 200, 200)\" style=\"width: 20px; height: 20px;background-color: rgb(200, 200, 200);\"></td></tr><tr><td title=\"Index: [4, 0]&#10;Color: (200, 200, 200)\" style=\"width: 20px; height: 20px;background-color: rgb(200, 200, 200);\"></td><td title=\"Index: [4, 1]&#10;Color: (200, 200, 200)\" style=\"width: 20px; height: 20px;background-color: rgb(200, 200, 200);\"></td><td title=\"Index: [4, 2]&#10;Color: (66, 135, 245)\" style=\"width: 20px; height: 20px;background-color: rgb(66, 135, 245);\"></td><td title=\"Index: [4, 3]&#10;Color: (200, 200, 200)\" style=\"width: 20px; height: 20px;background-color: rgb(200, 200, 200);\"></td><td title=\"Index: [4, 4]&#10;Color: (200, 0, 0)\" style=\"width: 20px; height: 20px;background-color: rgb(200, 0, 0);\"></td><td title=\"Index: [4, 5]&#10;Color: (200, 200, 200)\" style=\"width: 20px; height: 20px;background-color: rgb(200, 200, 200);\"></td></tr><tr><td title=\"Index: [5, 0]&#10;Color: (157, 200, 0)\" style=\"width: 20px; height: 20px;background-color: rgb(157, 200, 0);\"></td><td title=\"Index: [5, 1]&#10;Color: (200, 200, 200)\" style=\"width: 20px; height: 20px;background-color: rgb(200, 200, 200);\"></td><td title=\"Index: [5, 2]&#10;Color: (200, 200, 200)\" style=\"width: 20px; height: 20px;background-color: rgb(200, 200, 200);\"></td><td title=\"Index: [5, 3]&#10;Color: (200, 200, 200)\" style=\"width: 20px; height: 20px;background-color: rgb(200, 200, 200);\"></td><td title=\"Index: [5, 4]&#10;Color: (200, 200, 200)\" style=\"width: 20px; height: 20px;background-color: rgb(200, 200, 200);\"></td><td title=\"Index: [5, 5]&#10;Color: (200, 200, 200)\" style=\"width: 20px; height: 20px;background-color: rgb(200, 200, 200);\"></td></tr></tbody></table>"
      ],
      "text/plain": [
       "<IPython.core.display.HTML object>"
      ]
     },
     "metadata": {},
     "output_type": "display_data"
    },
    {
     "name": "stdout",
     "output_type": "stream",
     "text": [
      "Current Lives with PlayerA : 10\n",
      "PlayerA decided to move at location: [0, 1]\n"
     ]
    },
    {
     "data": {
      "text/html": [],
      "text/plain": [
       "<IPython.core.display.HTML object>"
      ]
     },
     "metadata": {},
     "output_type": "display_data"
    },
    {
     "data": {
      "text/html": [
       "<style type=\"text/css\">table.blockgrid {border: none;} .blockgrid tr {border: none;} .blockgrid td {padding: 0px;} #blocks7a2270c0-bb90-44ef-a672-6f2cc2a7c114 td {border: 1px solid white;}</style><table id=\"blocks7a2270c0-bb90-44ef-a672-6f2cc2a7c114\" class=\"blockgrid\"><tbody><tr><td title=\"Index: [0, 0]&#10;Color: (200, 200, 200)\" style=\"width: 20px; height: 20px;background-color: rgb(200, 200, 200);\"></td><td title=\"Index: [0, 1]&#10;Color: (200, 200, 200)\" style=\"width: 20px; height: 20px;background-color: rgb(200, 200, 200);\"></td><td title=\"Index: [0, 2]&#10;Color: (200, 200, 200)\" style=\"width: 20px; height: 20px;background-color: rgb(200, 200, 200);\"></td><td title=\"Index: [0, 3]&#10;Color: (200, 200, 200)\" style=\"width: 20px; height: 20px;background-color: rgb(200, 200, 200);\"></td><td title=\"Index: [0, 4]&#10;Color: (200, 200, 200)\" style=\"width: 20px; height: 20px;background-color: rgb(200, 200, 200);\"></td><td title=\"Index: [0, 5]&#10;Color: (200, 200, 200)\" style=\"width: 20px; height: 20px;background-color: rgb(200, 200, 200);\"></td></tr><tr><td title=\"Index: [1, 0]&#10;Color: (25, 32, 33)\" style=\"width: 20px; height: 20px;background-color: rgb(25, 32, 33);\"></td><td title=\"Index: [1, 1]&#10;Color: (214, 30, 107)\" style=\"width: 20px; height: 20px;background-color: rgb(214, 30, 107);\"></td><td title=\"Index: [1, 2]&#10;Color: (200, 103, 0)\" style=\"width: 20px; height: 20px;background-color: rgb(200, 103, 0);\"></td><td title=\"Index: [1, 3]&#10;Color: (200, 200, 200)\" style=\"width: 20px; height: 20px;background-color: rgb(200, 200, 200);\"></td><td title=\"Index: [1, 4]&#10;Color: (200, 200, 200)\" style=\"width: 20px; height: 20px;background-color: rgb(200, 200, 200);\"></td><td title=\"Index: [1, 5]&#10;Color: (200, 200, 200)\" style=\"width: 20px; height: 20px;background-color: rgb(200, 200, 200);\"></td></tr><tr><td title=\"Index: [2, 0]&#10;Color: (200, 200, 200)\" style=\"width: 20px; height: 20px;background-color: rgb(200, 200, 200);\"></td><td title=\"Index: [2, 1]&#10;Color: (200, 200, 200)\" style=\"width: 20px; height: 20px;background-color: rgb(200, 200, 200);\"></td><td title=\"Index: [2, 2]&#10;Color: (200, 0, 0)\" style=\"width: 20px; height: 20px;background-color: rgb(200, 0, 0);\"></td><td title=\"Index: [2, 3]&#10;Color: (200, 200, 200)\" style=\"width: 20px; height: 20px;background-color: rgb(200, 200, 200);\"></td><td title=\"Index: [2, 4]&#10;Color: (77, 200, 0)\" style=\"width: 20px; height: 20px;background-color: rgb(77, 200, 0);\"></td><td title=\"Index: [2, 5]&#10;Color: (240, 222, 29)\" style=\"width: 20px; height: 20px;background-color: rgb(240, 222, 29);\"></td></tr><tr><td title=\"Index: [3, 0]&#10;Color: (200, 0, 0)\" style=\"width: 20px; height: 20px;background-color: rgb(200, 0, 0);\"></td><td title=\"Index: [3, 1]&#10;Color: (200, 200, 200)\" style=\"width: 20px; height: 20px;background-color: rgb(200, 200, 200);\"></td><td title=\"Index: [3, 2]&#10;Color: (200, 200, 200)\" style=\"width: 20px; height: 20px;background-color: rgb(200, 200, 200);\"></td><td title=\"Index: [3, 3]&#10;Color: (200, 200, 200)\" style=\"width: 20px; height: 20px;background-color: rgb(200, 200, 200);\"></td><td title=\"Index: [3, 4]&#10;Color: (200, 200, 200)\" style=\"width: 20px; height: 20px;background-color: rgb(200, 200, 200);\"></td><td title=\"Index: [3, 5]&#10;Color: (200, 200, 200)\" style=\"width: 20px; height: 20px;background-color: rgb(200, 200, 200);\"></td></tr><tr><td title=\"Index: [4, 0]&#10;Color: (200, 200, 200)\" style=\"width: 20px; height: 20px;background-color: rgb(200, 200, 200);\"></td><td title=\"Index: [4, 1]&#10;Color: (200, 200, 200)\" style=\"width: 20px; height: 20px;background-color: rgb(200, 200, 200);\"></td><td title=\"Index: [4, 2]&#10;Color: (66, 135, 245)\" style=\"width: 20px; height: 20px;background-color: rgb(66, 135, 245);\"></td><td title=\"Index: [4, 3]&#10;Color: (200, 200, 200)\" style=\"width: 20px; height: 20px;background-color: rgb(200, 200, 200);\"></td><td title=\"Index: [4, 4]&#10;Color: (200, 0, 0)\" style=\"width: 20px; height: 20px;background-color: rgb(200, 0, 0);\"></td><td title=\"Index: [4, 5]&#10;Color: (200, 200, 200)\" style=\"width: 20px; height: 20px;background-color: rgb(200, 200, 200);\"></td></tr><tr><td title=\"Index: [5, 0]&#10;Color: (157, 200, 0)\" style=\"width: 20px; height: 20px;background-color: rgb(157, 200, 0);\"></td><td title=\"Index: [5, 1]&#10;Color: (200, 200, 200)\" style=\"width: 20px; height: 20px;background-color: rgb(200, 200, 200);\"></td><td title=\"Index: [5, 2]&#10;Color: (200, 200, 200)\" style=\"width: 20px; height: 20px;background-color: rgb(200, 200, 200);\"></td><td title=\"Index: [5, 3]&#10;Color: (200, 200, 200)\" style=\"width: 20px; height: 20px;background-color: rgb(200, 200, 200);\"></td><td title=\"Index: [5, 4]&#10;Color: (200, 200, 200)\" style=\"width: 20px; height: 20px;background-color: rgb(200, 200, 200);\"></td><td title=\"Index: [5, 5]&#10;Color: (200, 200, 200)\" style=\"width: 20px; height: 20px;background-color: rgb(200, 200, 200);\"></td></tr></tbody></table>"
      ],
      "text/plain": [
       "<IPython.core.display.HTML object>"
      ]
     },
     "metadata": {},
     "output_type": "display_data"
    },
    {
     "name": "stdout",
     "output_type": "stream",
     "text": [
      "Current Lives with PlayerA : 10\n",
      "PlayerA decided to move at location: [0, 0]\n"
     ]
    },
    {
     "data": {
      "text/html": [],
      "text/plain": [
       "<IPython.core.display.HTML object>"
      ]
     },
     "metadata": {},
     "output_type": "display_data"
    },
    {
     "data": {
      "text/html": [
       "<style type=\"text/css\">table.blockgrid {border: none;} .blockgrid tr {border: none;} .blockgrid td {padding: 0px;} #blocksc8dfefd7-57fc-4c9e-b1ae-dc07e874d792 td {border: 1px solid white;}</style><table id=\"blocksc8dfefd7-57fc-4c9e-b1ae-dc07e874d792\" class=\"blockgrid\"><tbody><tr><td title=\"Index: [0, 0]&#10;Color: (25, 32, 33)\" style=\"width: 20px; height: 20px;background-color: rgb(25, 32, 33);\"></td><td title=\"Index: [0, 1]&#10;Color: (200, 200, 200)\" style=\"width: 20px; height: 20px;background-color: rgb(200, 200, 200);\"></td><td title=\"Index: [0, 2]&#10;Color: (200, 200, 200)\" style=\"width: 20px; height: 20px;background-color: rgb(200, 200, 200);\"></td><td title=\"Index: [0, 3]&#10;Color: (200, 200, 200)\" style=\"width: 20px; height: 20px;background-color: rgb(200, 200, 200);\"></td><td title=\"Index: [0, 4]&#10;Color: (200, 200, 200)\" style=\"width: 20px; height: 20px;background-color: rgb(200, 200, 200);\"></td><td title=\"Index: [0, 5]&#10;Color: (200, 200, 200)\" style=\"width: 20px; height: 20px;background-color: rgb(200, 200, 200);\"></td></tr><tr><td title=\"Index: [1, 0]&#10;Color: (200, 200, 200)\" style=\"width: 20px; height: 20px;background-color: rgb(200, 200, 200);\"></td><td title=\"Index: [1, 1]&#10;Color: (214, 30, 107)\" style=\"width: 20px; height: 20px;background-color: rgb(214, 30, 107);\"></td><td title=\"Index: [1, 2]&#10;Color: (200, 103, 0)\" style=\"width: 20px; height: 20px;background-color: rgb(200, 103, 0);\"></td><td title=\"Index: [1, 3]&#10;Color: (200, 200, 200)\" style=\"width: 20px; height: 20px;background-color: rgb(200, 200, 200);\"></td><td title=\"Index: [1, 4]&#10;Color: (200, 200, 200)\" style=\"width: 20px; height: 20px;background-color: rgb(200, 200, 200);\"></td><td title=\"Index: [1, 5]&#10;Color: (200, 200, 200)\" style=\"width: 20px; height: 20px;background-color: rgb(200, 200, 200);\"></td></tr><tr><td title=\"Index: [2, 0]&#10;Color: (200, 200, 200)\" style=\"width: 20px; height: 20px;background-color: rgb(200, 200, 200);\"></td><td title=\"Index: [2, 1]&#10;Color: (200, 200, 200)\" style=\"width: 20px; height: 20px;background-color: rgb(200, 200, 200);\"></td><td title=\"Index: [2, 2]&#10;Color: (200, 0, 0)\" style=\"width: 20px; height: 20px;background-color: rgb(200, 0, 0);\"></td><td title=\"Index: [2, 3]&#10;Color: (200, 200, 200)\" style=\"width: 20px; height: 20px;background-color: rgb(200, 200, 200);\"></td><td title=\"Index: [2, 4]&#10;Color: (77, 200, 0)\" style=\"width: 20px; height: 20px;background-color: rgb(77, 200, 0);\"></td><td title=\"Index: [2, 5]&#10;Color: (240, 222, 29)\" style=\"width: 20px; height: 20px;background-color: rgb(240, 222, 29);\"></td></tr><tr><td title=\"Index: [3, 0]&#10;Color: (200, 0, 0)\" style=\"width: 20px; height: 20px;background-color: rgb(200, 0, 0);\"></td><td title=\"Index: [3, 1]&#10;Color: (200, 200, 200)\" style=\"width: 20px; height: 20px;background-color: rgb(200, 200, 200);\"></td><td title=\"Index: [3, 2]&#10;Color: (200, 200, 200)\" style=\"width: 20px; height: 20px;background-color: rgb(200, 200, 200);\"></td><td title=\"Index: [3, 3]&#10;Color: (200, 200, 200)\" style=\"width: 20px; height: 20px;background-color: rgb(200, 200, 200);\"></td><td title=\"Index: [3, 4]&#10;Color: (200, 200, 200)\" style=\"width: 20px; height: 20px;background-color: rgb(200, 200, 200);\"></td><td title=\"Index: [3, 5]&#10;Color: (200, 200, 200)\" style=\"width: 20px; height: 20px;background-color: rgb(200, 200, 200);\"></td></tr><tr><td title=\"Index: [4, 0]&#10;Color: (200, 200, 200)\" style=\"width: 20px; height: 20px;background-color: rgb(200, 200, 200);\"></td><td title=\"Index: [4, 1]&#10;Color: (200, 200, 200)\" style=\"width: 20px; height: 20px;background-color: rgb(200, 200, 200);\"></td><td title=\"Index: [4, 2]&#10;Color: (66, 135, 245)\" style=\"width: 20px; height: 20px;background-color: rgb(66, 135, 245);\"></td><td title=\"Index: [4, 3]&#10;Color: (200, 200, 200)\" style=\"width: 20px; height: 20px;background-color: rgb(200, 200, 200);\"></td><td title=\"Index: [4, 4]&#10;Color: (200, 0, 0)\" style=\"width: 20px; height: 20px;background-color: rgb(200, 0, 0);\"></td><td title=\"Index: [4, 5]&#10;Color: (200, 200, 200)\" style=\"width: 20px; height: 20px;background-color: rgb(200, 200, 200);\"></td></tr><tr><td title=\"Index: [5, 0]&#10;Color: (157, 200, 0)\" style=\"width: 20px; height: 20px;background-color: rgb(157, 200, 0);\"></td><td title=\"Index: [5, 1]&#10;Color: (200, 200, 200)\" style=\"width: 20px; height: 20px;background-color: rgb(200, 200, 200);\"></td><td title=\"Index: [5, 2]&#10;Color: (200, 200, 200)\" style=\"width: 20px; height: 20px;background-color: rgb(200, 200, 200);\"></td><td title=\"Index: [5, 3]&#10;Color: (200, 200, 200)\" style=\"width: 20px; height: 20px;background-color: rgb(200, 200, 200);\"></td><td title=\"Index: [5, 4]&#10;Color: (200, 200, 200)\" style=\"width: 20px; height: 20px;background-color: rgb(200, 200, 200);\"></td><td title=\"Index: [5, 5]&#10;Color: (200, 200, 200)\" style=\"width: 20px; height: 20px;background-color: rgb(200, 200, 200);\"></td></tr></tbody></table>"
      ],
      "text/plain": [
       "<IPython.core.display.HTML object>"
      ]
     },
     "metadata": {},
     "output_type": "display_data"
    },
    {
     "name": "stdout",
     "output_type": "stream",
     "text": [
      "Current Lives with PlayerA : 10\n",
      "PlayerA won the game in 7 steps\n"
     ]
    },
    {
     "data": {
      "text/html": [],
      "text/plain": [
       "<IPython.core.display.HTML object>"
      ]
     },
     "metadata": {},
     "output_type": "display_data"
    },
    {
     "data": {
      "text/html": [
       "<style type=\"text/css\">table.blockgrid {border: none;} .blockgrid tr {border: none;} .blockgrid td {padding: 0px;} #blocks5ea91620-ff1e-40c8-a215-92bf74092c23 td {border: 1px solid white;}</style><table id=\"blocks5ea91620-ff1e-40c8-a215-92bf74092c23\" class=\"blockgrid\"><tbody><tr><td title=\"Index: [0, 0]&#10;Color: (25, 32, 33)\" style=\"width: 20px; height: 20px;background-color: rgb(25, 32, 33);\"></td><td title=\"Index: [0, 1]&#10;Color: (200, 200, 200)\" style=\"width: 20px; height: 20px;background-color: rgb(200, 200, 200);\"></td><td title=\"Index: [0, 2]&#10;Color: (200, 200, 200)\" style=\"width: 20px; height: 20px;background-color: rgb(200, 200, 200);\"></td><td title=\"Index: [0, 3]&#10;Color: (200, 200, 200)\" style=\"width: 20px; height: 20px;background-color: rgb(200, 200, 200);\"></td><td title=\"Index: [0, 4]&#10;Color: (200, 200, 200)\" style=\"width: 20px; height: 20px;background-color: rgb(200, 200, 200);\"></td><td title=\"Index: [0, 5]&#10;Color: (200, 200, 200)\" style=\"width: 20px; height: 20px;background-color: rgb(200, 200, 200);\"></td></tr><tr><td title=\"Index: [1, 0]&#10;Color: (200, 200, 200)\" style=\"width: 20px; height: 20px;background-color: rgb(200, 200, 200);\"></td><td title=\"Index: [1, 1]&#10;Color: (214, 30, 107)\" style=\"width: 20px; height: 20px;background-color: rgb(214, 30, 107);\"></td><td title=\"Index: [1, 2]&#10;Color: (200, 103, 0)\" style=\"width: 20px; height: 20px;background-color: rgb(200, 103, 0);\"></td><td title=\"Index: [1, 3]&#10;Color: (200, 200, 200)\" style=\"width: 20px; height: 20px;background-color: rgb(200, 200, 200);\"></td><td title=\"Index: [1, 4]&#10;Color: (200, 200, 200)\" style=\"width: 20px; height: 20px;background-color: rgb(200, 200, 200);\"></td><td title=\"Index: [1, 5]&#10;Color: (200, 200, 200)\" style=\"width: 20px; height: 20px;background-color: rgb(200, 200, 200);\"></td></tr><tr><td title=\"Index: [2, 0]&#10;Color: (200, 200, 200)\" style=\"width: 20px; height: 20px;background-color: rgb(200, 200, 200);\"></td><td title=\"Index: [2, 1]&#10;Color: (200, 200, 200)\" style=\"width: 20px; height: 20px;background-color: rgb(200, 200, 200);\"></td><td title=\"Index: [2, 2]&#10;Color: (200, 0, 0)\" style=\"width: 20px; height: 20px;background-color: rgb(200, 0, 0);\"></td><td title=\"Index: [2, 3]&#10;Color: (200, 200, 200)\" style=\"width: 20px; height: 20px;background-color: rgb(200, 200, 200);\"></td><td title=\"Index: [2, 4]&#10;Color: (77, 200, 0)\" style=\"width: 20px; height: 20px;background-color: rgb(77, 200, 0);\"></td><td title=\"Index: [2, 5]&#10;Color: (240, 222, 29)\" style=\"width: 20px; height: 20px;background-color: rgb(240, 222, 29);\"></td></tr><tr><td title=\"Index: [3, 0]&#10;Color: (200, 0, 0)\" style=\"width: 20px; height: 20px;background-color: rgb(200, 0, 0);\"></td><td title=\"Index: [3, 1]&#10;Color: (200, 200, 200)\" style=\"width: 20px; height: 20px;background-color: rgb(200, 200, 200);\"></td><td title=\"Index: [3, 2]&#10;Color: (200, 200, 200)\" style=\"width: 20px; height: 20px;background-color: rgb(200, 200, 200);\"></td><td title=\"Index: [3, 3]&#10;Color: (200, 200, 200)\" style=\"width: 20px; height: 20px;background-color: rgb(200, 200, 200);\"></td><td title=\"Index: [3, 4]&#10;Color: (200, 200, 200)\" style=\"width: 20px; height: 20px;background-color: rgb(200, 200, 200);\"></td><td title=\"Index: [3, 5]&#10;Color: (200, 200, 200)\" style=\"width: 20px; height: 20px;background-color: rgb(200, 200, 200);\"></td></tr><tr><td title=\"Index: [4, 0]&#10;Color: (200, 200, 200)\" style=\"width: 20px; height: 20px;background-color: rgb(200, 200, 200);\"></td><td title=\"Index: [4, 1]&#10;Color: (200, 200, 200)\" style=\"width: 20px; height: 20px;background-color: rgb(200, 200, 200);\"></td><td title=\"Index: [4, 2]&#10;Color: (66, 135, 245)\" style=\"width: 20px; height: 20px;background-color: rgb(66, 135, 245);\"></td><td title=\"Index: [4, 3]&#10;Color: (200, 200, 200)\" style=\"width: 20px; height: 20px;background-color: rgb(200, 200, 200);\"></td><td title=\"Index: [4, 4]&#10;Color: (200, 0, 0)\" style=\"width: 20px; height: 20px;background-color: rgb(200, 0, 0);\"></td><td title=\"Index: [4, 5]&#10;Color: (200, 200, 200)\" style=\"width: 20px; height: 20px;background-color: rgb(200, 200, 200);\"></td></tr><tr><td title=\"Index: [5, 0]&#10;Color: (157, 200, 0)\" style=\"width: 20px; height: 20px;background-color: rgb(157, 200, 0);\"></td><td title=\"Index: [5, 1]&#10;Color: (200, 200, 200)\" style=\"width: 20px; height: 20px;background-color: rgb(200, 200, 200);\"></td><td title=\"Index: [5, 2]&#10;Color: (200, 200, 200)\" style=\"width: 20px; height: 20px;background-color: rgb(200, 200, 200);\"></td><td title=\"Index: [5, 3]&#10;Color: (200, 200, 200)\" style=\"width: 20px; height: 20px;background-color: rgb(200, 200, 200);\"></td><td title=\"Index: [5, 4]&#10;Color: (200, 200, 200)\" style=\"width: 20px; height: 20px;background-color: rgb(200, 200, 200);\"></td><td title=\"Index: [5, 5]&#10;Color: (200, 200, 200)\" style=\"width: 20px; height: 20px;background-color: rgb(200, 200, 200);\"></td></tr></tbody></table>"
      ],
      "text/plain": [
       "<IPython.core.display.HTML object>"
      ]
     },
     "metadata": {},
     "output_type": "display_data"
    },
    {
     "name": "stdout",
     "output_type": "stream",
     "text": [
      "The PlayerA  did not grab anything in the Game\n"
     ]
    }
   ],
   "source": [
    "print('Breadth First Search \\n Shotest Route :', breadth_first_search(searchproblem).solution())\n",
    "goalpath_elements = breadth_first_search(searchproblem).solution()\n",
    "goalpath = []\n",
    "for element in goalpath_elements:\n",
    "    goalpath.append(list(element))\n",
    "    \n",
    "agent_run('PlayerA',100,PlayerA(program,goalpath, goalsearch=True),start_location)"
   ]
  },
  {
   "cell_type": "markdown",
   "metadata": {},
   "source": [
    "##### Goal Test with Depth Limited Search"
   ]
  },
  {
   "cell_type": "code",
   "execution_count": 455,
   "metadata": {},
   "outputs": [
    {
     "name": "stdout",
     "output_type": "stream",
     "text": [
      "Depth Limited Search \n",
      " Shortest Path =  [(3, 5), (3, 4), (3, 3), (2, 3), (1, 3), (1, 2), (0, 2), (0, 1), (0, 0)]\n",
      "PlayerA  started at [2, 5], facing up. See if he Wins\n"
     ]
    },
    {
     "data": {
      "text/html": [
       "<style type=\"text/css\">table.blockgrid {border: none;} .blockgrid tr {border: none;} .blockgrid td {padding: 0px;} #blocks19069aa3-9bb9-4eea-9d7f-b5c741163090 td {border: 1px solid white;}</style><table id=\"blocks19069aa3-9bb9-4eea-9d7f-b5c741163090\" class=\"blockgrid\"><tbody><tr><td title=\"Index: [0, 0]&#10;Color: (200, 200, 200)\" style=\"width: 20px; height: 20px;background-color: rgb(200, 200, 200);\"></td><td title=\"Index: [0, 1]&#10;Color: (200, 200, 200)\" style=\"width: 20px; height: 20px;background-color: rgb(200, 200, 200);\"></td><td title=\"Index: [0, 2]&#10;Color: (200, 200, 200)\" style=\"width: 20px; height: 20px;background-color: rgb(200, 200, 200);\"></td><td title=\"Index: [0, 3]&#10;Color: (200, 200, 200)\" style=\"width: 20px; height: 20px;background-color: rgb(200, 200, 200);\"></td><td title=\"Index: [0, 4]&#10;Color: (200, 200, 200)\" style=\"width: 20px; height: 20px;background-color: rgb(200, 200, 200);\"></td><td title=\"Index: [0, 5]&#10;Color: (200, 200, 200)\" style=\"width: 20px; height: 20px;background-color: rgb(200, 200, 200);\"></td></tr><tr><td title=\"Index: [1, 0]&#10;Color: (200, 200, 200)\" style=\"width: 20px; height: 20px;background-color: rgb(200, 200, 200);\"></td><td title=\"Index: [1, 1]&#10;Color: (214, 30, 107)\" style=\"width: 20px; height: 20px;background-color: rgb(214, 30, 107);\"></td><td title=\"Index: [1, 2]&#10;Color: (200, 103, 0)\" style=\"width: 20px; height: 20px;background-color: rgb(200, 103, 0);\"></td><td title=\"Index: [1, 3]&#10;Color: (200, 200, 200)\" style=\"width: 20px; height: 20px;background-color: rgb(200, 200, 200);\"></td><td title=\"Index: [1, 4]&#10;Color: (200, 200, 200)\" style=\"width: 20px; height: 20px;background-color: rgb(200, 200, 200);\"></td><td title=\"Index: [1, 5]&#10;Color: (200, 200, 200)\" style=\"width: 20px; height: 20px;background-color: rgb(200, 200, 200);\"></td></tr><tr><td title=\"Index: [2, 0]&#10;Color: (200, 200, 200)\" style=\"width: 20px; height: 20px;background-color: rgb(200, 200, 200);\"></td><td title=\"Index: [2, 1]&#10;Color: (200, 200, 200)\" style=\"width: 20px; height: 20px;background-color: rgb(200, 200, 200);\"></td><td title=\"Index: [2, 2]&#10;Color: (200, 0, 0)\" style=\"width: 20px; height: 20px;background-color: rgb(200, 0, 0);\"></td><td title=\"Index: [2, 3]&#10;Color: (200, 200, 200)\" style=\"width: 20px; height: 20px;background-color: rgb(200, 200, 200);\"></td><td title=\"Index: [2, 4]&#10;Color: (77, 200, 0)\" style=\"width: 20px; height: 20px;background-color: rgb(77, 200, 0);\"></td><td title=\"Index: [2, 5]&#10;Color: (240, 222, 29)\" style=\"width: 20px; height: 20px;background-color: rgb(240, 222, 29);\"></td></tr><tr><td title=\"Index: [3, 0]&#10;Color: (200, 0, 0)\" style=\"width: 20px; height: 20px;background-color: rgb(200, 0, 0);\"></td><td title=\"Index: [3, 1]&#10;Color: (200, 200, 200)\" style=\"width: 20px; height: 20px;background-color: rgb(200, 200, 200);\"></td><td title=\"Index: [3, 2]&#10;Color: (200, 200, 200)\" style=\"width: 20px; height: 20px;background-color: rgb(200, 200, 200);\"></td><td title=\"Index: [3, 3]&#10;Color: (200, 200, 200)\" style=\"width: 20px; height: 20px;background-color: rgb(200, 200, 200);\"></td><td title=\"Index: [3, 4]&#10;Color: (200, 200, 200)\" style=\"width: 20px; height: 20px;background-color: rgb(200, 200, 200);\"></td><td title=\"Index: [3, 5]&#10;Color: (200, 200, 200)\" style=\"width: 20px; height: 20px;background-color: rgb(200, 200, 200);\"></td></tr><tr><td title=\"Index: [4, 0]&#10;Color: (200, 200, 200)\" style=\"width: 20px; height: 20px;background-color: rgb(200, 200, 200);\"></td><td title=\"Index: [4, 1]&#10;Color: (200, 200, 200)\" style=\"width: 20px; height: 20px;background-color: rgb(200, 200, 200);\"></td><td title=\"Index: [4, 2]&#10;Color: (66, 135, 245)\" style=\"width: 20px; height: 20px;background-color: rgb(66, 135, 245);\"></td><td title=\"Index: [4, 3]&#10;Color: (200, 200, 200)\" style=\"width: 20px; height: 20px;background-color: rgb(200, 200, 200);\"></td><td title=\"Index: [4, 4]&#10;Color: (200, 0, 0)\" style=\"width: 20px; height: 20px;background-color: rgb(200, 0, 0);\"></td><td title=\"Index: [4, 5]&#10;Color: (200, 200, 200)\" style=\"width: 20px; height: 20px;background-color: rgb(200, 200, 200);\"></td></tr><tr><td title=\"Index: [5, 0]&#10;Color: (157, 200, 0)\" style=\"width: 20px; height: 20px;background-color: rgb(157, 200, 0);\"></td><td title=\"Index: [5, 1]&#10;Color: (200, 200, 200)\" style=\"width: 20px; height: 20px;background-color: rgb(200, 200, 200);\"></td><td title=\"Index: [5, 2]&#10;Color: (25, 32, 33)\" style=\"width: 20px; height: 20px;background-color: rgb(25, 32, 33);\"></td><td title=\"Index: [5, 3]&#10;Color: (200, 200, 200)\" style=\"width: 20px; height: 20px;background-color: rgb(200, 200, 200);\"></td><td title=\"Index: [5, 4]&#10;Color: (200, 200, 200)\" style=\"width: 20px; height: 20px;background-color: rgb(200, 200, 200);\"></td><td title=\"Index: [5, 5]&#10;Color: (200, 200, 200)\" style=\"width: 20px; height: 20px;background-color: rgb(200, 200, 200);\"></td></tr></tbody></table>"
      ],
      "text/plain": [
       "<IPython.core.display.HTML object>"
      ]
     },
     "metadata": {},
     "output_type": "display_data"
    },
    {
     "name": "stdout",
     "output_type": "stream",
     "text": [
      "Current Lives with PlayerA : 10\n",
      "PlayerA decided to move at location: [3, 5]\n"
     ]
    },
    {
     "data": {
      "text/html": [],
      "text/plain": [
       "<IPython.core.display.HTML object>"
      ]
     },
     "metadata": {},
     "output_type": "display_data"
    },
    {
     "data": {
      "text/html": [
       "<style type=\"text/css\">table.blockgrid {border: none;} .blockgrid tr {border: none;} .blockgrid td {padding: 0px;} #blocks9a385485-8800-4074-827d-94d08999c9f7 td {border: 1px solid white;}</style><table id=\"blocks9a385485-8800-4074-827d-94d08999c9f7\" class=\"blockgrid\"><tbody><tr><td title=\"Index: [0, 0]&#10;Color: (200, 200, 200)\" style=\"width: 20px; height: 20px;background-color: rgb(200, 200, 200);\"></td><td title=\"Index: [0, 1]&#10;Color: (200, 200, 200)\" style=\"width: 20px; height: 20px;background-color: rgb(200, 200, 200);\"></td><td title=\"Index: [0, 2]&#10;Color: (200, 200, 200)\" style=\"width: 20px; height: 20px;background-color: rgb(200, 200, 200);\"></td><td title=\"Index: [0, 3]&#10;Color: (200, 200, 200)\" style=\"width: 20px; height: 20px;background-color: rgb(200, 200, 200);\"></td><td title=\"Index: [0, 4]&#10;Color: (200, 200, 200)\" style=\"width: 20px; height: 20px;background-color: rgb(200, 200, 200);\"></td><td title=\"Index: [0, 5]&#10;Color: (200, 200, 200)\" style=\"width: 20px; height: 20px;background-color: rgb(200, 200, 200);\"></td></tr><tr><td title=\"Index: [1, 0]&#10;Color: (200, 200, 200)\" style=\"width: 20px; height: 20px;background-color: rgb(200, 200, 200);\"></td><td title=\"Index: [1, 1]&#10;Color: (214, 30, 107)\" style=\"width: 20px; height: 20px;background-color: rgb(214, 30, 107);\"></td><td title=\"Index: [1, 2]&#10;Color: (200, 103, 0)\" style=\"width: 20px; height: 20px;background-color: rgb(200, 103, 0);\"></td><td title=\"Index: [1, 3]&#10;Color: (200, 200, 200)\" style=\"width: 20px; height: 20px;background-color: rgb(200, 200, 200);\"></td><td title=\"Index: [1, 4]&#10;Color: (200, 200, 200)\" style=\"width: 20px; height: 20px;background-color: rgb(200, 200, 200);\"></td><td title=\"Index: [1, 5]&#10;Color: (200, 200, 200)\" style=\"width: 20px; height: 20px;background-color: rgb(200, 200, 200);\"></td></tr><tr><td title=\"Index: [2, 0]&#10;Color: (200, 200, 200)\" style=\"width: 20px; height: 20px;background-color: rgb(200, 200, 200);\"></td><td title=\"Index: [2, 1]&#10;Color: (200, 200, 200)\" style=\"width: 20px; height: 20px;background-color: rgb(200, 200, 200);\"></td><td title=\"Index: [2, 2]&#10;Color: (200, 0, 0)\" style=\"width: 20px; height: 20px;background-color: rgb(200, 0, 0);\"></td><td title=\"Index: [2, 3]&#10;Color: (200, 200, 200)\" style=\"width: 20px; height: 20px;background-color: rgb(200, 200, 200);\"></td><td title=\"Index: [2, 4]&#10;Color: (77, 200, 0)\" style=\"width: 20px; height: 20px;background-color: rgb(77, 200, 0);\"></td><td title=\"Index: [2, 5]&#10;Color: (240, 222, 29)\" style=\"width: 20px; height: 20px;background-color: rgb(240, 222, 29);\"></td></tr><tr><td title=\"Index: [3, 0]&#10;Color: (200, 0, 0)\" style=\"width: 20px; height: 20px;background-color: rgb(200, 0, 0);\"></td><td title=\"Index: [3, 1]&#10;Color: (200, 200, 200)\" style=\"width: 20px; height: 20px;background-color: rgb(200, 200, 200);\"></td><td title=\"Index: [3, 2]&#10;Color: (200, 200, 200)\" style=\"width: 20px; height: 20px;background-color: rgb(200, 200, 200);\"></td><td title=\"Index: [3, 3]&#10;Color: (200, 200, 200)\" style=\"width: 20px; height: 20px;background-color: rgb(200, 200, 200);\"></td><td title=\"Index: [3, 4]&#10;Color: (200, 200, 200)\" style=\"width: 20px; height: 20px;background-color: rgb(200, 200, 200);\"></td><td title=\"Index: [3, 5]&#10;Color: (200, 200, 200)\" style=\"width: 20px; height: 20px;background-color: rgb(200, 200, 200);\"></td></tr><tr><td title=\"Index: [4, 0]&#10;Color: (200, 200, 200)\" style=\"width: 20px; height: 20px;background-color: rgb(200, 200, 200);\"></td><td title=\"Index: [4, 1]&#10;Color: (200, 200, 200)\" style=\"width: 20px; height: 20px;background-color: rgb(200, 200, 200);\"></td><td title=\"Index: [4, 2]&#10;Color: (66, 135, 245)\" style=\"width: 20px; height: 20px;background-color: rgb(66, 135, 245);\"></td><td title=\"Index: [4, 3]&#10;Color: (200, 200, 200)\" style=\"width: 20px; height: 20px;background-color: rgb(200, 200, 200);\"></td><td title=\"Index: [4, 4]&#10;Color: (200, 0, 0)\" style=\"width: 20px; height: 20px;background-color: rgb(200, 0, 0);\"></td><td title=\"Index: [4, 5]&#10;Color: (200, 200, 200)\" style=\"width: 20px; height: 20px;background-color: rgb(200, 200, 200);\"></td></tr><tr><td title=\"Index: [5, 0]&#10;Color: (157, 200, 0)\" style=\"width: 20px; height: 20px;background-color: rgb(157, 200, 0);\"></td><td title=\"Index: [5, 1]&#10;Color: (200, 200, 200)\" style=\"width: 20px; height: 20px;background-color: rgb(200, 200, 200);\"></td><td title=\"Index: [5, 2]&#10;Color: (200, 200, 200)\" style=\"width: 20px; height: 20px;background-color: rgb(200, 200, 200);\"></td><td title=\"Index: [5, 3]&#10;Color: (25, 32, 33)\" style=\"width: 20px; height: 20px;background-color: rgb(25, 32, 33);\"></td><td title=\"Index: [5, 4]&#10;Color: (200, 200, 200)\" style=\"width: 20px; height: 20px;background-color: rgb(200, 200, 200);\"></td><td title=\"Index: [5, 5]&#10;Color: (200, 200, 200)\" style=\"width: 20px; height: 20px;background-color: rgb(200, 200, 200);\"></td></tr></tbody></table>"
      ],
      "text/plain": [
       "<IPython.core.display.HTML object>"
      ]
     },
     "metadata": {},
     "output_type": "display_data"
    },
    {
     "name": "stdout",
     "output_type": "stream",
     "text": [
      "Current Lives with PlayerA : 10\n",
      "PlayerA decided to move at location: [3, 4]\n"
     ]
    },
    {
     "data": {
      "text/html": [],
      "text/plain": [
       "<IPython.core.display.HTML object>"
      ]
     },
     "metadata": {},
     "output_type": "display_data"
    },
    {
     "data": {
      "text/html": [
       "<style type=\"text/css\">table.blockgrid {border: none;} .blockgrid tr {border: none;} .blockgrid td {padding: 0px;} #blockse635a225-dd25-42fd-aaec-a20e93f9f57e td {border: 1px solid white;}</style><table id=\"blockse635a225-dd25-42fd-aaec-a20e93f9f57e\" class=\"blockgrid\"><tbody><tr><td title=\"Index: [0, 0]&#10;Color: (200, 200, 200)\" style=\"width: 20px; height: 20px;background-color: rgb(200, 200, 200);\"></td><td title=\"Index: [0, 1]&#10;Color: (200, 200, 200)\" style=\"width: 20px; height: 20px;background-color: rgb(200, 200, 200);\"></td><td title=\"Index: [0, 2]&#10;Color: (200, 200, 200)\" style=\"width: 20px; height: 20px;background-color: rgb(200, 200, 200);\"></td><td title=\"Index: [0, 3]&#10;Color: (200, 200, 200)\" style=\"width: 20px; height: 20px;background-color: rgb(200, 200, 200);\"></td><td title=\"Index: [0, 4]&#10;Color: (200, 200, 200)\" style=\"width: 20px; height: 20px;background-color: rgb(200, 200, 200);\"></td><td title=\"Index: [0, 5]&#10;Color: (200, 200, 200)\" style=\"width: 20px; height: 20px;background-color: rgb(200, 200, 200);\"></td></tr><tr><td title=\"Index: [1, 0]&#10;Color: (200, 200, 200)\" style=\"width: 20px; height: 20px;background-color: rgb(200, 200, 200);\"></td><td title=\"Index: [1, 1]&#10;Color: (214, 30, 107)\" style=\"width: 20px; height: 20px;background-color: rgb(214, 30, 107);\"></td><td title=\"Index: [1, 2]&#10;Color: (200, 103, 0)\" style=\"width: 20px; height: 20px;background-color: rgb(200, 103, 0);\"></td><td title=\"Index: [1, 3]&#10;Color: (200, 200, 200)\" style=\"width: 20px; height: 20px;background-color: rgb(200, 200, 200);\"></td><td title=\"Index: [1, 4]&#10;Color: (200, 200, 200)\" style=\"width: 20px; height: 20px;background-color: rgb(200, 200, 200);\"></td><td title=\"Index: [1, 5]&#10;Color: (200, 200, 200)\" style=\"width: 20px; height: 20px;background-color: rgb(200, 200, 200);\"></td></tr><tr><td title=\"Index: [2, 0]&#10;Color: (200, 200, 200)\" style=\"width: 20px; height: 20px;background-color: rgb(200, 200, 200);\"></td><td title=\"Index: [2, 1]&#10;Color: (200, 200, 200)\" style=\"width: 20px; height: 20px;background-color: rgb(200, 200, 200);\"></td><td title=\"Index: [2, 2]&#10;Color: (200, 0, 0)\" style=\"width: 20px; height: 20px;background-color: rgb(200, 0, 0);\"></td><td title=\"Index: [2, 3]&#10;Color: (200, 200, 200)\" style=\"width: 20px; height: 20px;background-color: rgb(200, 200, 200);\"></td><td title=\"Index: [2, 4]&#10;Color: (77, 200, 0)\" style=\"width: 20px; height: 20px;background-color: rgb(77, 200, 0);\"></td><td title=\"Index: [2, 5]&#10;Color: (240, 222, 29)\" style=\"width: 20px; height: 20px;background-color: rgb(240, 222, 29);\"></td></tr><tr><td title=\"Index: [3, 0]&#10;Color: (200, 0, 0)\" style=\"width: 20px; height: 20px;background-color: rgb(200, 0, 0);\"></td><td title=\"Index: [3, 1]&#10;Color: (200, 200, 200)\" style=\"width: 20px; height: 20px;background-color: rgb(200, 200, 200);\"></td><td title=\"Index: [3, 2]&#10;Color: (200, 200, 200)\" style=\"width: 20px; height: 20px;background-color: rgb(200, 200, 200);\"></td><td title=\"Index: [3, 3]&#10;Color: (200, 200, 200)\" style=\"width: 20px; height: 20px;background-color: rgb(200, 200, 200);\"></td><td title=\"Index: [3, 4]&#10;Color: (200, 200, 200)\" style=\"width: 20px; height: 20px;background-color: rgb(200, 200, 200);\"></td><td title=\"Index: [3, 5]&#10;Color: (200, 200, 200)\" style=\"width: 20px; height: 20px;background-color: rgb(200, 200, 200);\"></td></tr><tr><td title=\"Index: [4, 0]&#10;Color: (200, 200, 200)\" style=\"width: 20px; height: 20px;background-color: rgb(200, 200, 200);\"></td><td title=\"Index: [4, 1]&#10;Color: (200, 200, 200)\" style=\"width: 20px; height: 20px;background-color: rgb(200, 200, 200);\"></td><td title=\"Index: [4, 2]&#10;Color: (66, 135, 245)\" style=\"width: 20px; height: 20px;background-color: rgb(66, 135, 245);\"></td><td title=\"Index: [4, 3]&#10;Color: (25, 32, 33)\" style=\"width: 20px; height: 20px;background-color: rgb(25, 32, 33);\"></td><td title=\"Index: [4, 4]&#10;Color: (200, 0, 0)\" style=\"width: 20px; height: 20px;background-color: rgb(200, 0, 0);\"></td><td title=\"Index: [4, 5]&#10;Color: (200, 200, 200)\" style=\"width: 20px; height: 20px;background-color: rgb(200, 200, 200);\"></td></tr><tr><td title=\"Index: [5, 0]&#10;Color: (157, 200, 0)\" style=\"width: 20px; height: 20px;background-color: rgb(157, 200, 0);\"></td><td title=\"Index: [5, 1]&#10;Color: (200, 200, 200)\" style=\"width: 20px; height: 20px;background-color: rgb(200, 200, 200);\"></td><td title=\"Index: [5, 2]&#10;Color: (200, 200, 200)\" style=\"width: 20px; height: 20px;background-color: rgb(200, 200, 200);\"></td><td title=\"Index: [5, 3]&#10;Color: (200, 200, 200)\" style=\"width: 20px; height: 20px;background-color: rgb(200, 200, 200);\"></td><td title=\"Index: [5, 4]&#10;Color: (200, 200, 200)\" style=\"width: 20px; height: 20px;background-color: rgb(200, 200, 200);\"></td><td title=\"Index: [5, 5]&#10;Color: (200, 200, 200)\" style=\"width: 20px; height: 20px;background-color: rgb(200, 200, 200);\"></td></tr></tbody></table>"
      ],
      "text/plain": [
       "<IPython.core.display.HTML object>"
      ]
     },
     "metadata": {},
     "output_type": "display_data"
    },
    {
     "name": "stdout",
     "output_type": "stream",
     "text": [
      "Current Lives with PlayerA : 10\n",
      "PlayerA decided to move at location: [3, 3]\n"
     ]
    },
    {
     "data": {
      "text/html": [],
      "text/plain": [
       "<IPython.core.display.HTML object>"
      ]
     },
     "metadata": {},
     "output_type": "display_data"
    },
    {
     "data": {
      "text/html": [
       "<style type=\"text/css\">table.blockgrid {border: none;} .blockgrid tr {border: none;} .blockgrid td {padding: 0px;} #blocksbbadf53b-5c66-4deb-8f94-e35676045008 td {border: 1px solid white;}</style><table id=\"blocksbbadf53b-5c66-4deb-8f94-e35676045008\" class=\"blockgrid\"><tbody><tr><td title=\"Index: [0, 0]&#10;Color: (200, 200, 200)\" style=\"width: 20px; height: 20px;background-color: rgb(200, 200, 200);\"></td><td title=\"Index: [0, 1]&#10;Color: (200, 200, 200)\" style=\"width: 20px; height: 20px;background-color: rgb(200, 200, 200);\"></td><td title=\"Index: [0, 2]&#10;Color: (200, 200, 200)\" style=\"width: 20px; height: 20px;background-color: rgb(200, 200, 200);\"></td><td title=\"Index: [0, 3]&#10;Color: (200, 200, 200)\" style=\"width: 20px; height: 20px;background-color: rgb(200, 200, 200);\"></td><td title=\"Index: [0, 4]&#10;Color: (200, 200, 200)\" style=\"width: 20px; height: 20px;background-color: rgb(200, 200, 200);\"></td><td title=\"Index: [0, 5]&#10;Color: (200, 200, 200)\" style=\"width: 20px; height: 20px;background-color: rgb(200, 200, 200);\"></td></tr><tr><td title=\"Index: [1, 0]&#10;Color: (200, 200, 200)\" style=\"width: 20px; height: 20px;background-color: rgb(200, 200, 200);\"></td><td title=\"Index: [1, 1]&#10;Color: (214, 30, 107)\" style=\"width: 20px; height: 20px;background-color: rgb(214, 30, 107);\"></td><td title=\"Index: [1, 2]&#10;Color: (200, 103, 0)\" style=\"width: 20px; height: 20px;background-color: rgb(200, 103, 0);\"></td><td title=\"Index: [1, 3]&#10;Color: (200, 200, 200)\" style=\"width: 20px; height: 20px;background-color: rgb(200, 200, 200);\"></td><td title=\"Index: [1, 4]&#10;Color: (200, 200, 200)\" style=\"width: 20px; height: 20px;background-color: rgb(200, 200, 200);\"></td><td title=\"Index: [1, 5]&#10;Color: (200, 200, 200)\" style=\"width: 20px; height: 20px;background-color: rgb(200, 200, 200);\"></td></tr><tr><td title=\"Index: [2, 0]&#10;Color: (200, 200, 200)\" style=\"width: 20px; height: 20px;background-color: rgb(200, 200, 200);\"></td><td title=\"Index: [2, 1]&#10;Color: (200, 200, 200)\" style=\"width: 20px; height: 20px;background-color: rgb(200, 200, 200);\"></td><td title=\"Index: [2, 2]&#10;Color: (200, 0, 0)\" style=\"width: 20px; height: 20px;background-color: rgb(200, 0, 0);\"></td><td title=\"Index: [2, 3]&#10;Color: (200, 200, 200)\" style=\"width: 20px; height: 20px;background-color: rgb(200, 200, 200);\"></td><td title=\"Index: [2, 4]&#10;Color: (77, 200, 0)\" style=\"width: 20px; height: 20px;background-color: rgb(77, 200, 0);\"></td><td title=\"Index: [2, 5]&#10;Color: (240, 222, 29)\" style=\"width: 20px; height: 20px;background-color: rgb(240, 222, 29);\"></td></tr><tr><td title=\"Index: [3, 0]&#10;Color: (200, 0, 0)\" style=\"width: 20px; height: 20px;background-color: rgb(200, 0, 0);\"></td><td title=\"Index: [3, 1]&#10;Color: (200, 200, 200)\" style=\"width: 20px; height: 20px;background-color: rgb(200, 200, 200);\"></td><td title=\"Index: [3, 2]&#10;Color: (200, 200, 200)\" style=\"width: 20px; height: 20px;background-color: rgb(200, 200, 200);\"></td><td title=\"Index: [3, 3]&#10;Color: (25, 32, 33)\" style=\"width: 20px; height: 20px;background-color: rgb(25, 32, 33);\"></td><td title=\"Index: [3, 4]&#10;Color: (200, 200, 200)\" style=\"width: 20px; height: 20px;background-color: rgb(200, 200, 200);\"></td><td title=\"Index: [3, 5]&#10;Color: (200, 200, 200)\" style=\"width: 20px; height: 20px;background-color: rgb(200, 200, 200);\"></td></tr><tr><td title=\"Index: [4, 0]&#10;Color: (200, 200, 200)\" style=\"width: 20px; height: 20px;background-color: rgb(200, 200, 200);\"></td><td title=\"Index: [4, 1]&#10;Color: (200, 200, 200)\" style=\"width: 20px; height: 20px;background-color: rgb(200, 200, 200);\"></td><td title=\"Index: [4, 2]&#10;Color: (66, 135, 245)\" style=\"width: 20px; height: 20px;background-color: rgb(66, 135, 245);\"></td><td title=\"Index: [4, 3]&#10;Color: (200, 200, 200)\" style=\"width: 20px; height: 20px;background-color: rgb(200, 200, 200);\"></td><td title=\"Index: [4, 4]&#10;Color: (200, 0, 0)\" style=\"width: 20px; height: 20px;background-color: rgb(200, 0, 0);\"></td><td title=\"Index: [4, 5]&#10;Color: (200, 200, 200)\" style=\"width: 20px; height: 20px;background-color: rgb(200, 200, 200);\"></td></tr><tr><td title=\"Index: [5, 0]&#10;Color: (157, 200, 0)\" style=\"width: 20px; height: 20px;background-color: rgb(157, 200, 0);\"></td><td title=\"Index: [5, 1]&#10;Color: (200, 200, 200)\" style=\"width: 20px; height: 20px;background-color: rgb(200, 200, 200);\"></td><td title=\"Index: [5, 2]&#10;Color: (200, 200, 200)\" style=\"width: 20px; height: 20px;background-color: rgb(200, 200, 200);\"></td><td title=\"Index: [5, 3]&#10;Color: (200, 200, 200)\" style=\"width: 20px; height: 20px;background-color: rgb(200, 200, 200);\"></td><td title=\"Index: [5, 4]&#10;Color: (200, 200, 200)\" style=\"width: 20px; height: 20px;background-color: rgb(200, 200, 200);\"></td><td title=\"Index: [5, 5]&#10;Color: (200, 200, 200)\" style=\"width: 20px; height: 20px;background-color: rgb(200, 200, 200);\"></td></tr></tbody></table>"
      ],
      "text/plain": [
       "<IPython.core.display.HTML object>"
      ]
     },
     "metadata": {},
     "output_type": "display_data"
    },
    {
     "name": "stdout",
     "output_type": "stream",
     "text": [
      "Current Lives with PlayerA : 10\n",
      "PlayerA decided to move at location: [2, 3]\n"
     ]
    },
    {
     "data": {
      "text/html": [],
      "text/plain": [
       "<IPython.core.display.HTML object>"
      ]
     },
     "metadata": {},
     "output_type": "display_data"
    },
    {
     "data": {
      "text/html": [
       "<style type=\"text/css\">table.blockgrid {border: none;} .blockgrid tr {border: none;} .blockgrid td {padding: 0px;} #blocks32020a38-4e88-4e8e-997f-92f913951be5 td {border: 1px solid white;}</style><table id=\"blocks32020a38-4e88-4e8e-997f-92f913951be5\" class=\"blockgrid\"><tbody><tr><td title=\"Index: [0, 0]&#10;Color: (200, 200, 200)\" style=\"width: 20px; height: 20px;background-color: rgb(200, 200, 200);\"></td><td title=\"Index: [0, 1]&#10;Color: (200, 200, 200)\" style=\"width: 20px; height: 20px;background-color: rgb(200, 200, 200);\"></td><td title=\"Index: [0, 2]&#10;Color: (200, 200, 200)\" style=\"width: 20px; height: 20px;background-color: rgb(200, 200, 200);\"></td><td title=\"Index: [0, 3]&#10;Color: (200, 200, 200)\" style=\"width: 20px; height: 20px;background-color: rgb(200, 200, 200);\"></td><td title=\"Index: [0, 4]&#10;Color: (200, 200, 200)\" style=\"width: 20px; height: 20px;background-color: rgb(200, 200, 200);\"></td><td title=\"Index: [0, 5]&#10;Color: (200, 200, 200)\" style=\"width: 20px; height: 20px;background-color: rgb(200, 200, 200);\"></td></tr><tr><td title=\"Index: [1, 0]&#10;Color: (200, 200, 200)\" style=\"width: 20px; height: 20px;background-color: rgb(200, 200, 200);\"></td><td title=\"Index: [1, 1]&#10;Color: (214, 30, 107)\" style=\"width: 20px; height: 20px;background-color: rgb(214, 30, 107);\"></td><td title=\"Index: [1, 2]&#10;Color: (200, 103, 0)\" style=\"width: 20px; height: 20px;background-color: rgb(200, 103, 0);\"></td><td title=\"Index: [1, 3]&#10;Color: (200, 200, 200)\" style=\"width: 20px; height: 20px;background-color: rgb(200, 200, 200);\"></td><td title=\"Index: [1, 4]&#10;Color: (200, 200, 200)\" style=\"width: 20px; height: 20px;background-color: rgb(200, 200, 200);\"></td><td title=\"Index: [1, 5]&#10;Color: (200, 200, 200)\" style=\"width: 20px; height: 20px;background-color: rgb(200, 200, 200);\"></td></tr><tr><td title=\"Index: [2, 0]&#10;Color: (200, 200, 200)\" style=\"width: 20px; height: 20px;background-color: rgb(200, 200, 200);\"></td><td title=\"Index: [2, 1]&#10;Color: (200, 200, 200)\" style=\"width: 20px; height: 20px;background-color: rgb(200, 200, 200);\"></td><td title=\"Index: [2, 2]&#10;Color: (200, 0, 0)\" style=\"width: 20px; height: 20px;background-color: rgb(200, 0, 0);\"></td><td title=\"Index: [2, 3]&#10;Color: (200, 200, 200)\" style=\"width: 20px; height: 20px;background-color: rgb(200, 200, 200);\"></td><td title=\"Index: [2, 4]&#10;Color: (77, 200, 0)\" style=\"width: 20px; height: 20px;background-color: rgb(77, 200, 0);\"></td><td title=\"Index: [2, 5]&#10;Color: (240, 222, 29)\" style=\"width: 20px; height: 20px;background-color: rgb(240, 222, 29);\"></td></tr><tr><td title=\"Index: [3, 0]&#10;Color: (200, 0, 0)\" style=\"width: 20px; height: 20px;background-color: rgb(200, 0, 0);\"></td><td title=\"Index: [3, 1]&#10;Color: (200, 200, 200)\" style=\"width: 20px; height: 20px;background-color: rgb(200, 200, 200);\"></td><td title=\"Index: [3, 2]&#10;Color: (25, 32, 33)\" style=\"width: 20px; height: 20px;background-color: rgb(25, 32, 33);\"></td><td title=\"Index: [3, 3]&#10;Color: (200, 200, 200)\" style=\"width: 20px; height: 20px;background-color: rgb(200, 200, 200);\"></td><td title=\"Index: [3, 4]&#10;Color: (200, 200, 200)\" style=\"width: 20px; height: 20px;background-color: rgb(200, 200, 200);\"></td><td title=\"Index: [3, 5]&#10;Color: (200, 200, 200)\" style=\"width: 20px; height: 20px;background-color: rgb(200, 200, 200);\"></td></tr><tr><td title=\"Index: [4, 0]&#10;Color: (200, 200, 200)\" style=\"width: 20px; height: 20px;background-color: rgb(200, 200, 200);\"></td><td title=\"Index: [4, 1]&#10;Color: (200, 200, 200)\" style=\"width: 20px; height: 20px;background-color: rgb(200, 200, 200);\"></td><td title=\"Index: [4, 2]&#10;Color: (66, 135, 245)\" style=\"width: 20px; height: 20px;background-color: rgb(66, 135, 245);\"></td><td title=\"Index: [4, 3]&#10;Color: (200, 200, 200)\" style=\"width: 20px; height: 20px;background-color: rgb(200, 200, 200);\"></td><td title=\"Index: [4, 4]&#10;Color: (200, 0, 0)\" style=\"width: 20px; height: 20px;background-color: rgb(200, 0, 0);\"></td><td title=\"Index: [4, 5]&#10;Color: (200, 200, 200)\" style=\"width: 20px; height: 20px;background-color: rgb(200, 200, 200);\"></td></tr><tr><td title=\"Index: [5, 0]&#10;Color: (157, 200, 0)\" style=\"width: 20px; height: 20px;background-color: rgb(157, 200, 0);\"></td><td title=\"Index: [5, 1]&#10;Color: (200, 200, 200)\" style=\"width: 20px; height: 20px;background-color: rgb(200, 200, 200);\"></td><td title=\"Index: [5, 2]&#10;Color: (200, 200, 200)\" style=\"width: 20px; height: 20px;background-color: rgb(200, 200, 200);\"></td><td title=\"Index: [5, 3]&#10;Color: (200, 200, 200)\" style=\"width: 20px; height: 20px;background-color: rgb(200, 200, 200);\"></td><td title=\"Index: [5, 4]&#10;Color: (200, 200, 200)\" style=\"width: 20px; height: 20px;background-color: rgb(200, 200, 200);\"></td><td title=\"Index: [5, 5]&#10;Color: (200, 200, 200)\" style=\"width: 20px; height: 20px;background-color: rgb(200, 200, 200);\"></td></tr></tbody></table>"
      ],
      "text/plain": [
       "<IPython.core.display.HTML object>"
      ]
     },
     "metadata": {},
     "output_type": "display_data"
    },
    {
     "name": "stdout",
     "output_type": "stream",
     "text": [
      "Current Lives with PlayerA : 10\n",
      "PlayerA decided to move at location: [1, 3]\n"
     ]
    },
    {
     "data": {
      "text/html": [],
      "text/plain": [
       "<IPython.core.display.HTML object>"
      ]
     },
     "metadata": {},
     "output_type": "display_data"
    },
    {
     "data": {
      "text/html": [
       "<style type=\"text/css\">table.blockgrid {border: none;} .blockgrid tr {border: none;} .blockgrid td {padding: 0px;} #blocks28403944-7ab0-4672-9658-8b6136213205 td {border: 1px solid white;}</style><table id=\"blocks28403944-7ab0-4672-9658-8b6136213205\" class=\"blockgrid\"><tbody><tr><td title=\"Index: [0, 0]&#10;Color: (200, 200, 200)\" style=\"width: 20px; height: 20px;background-color: rgb(200, 200, 200);\"></td><td title=\"Index: [0, 1]&#10;Color: (200, 200, 200)\" style=\"width: 20px; height: 20px;background-color: rgb(200, 200, 200);\"></td><td title=\"Index: [0, 2]&#10;Color: (200, 200, 200)\" style=\"width: 20px; height: 20px;background-color: rgb(200, 200, 200);\"></td><td title=\"Index: [0, 3]&#10;Color: (200, 200, 200)\" style=\"width: 20px; height: 20px;background-color: rgb(200, 200, 200);\"></td><td title=\"Index: [0, 4]&#10;Color: (200, 200, 200)\" style=\"width: 20px; height: 20px;background-color: rgb(200, 200, 200);\"></td><td title=\"Index: [0, 5]&#10;Color: (200, 200, 200)\" style=\"width: 20px; height: 20px;background-color: rgb(200, 200, 200);\"></td></tr><tr><td title=\"Index: [1, 0]&#10;Color: (200, 200, 200)\" style=\"width: 20px; height: 20px;background-color: rgb(200, 200, 200);\"></td><td title=\"Index: [1, 1]&#10;Color: (214, 30, 107)\" style=\"width: 20px; height: 20px;background-color: rgb(214, 30, 107);\"></td><td title=\"Index: [1, 2]&#10;Color: (200, 103, 0)\" style=\"width: 20px; height: 20px;background-color: rgb(200, 103, 0);\"></td><td title=\"Index: [1, 3]&#10;Color: (200, 200, 200)\" style=\"width: 20px; height: 20px;background-color: rgb(200, 200, 200);\"></td><td title=\"Index: [1, 4]&#10;Color: (200, 200, 200)\" style=\"width: 20px; height: 20px;background-color: rgb(200, 200, 200);\"></td><td title=\"Index: [1, 5]&#10;Color: (200, 200, 200)\" style=\"width: 20px; height: 20px;background-color: rgb(200, 200, 200);\"></td></tr><tr><td title=\"Index: [2, 0]&#10;Color: (200, 200, 200)\" style=\"width: 20px; height: 20px;background-color: rgb(200, 200, 200);\"></td><td title=\"Index: [2, 1]&#10;Color: (200, 200, 200)\" style=\"width: 20px; height: 20px;background-color: rgb(200, 200, 200);\"></td><td title=\"Index: [2, 2]&#10;Color: (200, 0, 0)\" style=\"width: 20px; height: 20px;background-color: rgb(200, 0, 0);\"></td><td title=\"Index: [2, 3]&#10;Color: (200, 200, 200)\" style=\"width: 20px; height: 20px;background-color: rgb(200, 200, 200);\"></td><td title=\"Index: [2, 4]&#10;Color: (77, 200, 0)\" style=\"width: 20px; height: 20px;background-color: rgb(77, 200, 0);\"></td><td title=\"Index: [2, 5]&#10;Color: (240, 222, 29)\" style=\"width: 20px; height: 20px;background-color: rgb(240, 222, 29);\"></td></tr><tr><td title=\"Index: [3, 0]&#10;Color: (200, 0, 0)\" style=\"width: 20px; height: 20px;background-color: rgb(200, 0, 0);\"></td><td title=\"Index: [3, 1]&#10;Color: (25, 32, 33)\" style=\"width: 20px; height: 20px;background-color: rgb(25, 32, 33);\"></td><td title=\"Index: [3, 2]&#10;Color: (200, 200, 200)\" style=\"width: 20px; height: 20px;background-color: rgb(200, 200, 200);\"></td><td title=\"Index: [3, 3]&#10;Color: (200, 200, 200)\" style=\"width: 20px; height: 20px;background-color: rgb(200, 200, 200);\"></td><td title=\"Index: [3, 4]&#10;Color: (200, 200, 200)\" style=\"width: 20px; height: 20px;background-color: rgb(200, 200, 200);\"></td><td title=\"Index: [3, 5]&#10;Color: (200, 200, 200)\" style=\"width: 20px; height: 20px;background-color: rgb(200, 200, 200);\"></td></tr><tr><td title=\"Index: [4, 0]&#10;Color: (200, 200, 200)\" style=\"width: 20px; height: 20px;background-color: rgb(200, 200, 200);\"></td><td title=\"Index: [4, 1]&#10;Color: (200, 200, 200)\" style=\"width: 20px; height: 20px;background-color: rgb(200, 200, 200);\"></td><td title=\"Index: [4, 2]&#10;Color: (66, 135, 245)\" style=\"width: 20px; height: 20px;background-color: rgb(66, 135, 245);\"></td><td title=\"Index: [4, 3]&#10;Color: (200, 200, 200)\" style=\"width: 20px; height: 20px;background-color: rgb(200, 200, 200);\"></td><td title=\"Index: [4, 4]&#10;Color: (200, 0, 0)\" style=\"width: 20px; height: 20px;background-color: rgb(200, 0, 0);\"></td><td title=\"Index: [4, 5]&#10;Color: (200, 200, 200)\" style=\"width: 20px; height: 20px;background-color: rgb(200, 200, 200);\"></td></tr><tr><td title=\"Index: [5, 0]&#10;Color: (157, 200, 0)\" style=\"width: 20px; height: 20px;background-color: rgb(157, 200, 0);\"></td><td title=\"Index: [5, 1]&#10;Color: (200, 200, 200)\" style=\"width: 20px; height: 20px;background-color: rgb(200, 200, 200);\"></td><td title=\"Index: [5, 2]&#10;Color: (200, 200, 200)\" style=\"width: 20px; height: 20px;background-color: rgb(200, 200, 200);\"></td><td title=\"Index: [5, 3]&#10;Color: (200, 200, 200)\" style=\"width: 20px; height: 20px;background-color: rgb(200, 200, 200);\"></td><td title=\"Index: [5, 4]&#10;Color: (200, 200, 200)\" style=\"width: 20px; height: 20px;background-color: rgb(200, 200, 200);\"></td><td title=\"Index: [5, 5]&#10;Color: (200, 200, 200)\" style=\"width: 20px; height: 20px;background-color: rgb(200, 200, 200);\"></td></tr></tbody></table>"
      ],
      "text/plain": [
       "<IPython.core.display.HTML object>"
      ]
     },
     "metadata": {},
     "output_type": "display_data"
    },
    {
     "name": "stdout",
     "output_type": "stream",
     "text": [
      "Current Lives with PlayerA : 10\n",
      "PlayerA decided to move at location: [1, 2]\n"
     ]
    },
    {
     "data": {
      "text/html": [],
      "text/plain": [
       "<IPython.core.display.HTML object>"
      ]
     },
     "metadata": {},
     "output_type": "display_data"
    },
    {
     "data": {
      "text/html": [
       "<style type=\"text/css\">table.blockgrid {border: none;} .blockgrid tr {border: none;} .blockgrid td {padding: 0px;} #blockscb048e77-3d7a-4336-9cc5-a34cdd307f2d td {border: 1px solid white;}</style><table id=\"blockscb048e77-3d7a-4336-9cc5-a34cdd307f2d\" class=\"blockgrid\"><tbody><tr><td title=\"Index: [0, 0]&#10;Color: (200, 200, 200)\" style=\"width: 20px; height: 20px;background-color: rgb(200, 200, 200);\"></td><td title=\"Index: [0, 1]&#10;Color: (200, 200, 200)\" style=\"width: 20px; height: 20px;background-color: rgb(200, 200, 200);\"></td><td title=\"Index: [0, 2]&#10;Color: (200, 200, 200)\" style=\"width: 20px; height: 20px;background-color: rgb(200, 200, 200);\"></td><td title=\"Index: [0, 3]&#10;Color: (200, 200, 200)\" style=\"width: 20px; height: 20px;background-color: rgb(200, 200, 200);\"></td><td title=\"Index: [0, 4]&#10;Color: (200, 200, 200)\" style=\"width: 20px; height: 20px;background-color: rgb(200, 200, 200);\"></td><td title=\"Index: [0, 5]&#10;Color: (200, 200, 200)\" style=\"width: 20px; height: 20px;background-color: rgb(200, 200, 200);\"></td></tr><tr><td title=\"Index: [1, 0]&#10;Color: (200, 200, 200)\" style=\"width: 20px; height: 20px;background-color: rgb(200, 200, 200);\"></td><td title=\"Index: [1, 1]&#10;Color: (214, 30, 107)\" style=\"width: 20px; height: 20px;background-color: rgb(214, 30, 107);\"></td><td title=\"Index: [1, 2]&#10;Color: (200, 103, 0)\" style=\"width: 20px; height: 20px;background-color: rgb(200, 103, 0);\"></td><td title=\"Index: [1, 3]&#10;Color: (200, 200, 200)\" style=\"width: 20px; height: 20px;background-color: rgb(200, 200, 200);\"></td><td title=\"Index: [1, 4]&#10;Color: (200, 200, 200)\" style=\"width: 20px; height: 20px;background-color: rgb(200, 200, 200);\"></td><td title=\"Index: [1, 5]&#10;Color: (200, 200, 200)\" style=\"width: 20px; height: 20px;background-color: rgb(200, 200, 200);\"></td></tr><tr><td title=\"Index: [2, 0]&#10;Color: (200, 200, 200)\" style=\"width: 20px; height: 20px;background-color: rgb(200, 200, 200);\"></td><td title=\"Index: [2, 1]&#10;Color: (25, 32, 33)\" style=\"width: 20px; height: 20px;background-color: rgb(25, 32, 33);\"></td><td title=\"Index: [2, 2]&#10;Color: (200, 0, 0)\" style=\"width: 20px; height: 20px;background-color: rgb(200, 0, 0);\"></td><td title=\"Index: [2, 3]&#10;Color: (200, 200, 200)\" style=\"width: 20px; height: 20px;background-color: rgb(200, 200, 200);\"></td><td title=\"Index: [2, 4]&#10;Color: (77, 200, 0)\" style=\"width: 20px; height: 20px;background-color: rgb(77, 200, 0);\"></td><td title=\"Index: [2, 5]&#10;Color: (240, 222, 29)\" style=\"width: 20px; height: 20px;background-color: rgb(240, 222, 29);\"></td></tr><tr><td title=\"Index: [3, 0]&#10;Color: (200, 0, 0)\" style=\"width: 20px; height: 20px;background-color: rgb(200, 0, 0);\"></td><td title=\"Index: [3, 1]&#10;Color: (200, 200, 200)\" style=\"width: 20px; height: 20px;background-color: rgb(200, 200, 200);\"></td><td title=\"Index: [3, 2]&#10;Color: (200, 200, 200)\" style=\"width: 20px; height: 20px;background-color: rgb(200, 200, 200);\"></td><td title=\"Index: [3, 3]&#10;Color: (200, 200, 200)\" style=\"width: 20px; height: 20px;background-color: rgb(200, 200, 200);\"></td><td title=\"Index: [3, 4]&#10;Color: (200, 200, 200)\" style=\"width: 20px; height: 20px;background-color: rgb(200, 200, 200);\"></td><td title=\"Index: [3, 5]&#10;Color: (200, 200, 200)\" style=\"width: 20px; height: 20px;background-color: rgb(200, 200, 200);\"></td></tr><tr><td title=\"Index: [4, 0]&#10;Color: (200, 200, 200)\" style=\"width: 20px; height: 20px;background-color: rgb(200, 200, 200);\"></td><td title=\"Index: [4, 1]&#10;Color: (200, 200, 200)\" style=\"width: 20px; height: 20px;background-color: rgb(200, 200, 200);\"></td><td title=\"Index: [4, 2]&#10;Color: (66, 135, 245)\" style=\"width: 20px; height: 20px;background-color: rgb(66, 135, 245);\"></td><td title=\"Index: [4, 3]&#10;Color: (200, 200, 200)\" style=\"width: 20px; height: 20px;background-color: rgb(200, 200, 200);\"></td><td title=\"Index: [4, 4]&#10;Color: (200, 0, 0)\" style=\"width: 20px; height: 20px;background-color: rgb(200, 0, 0);\"></td><td title=\"Index: [4, 5]&#10;Color: (200, 200, 200)\" style=\"width: 20px; height: 20px;background-color: rgb(200, 200, 200);\"></td></tr><tr><td title=\"Index: [5, 0]&#10;Color: (157, 200, 0)\" style=\"width: 20px; height: 20px;background-color: rgb(157, 200, 0);\"></td><td title=\"Index: [5, 1]&#10;Color: (200, 200, 200)\" style=\"width: 20px; height: 20px;background-color: rgb(200, 200, 200);\"></td><td title=\"Index: [5, 2]&#10;Color: (200, 200, 200)\" style=\"width: 20px; height: 20px;background-color: rgb(200, 200, 200);\"></td><td title=\"Index: [5, 3]&#10;Color: (200, 200, 200)\" style=\"width: 20px; height: 20px;background-color: rgb(200, 200, 200);\"></td><td title=\"Index: [5, 4]&#10;Color: (200, 200, 200)\" style=\"width: 20px; height: 20px;background-color: rgb(200, 200, 200);\"></td><td title=\"Index: [5, 5]&#10;Color: (200, 200, 200)\" style=\"width: 20px; height: 20px;background-color: rgb(200, 200, 200);\"></td></tr></tbody></table>"
      ],
      "text/plain": [
       "<IPython.core.display.HTML object>"
      ]
     },
     "metadata": {},
     "output_type": "display_data"
    },
    {
     "name": "stdout",
     "output_type": "stream",
     "text": [
      "Current Lives with PlayerA : 10\n",
      "PlayerA decided to move at location: [0, 2]\n"
     ]
    },
    {
     "data": {
      "text/html": [],
      "text/plain": [
       "<IPython.core.display.HTML object>"
      ]
     },
     "metadata": {},
     "output_type": "display_data"
    },
    {
     "data": {
      "text/html": [
       "<style type=\"text/css\">table.blockgrid {border: none;} .blockgrid tr {border: none;} .blockgrid td {padding: 0px;} #blocks2105212a-4ada-4a99-8576-b19214e4cad3 td {border: 1px solid white;}</style><table id=\"blocks2105212a-4ada-4a99-8576-b19214e4cad3\" class=\"blockgrid\"><tbody><tr><td title=\"Index: [0, 0]&#10;Color: (200, 200, 200)\" style=\"width: 20px; height: 20px;background-color: rgb(200, 200, 200);\"></td><td title=\"Index: [0, 1]&#10;Color: (200, 200, 200)\" style=\"width: 20px; height: 20px;background-color: rgb(200, 200, 200);\"></td><td title=\"Index: [0, 2]&#10;Color: (200, 200, 200)\" style=\"width: 20px; height: 20px;background-color: rgb(200, 200, 200);\"></td><td title=\"Index: [0, 3]&#10;Color: (200, 200, 200)\" style=\"width: 20px; height: 20px;background-color: rgb(200, 200, 200);\"></td><td title=\"Index: [0, 4]&#10;Color: (200, 200, 200)\" style=\"width: 20px; height: 20px;background-color: rgb(200, 200, 200);\"></td><td title=\"Index: [0, 5]&#10;Color: (200, 200, 200)\" style=\"width: 20px; height: 20px;background-color: rgb(200, 200, 200);\"></td></tr><tr><td title=\"Index: [1, 0]&#10;Color: (200, 200, 200)\" style=\"width: 20px; height: 20px;background-color: rgb(200, 200, 200);\"></td><td title=\"Index: [1, 1]&#10;Color: (214, 30, 107)\" style=\"width: 20px; height: 20px;background-color: rgb(214, 30, 107);\"></td><td title=\"Index: [1, 2]&#10;Color: (200, 103, 0)\" style=\"width: 20px; height: 20px;background-color: rgb(200, 103, 0);\"></td><td title=\"Index: [1, 3]&#10;Color: (200, 200, 200)\" style=\"width: 20px; height: 20px;background-color: rgb(200, 200, 200);\"></td><td title=\"Index: [1, 4]&#10;Color: (200, 200, 200)\" style=\"width: 20px; height: 20px;background-color: rgb(200, 200, 200);\"></td><td title=\"Index: [1, 5]&#10;Color: (200, 200, 200)\" style=\"width: 20px; height: 20px;background-color: rgb(200, 200, 200);\"></td></tr><tr><td title=\"Index: [2, 0]&#10;Color: (25, 32, 33)\" style=\"width: 20px; height: 20px;background-color: rgb(25, 32, 33);\"></td><td title=\"Index: [2, 1]&#10;Color: (200, 200, 200)\" style=\"width: 20px; height: 20px;background-color: rgb(200, 200, 200);\"></td><td title=\"Index: [2, 2]&#10;Color: (200, 0, 0)\" style=\"width: 20px; height: 20px;background-color: rgb(200, 0, 0);\"></td><td title=\"Index: [2, 3]&#10;Color: (200, 200, 200)\" style=\"width: 20px; height: 20px;background-color: rgb(200, 200, 200);\"></td><td title=\"Index: [2, 4]&#10;Color: (77, 200, 0)\" style=\"width: 20px; height: 20px;background-color: rgb(77, 200, 0);\"></td><td title=\"Index: [2, 5]&#10;Color: (240, 222, 29)\" style=\"width: 20px; height: 20px;background-color: rgb(240, 222, 29);\"></td></tr><tr><td title=\"Index: [3, 0]&#10;Color: (200, 0, 0)\" style=\"width: 20px; height: 20px;background-color: rgb(200, 0, 0);\"></td><td title=\"Index: [3, 1]&#10;Color: (200, 200, 200)\" style=\"width: 20px; height: 20px;background-color: rgb(200, 200, 200);\"></td><td title=\"Index: [3, 2]&#10;Color: (200, 200, 200)\" style=\"width: 20px; height: 20px;background-color: rgb(200, 200, 200);\"></td><td title=\"Index: [3, 3]&#10;Color: (200, 200, 200)\" style=\"width: 20px; height: 20px;background-color: rgb(200, 200, 200);\"></td><td title=\"Index: [3, 4]&#10;Color: (200, 200, 200)\" style=\"width: 20px; height: 20px;background-color: rgb(200, 200, 200);\"></td><td title=\"Index: [3, 5]&#10;Color: (200, 200, 200)\" style=\"width: 20px; height: 20px;background-color: rgb(200, 200, 200);\"></td></tr><tr><td title=\"Index: [4, 0]&#10;Color: (200, 200, 200)\" style=\"width: 20px; height: 20px;background-color: rgb(200, 200, 200);\"></td><td title=\"Index: [4, 1]&#10;Color: (200, 200, 200)\" style=\"width: 20px; height: 20px;background-color: rgb(200, 200, 200);\"></td><td title=\"Index: [4, 2]&#10;Color: (66, 135, 245)\" style=\"width: 20px; height: 20px;background-color: rgb(66, 135, 245);\"></td><td title=\"Index: [4, 3]&#10;Color: (200, 200, 200)\" style=\"width: 20px; height: 20px;background-color: rgb(200, 200, 200);\"></td><td title=\"Index: [4, 4]&#10;Color: (200, 0, 0)\" style=\"width: 20px; height: 20px;background-color: rgb(200, 0, 0);\"></td><td title=\"Index: [4, 5]&#10;Color: (200, 200, 200)\" style=\"width: 20px; height: 20px;background-color: rgb(200, 200, 200);\"></td></tr><tr><td title=\"Index: [5, 0]&#10;Color: (157, 200, 0)\" style=\"width: 20px; height: 20px;background-color: rgb(157, 200, 0);\"></td><td title=\"Index: [5, 1]&#10;Color: (200, 200, 200)\" style=\"width: 20px; height: 20px;background-color: rgb(200, 200, 200);\"></td><td title=\"Index: [5, 2]&#10;Color: (200, 200, 200)\" style=\"width: 20px; height: 20px;background-color: rgb(200, 200, 200);\"></td><td title=\"Index: [5, 3]&#10;Color: (200, 200, 200)\" style=\"width: 20px; height: 20px;background-color: rgb(200, 200, 200);\"></td><td title=\"Index: [5, 4]&#10;Color: (200, 200, 200)\" style=\"width: 20px; height: 20px;background-color: rgb(200, 200, 200);\"></td><td title=\"Index: [5, 5]&#10;Color: (200, 200, 200)\" style=\"width: 20px; height: 20px;background-color: rgb(200, 200, 200);\"></td></tr></tbody></table>"
      ],
      "text/plain": [
       "<IPython.core.display.HTML object>"
      ]
     },
     "metadata": {},
     "output_type": "display_data"
    },
    {
     "name": "stdout",
     "output_type": "stream",
     "text": [
      "Current Lives with PlayerA : 10\n",
      "PlayerA decided to move at location: [0, 1]\n"
     ]
    },
    {
     "data": {
      "text/html": [],
      "text/plain": [
       "<IPython.core.display.HTML object>"
      ]
     },
     "metadata": {},
     "output_type": "display_data"
    },
    {
     "data": {
      "text/html": [
       "<style type=\"text/css\">table.blockgrid {border: none;} .blockgrid tr {border: none;} .blockgrid td {padding: 0px;} #blocksa174df91-53d3-4489-886f-23aedfa9933b td {border: 1px solid white;}</style><table id=\"blocksa174df91-53d3-4489-886f-23aedfa9933b\" class=\"blockgrid\"><tbody><tr><td title=\"Index: [0, 0]&#10;Color: (200, 200, 200)\" style=\"width: 20px; height: 20px;background-color: rgb(200, 200, 200);\"></td><td title=\"Index: [0, 1]&#10;Color: (200, 200, 200)\" style=\"width: 20px; height: 20px;background-color: rgb(200, 200, 200);\"></td><td title=\"Index: [0, 2]&#10;Color: (200, 200, 200)\" style=\"width: 20px; height: 20px;background-color: rgb(200, 200, 200);\"></td><td title=\"Index: [0, 3]&#10;Color: (200, 200, 200)\" style=\"width: 20px; height: 20px;background-color: rgb(200, 200, 200);\"></td><td title=\"Index: [0, 4]&#10;Color: (200, 200, 200)\" style=\"width: 20px; height: 20px;background-color: rgb(200, 200, 200);\"></td><td title=\"Index: [0, 5]&#10;Color: (200, 200, 200)\" style=\"width: 20px; height: 20px;background-color: rgb(200, 200, 200);\"></td></tr><tr><td title=\"Index: [1, 0]&#10;Color: (25, 32, 33)\" style=\"width: 20px; height: 20px;background-color: rgb(25, 32, 33);\"></td><td title=\"Index: [1, 1]&#10;Color: (214, 30, 107)\" style=\"width: 20px; height: 20px;background-color: rgb(214, 30, 107);\"></td><td title=\"Index: [1, 2]&#10;Color: (200, 103, 0)\" style=\"width: 20px; height: 20px;background-color: rgb(200, 103, 0);\"></td><td title=\"Index: [1, 3]&#10;Color: (200, 200, 200)\" style=\"width: 20px; height: 20px;background-color: rgb(200, 200, 200);\"></td><td title=\"Index: [1, 4]&#10;Color: (200, 200, 200)\" style=\"width: 20px; height: 20px;background-color: rgb(200, 200, 200);\"></td><td title=\"Index: [1, 5]&#10;Color: (200, 200, 200)\" style=\"width: 20px; height: 20px;background-color: rgb(200, 200, 200);\"></td></tr><tr><td title=\"Index: [2, 0]&#10;Color: (200, 200, 200)\" style=\"width: 20px; height: 20px;background-color: rgb(200, 200, 200);\"></td><td title=\"Index: [2, 1]&#10;Color: (200, 200, 200)\" style=\"width: 20px; height: 20px;background-color: rgb(200, 200, 200);\"></td><td title=\"Index: [2, 2]&#10;Color: (200, 0, 0)\" style=\"width: 20px; height: 20px;background-color: rgb(200, 0, 0);\"></td><td title=\"Index: [2, 3]&#10;Color: (200, 200, 200)\" style=\"width: 20px; height: 20px;background-color: rgb(200, 200, 200);\"></td><td title=\"Index: [2, 4]&#10;Color: (77, 200, 0)\" style=\"width: 20px; height: 20px;background-color: rgb(77, 200, 0);\"></td><td title=\"Index: [2, 5]&#10;Color: (240, 222, 29)\" style=\"width: 20px; height: 20px;background-color: rgb(240, 222, 29);\"></td></tr><tr><td title=\"Index: [3, 0]&#10;Color: (200, 0, 0)\" style=\"width: 20px; height: 20px;background-color: rgb(200, 0, 0);\"></td><td title=\"Index: [3, 1]&#10;Color: (200, 200, 200)\" style=\"width: 20px; height: 20px;background-color: rgb(200, 200, 200);\"></td><td title=\"Index: [3, 2]&#10;Color: (200, 200, 200)\" style=\"width: 20px; height: 20px;background-color: rgb(200, 200, 200);\"></td><td title=\"Index: [3, 3]&#10;Color: (200, 200, 200)\" style=\"width: 20px; height: 20px;background-color: rgb(200, 200, 200);\"></td><td title=\"Index: [3, 4]&#10;Color: (200, 200, 200)\" style=\"width: 20px; height: 20px;background-color: rgb(200, 200, 200);\"></td><td title=\"Index: [3, 5]&#10;Color: (200, 200, 200)\" style=\"width: 20px; height: 20px;background-color: rgb(200, 200, 200);\"></td></tr><tr><td title=\"Index: [4, 0]&#10;Color: (200, 200, 200)\" style=\"width: 20px; height: 20px;background-color: rgb(200, 200, 200);\"></td><td title=\"Index: [4, 1]&#10;Color: (200, 200, 200)\" style=\"width: 20px; height: 20px;background-color: rgb(200, 200, 200);\"></td><td title=\"Index: [4, 2]&#10;Color: (66, 135, 245)\" style=\"width: 20px; height: 20px;background-color: rgb(66, 135, 245);\"></td><td title=\"Index: [4, 3]&#10;Color: (200, 200, 200)\" style=\"width: 20px; height: 20px;background-color: rgb(200, 200, 200);\"></td><td title=\"Index: [4, 4]&#10;Color: (200, 0, 0)\" style=\"width: 20px; height: 20px;background-color: rgb(200, 0, 0);\"></td><td title=\"Index: [4, 5]&#10;Color: (200, 200, 200)\" style=\"width: 20px; height: 20px;background-color: rgb(200, 200, 200);\"></td></tr><tr><td title=\"Index: [5, 0]&#10;Color: (157, 200, 0)\" style=\"width: 20px; height: 20px;background-color: rgb(157, 200, 0);\"></td><td title=\"Index: [5, 1]&#10;Color: (200, 200, 200)\" style=\"width: 20px; height: 20px;background-color: rgb(200, 200, 200);\"></td><td title=\"Index: [5, 2]&#10;Color: (200, 200, 200)\" style=\"width: 20px; height: 20px;background-color: rgb(200, 200, 200);\"></td><td title=\"Index: [5, 3]&#10;Color: (200, 200, 200)\" style=\"width: 20px; height: 20px;background-color: rgb(200, 200, 200);\"></td><td title=\"Index: [5, 4]&#10;Color: (200, 200, 200)\" style=\"width: 20px; height: 20px;background-color: rgb(200, 200, 200);\"></td><td title=\"Index: [5, 5]&#10;Color: (200, 200, 200)\" style=\"width: 20px; height: 20px;background-color: rgb(200, 200, 200);\"></td></tr></tbody></table>"
      ],
      "text/plain": [
       "<IPython.core.display.HTML object>"
      ]
     },
     "metadata": {},
     "output_type": "display_data"
    },
    {
     "name": "stdout",
     "output_type": "stream",
     "text": [
      "Current Lives with PlayerA : 10\n",
      "PlayerA decided to move at location: [0, 0]\n"
     ]
    },
    {
     "data": {
      "text/html": [],
      "text/plain": [
       "<IPython.core.display.HTML object>"
      ]
     },
     "metadata": {},
     "output_type": "display_data"
    },
    {
     "data": {
      "text/html": [
       "<style type=\"text/css\">table.blockgrid {border: none;} .blockgrid tr {border: none;} .blockgrid td {padding: 0px;} #blocks772dadcb-9ab2-4e2c-99bf-554d2e5592a0 td {border: 1px solid white;}</style><table id=\"blocks772dadcb-9ab2-4e2c-99bf-554d2e5592a0\" class=\"blockgrid\"><tbody><tr><td title=\"Index: [0, 0]&#10;Color: (25, 32, 33)\" style=\"width: 20px; height: 20px;background-color: rgb(25, 32, 33);\"></td><td title=\"Index: [0, 1]&#10;Color: (200, 200, 200)\" style=\"width: 20px; height: 20px;background-color: rgb(200, 200, 200);\"></td><td title=\"Index: [0, 2]&#10;Color: (200, 200, 200)\" style=\"width: 20px; height: 20px;background-color: rgb(200, 200, 200);\"></td><td title=\"Index: [0, 3]&#10;Color: (200, 200, 200)\" style=\"width: 20px; height: 20px;background-color: rgb(200, 200, 200);\"></td><td title=\"Index: [0, 4]&#10;Color: (200, 200, 200)\" style=\"width: 20px; height: 20px;background-color: rgb(200, 200, 200);\"></td><td title=\"Index: [0, 5]&#10;Color: (200, 200, 200)\" style=\"width: 20px; height: 20px;background-color: rgb(200, 200, 200);\"></td></tr><tr><td title=\"Index: [1, 0]&#10;Color: (200, 200, 200)\" style=\"width: 20px; height: 20px;background-color: rgb(200, 200, 200);\"></td><td title=\"Index: [1, 1]&#10;Color: (214, 30, 107)\" style=\"width: 20px; height: 20px;background-color: rgb(214, 30, 107);\"></td><td title=\"Index: [1, 2]&#10;Color: (200, 103, 0)\" style=\"width: 20px; height: 20px;background-color: rgb(200, 103, 0);\"></td><td title=\"Index: [1, 3]&#10;Color: (200, 200, 200)\" style=\"width: 20px; height: 20px;background-color: rgb(200, 200, 200);\"></td><td title=\"Index: [1, 4]&#10;Color: (200, 200, 200)\" style=\"width: 20px; height: 20px;background-color: rgb(200, 200, 200);\"></td><td title=\"Index: [1, 5]&#10;Color: (200, 200, 200)\" style=\"width: 20px; height: 20px;background-color: rgb(200, 200, 200);\"></td></tr><tr><td title=\"Index: [2, 0]&#10;Color: (200, 200, 200)\" style=\"width: 20px; height: 20px;background-color: rgb(200, 200, 200);\"></td><td title=\"Index: [2, 1]&#10;Color: (200, 200, 200)\" style=\"width: 20px; height: 20px;background-color: rgb(200, 200, 200);\"></td><td title=\"Index: [2, 2]&#10;Color: (200, 0, 0)\" style=\"width: 20px; height: 20px;background-color: rgb(200, 0, 0);\"></td><td title=\"Index: [2, 3]&#10;Color: (200, 200, 200)\" style=\"width: 20px; height: 20px;background-color: rgb(200, 200, 200);\"></td><td title=\"Index: [2, 4]&#10;Color: (77, 200, 0)\" style=\"width: 20px; height: 20px;background-color: rgb(77, 200, 0);\"></td><td title=\"Index: [2, 5]&#10;Color: (240, 222, 29)\" style=\"width: 20px; height: 20px;background-color: rgb(240, 222, 29);\"></td></tr><tr><td title=\"Index: [3, 0]&#10;Color: (200, 0, 0)\" style=\"width: 20px; height: 20px;background-color: rgb(200, 0, 0);\"></td><td title=\"Index: [3, 1]&#10;Color: (200, 200, 200)\" style=\"width: 20px; height: 20px;background-color: rgb(200, 200, 200);\"></td><td title=\"Index: [3, 2]&#10;Color: (200, 200, 200)\" style=\"width: 20px; height: 20px;background-color: rgb(200, 200, 200);\"></td><td title=\"Index: [3, 3]&#10;Color: (200, 200, 200)\" style=\"width: 20px; height: 20px;background-color: rgb(200, 200, 200);\"></td><td title=\"Index: [3, 4]&#10;Color: (200, 200, 200)\" style=\"width: 20px; height: 20px;background-color: rgb(200, 200, 200);\"></td><td title=\"Index: [3, 5]&#10;Color: (200, 200, 200)\" style=\"width: 20px; height: 20px;background-color: rgb(200, 200, 200);\"></td></tr><tr><td title=\"Index: [4, 0]&#10;Color: (200, 200, 200)\" style=\"width: 20px; height: 20px;background-color: rgb(200, 200, 200);\"></td><td title=\"Index: [4, 1]&#10;Color: (200, 200, 200)\" style=\"width: 20px; height: 20px;background-color: rgb(200, 200, 200);\"></td><td title=\"Index: [4, 2]&#10;Color: (66, 135, 245)\" style=\"width: 20px; height: 20px;background-color: rgb(66, 135, 245);\"></td><td title=\"Index: [4, 3]&#10;Color: (200, 200, 200)\" style=\"width: 20px; height: 20px;background-color: rgb(200, 200, 200);\"></td><td title=\"Index: [4, 4]&#10;Color: (200, 0, 0)\" style=\"width: 20px; height: 20px;background-color: rgb(200, 0, 0);\"></td><td title=\"Index: [4, 5]&#10;Color: (200, 200, 200)\" style=\"width: 20px; height: 20px;background-color: rgb(200, 200, 200);\"></td></tr><tr><td title=\"Index: [5, 0]&#10;Color: (157, 200, 0)\" style=\"width: 20px; height: 20px;background-color: rgb(157, 200, 0);\"></td><td title=\"Index: [5, 1]&#10;Color: (200, 200, 200)\" style=\"width: 20px; height: 20px;background-color: rgb(200, 200, 200);\"></td><td title=\"Index: [5, 2]&#10;Color: (200, 200, 200)\" style=\"width: 20px; height: 20px;background-color: rgb(200, 200, 200);\"></td><td title=\"Index: [5, 3]&#10;Color: (200, 200, 200)\" style=\"width: 20px; height: 20px;background-color: rgb(200, 200, 200);\"></td><td title=\"Index: [5, 4]&#10;Color: (200, 200, 200)\" style=\"width: 20px; height: 20px;background-color: rgb(200, 200, 200);\"></td><td title=\"Index: [5, 5]&#10;Color: (200, 200, 200)\" style=\"width: 20px; height: 20px;background-color: rgb(200, 200, 200);\"></td></tr></tbody></table>"
      ],
      "text/plain": [
       "<IPython.core.display.HTML object>"
      ]
     },
     "metadata": {},
     "output_type": "display_data"
    },
    {
     "name": "stdout",
     "output_type": "stream",
     "text": [
      "Current Lives with PlayerA : 10\n",
      "PlayerA won the game in 9 steps\n"
     ]
    },
    {
     "data": {
      "text/html": [],
      "text/plain": [
       "<IPython.core.display.HTML object>"
      ]
     },
     "metadata": {},
     "output_type": "display_data"
    },
    {
     "data": {
      "text/html": [
       "<style type=\"text/css\">table.blockgrid {border: none;} .blockgrid tr {border: none;} .blockgrid td {padding: 0px;} #blocks729ae77b-fa90-4a10-8b06-7c82fd236a49 td {border: 1px solid white;}</style><table id=\"blocks729ae77b-fa90-4a10-8b06-7c82fd236a49\" class=\"blockgrid\"><tbody><tr><td title=\"Index: [0, 0]&#10;Color: (25, 32, 33)\" style=\"width: 20px; height: 20px;background-color: rgb(25, 32, 33);\"></td><td title=\"Index: [0, 1]&#10;Color: (200, 200, 200)\" style=\"width: 20px; height: 20px;background-color: rgb(200, 200, 200);\"></td><td title=\"Index: [0, 2]&#10;Color: (200, 200, 200)\" style=\"width: 20px; height: 20px;background-color: rgb(200, 200, 200);\"></td><td title=\"Index: [0, 3]&#10;Color: (200, 200, 200)\" style=\"width: 20px; height: 20px;background-color: rgb(200, 200, 200);\"></td><td title=\"Index: [0, 4]&#10;Color: (200, 200, 200)\" style=\"width: 20px; height: 20px;background-color: rgb(200, 200, 200);\"></td><td title=\"Index: [0, 5]&#10;Color: (200, 200, 200)\" style=\"width: 20px; height: 20px;background-color: rgb(200, 200, 200);\"></td></tr><tr><td title=\"Index: [1, 0]&#10;Color: (200, 200, 200)\" style=\"width: 20px; height: 20px;background-color: rgb(200, 200, 200);\"></td><td title=\"Index: [1, 1]&#10;Color: (214, 30, 107)\" style=\"width: 20px; height: 20px;background-color: rgb(214, 30, 107);\"></td><td title=\"Index: [1, 2]&#10;Color: (200, 103, 0)\" style=\"width: 20px; height: 20px;background-color: rgb(200, 103, 0);\"></td><td title=\"Index: [1, 3]&#10;Color: (200, 200, 200)\" style=\"width: 20px; height: 20px;background-color: rgb(200, 200, 200);\"></td><td title=\"Index: [1, 4]&#10;Color: (200, 200, 200)\" style=\"width: 20px; height: 20px;background-color: rgb(200, 200, 200);\"></td><td title=\"Index: [1, 5]&#10;Color: (200, 200, 200)\" style=\"width: 20px; height: 20px;background-color: rgb(200, 200, 200);\"></td></tr><tr><td title=\"Index: [2, 0]&#10;Color: (200, 200, 200)\" style=\"width: 20px; height: 20px;background-color: rgb(200, 200, 200);\"></td><td title=\"Index: [2, 1]&#10;Color: (200, 200, 200)\" style=\"width: 20px; height: 20px;background-color: rgb(200, 200, 200);\"></td><td title=\"Index: [2, 2]&#10;Color: (200, 0, 0)\" style=\"width: 20px; height: 20px;background-color: rgb(200, 0, 0);\"></td><td title=\"Index: [2, 3]&#10;Color: (200, 200, 200)\" style=\"width: 20px; height: 20px;background-color: rgb(200, 200, 200);\"></td><td title=\"Index: [2, 4]&#10;Color: (77, 200, 0)\" style=\"width: 20px; height: 20px;background-color: rgb(77, 200, 0);\"></td><td title=\"Index: [2, 5]&#10;Color: (240, 222, 29)\" style=\"width: 20px; height: 20px;background-color: rgb(240, 222, 29);\"></td></tr><tr><td title=\"Index: [3, 0]&#10;Color: (200, 0, 0)\" style=\"width: 20px; height: 20px;background-color: rgb(200, 0, 0);\"></td><td title=\"Index: [3, 1]&#10;Color: (200, 200, 200)\" style=\"width: 20px; height: 20px;background-color: rgb(200, 200, 200);\"></td><td title=\"Index: [3, 2]&#10;Color: (200, 200, 200)\" style=\"width: 20px; height: 20px;background-color: rgb(200, 200, 200);\"></td><td title=\"Index: [3, 3]&#10;Color: (200, 200, 200)\" style=\"width: 20px; height: 20px;background-color: rgb(200, 200, 200);\"></td><td title=\"Index: [3, 4]&#10;Color: (200, 200, 200)\" style=\"width: 20px; height: 20px;background-color: rgb(200, 200, 200);\"></td><td title=\"Index: [3, 5]&#10;Color: (200, 200, 200)\" style=\"width: 20px; height: 20px;background-color: rgb(200, 200, 200);\"></td></tr><tr><td title=\"Index: [4, 0]&#10;Color: (200, 200, 200)\" style=\"width: 20px; height: 20px;background-color: rgb(200, 200, 200);\"></td><td title=\"Index: [4, 1]&#10;Color: (200, 200, 200)\" style=\"width: 20px; height: 20px;background-color: rgb(200, 200, 200);\"></td><td title=\"Index: [4, 2]&#10;Color: (66, 135, 245)\" style=\"width: 20px; height: 20px;background-color: rgb(66, 135, 245);\"></td><td title=\"Index: [4, 3]&#10;Color: (200, 200, 200)\" style=\"width: 20px; height: 20px;background-color: rgb(200, 200, 200);\"></td><td title=\"Index: [4, 4]&#10;Color: (200, 0, 0)\" style=\"width: 20px; height: 20px;background-color: rgb(200, 0, 0);\"></td><td title=\"Index: [4, 5]&#10;Color: (200, 200, 200)\" style=\"width: 20px; height: 20px;background-color: rgb(200, 200, 200);\"></td></tr><tr><td title=\"Index: [5, 0]&#10;Color: (157, 200, 0)\" style=\"width: 20px; height: 20px;background-color: rgb(157, 200, 0);\"></td><td title=\"Index: [5, 1]&#10;Color: (200, 200, 200)\" style=\"width: 20px; height: 20px;background-color: rgb(200, 200, 200);\"></td><td title=\"Index: [5, 2]&#10;Color: (200, 200, 200)\" style=\"width: 20px; height: 20px;background-color: rgb(200, 200, 200);\"></td><td title=\"Index: [5, 3]&#10;Color: (200, 200, 200)\" style=\"width: 20px; height: 20px;background-color: rgb(200, 200, 200);\"></td><td title=\"Index: [5, 4]&#10;Color: (200, 200, 200)\" style=\"width: 20px; height: 20px;background-color: rgb(200, 200, 200);\"></td><td title=\"Index: [5, 5]&#10;Color: (200, 200, 200)\" style=\"width: 20px; height: 20px;background-color: rgb(200, 200, 200);\"></td></tr></tbody></table>"
      ],
      "text/plain": [
       "<IPython.core.display.HTML object>"
      ]
     },
     "metadata": {},
     "output_type": "display_data"
    },
    {
     "name": "stdout",
     "output_type": "stream",
     "text": [
      "The PlayerA  did not grab anything in the Game\n"
     ]
    }
   ],
   "source": [
    "print('Depth Limited Search \\n Shortest Path = ', depth_limited_search(searchproblem).solution())\n",
    "\n",
    "goalpath_elements = depth_limited_search(searchproblem).solution()\n",
    "goalpath = []\n",
    "for element in goalpath_elements:\n",
    "    goalpath.append(list(element))\n",
    "    \n",
    "agent_run('PlayerA',100,PlayerA(program,goalpath, goalsearch=True),start_location)"
   ]
  },
  {
   "cell_type": "markdown",
   "metadata": {},
   "source": [
    "##### Goal Test with Iterative Deepening Search"
   ]
  },
  {
   "cell_type": "code",
   "execution_count": 460,
   "metadata": {},
   "outputs": [
    {
     "name": "stdout",
     "output_type": "stream",
     "text": [
      "Iterative Deepening Search \n",
      " Shortest Path =  [(3, 4), (3, 3), (2, 3), (1, 3), (1, 2), (0, 2), (0, 1), (0, 0)]\n",
      "PlayerA  started at [3, 5], facing up. See if he Wins\n"
     ]
    },
    {
     "data": {
      "text/html": [
       "<style type=\"text/css\">table.blockgrid {border: none;} .blockgrid tr {border: none;} .blockgrid td {padding: 0px;} #blocks1e2630f3-c1ab-4616-96cb-9a6c829371e7 td {border: 1px solid white;}</style><table id=\"blocks1e2630f3-c1ab-4616-96cb-9a6c829371e7\" class=\"blockgrid\"><tbody><tr><td title=\"Index: [0, 0]&#10;Color: (200, 200, 200)\" style=\"width: 20px; height: 20px;background-color: rgb(200, 200, 200);\"></td><td title=\"Index: [0, 1]&#10;Color: (200, 200, 200)\" style=\"width: 20px; height: 20px;background-color: rgb(200, 200, 200);\"></td><td title=\"Index: [0, 2]&#10;Color: (200, 200, 200)\" style=\"width: 20px; height: 20px;background-color: rgb(200, 200, 200);\"></td><td title=\"Index: [0, 3]&#10;Color: (200, 200, 200)\" style=\"width: 20px; height: 20px;background-color: rgb(200, 200, 200);\"></td><td title=\"Index: [0, 4]&#10;Color: (200, 200, 200)\" style=\"width: 20px; height: 20px;background-color: rgb(200, 200, 200);\"></td><td title=\"Index: [0, 5]&#10;Color: (200, 200, 200)\" style=\"width: 20px; height: 20px;background-color: rgb(200, 200, 200);\"></td></tr><tr><td title=\"Index: [1, 0]&#10;Color: (200, 200, 200)\" style=\"width: 20px; height: 20px;background-color: rgb(200, 200, 200);\"></td><td title=\"Index: [1, 1]&#10;Color: (214, 30, 107)\" style=\"width: 20px; height: 20px;background-color: rgb(214, 30, 107);\"></td><td title=\"Index: [1, 2]&#10;Color: (200, 103, 0)\" style=\"width: 20px; height: 20px;background-color: rgb(200, 103, 0);\"></td><td title=\"Index: [1, 3]&#10;Color: (200, 200, 200)\" style=\"width: 20px; height: 20px;background-color: rgb(200, 200, 200);\"></td><td title=\"Index: [1, 4]&#10;Color: (200, 200, 200)\" style=\"width: 20px; height: 20px;background-color: rgb(200, 200, 200);\"></td><td title=\"Index: [1, 5]&#10;Color: (200, 200, 200)\" style=\"width: 20px; height: 20px;background-color: rgb(200, 200, 200);\"></td></tr><tr><td title=\"Index: [2, 0]&#10;Color: (200, 200, 200)\" style=\"width: 20px; height: 20px;background-color: rgb(200, 200, 200);\"></td><td title=\"Index: [2, 1]&#10;Color: (200, 200, 200)\" style=\"width: 20px; height: 20px;background-color: rgb(200, 200, 200);\"></td><td title=\"Index: [2, 2]&#10;Color: (200, 0, 0)\" style=\"width: 20px; height: 20px;background-color: rgb(200, 0, 0);\"></td><td title=\"Index: [2, 3]&#10;Color: (200, 200, 200)\" style=\"width: 20px; height: 20px;background-color: rgb(200, 200, 200);\"></td><td title=\"Index: [2, 4]&#10;Color: (77, 200, 0)\" style=\"width: 20px; height: 20px;background-color: rgb(77, 200, 0);\"></td><td title=\"Index: [2, 5]&#10;Color: (240, 222, 29)\" style=\"width: 20px; height: 20px;background-color: rgb(240, 222, 29);\"></td></tr><tr><td title=\"Index: [3, 0]&#10;Color: (200, 0, 0)\" style=\"width: 20px; height: 20px;background-color: rgb(200, 0, 0);\"></td><td title=\"Index: [3, 1]&#10;Color: (200, 200, 200)\" style=\"width: 20px; height: 20px;background-color: rgb(200, 200, 200);\"></td><td title=\"Index: [3, 2]&#10;Color: (200, 200, 200)\" style=\"width: 20px; height: 20px;background-color: rgb(200, 200, 200);\"></td><td title=\"Index: [3, 3]&#10;Color: (200, 200, 200)\" style=\"width: 20px; height: 20px;background-color: rgb(200, 200, 200);\"></td><td title=\"Index: [3, 4]&#10;Color: (200, 200, 200)\" style=\"width: 20px; height: 20px;background-color: rgb(200, 200, 200);\"></td><td title=\"Index: [3, 5]&#10;Color: (200, 200, 200)\" style=\"width: 20px; height: 20px;background-color: rgb(200, 200, 200);\"></td></tr><tr><td title=\"Index: [4, 0]&#10;Color: (200, 200, 200)\" style=\"width: 20px; height: 20px;background-color: rgb(200, 200, 200);\"></td><td title=\"Index: [4, 1]&#10;Color: (200, 200, 200)\" style=\"width: 20px; height: 20px;background-color: rgb(200, 200, 200);\"></td><td title=\"Index: [4, 2]&#10;Color: (66, 135, 245)\" style=\"width: 20px; height: 20px;background-color: rgb(66, 135, 245);\"></td><td title=\"Index: [4, 3]&#10;Color: (200, 200, 200)\" style=\"width: 20px; height: 20px;background-color: rgb(200, 200, 200);\"></td><td title=\"Index: [4, 4]&#10;Color: (200, 0, 0)\" style=\"width: 20px; height: 20px;background-color: rgb(200, 0, 0);\"></td><td title=\"Index: [4, 5]&#10;Color: (200, 200, 200)\" style=\"width: 20px; height: 20px;background-color: rgb(200, 200, 200);\"></td></tr><tr><td title=\"Index: [5, 0]&#10;Color: (157, 200, 0)\" style=\"width: 20px; height: 20px;background-color: rgb(157, 200, 0);\"></td><td title=\"Index: [5, 1]&#10;Color: (200, 200, 200)\" style=\"width: 20px; height: 20px;background-color: rgb(200, 200, 200);\"></td><td title=\"Index: [5, 2]&#10;Color: (200, 200, 200)\" style=\"width: 20px; height: 20px;background-color: rgb(200, 200, 200);\"></td><td title=\"Index: [5, 3]&#10;Color: (25, 32, 33)\" style=\"width: 20px; height: 20px;background-color: rgb(25, 32, 33);\"></td><td title=\"Index: [5, 4]&#10;Color: (200, 200, 200)\" style=\"width: 20px; height: 20px;background-color: rgb(200, 200, 200);\"></td><td title=\"Index: [5, 5]&#10;Color: (200, 200, 200)\" style=\"width: 20px; height: 20px;background-color: rgb(200, 200, 200);\"></td></tr></tbody></table>"
      ],
      "text/plain": [
       "<IPython.core.display.HTML object>"
      ]
     },
     "metadata": {},
     "output_type": "display_data"
    },
    {
     "name": "stdout",
     "output_type": "stream",
     "text": [
      "Current Lives with PlayerA : 10\n",
      "PlayerA decided to move at location: [3, 4]\n"
     ]
    },
    {
     "data": {
      "text/html": [],
      "text/plain": [
       "<IPython.core.display.HTML object>"
      ]
     },
     "metadata": {},
     "output_type": "display_data"
    },
    {
     "data": {
      "text/html": [
       "<style type=\"text/css\">table.blockgrid {border: none;} .blockgrid tr {border: none;} .blockgrid td {padding: 0px;} #blocks0a32bfc9-f922-48cd-a986-5283447b5320 td {border: 1px solid white;}</style><table id=\"blocks0a32bfc9-f922-48cd-a986-5283447b5320\" class=\"blockgrid\"><tbody><tr><td title=\"Index: [0, 0]&#10;Color: (200, 200, 200)\" style=\"width: 20px; height: 20px;background-color: rgb(200, 200, 200);\"></td><td title=\"Index: [0, 1]&#10;Color: (200, 200, 200)\" style=\"width: 20px; height: 20px;background-color: rgb(200, 200, 200);\"></td><td title=\"Index: [0, 2]&#10;Color: (200, 200, 200)\" style=\"width: 20px; height: 20px;background-color: rgb(200, 200, 200);\"></td><td title=\"Index: [0, 3]&#10;Color: (200, 200, 200)\" style=\"width: 20px; height: 20px;background-color: rgb(200, 200, 200);\"></td><td title=\"Index: [0, 4]&#10;Color: (200, 200, 200)\" style=\"width: 20px; height: 20px;background-color: rgb(200, 200, 200);\"></td><td title=\"Index: [0, 5]&#10;Color: (200, 200, 200)\" style=\"width: 20px; height: 20px;background-color: rgb(200, 200, 200);\"></td></tr><tr><td title=\"Index: [1, 0]&#10;Color: (200, 200, 200)\" style=\"width: 20px; height: 20px;background-color: rgb(200, 200, 200);\"></td><td title=\"Index: [1, 1]&#10;Color: (214, 30, 107)\" style=\"width: 20px; height: 20px;background-color: rgb(214, 30, 107);\"></td><td title=\"Index: [1, 2]&#10;Color: (200, 103, 0)\" style=\"width: 20px; height: 20px;background-color: rgb(200, 103, 0);\"></td><td title=\"Index: [1, 3]&#10;Color: (200, 200, 200)\" style=\"width: 20px; height: 20px;background-color: rgb(200, 200, 200);\"></td><td title=\"Index: [1, 4]&#10;Color: (200, 200, 200)\" style=\"width: 20px; height: 20px;background-color: rgb(200, 200, 200);\"></td><td title=\"Index: [1, 5]&#10;Color: (200, 200, 200)\" style=\"width: 20px; height: 20px;background-color: rgb(200, 200, 200);\"></td></tr><tr><td title=\"Index: [2, 0]&#10;Color: (200, 200, 200)\" style=\"width: 20px; height: 20px;background-color: rgb(200, 200, 200);\"></td><td title=\"Index: [2, 1]&#10;Color: (200, 200, 200)\" style=\"width: 20px; height: 20px;background-color: rgb(200, 200, 200);\"></td><td title=\"Index: [2, 2]&#10;Color: (200, 0, 0)\" style=\"width: 20px; height: 20px;background-color: rgb(200, 0, 0);\"></td><td title=\"Index: [2, 3]&#10;Color: (200, 200, 200)\" style=\"width: 20px; height: 20px;background-color: rgb(200, 200, 200);\"></td><td title=\"Index: [2, 4]&#10;Color: (77, 200, 0)\" style=\"width: 20px; height: 20px;background-color: rgb(77, 200, 0);\"></td><td title=\"Index: [2, 5]&#10;Color: (240, 222, 29)\" style=\"width: 20px; height: 20px;background-color: rgb(240, 222, 29);\"></td></tr><tr><td title=\"Index: [3, 0]&#10;Color: (200, 0, 0)\" style=\"width: 20px; height: 20px;background-color: rgb(200, 0, 0);\"></td><td title=\"Index: [3, 1]&#10;Color: (200, 200, 200)\" style=\"width: 20px; height: 20px;background-color: rgb(200, 200, 200);\"></td><td title=\"Index: [3, 2]&#10;Color: (200, 200, 200)\" style=\"width: 20px; height: 20px;background-color: rgb(200, 200, 200);\"></td><td title=\"Index: [3, 3]&#10;Color: (200, 200, 200)\" style=\"width: 20px; height: 20px;background-color: rgb(200, 200, 200);\"></td><td title=\"Index: [3, 4]&#10;Color: (200, 200, 200)\" style=\"width: 20px; height: 20px;background-color: rgb(200, 200, 200);\"></td><td title=\"Index: [3, 5]&#10;Color: (200, 200, 200)\" style=\"width: 20px; height: 20px;background-color: rgb(200, 200, 200);\"></td></tr><tr><td title=\"Index: [4, 0]&#10;Color: (200, 200, 200)\" style=\"width: 20px; height: 20px;background-color: rgb(200, 200, 200);\"></td><td title=\"Index: [4, 1]&#10;Color: (200, 200, 200)\" style=\"width: 20px; height: 20px;background-color: rgb(200, 200, 200);\"></td><td title=\"Index: [4, 2]&#10;Color: (66, 135, 245)\" style=\"width: 20px; height: 20px;background-color: rgb(66, 135, 245);\"></td><td title=\"Index: [4, 3]&#10;Color: (25, 32, 33)\" style=\"width: 20px; height: 20px;background-color: rgb(25, 32, 33);\"></td><td title=\"Index: [4, 4]&#10;Color: (200, 0, 0)\" style=\"width: 20px; height: 20px;background-color: rgb(200, 0, 0);\"></td><td title=\"Index: [4, 5]&#10;Color: (200, 200, 200)\" style=\"width: 20px; height: 20px;background-color: rgb(200, 200, 200);\"></td></tr><tr><td title=\"Index: [5, 0]&#10;Color: (157, 200, 0)\" style=\"width: 20px; height: 20px;background-color: rgb(157, 200, 0);\"></td><td title=\"Index: [5, 1]&#10;Color: (200, 200, 200)\" style=\"width: 20px; height: 20px;background-color: rgb(200, 200, 200);\"></td><td title=\"Index: [5, 2]&#10;Color: (200, 200, 200)\" style=\"width: 20px; height: 20px;background-color: rgb(200, 200, 200);\"></td><td title=\"Index: [5, 3]&#10;Color: (200, 200, 200)\" style=\"width: 20px; height: 20px;background-color: rgb(200, 200, 200);\"></td><td title=\"Index: [5, 4]&#10;Color: (200, 200, 200)\" style=\"width: 20px; height: 20px;background-color: rgb(200, 200, 200);\"></td><td title=\"Index: [5, 5]&#10;Color: (200, 200, 200)\" style=\"width: 20px; height: 20px;background-color: rgb(200, 200, 200);\"></td></tr></tbody></table>"
      ],
      "text/plain": [
       "<IPython.core.display.HTML object>"
      ]
     },
     "metadata": {},
     "output_type": "display_data"
    },
    {
     "name": "stdout",
     "output_type": "stream",
     "text": [
      "Current Lives with PlayerA : 10\n",
      "PlayerA decided to move at location: [3, 3]\n"
     ]
    },
    {
     "data": {
      "text/html": [],
      "text/plain": [
       "<IPython.core.display.HTML object>"
      ]
     },
     "metadata": {},
     "output_type": "display_data"
    },
    {
     "data": {
      "text/html": [
       "<style type=\"text/css\">table.blockgrid {border: none;} .blockgrid tr {border: none;} .blockgrid td {padding: 0px;} #blocks4a427ae4-f83d-4114-8368-c46709e23d99 td {border: 1px solid white;}</style><table id=\"blocks4a427ae4-f83d-4114-8368-c46709e23d99\" class=\"blockgrid\"><tbody><tr><td title=\"Index: [0, 0]&#10;Color: (200, 200, 200)\" style=\"width: 20px; height: 20px;background-color: rgb(200, 200, 200);\"></td><td title=\"Index: [0, 1]&#10;Color: (200, 200, 200)\" style=\"width: 20px; height: 20px;background-color: rgb(200, 200, 200);\"></td><td title=\"Index: [0, 2]&#10;Color: (200, 200, 200)\" style=\"width: 20px; height: 20px;background-color: rgb(200, 200, 200);\"></td><td title=\"Index: [0, 3]&#10;Color: (200, 200, 200)\" style=\"width: 20px; height: 20px;background-color: rgb(200, 200, 200);\"></td><td title=\"Index: [0, 4]&#10;Color: (200, 200, 200)\" style=\"width: 20px; height: 20px;background-color: rgb(200, 200, 200);\"></td><td title=\"Index: [0, 5]&#10;Color: (200, 200, 200)\" style=\"width: 20px; height: 20px;background-color: rgb(200, 200, 200);\"></td></tr><tr><td title=\"Index: [1, 0]&#10;Color: (200, 200, 200)\" style=\"width: 20px; height: 20px;background-color: rgb(200, 200, 200);\"></td><td title=\"Index: [1, 1]&#10;Color: (214, 30, 107)\" style=\"width: 20px; height: 20px;background-color: rgb(214, 30, 107);\"></td><td title=\"Index: [1, 2]&#10;Color: (200, 103, 0)\" style=\"width: 20px; height: 20px;background-color: rgb(200, 103, 0);\"></td><td title=\"Index: [1, 3]&#10;Color: (200, 200, 200)\" style=\"width: 20px; height: 20px;background-color: rgb(200, 200, 200);\"></td><td title=\"Index: [1, 4]&#10;Color: (200, 200, 200)\" style=\"width: 20px; height: 20px;background-color: rgb(200, 200, 200);\"></td><td title=\"Index: [1, 5]&#10;Color: (200, 200, 200)\" style=\"width: 20px; height: 20px;background-color: rgb(200, 200, 200);\"></td></tr><tr><td title=\"Index: [2, 0]&#10;Color: (200, 200, 200)\" style=\"width: 20px; height: 20px;background-color: rgb(200, 200, 200);\"></td><td title=\"Index: [2, 1]&#10;Color: (200, 200, 200)\" style=\"width: 20px; height: 20px;background-color: rgb(200, 200, 200);\"></td><td title=\"Index: [2, 2]&#10;Color: (200, 0, 0)\" style=\"width: 20px; height: 20px;background-color: rgb(200, 0, 0);\"></td><td title=\"Index: [2, 3]&#10;Color: (200, 200, 200)\" style=\"width: 20px; height: 20px;background-color: rgb(200, 200, 200);\"></td><td title=\"Index: [2, 4]&#10;Color: (77, 200, 0)\" style=\"width: 20px; height: 20px;background-color: rgb(77, 200, 0);\"></td><td title=\"Index: [2, 5]&#10;Color: (240, 222, 29)\" style=\"width: 20px; height: 20px;background-color: rgb(240, 222, 29);\"></td></tr><tr><td title=\"Index: [3, 0]&#10;Color: (200, 0, 0)\" style=\"width: 20px; height: 20px;background-color: rgb(200, 0, 0);\"></td><td title=\"Index: [3, 1]&#10;Color: (200, 200, 200)\" style=\"width: 20px; height: 20px;background-color: rgb(200, 200, 200);\"></td><td title=\"Index: [3, 2]&#10;Color: (200, 200, 200)\" style=\"width: 20px; height: 20px;background-color: rgb(200, 200, 200);\"></td><td title=\"Index: [3, 3]&#10;Color: (25, 32, 33)\" style=\"width: 20px; height: 20px;background-color: rgb(25, 32, 33);\"></td><td title=\"Index: [3, 4]&#10;Color: (200, 200, 200)\" style=\"width: 20px; height: 20px;background-color: rgb(200, 200, 200);\"></td><td title=\"Index: [3, 5]&#10;Color: (200, 200, 200)\" style=\"width: 20px; height: 20px;background-color: rgb(200, 200, 200);\"></td></tr><tr><td title=\"Index: [4, 0]&#10;Color: (200, 200, 200)\" style=\"width: 20px; height: 20px;background-color: rgb(200, 200, 200);\"></td><td title=\"Index: [4, 1]&#10;Color: (200, 200, 200)\" style=\"width: 20px; height: 20px;background-color: rgb(200, 200, 200);\"></td><td title=\"Index: [4, 2]&#10;Color: (66, 135, 245)\" style=\"width: 20px; height: 20px;background-color: rgb(66, 135, 245);\"></td><td title=\"Index: [4, 3]&#10;Color: (200, 200, 200)\" style=\"width: 20px; height: 20px;background-color: rgb(200, 200, 200);\"></td><td title=\"Index: [4, 4]&#10;Color: (200, 0, 0)\" style=\"width: 20px; height: 20px;background-color: rgb(200, 0, 0);\"></td><td title=\"Index: [4, 5]&#10;Color: (200, 200, 200)\" style=\"width: 20px; height: 20px;background-color: rgb(200, 200, 200);\"></td></tr><tr><td title=\"Index: [5, 0]&#10;Color: (157, 200, 0)\" style=\"width: 20px; height: 20px;background-color: rgb(157, 200, 0);\"></td><td title=\"Index: [5, 1]&#10;Color: (200, 200, 200)\" style=\"width: 20px; height: 20px;background-color: rgb(200, 200, 200);\"></td><td title=\"Index: [5, 2]&#10;Color: (200, 200, 200)\" style=\"width: 20px; height: 20px;background-color: rgb(200, 200, 200);\"></td><td title=\"Index: [5, 3]&#10;Color: (200, 200, 200)\" style=\"width: 20px; height: 20px;background-color: rgb(200, 200, 200);\"></td><td title=\"Index: [5, 4]&#10;Color: (200, 200, 200)\" style=\"width: 20px; height: 20px;background-color: rgb(200, 200, 200);\"></td><td title=\"Index: [5, 5]&#10;Color: (200, 200, 200)\" style=\"width: 20px; height: 20px;background-color: rgb(200, 200, 200);\"></td></tr></tbody></table>"
      ],
      "text/plain": [
       "<IPython.core.display.HTML object>"
      ]
     },
     "metadata": {},
     "output_type": "display_data"
    },
    {
     "name": "stdout",
     "output_type": "stream",
     "text": [
      "Current Lives with PlayerA : 10\n",
      "PlayerA decided to move at location: [2, 3]\n"
     ]
    },
    {
     "data": {
      "text/html": [],
      "text/plain": [
       "<IPython.core.display.HTML object>"
      ]
     },
     "metadata": {},
     "output_type": "display_data"
    },
    {
     "data": {
      "text/html": [
       "<style type=\"text/css\">table.blockgrid {border: none;} .blockgrid tr {border: none;} .blockgrid td {padding: 0px;} #blockse2b76b54-c122-4f36-b9f7-fa5adf90343b td {border: 1px solid white;}</style><table id=\"blockse2b76b54-c122-4f36-b9f7-fa5adf90343b\" class=\"blockgrid\"><tbody><tr><td title=\"Index: [0, 0]&#10;Color: (200, 200, 200)\" style=\"width: 20px; height: 20px;background-color: rgb(200, 200, 200);\"></td><td title=\"Index: [0, 1]&#10;Color: (200, 200, 200)\" style=\"width: 20px; height: 20px;background-color: rgb(200, 200, 200);\"></td><td title=\"Index: [0, 2]&#10;Color: (200, 200, 200)\" style=\"width: 20px; height: 20px;background-color: rgb(200, 200, 200);\"></td><td title=\"Index: [0, 3]&#10;Color: (200, 200, 200)\" style=\"width: 20px; height: 20px;background-color: rgb(200, 200, 200);\"></td><td title=\"Index: [0, 4]&#10;Color: (200, 200, 200)\" style=\"width: 20px; height: 20px;background-color: rgb(200, 200, 200);\"></td><td title=\"Index: [0, 5]&#10;Color: (200, 200, 200)\" style=\"width: 20px; height: 20px;background-color: rgb(200, 200, 200);\"></td></tr><tr><td title=\"Index: [1, 0]&#10;Color: (200, 200, 200)\" style=\"width: 20px; height: 20px;background-color: rgb(200, 200, 200);\"></td><td title=\"Index: [1, 1]&#10;Color: (214, 30, 107)\" style=\"width: 20px; height: 20px;background-color: rgb(214, 30, 107);\"></td><td title=\"Index: [1, 2]&#10;Color: (200, 103, 0)\" style=\"width: 20px; height: 20px;background-color: rgb(200, 103, 0);\"></td><td title=\"Index: [1, 3]&#10;Color: (200, 200, 200)\" style=\"width: 20px; height: 20px;background-color: rgb(200, 200, 200);\"></td><td title=\"Index: [1, 4]&#10;Color: (200, 200, 200)\" style=\"width: 20px; height: 20px;background-color: rgb(200, 200, 200);\"></td><td title=\"Index: [1, 5]&#10;Color: (200, 200, 200)\" style=\"width: 20px; height: 20px;background-color: rgb(200, 200, 200);\"></td></tr><tr><td title=\"Index: [2, 0]&#10;Color: (200, 200, 200)\" style=\"width: 20px; height: 20px;background-color: rgb(200, 200, 200);\"></td><td title=\"Index: [2, 1]&#10;Color: (200, 200, 200)\" style=\"width: 20px; height: 20px;background-color: rgb(200, 200, 200);\"></td><td title=\"Index: [2, 2]&#10;Color: (200, 0, 0)\" style=\"width: 20px; height: 20px;background-color: rgb(200, 0, 0);\"></td><td title=\"Index: [2, 3]&#10;Color: (200, 200, 200)\" style=\"width: 20px; height: 20px;background-color: rgb(200, 200, 200);\"></td><td title=\"Index: [2, 4]&#10;Color: (77, 200, 0)\" style=\"width: 20px; height: 20px;background-color: rgb(77, 200, 0);\"></td><td title=\"Index: [2, 5]&#10;Color: (240, 222, 29)\" style=\"width: 20px; height: 20px;background-color: rgb(240, 222, 29);\"></td></tr><tr><td title=\"Index: [3, 0]&#10;Color: (200, 0, 0)\" style=\"width: 20px; height: 20px;background-color: rgb(200, 0, 0);\"></td><td title=\"Index: [3, 1]&#10;Color: (200, 200, 200)\" style=\"width: 20px; height: 20px;background-color: rgb(200, 200, 200);\"></td><td title=\"Index: [3, 2]&#10;Color: (25, 32, 33)\" style=\"width: 20px; height: 20px;background-color: rgb(25, 32, 33);\"></td><td title=\"Index: [3, 3]&#10;Color: (200, 200, 200)\" style=\"width: 20px; height: 20px;background-color: rgb(200, 200, 200);\"></td><td title=\"Index: [3, 4]&#10;Color: (200, 200, 200)\" style=\"width: 20px; height: 20px;background-color: rgb(200, 200, 200);\"></td><td title=\"Index: [3, 5]&#10;Color: (200, 200, 200)\" style=\"width: 20px; height: 20px;background-color: rgb(200, 200, 200);\"></td></tr><tr><td title=\"Index: [4, 0]&#10;Color: (200, 200, 200)\" style=\"width: 20px; height: 20px;background-color: rgb(200, 200, 200);\"></td><td title=\"Index: [4, 1]&#10;Color: (200, 200, 200)\" style=\"width: 20px; height: 20px;background-color: rgb(200, 200, 200);\"></td><td title=\"Index: [4, 2]&#10;Color: (66, 135, 245)\" style=\"width: 20px; height: 20px;background-color: rgb(66, 135, 245);\"></td><td title=\"Index: [4, 3]&#10;Color: (200, 200, 200)\" style=\"width: 20px; height: 20px;background-color: rgb(200, 200, 200);\"></td><td title=\"Index: [4, 4]&#10;Color: (200, 0, 0)\" style=\"width: 20px; height: 20px;background-color: rgb(200, 0, 0);\"></td><td title=\"Index: [4, 5]&#10;Color: (200, 200, 200)\" style=\"width: 20px; height: 20px;background-color: rgb(200, 200, 200);\"></td></tr><tr><td title=\"Index: [5, 0]&#10;Color: (157, 200, 0)\" style=\"width: 20px; height: 20px;background-color: rgb(157, 200, 0);\"></td><td title=\"Index: [5, 1]&#10;Color: (200, 200, 200)\" style=\"width: 20px; height: 20px;background-color: rgb(200, 200, 200);\"></td><td title=\"Index: [5, 2]&#10;Color: (200, 200, 200)\" style=\"width: 20px; height: 20px;background-color: rgb(200, 200, 200);\"></td><td title=\"Index: [5, 3]&#10;Color: (200, 200, 200)\" style=\"width: 20px; height: 20px;background-color: rgb(200, 200, 200);\"></td><td title=\"Index: [5, 4]&#10;Color: (200, 200, 200)\" style=\"width: 20px; height: 20px;background-color: rgb(200, 200, 200);\"></td><td title=\"Index: [5, 5]&#10;Color: (200, 200, 200)\" style=\"width: 20px; height: 20px;background-color: rgb(200, 200, 200);\"></td></tr></tbody></table>"
      ],
      "text/plain": [
       "<IPython.core.display.HTML object>"
      ]
     },
     "metadata": {},
     "output_type": "display_data"
    },
    {
     "name": "stdout",
     "output_type": "stream",
     "text": [
      "Current Lives with PlayerA : 10\n",
      "PlayerA decided to move at location: [1, 3]\n"
     ]
    },
    {
     "data": {
      "text/html": [],
      "text/plain": [
       "<IPython.core.display.HTML object>"
      ]
     },
     "metadata": {},
     "output_type": "display_data"
    },
    {
     "data": {
      "text/html": [
       "<style type=\"text/css\">table.blockgrid {border: none;} .blockgrid tr {border: none;} .blockgrid td {padding: 0px;} #blocks44f3aa29-298f-45c5-a14c-69dec2948902 td {border: 1px solid white;}</style><table id=\"blocks44f3aa29-298f-45c5-a14c-69dec2948902\" class=\"blockgrid\"><tbody><tr><td title=\"Index: [0, 0]&#10;Color: (200, 200, 200)\" style=\"width: 20px; height: 20px;background-color: rgb(200, 200, 200);\"></td><td title=\"Index: [0, 1]&#10;Color: (200, 200, 200)\" style=\"width: 20px; height: 20px;background-color: rgb(200, 200, 200);\"></td><td title=\"Index: [0, 2]&#10;Color: (200, 200, 200)\" style=\"width: 20px; height: 20px;background-color: rgb(200, 200, 200);\"></td><td title=\"Index: [0, 3]&#10;Color: (200, 200, 200)\" style=\"width: 20px; height: 20px;background-color: rgb(200, 200, 200);\"></td><td title=\"Index: [0, 4]&#10;Color: (200, 200, 200)\" style=\"width: 20px; height: 20px;background-color: rgb(200, 200, 200);\"></td><td title=\"Index: [0, 5]&#10;Color: (200, 200, 200)\" style=\"width: 20px; height: 20px;background-color: rgb(200, 200, 200);\"></td></tr><tr><td title=\"Index: [1, 0]&#10;Color: (200, 200, 200)\" style=\"width: 20px; height: 20px;background-color: rgb(200, 200, 200);\"></td><td title=\"Index: [1, 1]&#10;Color: (214, 30, 107)\" style=\"width: 20px; height: 20px;background-color: rgb(214, 30, 107);\"></td><td title=\"Index: [1, 2]&#10;Color: (200, 103, 0)\" style=\"width: 20px; height: 20px;background-color: rgb(200, 103, 0);\"></td><td title=\"Index: [1, 3]&#10;Color: (200, 200, 200)\" style=\"width: 20px; height: 20px;background-color: rgb(200, 200, 200);\"></td><td title=\"Index: [1, 4]&#10;Color: (200, 200, 200)\" style=\"width: 20px; height: 20px;background-color: rgb(200, 200, 200);\"></td><td title=\"Index: [1, 5]&#10;Color: (200, 200, 200)\" style=\"width: 20px; height: 20px;background-color: rgb(200, 200, 200);\"></td></tr><tr><td title=\"Index: [2, 0]&#10;Color: (200, 200, 200)\" style=\"width: 20px; height: 20px;background-color: rgb(200, 200, 200);\"></td><td title=\"Index: [2, 1]&#10;Color: (200, 200, 200)\" style=\"width: 20px; height: 20px;background-color: rgb(200, 200, 200);\"></td><td title=\"Index: [2, 2]&#10;Color: (200, 0, 0)\" style=\"width: 20px; height: 20px;background-color: rgb(200, 0, 0);\"></td><td title=\"Index: [2, 3]&#10;Color: (200, 200, 200)\" style=\"width: 20px; height: 20px;background-color: rgb(200, 200, 200);\"></td><td title=\"Index: [2, 4]&#10;Color: (77, 200, 0)\" style=\"width: 20px; height: 20px;background-color: rgb(77, 200, 0);\"></td><td title=\"Index: [2, 5]&#10;Color: (240, 222, 29)\" style=\"width: 20px; height: 20px;background-color: rgb(240, 222, 29);\"></td></tr><tr><td title=\"Index: [3, 0]&#10;Color: (200, 0, 0)\" style=\"width: 20px; height: 20px;background-color: rgb(200, 0, 0);\"></td><td title=\"Index: [3, 1]&#10;Color: (25, 32, 33)\" style=\"width: 20px; height: 20px;background-color: rgb(25, 32, 33);\"></td><td title=\"Index: [3, 2]&#10;Color: (200, 200, 200)\" style=\"width: 20px; height: 20px;background-color: rgb(200, 200, 200);\"></td><td title=\"Index: [3, 3]&#10;Color: (200, 200, 200)\" style=\"width: 20px; height: 20px;background-color: rgb(200, 200, 200);\"></td><td title=\"Index: [3, 4]&#10;Color: (200, 200, 200)\" style=\"width: 20px; height: 20px;background-color: rgb(200, 200, 200);\"></td><td title=\"Index: [3, 5]&#10;Color: (200, 200, 200)\" style=\"width: 20px; height: 20px;background-color: rgb(200, 200, 200);\"></td></tr><tr><td title=\"Index: [4, 0]&#10;Color: (200, 200, 200)\" style=\"width: 20px; height: 20px;background-color: rgb(200, 200, 200);\"></td><td title=\"Index: [4, 1]&#10;Color: (200, 200, 200)\" style=\"width: 20px; height: 20px;background-color: rgb(200, 200, 200);\"></td><td title=\"Index: [4, 2]&#10;Color: (66, 135, 245)\" style=\"width: 20px; height: 20px;background-color: rgb(66, 135, 245);\"></td><td title=\"Index: [4, 3]&#10;Color: (200, 200, 200)\" style=\"width: 20px; height: 20px;background-color: rgb(200, 200, 200);\"></td><td title=\"Index: [4, 4]&#10;Color: (200, 0, 0)\" style=\"width: 20px; height: 20px;background-color: rgb(200, 0, 0);\"></td><td title=\"Index: [4, 5]&#10;Color: (200, 200, 200)\" style=\"width: 20px; height: 20px;background-color: rgb(200, 200, 200);\"></td></tr><tr><td title=\"Index: [5, 0]&#10;Color: (157, 200, 0)\" style=\"width: 20px; height: 20px;background-color: rgb(157, 200, 0);\"></td><td title=\"Index: [5, 1]&#10;Color: (200, 200, 200)\" style=\"width: 20px; height: 20px;background-color: rgb(200, 200, 200);\"></td><td title=\"Index: [5, 2]&#10;Color: (200, 200, 200)\" style=\"width: 20px; height: 20px;background-color: rgb(200, 200, 200);\"></td><td title=\"Index: [5, 3]&#10;Color: (200, 200, 200)\" style=\"width: 20px; height: 20px;background-color: rgb(200, 200, 200);\"></td><td title=\"Index: [5, 4]&#10;Color: (200, 200, 200)\" style=\"width: 20px; height: 20px;background-color: rgb(200, 200, 200);\"></td><td title=\"Index: [5, 5]&#10;Color: (200, 200, 200)\" style=\"width: 20px; height: 20px;background-color: rgb(200, 200, 200);\"></td></tr></tbody></table>"
      ],
      "text/plain": [
       "<IPython.core.display.HTML object>"
      ]
     },
     "metadata": {},
     "output_type": "display_data"
    },
    {
     "name": "stdout",
     "output_type": "stream",
     "text": [
      "Current Lives with PlayerA : 10\n",
      "PlayerA decided to move at location: [1, 2]\n"
     ]
    },
    {
     "data": {
      "text/html": [],
      "text/plain": [
       "<IPython.core.display.HTML object>"
      ]
     },
     "metadata": {},
     "output_type": "display_data"
    },
    {
     "data": {
      "text/html": [
       "<style type=\"text/css\">table.blockgrid {border: none;} .blockgrid tr {border: none;} .blockgrid td {padding: 0px;} #blocks227e38c0-b568-462e-a5ee-97b00100f926 td {border: 1px solid white;}</style><table id=\"blocks227e38c0-b568-462e-a5ee-97b00100f926\" class=\"blockgrid\"><tbody><tr><td title=\"Index: [0, 0]&#10;Color: (200, 200, 200)\" style=\"width: 20px; height: 20px;background-color: rgb(200, 200, 200);\"></td><td title=\"Index: [0, 1]&#10;Color: (200, 200, 200)\" style=\"width: 20px; height: 20px;background-color: rgb(200, 200, 200);\"></td><td title=\"Index: [0, 2]&#10;Color: (200, 200, 200)\" style=\"width: 20px; height: 20px;background-color: rgb(200, 200, 200);\"></td><td title=\"Index: [0, 3]&#10;Color: (200, 200, 200)\" style=\"width: 20px; height: 20px;background-color: rgb(200, 200, 200);\"></td><td title=\"Index: [0, 4]&#10;Color: (200, 200, 200)\" style=\"width: 20px; height: 20px;background-color: rgb(200, 200, 200);\"></td><td title=\"Index: [0, 5]&#10;Color: (200, 200, 200)\" style=\"width: 20px; height: 20px;background-color: rgb(200, 200, 200);\"></td></tr><tr><td title=\"Index: [1, 0]&#10;Color: (200, 200, 200)\" style=\"width: 20px; height: 20px;background-color: rgb(200, 200, 200);\"></td><td title=\"Index: [1, 1]&#10;Color: (214, 30, 107)\" style=\"width: 20px; height: 20px;background-color: rgb(214, 30, 107);\"></td><td title=\"Index: [1, 2]&#10;Color: (200, 103, 0)\" style=\"width: 20px; height: 20px;background-color: rgb(200, 103, 0);\"></td><td title=\"Index: [1, 3]&#10;Color: (200, 200, 200)\" style=\"width: 20px; height: 20px;background-color: rgb(200, 200, 200);\"></td><td title=\"Index: [1, 4]&#10;Color: (200, 200, 200)\" style=\"width: 20px; height: 20px;background-color: rgb(200, 200, 200);\"></td><td title=\"Index: [1, 5]&#10;Color: (200, 200, 200)\" style=\"width: 20px; height: 20px;background-color: rgb(200, 200, 200);\"></td></tr><tr><td title=\"Index: [2, 0]&#10;Color: (200, 200, 200)\" style=\"width: 20px; height: 20px;background-color: rgb(200, 200, 200);\"></td><td title=\"Index: [2, 1]&#10;Color: (25, 32, 33)\" style=\"width: 20px; height: 20px;background-color: rgb(25, 32, 33);\"></td><td title=\"Index: [2, 2]&#10;Color: (200, 0, 0)\" style=\"width: 20px; height: 20px;background-color: rgb(200, 0, 0);\"></td><td title=\"Index: [2, 3]&#10;Color: (200, 200, 200)\" style=\"width: 20px; height: 20px;background-color: rgb(200, 200, 200);\"></td><td title=\"Index: [2, 4]&#10;Color: (77, 200, 0)\" style=\"width: 20px; height: 20px;background-color: rgb(77, 200, 0);\"></td><td title=\"Index: [2, 5]&#10;Color: (240, 222, 29)\" style=\"width: 20px; height: 20px;background-color: rgb(240, 222, 29);\"></td></tr><tr><td title=\"Index: [3, 0]&#10;Color: (200, 0, 0)\" style=\"width: 20px; height: 20px;background-color: rgb(200, 0, 0);\"></td><td title=\"Index: [3, 1]&#10;Color: (200, 200, 200)\" style=\"width: 20px; height: 20px;background-color: rgb(200, 200, 200);\"></td><td title=\"Index: [3, 2]&#10;Color: (200, 200, 200)\" style=\"width: 20px; height: 20px;background-color: rgb(200, 200, 200);\"></td><td title=\"Index: [3, 3]&#10;Color: (200, 200, 200)\" style=\"width: 20px; height: 20px;background-color: rgb(200, 200, 200);\"></td><td title=\"Index: [3, 4]&#10;Color: (200, 200, 200)\" style=\"width: 20px; height: 20px;background-color: rgb(200, 200, 200);\"></td><td title=\"Index: [3, 5]&#10;Color: (200, 200, 200)\" style=\"width: 20px; height: 20px;background-color: rgb(200, 200, 200);\"></td></tr><tr><td title=\"Index: [4, 0]&#10;Color: (200, 200, 200)\" style=\"width: 20px; height: 20px;background-color: rgb(200, 200, 200);\"></td><td title=\"Index: [4, 1]&#10;Color: (200, 200, 200)\" style=\"width: 20px; height: 20px;background-color: rgb(200, 200, 200);\"></td><td title=\"Index: [4, 2]&#10;Color: (66, 135, 245)\" style=\"width: 20px; height: 20px;background-color: rgb(66, 135, 245);\"></td><td title=\"Index: [4, 3]&#10;Color: (200, 200, 200)\" style=\"width: 20px; height: 20px;background-color: rgb(200, 200, 200);\"></td><td title=\"Index: [4, 4]&#10;Color: (200, 0, 0)\" style=\"width: 20px; height: 20px;background-color: rgb(200, 0, 0);\"></td><td title=\"Index: [4, 5]&#10;Color: (200, 200, 200)\" style=\"width: 20px; height: 20px;background-color: rgb(200, 200, 200);\"></td></tr><tr><td title=\"Index: [5, 0]&#10;Color: (157, 200, 0)\" style=\"width: 20px; height: 20px;background-color: rgb(157, 200, 0);\"></td><td title=\"Index: [5, 1]&#10;Color: (200, 200, 200)\" style=\"width: 20px; height: 20px;background-color: rgb(200, 200, 200);\"></td><td title=\"Index: [5, 2]&#10;Color: (200, 200, 200)\" style=\"width: 20px; height: 20px;background-color: rgb(200, 200, 200);\"></td><td title=\"Index: [5, 3]&#10;Color: (200, 200, 200)\" style=\"width: 20px; height: 20px;background-color: rgb(200, 200, 200);\"></td><td title=\"Index: [5, 4]&#10;Color: (200, 200, 200)\" style=\"width: 20px; height: 20px;background-color: rgb(200, 200, 200);\"></td><td title=\"Index: [5, 5]&#10;Color: (200, 200, 200)\" style=\"width: 20px; height: 20px;background-color: rgb(200, 200, 200);\"></td></tr></tbody></table>"
      ],
      "text/plain": [
       "<IPython.core.display.HTML object>"
      ]
     },
     "metadata": {},
     "output_type": "display_data"
    },
    {
     "name": "stdout",
     "output_type": "stream",
     "text": [
      "Current Lives with PlayerA : 10\n",
      "PlayerA decided to move at location: [0, 2]\n"
     ]
    },
    {
     "data": {
      "text/html": [],
      "text/plain": [
       "<IPython.core.display.HTML object>"
      ]
     },
     "metadata": {},
     "output_type": "display_data"
    },
    {
     "data": {
      "text/html": [
       "<style type=\"text/css\">table.blockgrid {border: none;} .blockgrid tr {border: none;} .blockgrid td {padding: 0px;} #blocks9c9d23d3-8ab1-4ee6-bc18-b87fdf099c37 td {border: 1px solid white;}</style><table id=\"blocks9c9d23d3-8ab1-4ee6-bc18-b87fdf099c37\" class=\"blockgrid\"><tbody><tr><td title=\"Index: [0, 0]&#10;Color: (200, 200, 200)\" style=\"width: 20px; height: 20px;background-color: rgb(200, 200, 200);\"></td><td title=\"Index: [0, 1]&#10;Color: (200, 200, 200)\" style=\"width: 20px; height: 20px;background-color: rgb(200, 200, 200);\"></td><td title=\"Index: [0, 2]&#10;Color: (200, 200, 200)\" style=\"width: 20px; height: 20px;background-color: rgb(200, 200, 200);\"></td><td title=\"Index: [0, 3]&#10;Color: (200, 200, 200)\" style=\"width: 20px; height: 20px;background-color: rgb(200, 200, 200);\"></td><td title=\"Index: [0, 4]&#10;Color: (200, 200, 200)\" style=\"width: 20px; height: 20px;background-color: rgb(200, 200, 200);\"></td><td title=\"Index: [0, 5]&#10;Color: (200, 200, 200)\" style=\"width: 20px; height: 20px;background-color: rgb(200, 200, 200);\"></td></tr><tr><td title=\"Index: [1, 0]&#10;Color: (200, 200, 200)\" style=\"width: 20px; height: 20px;background-color: rgb(200, 200, 200);\"></td><td title=\"Index: [1, 1]&#10;Color: (214, 30, 107)\" style=\"width: 20px; height: 20px;background-color: rgb(214, 30, 107);\"></td><td title=\"Index: [1, 2]&#10;Color: (200, 103, 0)\" style=\"width: 20px; height: 20px;background-color: rgb(200, 103, 0);\"></td><td title=\"Index: [1, 3]&#10;Color: (200, 200, 200)\" style=\"width: 20px; height: 20px;background-color: rgb(200, 200, 200);\"></td><td title=\"Index: [1, 4]&#10;Color: (200, 200, 200)\" style=\"width: 20px; height: 20px;background-color: rgb(200, 200, 200);\"></td><td title=\"Index: [1, 5]&#10;Color: (200, 200, 200)\" style=\"width: 20px; height: 20px;background-color: rgb(200, 200, 200);\"></td></tr><tr><td title=\"Index: [2, 0]&#10;Color: (25, 32, 33)\" style=\"width: 20px; height: 20px;background-color: rgb(25, 32, 33);\"></td><td title=\"Index: [2, 1]&#10;Color: (200, 200, 200)\" style=\"width: 20px; height: 20px;background-color: rgb(200, 200, 200);\"></td><td title=\"Index: [2, 2]&#10;Color: (200, 0, 0)\" style=\"width: 20px; height: 20px;background-color: rgb(200, 0, 0);\"></td><td title=\"Index: [2, 3]&#10;Color: (200, 200, 200)\" style=\"width: 20px; height: 20px;background-color: rgb(200, 200, 200);\"></td><td title=\"Index: [2, 4]&#10;Color: (77, 200, 0)\" style=\"width: 20px; height: 20px;background-color: rgb(77, 200, 0);\"></td><td title=\"Index: [2, 5]&#10;Color: (240, 222, 29)\" style=\"width: 20px; height: 20px;background-color: rgb(240, 222, 29);\"></td></tr><tr><td title=\"Index: [3, 0]&#10;Color: (200, 0, 0)\" style=\"width: 20px; height: 20px;background-color: rgb(200, 0, 0);\"></td><td title=\"Index: [3, 1]&#10;Color: (200, 200, 200)\" style=\"width: 20px; height: 20px;background-color: rgb(200, 200, 200);\"></td><td title=\"Index: [3, 2]&#10;Color: (200, 200, 200)\" style=\"width: 20px; height: 20px;background-color: rgb(200, 200, 200);\"></td><td title=\"Index: [3, 3]&#10;Color: (200, 200, 200)\" style=\"width: 20px; height: 20px;background-color: rgb(200, 200, 200);\"></td><td title=\"Index: [3, 4]&#10;Color: (200, 200, 200)\" style=\"width: 20px; height: 20px;background-color: rgb(200, 200, 200);\"></td><td title=\"Index: [3, 5]&#10;Color: (200, 200, 200)\" style=\"width: 20px; height: 20px;background-color: rgb(200, 200, 200);\"></td></tr><tr><td title=\"Index: [4, 0]&#10;Color: (200, 200, 200)\" style=\"width: 20px; height: 20px;background-color: rgb(200, 200, 200);\"></td><td title=\"Index: [4, 1]&#10;Color: (200, 200, 200)\" style=\"width: 20px; height: 20px;background-color: rgb(200, 200, 200);\"></td><td title=\"Index: [4, 2]&#10;Color: (66, 135, 245)\" style=\"width: 20px; height: 20px;background-color: rgb(66, 135, 245);\"></td><td title=\"Index: [4, 3]&#10;Color: (200, 200, 200)\" style=\"width: 20px; height: 20px;background-color: rgb(200, 200, 200);\"></td><td title=\"Index: [4, 4]&#10;Color: (200, 0, 0)\" style=\"width: 20px; height: 20px;background-color: rgb(200, 0, 0);\"></td><td title=\"Index: [4, 5]&#10;Color: (200, 200, 200)\" style=\"width: 20px; height: 20px;background-color: rgb(200, 200, 200);\"></td></tr><tr><td title=\"Index: [5, 0]&#10;Color: (157, 200, 0)\" style=\"width: 20px; height: 20px;background-color: rgb(157, 200, 0);\"></td><td title=\"Index: [5, 1]&#10;Color: (200, 200, 200)\" style=\"width: 20px; height: 20px;background-color: rgb(200, 200, 200);\"></td><td title=\"Index: [5, 2]&#10;Color: (200, 200, 200)\" style=\"width: 20px; height: 20px;background-color: rgb(200, 200, 200);\"></td><td title=\"Index: [5, 3]&#10;Color: (200, 200, 200)\" style=\"width: 20px; height: 20px;background-color: rgb(200, 200, 200);\"></td><td title=\"Index: [5, 4]&#10;Color: (200, 200, 200)\" style=\"width: 20px; height: 20px;background-color: rgb(200, 200, 200);\"></td><td title=\"Index: [5, 5]&#10;Color: (200, 200, 200)\" style=\"width: 20px; height: 20px;background-color: rgb(200, 200, 200);\"></td></tr></tbody></table>"
      ],
      "text/plain": [
       "<IPython.core.display.HTML object>"
      ]
     },
     "metadata": {},
     "output_type": "display_data"
    },
    {
     "name": "stdout",
     "output_type": "stream",
     "text": [
      "Current Lives with PlayerA : 10\n",
      "PlayerA decided to move at location: [0, 1]\n"
     ]
    },
    {
     "data": {
      "text/html": [],
      "text/plain": [
       "<IPython.core.display.HTML object>"
      ]
     },
     "metadata": {},
     "output_type": "display_data"
    },
    {
     "data": {
      "text/html": [
       "<style type=\"text/css\">table.blockgrid {border: none;} .blockgrid tr {border: none;} .blockgrid td {padding: 0px;} #blocksed49e69f-4043-4bd0-a93d-128cbe7e1487 td {border: 1px solid white;}</style><table id=\"blocksed49e69f-4043-4bd0-a93d-128cbe7e1487\" class=\"blockgrid\"><tbody><tr><td title=\"Index: [0, 0]&#10;Color: (200, 200, 200)\" style=\"width: 20px; height: 20px;background-color: rgb(200, 200, 200);\"></td><td title=\"Index: [0, 1]&#10;Color: (200, 200, 200)\" style=\"width: 20px; height: 20px;background-color: rgb(200, 200, 200);\"></td><td title=\"Index: [0, 2]&#10;Color: (200, 200, 200)\" style=\"width: 20px; height: 20px;background-color: rgb(200, 200, 200);\"></td><td title=\"Index: [0, 3]&#10;Color: (200, 200, 200)\" style=\"width: 20px; height: 20px;background-color: rgb(200, 200, 200);\"></td><td title=\"Index: [0, 4]&#10;Color: (200, 200, 200)\" style=\"width: 20px; height: 20px;background-color: rgb(200, 200, 200);\"></td><td title=\"Index: [0, 5]&#10;Color: (200, 200, 200)\" style=\"width: 20px; height: 20px;background-color: rgb(200, 200, 200);\"></td></tr><tr><td title=\"Index: [1, 0]&#10;Color: (25, 32, 33)\" style=\"width: 20px; height: 20px;background-color: rgb(25, 32, 33);\"></td><td title=\"Index: [1, 1]&#10;Color: (214, 30, 107)\" style=\"width: 20px; height: 20px;background-color: rgb(214, 30, 107);\"></td><td title=\"Index: [1, 2]&#10;Color: (200, 103, 0)\" style=\"width: 20px; height: 20px;background-color: rgb(200, 103, 0);\"></td><td title=\"Index: [1, 3]&#10;Color: (200, 200, 200)\" style=\"width: 20px; height: 20px;background-color: rgb(200, 200, 200);\"></td><td title=\"Index: [1, 4]&#10;Color: (200, 200, 200)\" style=\"width: 20px; height: 20px;background-color: rgb(200, 200, 200);\"></td><td title=\"Index: [1, 5]&#10;Color: (200, 200, 200)\" style=\"width: 20px; height: 20px;background-color: rgb(200, 200, 200);\"></td></tr><tr><td title=\"Index: [2, 0]&#10;Color: (200, 200, 200)\" style=\"width: 20px; height: 20px;background-color: rgb(200, 200, 200);\"></td><td title=\"Index: [2, 1]&#10;Color: (200, 200, 200)\" style=\"width: 20px; height: 20px;background-color: rgb(200, 200, 200);\"></td><td title=\"Index: [2, 2]&#10;Color: (200, 0, 0)\" style=\"width: 20px; height: 20px;background-color: rgb(200, 0, 0);\"></td><td title=\"Index: [2, 3]&#10;Color: (200, 200, 200)\" style=\"width: 20px; height: 20px;background-color: rgb(200, 200, 200);\"></td><td title=\"Index: [2, 4]&#10;Color: (77, 200, 0)\" style=\"width: 20px; height: 20px;background-color: rgb(77, 200, 0);\"></td><td title=\"Index: [2, 5]&#10;Color: (240, 222, 29)\" style=\"width: 20px; height: 20px;background-color: rgb(240, 222, 29);\"></td></tr><tr><td title=\"Index: [3, 0]&#10;Color: (200, 0, 0)\" style=\"width: 20px; height: 20px;background-color: rgb(200, 0, 0);\"></td><td title=\"Index: [3, 1]&#10;Color: (200, 200, 200)\" style=\"width: 20px; height: 20px;background-color: rgb(200, 200, 200);\"></td><td title=\"Index: [3, 2]&#10;Color: (200, 200, 200)\" style=\"width: 20px; height: 20px;background-color: rgb(200, 200, 200);\"></td><td title=\"Index: [3, 3]&#10;Color: (200, 200, 200)\" style=\"width: 20px; height: 20px;background-color: rgb(200, 200, 200);\"></td><td title=\"Index: [3, 4]&#10;Color: (200, 200, 200)\" style=\"width: 20px; height: 20px;background-color: rgb(200, 200, 200);\"></td><td title=\"Index: [3, 5]&#10;Color: (200, 200, 200)\" style=\"width: 20px; height: 20px;background-color: rgb(200, 200, 200);\"></td></tr><tr><td title=\"Index: [4, 0]&#10;Color: (200, 200, 200)\" style=\"width: 20px; height: 20px;background-color: rgb(200, 200, 200);\"></td><td title=\"Index: [4, 1]&#10;Color: (200, 200, 200)\" style=\"width: 20px; height: 20px;background-color: rgb(200, 200, 200);\"></td><td title=\"Index: [4, 2]&#10;Color: (66, 135, 245)\" style=\"width: 20px; height: 20px;background-color: rgb(66, 135, 245);\"></td><td title=\"Index: [4, 3]&#10;Color: (200, 200, 200)\" style=\"width: 20px; height: 20px;background-color: rgb(200, 200, 200);\"></td><td title=\"Index: [4, 4]&#10;Color: (200, 0, 0)\" style=\"width: 20px; height: 20px;background-color: rgb(200, 0, 0);\"></td><td title=\"Index: [4, 5]&#10;Color: (200, 200, 200)\" style=\"width: 20px; height: 20px;background-color: rgb(200, 200, 200);\"></td></tr><tr><td title=\"Index: [5, 0]&#10;Color: (157, 200, 0)\" style=\"width: 20px; height: 20px;background-color: rgb(157, 200, 0);\"></td><td title=\"Index: [5, 1]&#10;Color: (200, 200, 200)\" style=\"width: 20px; height: 20px;background-color: rgb(200, 200, 200);\"></td><td title=\"Index: [5, 2]&#10;Color: (200, 200, 200)\" style=\"width: 20px; height: 20px;background-color: rgb(200, 200, 200);\"></td><td title=\"Index: [5, 3]&#10;Color: (200, 200, 200)\" style=\"width: 20px; height: 20px;background-color: rgb(200, 200, 200);\"></td><td title=\"Index: [5, 4]&#10;Color: (200, 200, 200)\" style=\"width: 20px; height: 20px;background-color: rgb(200, 200, 200);\"></td><td title=\"Index: [5, 5]&#10;Color: (200, 200, 200)\" style=\"width: 20px; height: 20px;background-color: rgb(200, 200, 200);\"></td></tr></tbody></table>"
      ],
      "text/plain": [
       "<IPython.core.display.HTML object>"
      ]
     },
     "metadata": {},
     "output_type": "display_data"
    },
    {
     "name": "stdout",
     "output_type": "stream",
     "text": [
      "Current Lives with PlayerA : 10\n",
      "PlayerA decided to move at location: [0, 0]\n"
     ]
    },
    {
     "data": {
      "text/html": [],
      "text/plain": [
       "<IPython.core.display.HTML object>"
      ]
     },
     "metadata": {},
     "output_type": "display_data"
    },
    {
     "data": {
      "text/html": [
       "<style type=\"text/css\">table.blockgrid {border: none;} .blockgrid tr {border: none;} .blockgrid td {padding: 0px;} #blocksfbadbfd3-07c2-4797-928d-8136a2ecb054 td {border: 1px solid white;}</style><table id=\"blocksfbadbfd3-07c2-4797-928d-8136a2ecb054\" class=\"blockgrid\"><tbody><tr><td title=\"Index: [0, 0]&#10;Color: (25, 32, 33)\" style=\"width: 20px; height: 20px;background-color: rgb(25, 32, 33);\"></td><td title=\"Index: [0, 1]&#10;Color: (200, 200, 200)\" style=\"width: 20px; height: 20px;background-color: rgb(200, 200, 200);\"></td><td title=\"Index: [0, 2]&#10;Color: (200, 200, 200)\" style=\"width: 20px; height: 20px;background-color: rgb(200, 200, 200);\"></td><td title=\"Index: [0, 3]&#10;Color: (200, 200, 200)\" style=\"width: 20px; height: 20px;background-color: rgb(200, 200, 200);\"></td><td title=\"Index: [0, 4]&#10;Color: (200, 200, 200)\" style=\"width: 20px; height: 20px;background-color: rgb(200, 200, 200);\"></td><td title=\"Index: [0, 5]&#10;Color: (200, 200, 200)\" style=\"width: 20px; height: 20px;background-color: rgb(200, 200, 200);\"></td></tr><tr><td title=\"Index: [1, 0]&#10;Color: (200, 200, 200)\" style=\"width: 20px; height: 20px;background-color: rgb(200, 200, 200);\"></td><td title=\"Index: [1, 1]&#10;Color: (214, 30, 107)\" style=\"width: 20px; height: 20px;background-color: rgb(214, 30, 107);\"></td><td title=\"Index: [1, 2]&#10;Color: (200, 103, 0)\" style=\"width: 20px; height: 20px;background-color: rgb(200, 103, 0);\"></td><td title=\"Index: [1, 3]&#10;Color: (200, 200, 200)\" style=\"width: 20px; height: 20px;background-color: rgb(200, 200, 200);\"></td><td title=\"Index: [1, 4]&#10;Color: (200, 200, 200)\" style=\"width: 20px; height: 20px;background-color: rgb(200, 200, 200);\"></td><td title=\"Index: [1, 5]&#10;Color: (200, 200, 200)\" style=\"width: 20px; height: 20px;background-color: rgb(200, 200, 200);\"></td></tr><tr><td title=\"Index: [2, 0]&#10;Color: (200, 200, 200)\" style=\"width: 20px; height: 20px;background-color: rgb(200, 200, 200);\"></td><td title=\"Index: [2, 1]&#10;Color: (200, 200, 200)\" style=\"width: 20px; height: 20px;background-color: rgb(200, 200, 200);\"></td><td title=\"Index: [2, 2]&#10;Color: (200, 0, 0)\" style=\"width: 20px; height: 20px;background-color: rgb(200, 0, 0);\"></td><td title=\"Index: [2, 3]&#10;Color: (200, 200, 200)\" style=\"width: 20px; height: 20px;background-color: rgb(200, 200, 200);\"></td><td title=\"Index: [2, 4]&#10;Color: (77, 200, 0)\" style=\"width: 20px; height: 20px;background-color: rgb(77, 200, 0);\"></td><td title=\"Index: [2, 5]&#10;Color: (240, 222, 29)\" style=\"width: 20px; height: 20px;background-color: rgb(240, 222, 29);\"></td></tr><tr><td title=\"Index: [3, 0]&#10;Color: (200, 0, 0)\" style=\"width: 20px; height: 20px;background-color: rgb(200, 0, 0);\"></td><td title=\"Index: [3, 1]&#10;Color: (200, 200, 200)\" style=\"width: 20px; height: 20px;background-color: rgb(200, 200, 200);\"></td><td title=\"Index: [3, 2]&#10;Color: (200, 200, 200)\" style=\"width: 20px; height: 20px;background-color: rgb(200, 200, 200);\"></td><td title=\"Index: [3, 3]&#10;Color: (200, 200, 200)\" style=\"width: 20px; height: 20px;background-color: rgb(200, 200, 200);\"></td><td title=\"Index: [3, 4]&#10;Color: (200, 200, 200)\" style=\"width: 20px; height: 20px;background-color: rgb(200, 200, 200);\"></td><td title=\"Index: [3, 5]&#10;Color: (200, 200, 200)\" style=\"width: 20px; height: 20px;background-color: rgb(200, 200, 200);\"></td></tr><tr><td title=\"Index: [4, 0]&#10;Color: (200, 200, 200)\" style=\"width: 20px; height: 20px;background-color: rgb(200, 200, 200);\"></td><td title=\"Index: [4, 1]&#10;Color: (200, 200, 200)\" style=\"width: 20px; height: 20px;background-color: rgb(200, 200, 200);\"></td><td title=\"Index: [4, 2]&#10;Color: (66, 135, 245)\" style=\"width: 20px; height: 20px;background-color: rgb(66, 135, 245);\"></td><td title=\"Index: [4, 3]&#10;Color: (200, 200, 200)\" style=\"width: 20px; height: 20px;background-color: rgb(200, 200, 200);\"></td><td title=\"Index: [4, 4]&#10;Color: (200, 0, 0)\" style=\"width: 20px; height: 20px;background-color: rgb(200, 0, 0);\"></td><td title=\"Index: [4, 5]&#10;Color: (200, 200, 200)\" style=\"width: 20px; height: 20px;background-color: rgb(200, 200, 200);\"></td></tr><tr><td title=\"Index: [5, 0]&#10;Color: (157, 200, 0)\" style=\"width: 20px; height: 20px;background-color: rgb(157, 200, 0);\"></td><td title=\"Index: [5, 1]&#10;Color: (200, 200, 200)\" style=\"width: 20px; height: 20px;background-color: rgb(200, 200, 200);\"></td><td title=\"Index: [5, 2]&#10;Color: (200, 200, 200)\" style=\"width: 20px; height: 20px;background-color: rgb(200, 200, 200);\"></td><td title=\"Index: [5, 3]&#10;Color: (200, 200, 200)\" style=\"width: 20px; height: 20px;background-color: rgb(200, 200, 200);\"></td><td title=\"Index: [5, 4]&#10;Color: (200, 200, 200)\" style=\"width: 20px; height: 20px;background-color: rgb(200, 200, 200);\"></td><td title=\"Index: [5, 5]&#10;Color: (200, 200, 200)\" style=\"width: 20px; height: 20px;background-color: rgb(200, 200, 200);\"></td></tr></tbody></table>"
      ],
      "text/plain": [
       "<IPython.core.display.HTML object>"
      ]
     },
     "metadata": {},
     "output_type": "display_data"
    },
    {
     "name": "stdout",
     "output_type": "stream",
     "text": [
      "Current Lives with PlayerA : 10\n",
      "PlayerA won the game in 8 steps\n"
     ]
    },
    {
     "data": {
      "text/html": [],
      "text/plain": [
       "<IPython.core.display.HTML object>"
      ]
     },
     "metadata": {},
     "output_type": "display_data"
    },
    {
     "data": {
      "text/html": [
       "<style type=\"text/css\">table.blockgrid {border: none;} .blockgrid tr {border: none;} .blockgrid td {padding: 0px;} #blockscc5a2ce1-2578-48e1-ba37-4c70f588d8d1 td {border: 1px solid white;}</style><table id=\"blockscc5a2ce1-2578-48e1-ba37-4c70f588d8d1\" class=\"blockgrid\"><tbody><tr><td title=\"Index: [0, 0]&#10;Color: (25, 32, 33)\" style=\"width: 20px; height: 20px;background-color: rgb(25, 32, 33);\"></td><td title=\"Index: [0, 1]&#10;Color: (200, 200, 200)\" style=\"width: 20px; height: 20px;background-color: rgb(200, 200, 200);\"></td><td title=\"Index: [0, 2]&#10;Color: (200, 200, 200)\" style=\"width: 20px; height: 20px;background-color: rgb(200, 200, 200);\"></td><td title=\"Index: [0, 3]&#10;Color: (200, 200, 200)\" style=\"width: 20px; height: 20px;background-color: rgb(200, 200, 200);\"></td><td title=\"Index: [0, 4]&#10;Color: (200, 200, 200)\" style=\"width: 20px; height: 20px;background-color: rgb(200, 200, 200);\"></td><td title=\"Index: [0, 5]&#10;Color: (200, 200, 200)\" style=\"width: 20px; height: 20px;background-color: rgb(200, 200, 200);\"></td></tr><tr><td title=\"Index: [1, 0]&#10;Color: (200, 200, 200)\" style=\"width: 20px; height: 20px;background-color: rgb(200, 200, 200);\"></td><td title=\"Index: [1, 1]&#10;Color: (214, 30, 107)\" style=\"width: 20px; height: 20px;background-color: rgb(214, 30, 107);\"></td><td title=\"Index: [1, 2]&#10;Color: (200, 103, 0)\" style=\"width: 20px; height: 20px;background-color: rgb(200, 103, 0);\"></td><td title=\"Index: [1, 3]&#10;Color: (200, 200, 200)\" style=\"width: 20px; height: 20px;background-color: rgb(200, 200, 200);\"></td><td title=\"Index: [1, 4]&#10;Color: (200, 200, 200)\" style=\"width: 20px; height: 20px;background-color: rgb(200, 200, 200);\"></td><td title=\"Index: [1, 5]&#10;Color: (200, 200, 200)\" style=\"width: 20px; height: 20px;background-color: rgb(200, 200, 200);\"></td></tr><tr><td title=\"Index: [2, 0]&#10;Color: (200, 200, 200)\" style=\"width: 20px; height: 20px;background-color: rgb(200, 200, 200);\"></td><td title=\"Index: [2, 1]&#10;Color: (200, 200, 200)\" style=\"width: 20px; height: 20px;background-color: rgb(200, 200, 200);\"></td><td title=\"Index: [2, 2]&#10;Color: (200, 0, 0)\" style=\"width: 20px; height: 20px;background-color: rgb(200, 0, 0);\"></td><td title=\"Index: [2, 3]&#10;Color: (200, 200, 200)\" style=\"width: 20px; height: 20px;background-color: rgb(200, 200, 200);\"></td><td title=\"Index: [2, 4]&#10;Color: (77, 200, 0)\" style=\"width: 20px; height: 20px;background-color: rgb(77, 200, 0);\"></td><td title=\"Index: [2, 5]&#10;Color: (240, 222, 29)\" style=\"width: 20px; height: 20px;background-color: rgb(240, 222, 29);\"></td></tr><tr><td title=\"Index: [3, 0]&#10;Color: (200, 0, 0)\" style=\"width: 20px; height: 20px;background-color: rgb(200, 0, 0);\"></td><td title=\"Index: [3, 1]&#10;Color: (200, 200, 200)\" style=\"width: 20px; height: 20px;background-color: rgb(200, 200, 200);\"></td><td title=\"Index: [3, 2]&#10;Color: (200, 200, 200)\" style=\"width: 20px; height: 20px;background-color: rgb(200, 200, 200);\"></td><td title=\"Index: [3, 3]&#10;Color: (200, 200, 200)\" style=\"width: 20px; height: 20px;background-color: rgb(200, 200, 200);\"></td><td title=\"Index: [3, 4]&#10;Color: (200, 200, 200)\" style=\"width: 20px; height: 20px;background-color: rgb(200, 200, 200);\"></td><td title=\"Index: [3, 5]&#10;Color: (200, 200, 200)\" style=\"width: 20px; height: 20px;background-color: rgb(200, 200, 200);\"></td></tr><tr><td title=\"Index: [4, 0]&#10;Color: (200, 200, 200)\" style=\"width: 20px; height: 20px;background-color: rgb(200, 200, 200);\"></td><td title=\"Index: [4, 1]&#10;Color: (200, 200, 200)\" style=\"width: 20px; height: 20px;background-color: rgb(200, 200, 200);\"></td><td title=\"Index: [4, 2]&#10;Color: (66, 135, 245)\" style=\"width: 20px; height: 20px;background-color: rgb(66, 135, 245);\"></td><td title=\"Index: [4, 3]&#10;Color: (200, 200, 200)\" style=\"width: 20px; height: 20px;background-color: rgb(200, 200, 200);\"></td><td title=\"Index: [4, 4]&#10;Color: (200, 0, 0)\" style=\"width: 20px; height: 20px;background-color: rgb(200, 0, 0);\"></td><td title=\"Index: [4, 5]&#10;Color: (200, 200, 200)\" style=\"width: 20px; height: 20px;background-color: rgb(200, 200, 200);\"></td></tr><tr><td title=\"Index: [5, 0]&#10;Color: (157, 200, 0)\" style=\"width: 20px; height: 20px;background-color: rgb(157, 200, 0);\"></td><td title=\"Index: [5, 1]&#10;Color: (200, 200, 200)\" style=\"width: 20px; height: 20px;background-color: rgb(200, 200, 200);\"></td><td title=\"Index: [5, 2]&#10;Color: (200, 200, 200)\" style=\"width: 20px; height: 20px;background-color: rgb(200, 200, 200);\"></td><td title=\"Index: [5, 3]&#10;Color: (200, 200, 200)\" style=\"width: 20px; height: 20px;background-color: rgb(200, 200, 200);\"></td><td title=\"Index: [5, 4]&#10;Color: (200, 200, 200)\" style=\"width: 20px; height: 20px;background-color: rgb(200, 200, 200);\"></td><td title=\"Index: [5, 5]&#10;Color: (200, 200, 200)\" style=\"width: 20px; height: 20px;background-color: rgb(200, 200, 200);\"></td></tr></tbody></table>"
      ],
      "text/plain": [
       "<IPython.core.display.HTML object>"
      ]
     },
     "metadata": {},
     "output_type": "display_data"
    },
    {
     "name": "stdout",
     "output_type": "stream",
     "text": [
      "The PlayerA  did not grab anything in the Game\n"
     ]
    }
   ],
   "source": [
    "print('Iterative Deepening Search \\n Shortest Path = ', iterative_deepening_search(searchproblem).solution())\n",
    "\n",
    "goalpath_elements = iterative_deepening_search(searchproblem).solution()\n",
    "goalpath = []\n",
    "for element in goalpath_elements:\n",
    "    goalpath.append(list(element))\n",
    "    \n",
    "agent_run('PlayerA',100,PlayerA(program,goalpath, goalsearch=True),start_location)"
   ]
  },
  {
   "cell_type": "code",
   "execution_count": null,
   "metadata": {},
   "outputs": [],
   "source": []
  }
 ],
 "metadata": {
  "kernelspec": {
   "display_name": "Python 3",
   "language": "python",
   "name": "python3"
  },
  "language_info": {
   "codemirror_mode": {
    "name": "ipython",
    "version": 3
   },
   "file_extension": ".py",
   "mimetype": "text/x-python",
   "name": "python",
   "nbconvert_exporter": "python",
   "pygments_lexer": "ipython3",
   "version": "3.6.8"
  }
 },
 "nbformat": 4,
 "nbformat_minor": 2
}
